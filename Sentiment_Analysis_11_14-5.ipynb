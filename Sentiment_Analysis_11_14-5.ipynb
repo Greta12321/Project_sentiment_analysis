{
  "cells": [
    {
      "cell_type": "code",
      "execution_count": 1,
      "metadata": {
        "colab": {
          "base_uri": "https://localhost:8080/"
        },
        "id": "wG17-xn0VAx3",
        "outputId": "6f52e535-5071-4151-80c0-3ecdb465ea2f"
      },
      "outputs": [
        {
          "name": "stdout",
          "output_type": "stream",
          "text": [
            "Requirement already satisfied: Sentencepiece in /Users/gretasimeliunaite/tensorflow-test/env/lib/python3.8/site-packages (0.1.97)\n",
            "Collecting transformers\n",
            "  Using cached transformers-4.25.1-py3-none-any.whl (5.8 MB)\n",
            "Requirement already satisfied: regex!=2019.12.17 in /Users/gretasimeliunaite/tensorflow-test/env/lib/python3.8/site-packages (from transformers) (2022.10.31)\n",
            "Requirement already satisfied: requests in /Users/gretasimeliunaite/tensorflow-test/env/lib/python3.8/site-packages (from transformers) (2.28.1)\n",
            "Requirement already satisfied: tqdm>=4.27 in /Users/gretasimeliunaite/tensorflow-test/env/lib/python3.8/site-packages (from transformers) (4.64.1)\n",
            "Collecting huggingface-hub<1.0,>=0.10.0\n",
            "  Using cached huggingface_hub-0.11.1-py3-none-any.whl (182 kB)\n",
            "Collecting filelock\n",
            "  Using cached filelock-3.9.0-py3-none-any.whl (9.7 kB)\n",
            "Requirement already satisfied: pyyaml>=5.1 in /Users/gretasimeliunaite/tensorflow-test/env/lib/python3.8/site-packages (from transformers) (6.0)\n",
            "Collecting tokenizers!=0.11.3,<0.14,>=0.11.1\n",
            "  Using cached tokenizers-0.13.2.tar.gz (359 kB)\n",
            "  Installing build dependencies ... \u001b[?25l^C\n",
            "\u001b[?25hcanceled\n",
            "\u001b[31mERROR: Operation cancelled by user\u001b[0m\u001b[31m\n",
            "\u001b[0m"
          ]
        }
      ],
      "source": [
        "!pip install Sentencepiece\n",
        "!pip install transformers"
      ]
    },
    {
      "cell_type": "code",
      "execution_count": null,
      "metadata": {
        "colab": {
          "base_uri": "https://localhost:8080/"
        },
        "id": "5W-K0sLg0GLi",
        "outputId": "c9676ea6-ce28-4e44-9737-1fc18b209310"
      },
      "outputs": [
        {
          "name": "stdout",
          "output_type": "stream",
          "text": [
            "Requirement already satisfied: wordcloud in /Users/gretasimeliunaite/miniforge3/envs/tensorflow_m1/lib/python3.9/site-packages (1.8.2.2)\n",
            "Requirement already satisfied: matplotlib in /Users/gretasimeliunaite/miniforge3/envs/tensorflow_m1/lib/python3.9/site-packages (from wordcloud) (3.6.2)\n",
            "Requirement already satisfied: pillow in /Users/gretasimeliunaite/miniforge3/envs/tensorflow_m1/lib/python3.9/site-packages (from wordcloud) (9.3.0)\n",
            "Requirement already satisfied: numpy>=1.6.1 in /Users/gretasimeliunaite/miniforge3/envs/tensorflow_m1/lib/python3.9/site-packages (from wordcloud) (1.23.2)\n",
            "Requirement already satisfied: fonttools>=4.22.0 in /Users/gretasimeliunaite/miniforge3/envs/tensorflow_m1/lib/python3.9/site-packages (from matplotlib->wordcloud) (4.38.0)\n",
            "Requirement already satisfied: kiwisolver>=1.0.1 in /Users/gretasimeliunaite/miniforge3/envs/tensorflow_m1/lib/python3.9/site-packages (from matplotlib->wordcloud) (1.4.4)\n",
            "Requirement already satisfied: packaging>=20.0 in /Users/gretasimeliunaite/miniforge3/envs/tensorflow_m1/lib/python3.9/site-packages (from matplotlib->wordcloud) (22.0)\n",
            "Requirement already satisfied: python-dateutil>=2.7 in /Users/gretasimeliunaite/miniforge3/envs/tensorflow_m1/lib/python3.9/site-packages (from matplotlib->wordcloud) (2.8.2)\n",
            "Requirement already satisfied: pyparsing>=2.2.1 in /Users/gretasimeliunaite/miniforge3/envs/tensorflow_m1/lib/python3.9/site-packages (from matplotlib->wordcloud) (3.0.9)\n",
            "Requirement already satisfied: cycler>=0.10 in /Users/gretasimeliunaite/miniforge3/envs/tensorflow_m1/lib/python3.9/site-packages (from matplotlib->wordcloud) (0.11.0)\n",
            "Requirement already satisfied: contourpy>=1.0.1 in /Users/gretasimeliunaite/miniforge3/envs/tensorflow_m1/lib/python3.9/site-packages (from matplotlib->wordcloud) (1.0.6)\n",
            "Requirement already satisfied: six>=1.5 in /Users/gretasimeliunaite/miniforge3/envs/tensorflow_m1/lib/python3.9/site-packages (from python-dateutil>=2.7->matplotlib->wordcloud) (1.16.0)\n"
          ]
        }
      ],
      "source": [
        "!pip install wordcloud"
      ]
    },
    {
      "cell_type": "code",
      "execution_count": null,
      "metadata": {
        "colab": {
          "base_uri": "https://localhost:8080/"
        },
        "id": "HUu74iEBpR12",
        "outputId": "33ba3331-4360-409b-b016-f19cae90293b"
      },
      "outputs": [
        {
          "name": "stdout",
          "output_type": "stream",
          "text": [
            "Requirement already satisfied: tensorflow_hub in /Users/gretasimeliunaite/miniforge3/envs/tensorflow_m1/lib/python3.9/site-packages (0.12.0)\n",
            "Requirement already satisfied: numpy>=1.12.0 in /Users/gretasimeliunaite/miniforge3/envs/tensorflow_m1/lib/python3.9/site-packages (from tensorflow_hub) (1.23.2)\n",
            "Requirement already satisfied: protobuf>=3.8.0 in /Users/gretasimeliunaite/miniforge3/envs/tensorflow_m1/lib/python3.9/site-packages (from tensorflow_hub) (3.19.4)\n"
          ]
        }
      ],
      "source": [
        "!pip install --upgrade tensorflow_hub"
      ]
    },
    {
      "cell_type": "code",
      "execution_count": null,
      "metadata": {
        "colab": {
          "base_uri": "https://localhost:8080/"
        },
        "id": "9Y_4uX7_0GLk",
        "outputId": "a070c912-9b6d-4222-c84d-a83d86f626d3"
      },
      "outputs": [
        {
          "name": "stderr",
          "output_type": "stream",
          "text": [
            "[nltk_data] Downloading package stopwords to\n",
            "[nltk_data]     /Users/gretasimeliunaite/nltk_data...\n",
            "[nltk_data]   Package stopwords is already up-to-date!\n"
          ]
        },
        {
          "data": {
            "text/plain": [
              "True"
            ]
          },
          "execution_count": 4,
          "metadata": {},
          "output_type": "execute_result"
        }
      ],
      "source": [
        "import nltk\n",
        "nltk.download('stopwords')"
      ]
    },
    {
      "cell_type": "code",
      "execution_count": null,
      "metadata": {
        "colab": {
          "base_uri": "https://localhost:8080/"
        },
        "id": "JYoFfY0i0GLm",
        "outputId": "f05a6933-30f9-41c4-f945-d4551b9846b7"
      },
      "outputs": [
        {
          "name": "stderr",
          "output_type": "stream",
          "text": [
            "[nltk_data] Downloading package vader_lexicon to\n",
            "[nltk_data]     /Users/gretasimeliunaite/nltk_data...\n",
            "[nltk_data]   Package vader_lexicon is already up-to-date!\n"
          ]
        },
        {
          "data": {
            "text/plain": [
              "True"
            ]
          },
          "execution_count": 5,
          "metadata": {},
          "output_type": "execute_result"
        }
      ],
      "source": [
        "import nltk\n",
        "nltk.download('vader_lexicon')"
      ]
    },
    {
      "cell_type": "code",
      "execution_count": null,
      "metadata": {
        "colab": {
          "base_uri": "https://localhost:8080/"
        },
        "id": "ezRRygkwxpwX",
        "outputId": "e75d9122-7af7-42c2-a006-ad64e3375674"
      },
      "outputs": [
        {
          "name": "stderr",
          "output_type": "stream",
          "text": [
            "[nltk_data] Downloading package punkt to\n",
            "[nltk_data]     /Users/gretasimeliunaite/nltk_data...\n",
            "[nltk_data]   Package punkt is already up-to-date!\n"
          ]
        },
        {
          "data": {
            "text/plain": [
              "True"
            ]
          },
          "execution_count": 6,
          "metadata": {},
          "output_type": "execute_result"
        }
      ],
      "source": [
        "import nltk\n",
        "nltk.download('punkt')"
      ]
    },
    {
      "cell_type": "code",
      "execution_count": null,
      "metadata": {
        "colab": {
          "base_uri": "https://localhost:8080/"
        },
        "id": "-qznGHhVyOzz",
        "outputId": "dd9333bf-d1f8-4c1c-f118-921eeded7091"
      },
      "outputs": [
        {
          "name": "stderr",
          "output_type": "stream",
          "text": [
            "[nltk_data] Downloading package omw-1.4 to\n",
            "[nltk_data]     /Users/gretasimeliunaite/nltk_data...\n",
            "[nltk_data]   Package omw-1.4 is already up-to-date!\n"
          ]
        },
        {
          "data": {
            "text/plain": [
              "True"
            ]
          },
          "execution_count": 7,
          "metadata": {},
          "output_type": "execute_result"
        }
      ],
      "source": [
        "import nltk\n",
        "nltk.download('omw-1.4')"
      ]
    },
    {
      "cell_type": "code",
      "execution_count": null,
      "metadata": {
        "colab": {
          "base_uri": "https://localhost:8080/"
        },
        "id": "VpdaArRLx9BC",
        "outputId": "8fe53a21-c696-48dc-8773-6ac232431797"
      },
      "outputs": [
        {
          "name": "stderr",
          "output_type": "stream",
          "text": [
            "[nltk_data] Downloading package wordnet to\n",
            "[nltk_data]     /Users/gretasimeliunaite/nltk_data...\n",
            "[nltk_data]   Package wordnet is already up-to-date!\n"
          ]
        },
        {
          "data": {
            "text/plain": [
              "True"
            ]
          },
          "execution_count": 8,
          "metadata": {},
          "output_type": "execute_result"
        }
      ],
      "source": [
        "import nltk\n",
        "nltk.download('wordnet')"
      ]
    },
    {
      "cell_type": "code",
      "execution_count": null,
      "metadata": {
        "colab": {
          "base_uri": "https://localhost:8080/",
          "height": 17
        },
        "id": "-iPsIavx0GLn",
        "outputId": "0d004bd2-3494-4984-ef85-28341219313a"
      },
      "outputs": [],
      "source": [
        "import pandas as pd\n",
        "import tensorflow_hub as hub\n",
        "import seaborn as sns\n",
        "import matplotlib.pyplot as plt\n",
        "from nltk.sentiment.vader import SentimentIntensityAnalyzer\n",
        "import nltk\n",
        "import re\n",
        "import unicodedata\n",
        "from nltk.corpus import stopwords\n",
        "from bs4 import BeautifulSoup\n",
        "import string\n",
        "# ignoring all the warnings\n",
        "import warnings\n",
        "warnings.filterwarnings(\"ignore\")"
      ]
    },
    {
      "cell_type": "code",
      "execution_count": null,
      "metadata": {
        "id": "zfukAOofCIaA"
      },
      "outputs": [],
      "source": [
        "url = 'https://raw.githubusercontent.com/Greta12321/Sentiment_analysis_2022_12/main/russia_war_data_sample-2.csv'\n",
        "data = pd.read_csv(url, lineterminator='\\n')"
      ]
    },
    {
      "cell_type": "markdown",
      "metadata": {
        "id": "egSxOn0A0GLr"
      },
      "source": [
        "## Defined functions"
      ]
    },
    {
      "cell_type": "markdown",
      "metadata": {
        "id": "6xx7RIuo0GL2"
      },
      "source": [
        "- strip emoji"
      ]
    },
    {
      "cell_type": "code",
      "execution_count": null,
      "metadata": {
        "id": "Z8ObFERb0GL3"
      },
      "outputs": [],
      "source": [
        "def remove_emojis(data):\n",
        "    emoj = re.compile(\"[\"\n",
        "        u\"\\U0001F600-\\U0001F64F\"  # emoticons\n",
        "        u\"\\U0001F300-\\U0001F5FF\"  # symbols & pictographs\n",
        "        u\"\\U0001F680-\\U0001F6FF\"  # transport & map symbols\n",
        "        u\"\\U0001F1E0-\\U0001F1FF\"  # flags (iOS)\n",
        "        u\"\\U00002500-\\U00002BEF\"  # chinese char\n",
        "        u\"\\U00002702-\\U000027B0\"\n",
        "        u\"\\U00002702-\\U000027B0\"\n",
        "        u\"\\U000024C2-\\U0001F251\"\n",
        "        u\"\\U0001f926-\\U0001f937\"\n",
        "        u\"\\U00010000-\\U0010ffff\"\n",
        "        u\"\\u2640-\\u2642\" \n",
        "        u\"\\u2600-\\u2B55\"\n",
        "        u\"\\u200d\"\n",
        "        u\"\\u23cf\"\n",
        "        u\"\\u23e9\"\n",
        "        u\"\\u231a\"\n",
        "        u\"\\ufe0f\"  # dingbats\n",
        "        u\"\\u3030\"\n",
        "                      \"]+\", re.UNICODE)\n",
        "    return re.sub(emoj, '', data)"
      ]
    },
    {
      "cell_type": "markdown",
      "metadata": {
        "id": "96v9PzNb0GL_"
      },
      "source": [
        "## Start Exploring DataSet"
      ]
    },
    {
      "cell_type": "code",
      "execution_count": null,
      "metadata": {
        "id": "YFJnkADp0GMB"
      },
      "outputs": [],
      "source": [
        "data['created_at'] = pd.to_datetime(data['created_at'])"
      ]
    },
    {
      "cell_type": "code",
      "execution_count": null,
      "metadata": {
        "id": "LkHmeIzT0GMC"
      },
      "outputs": [],
      "source": [
        "df = data[[ 'username', 'created_at','tweet','language']]"
      ]
    },
    {
      "cell_type": "code",
      "execution_count": null,
      "metadata": {
        "colab": {
          "base_uri": "https://localhost:8080/"
        },
        "id": "RgKW9vQb0GMC",
        "outputId": "62158ae5-b0ec-4f13-e483-e83fae642bb4"
      },
      "outputs": [
        {
          "data": {
            "text/plain": [
              "en    52353\n",
              "Name: language, dtype: int64"
            ]
          },
          "execution_count": 14,
          "metadata": {},
          "output_type": "execute_result"
        }
      ],
      "source": [
        "df[\"language\"].value_counts()"
      ]
    },
    {
      "cell_type": "code",
      "execution_count": null,
      "metadata": {
        "colab": {
          "base_uri": "https://localhost:8080/"
        },
        "id": "tf1eC4_N0GMF",
        "outputId": "fdfdc899-0690-43cf-c844-35cc46f0d3b5"
      },
      "outputs": [
        {
          "data": {
            "text/plain": [
              "username      0\n",
              "created_at    0\n",
              "tweet         0\n",
              "language      0\n",
              "dtype: int64"
            ]
          },
          "execution_count": 15,
          "metadata": {},
          "output_type": "execute_result"
        }
      ],
      "source": [
        "df.isnull().sum()"
      ]
    },
    {
      "cell_type": "code",
      "execution_count": null,
      "metadata": {
        "id": "UA3u0DLP0GMH"
      },
      "outputs": [],
      "source": [
        "df.dropna(inplace=True)"
      ]
    },
    {
      "cell_type": "code",
      "execution_count": null,
      "metadata": {
        "colab": {
          "base_uri": "https://localhost:8080/",
          "height": 588
        },
        "id": "wfwyiJAP0GMI",
        "outputId": "9dbd5ca7-6015-46cb-cccd-a98221652fb9"
      },
      "outputs": [
        {
          "data": {
            "text/html": [
              "<div>\n",
              "<style scoped>\n",
              "    .dataframe tbody tr th:only-of-type {\n",
              "        vertical-align: middle;\n",
              "    }\n",
              "\n",
              "    .dataframe tbody tr th {\n",
              "        vertical-align: top;\n",
              "    }\n",
              "\n",
              "    .dataframe thead th {\n",
              "        text-align: right;\n",
              "    }\n",
              "</style>\n",
              "<table border=\"1\" class=\"dataframe\">\n",
              "  <thead>\n",
              "    <tr style=\"text-align: right;\">\n",
              "      <th></th>\n",
              "      <th>username</th>\n",
              "      <th>created_at</th>\n",
              "      <th>tweet</th>\n",
              "      <th>language</th>\n",
              "    </tr>\n",
              "  </thead>\n",
              "  <tbody>\n",
              "    <tr>\n",
              "      <th>0</th>\n",
              "      <td>xXOxygeNXx49</td>\n",
              "      <td>2022-09-05</td>\n",
              "      <td>@SupaIsaiah016 Yummy</td>\n",
              "      <td>en</td>\n",
              "    </tr>\n",
              "    <tr>\n",
              "      <th>1</th>\n",
              "      <td>Abraxas444</td>\n",
              "      <td>2022-09-06</td>\n",
              "      <td>Peace is offensive concept for some of #Ukrain...</td>\n",
              "      <td>en</td>\n",
              "    </tr>\n",
              "    <tr>\n",
              "      <th>2</th>\n",
              "      <td>iwdu_global</td>\n",
              "      <td>2022-09-05</td>\n",
              "      <td>Thanks to the @iwdu_global for another fruitfu...</td>\n",
              "      <td>en</td>\n",
              "    </tr>\n",
              "    <tr>\n",
              "      <th>3</th>\n",
              "      <td>VoteEarly2</td>\n",
              "      <td>2022-09-06</td>\n",
              "      <td>@RepLeeZeldin Trump sabotaging democracy &amp;amp;...</td>\n",
              "      <td>en</td>\n",
              "    </tr>\n",
              "    <tr>\n",
              "      <th>4</th>\n",
              "      <td>UKikaski</td>\n",
              "      <td>2022-09-05</td>\n",
              "      <td>#APU Bayraktar TB-2's destroy two RUS Tor-M1 S...</td>\n",
              "      <td>en</td>\n",
              "    </tr>\n",
              "  </tbody>\n",
              "</table>\n",
              "</div>"
            ],
            "text/plain": [
              "       username created_at                                              tweet  \\\n",
              "0  xXOxygeNXx49 2022-09-05                               @SupaIsaiah016 Yummy   \n",
              "1    Abraxas444 2022-09-06  Peace is offensive concept for some of #Ukrain...   \n",
              "2   iwdu_global 2022-09-05  Thanks to the @iwdu_global for another fruitfu...   \n",
              "3    VoteEarly2 2022-09-06  @RepLeeZeldin Trump sabotaging democracy &amp;...   \n",
              "4      UKikaski 2022-09-05  #APU Bayraktar TB-2's destroy two RUS Tor-M1 S...   \n",
              "\n",
              "  language  \n",
              "0       en  \n",
              "1       en  \n",
              "2       en  \n",
              "3       en  \n",
              "4       en  "
            ]
          },
          "execution_count": 17,
          "metadata": {},
          "output_type": "execute_result"
        }
      ],
      "source": [
        "df.head()"
      ]
    },
    {
      "cell_type": "markdown",
      "metadata": {
        "id": "GqTGlWM00GMU"
      },
      "source": [
        "## Clean & Stem The Tweets"
      ]
    },
    {
      "cell_type": "markdown",
      "metadata": {
        "id": "524YZ2T-h_Pc"
      },
      "source": [
        "## 1. Low Cleaning df['tweet_simple_clean']"
      ]
    },
    {
      "cell_type": "code",
      "execution_count": null,
      "metadata": {
        "id": "a-UbHrGefokK"
      },
      "outputs": [],
      "source": [
        "def clean_tweet(text):\n",
        "    text = str(text).lower() # lowercase the text\n",
        "    text = ' '.join([word for word in text.split() if not word.startswith('@')]) # get rid of usernames\n",
        "    text = ' '.join([word for word in text.split() if not word.startswith('#')]) # get rid of hashtags\n",
        "    text = re.sub('https?://\\S+|www\\.\\S+', '', text) # remove urls\n",
        "    text = BeautifulSoup(text, 'html.parser').string # parse any html and return it as a string\n",
        "    if text is None:\n",
        "        return ''\n",
        "    text = re.sub('\\[.*?\\]', '', text)\n",
        "    text = remove_emojis(text) # get rid of emojis\n",
        "    text = re.sub('\\n', '', text) # drop all line feeds\n",
        "    text = re.sub('[%s]' % re.escape(string.punctuation), '', text) #remove punctuation . , ! ?\n",
        "    # Remove all the special characters\n",
        "    text = re.sub(r'\\W', ' ', str(text))\n",
        " \n",
        "    # remove all single characters\n",
        "    text = re.sub(r'\\s+[a-zA-Z]\\s+', ' ', text)\n",
        " \n",
        "    # Remove single characters from the start\n",
        "    text = re.sub(r'\\^[a-zA-Z]\\s+', ' ', text) \n",
        "    text = re.sub(r'â', ' ', text)\n",
        "    text = re.sub(r'ð', ' ', text)\n",
        "    text = re.sub(r'º', ' ', text)\n",
        " \n",
        "    # Substituting multiple spaces with single space\n",
        "    text= re.sub(r'\\s+', ' ', text, flags=re.I)\n",
        " \n",
        "    # Removing prefixed 'b'\n",
        "    text = re.sub(r'^b\\s+', '', text)\n",
        "    while text.find('  ') != -1:\n",
        "        text = re.sub('\\s\\s', ' ', text) # strip double spaces\n",
        "    return text.strip()"
      ]
    },
    {
      "cell_type": "code",
      "execution_count": null,
      "metadata": {
        "colab": {
          "base_uri": "https://localhost:8080/",
          "height": 37
        },
        "id": "r3K8RLNB0GMU",
        "outputId": "752c0cbb-78a1-4caa-fd52-e59f3b63b27f"
      },
      "outputs": [
        {
          "data": {
            "text/plain": [
              "'People evacuated to LPR, Russia from Kharkov Region due to shelling by Ukraine — official - #kharkov #ukraine #people #region #russia #moscow #world #kyiv https://t.co/jYojCsWHV4'"
            ]
          },
          "execution_count": 19,
          "metadata": {},
          "output_type": "execute_result"
        }
      ],
      "source": [
        "df['tweet'].iloc[8831] # pre-cleaned tweet"
      ]
    },
    {
      "cell_type": "code",
      "execution_count": null,
      "metadata": {
        "id": "NSLD8sH80GMU"
      },
      "outputs": [],
      "source": [
        "stopword=set(stopwords.words('english'))"
      ]
    },
    {
      "cell_type": "code",
      "execution_count": null,
      "metadata": {
        "id": "w2YXbS-M0GMU"
      },
      "outputs": [],
      "source": [
        "df['tweet_simple_clean'] = df['tweet'].apply(clean_tweet)"
      ]
    },
    {
      "cell_type": "code",
      "execution_count": null,
      "metadata": {
        "colab": {
          "base_uri": "https://localhost:8080/",
          "height": 37
        },
        "id": "0vFbD-cZ0GMU",
        "outputId": "6dde650e-726d-48ec-8433-70ef5cb41c47"
      },
      "outputs": [
        {
          "data": {
            "text/plain": [
              "'people evacuated to lpr russia from kharkov region due to shelling by ukraine official'"
            ]
          },
          "execution_count": 22,
          "metadata": {},
          "output_type": "execute_result"
        }
      ],
      "source": [
        "df['tweet_simple_clean'].iloc[8831] # tweet after cleaning"
      ]
    },
    {
      "cell_type": "code",
      "execution_count": null,
      "metadata": {
        "colab": {
          "base_uri": "https://localhost:8080/",
          "height": 54
        },
        "id": "87n3v41BVqgV",
        "outputId": "34b72cb0-3132-413f-f140-b4f01b6eb8f4"
      },
      "outputs": [
        {
          "data": {
            "text/plain": [
              "'Armed Forces of Ukraine advance on Kramatorsk front, killing up to 100 occupiers near Kupiansk – General Staff | Ukrainska Pravda https://t.co/BDwlHNZgT5  #Ukraine  #UkraineRussiaWar #UkraineUnderAttack #UkraineWarNews'"
            ]
          },
          "execution_count": 23,
          "metadata": {},
          "output_type": "execute_result"
        }
      ],
      "source": [
        "df['tweet'].iloc[47] # pre-cleaned tweet"
      ]
    },
    {
      "cell_type": "code",
      "execution_count": null,
      "metadata": {
        "colab": {
          "base_uri": "https://localhost:8080/",
          "height": 37
        },
        "id": "B2jlrOz1VthO",
        "outputId": "ccedf28e-00a7-4695-98ce-3f7c9d89c17e"
      },
      "outputs": [
        {
          "data": {
            "text/plain": [
              "'armed forces of ukraine advance on kramatorsk front killing up to 100 occupiers near kupiansk general staff ukrainska pravda'"
            ]
          },
          "execution_count": 24,
          "metadata": {},
          "output_type": "execute_result"
        }
      ],
      "source": [
        "df['tweet_simple_clean'].iloc[47] # pre-cleaned tweet"
      ]
    },
    {
      "cell_type": "markdown",
      "metadata": {
        "id": "4fi22TAYiCRT"
      },
      "source": [
        "## 2. Medium Cleaning df['tweet_no_stopwords']"
      ]
    },
    {
      "cell_type": "code",
      "execution_count": null,
      "metadata": {
        "colab": {
          "base_uri": "https://localhost:8080/"
        },
        "id": "5c68Ewtid0LQ",
        "outputId": "230a3a42-04b9-4838-c2bd-47635599cd35"
      },
      "outputs": [
        {
          "data": {
            "text/plain": [
              "0                                                yummy\n",
              "1                    peace offensive concept officials\n",
              "2    thanks another fruitful insightful meeting dis...\n",
              "3    trump sabotaging democracy threatening natl se...\n",
              "4    bayraktar tb2s destroy two rus torm1 sam syste...\n",
              "Name: tweet_no_stopwords, dtype: object"
            ]
          },
          "execution_count": 25,
          "metadata": {},
          "output_type": "execute_result"
        }
      ],
      "source": [
        "stop = stopwords.words('english') #Remove stopwords (and, or...)\n",
        "df['tweet_no_stopwords'] = df['tweet_simple_clean'].apply(lambda x: \" \".join(x for x in x.split() if x not in stop))\n",
        "df['tweet_no_stopwords'].head()\n"
      ]
    },
    {
      "cell_type": "code",
      "execution_count": null,
      "metadata": {
        "colab": {
          "base_uri": "https://localhost:8080/",
          "height": 1000
        },
        "id": "v21HmFYcV9YF",
        "outputId": "b177ad59-26e8-4821-c4c4-74ebec48c8d2"
      },
      "outputs": [
        {
          "data": {
            "text/plain": [
              "'johnsipher you were saying about honestywhat business do america and the uk have meddling in iran asking for and'"
            ]
          },
          "execution_count": 26,
          "metadata": {},
          "output_type": "execute_result"
        }
      ],
      "source": [
        "df['tweet_simple_clean'].iloc[40]"
      ]
    },
    {
      "cell_type": "code",
      "execution_count": null,
      "metadata": {
        "colab": {
          "base_uri": "https://localhost:8080/",
          "height": 1000
        },
        "id": "9H-uA6xgif6A",
        "outputId": "7f1c4c46-0ff9-441e-abf2-67e07b2ce70b"
      },
      "outputs": [
        {
          "data": {
            "text/plain": [
              "'johnsipher saying honestywhat business america uk meddling iran asking'"
            ]
          },
          "execution_count": 27,
          "metadata": {},
          "output_type": "execute_result"
        }
      ],
      "source": [
        "df['tweet_no_stopwords'].iloc[40] # tweet after cleaning"
      ]
    },
    {
      "cell_type": "markdown",
      "metadata": {
        "id": "1pT__Yml26cR"
      },
      "source": [
        "## 3. High Cleaning df['tweet_high_clean']"
      ]
    },
    {
      "cell_type": "markdown",
      "metadata": {
        "id": "3QoiCYO__LW1"
      },
      "source": [
        "NLTK Lemmatization is the process of grouping the inflected forms of a word in order to analyze them as a single word in linguistics.Unlike stemming, lemmatization uses the part of speech tags and the meaning of the word in the sentence to see the main context of the document. Thus, NLTK Lemmatization is important for understanding a text and using it for Natural Language Processing, and Natural Language Understanding practices. https://www.holisticseo.digital/python-seo/nltk/lemmatize"
      ]
    },
    {
      "cell_type": "code",
      "execution_count": null,
      "metadata": {
        "colab": {
          "base_uri": "https://localhost:8080/"
        },
        "id": "1ULnGhXQ9oza",
        "outputId": "5c441adb-a4b9-4f7d-e9af-6f04627e4e2d"
      },
      "outputs": [
        {
          "name": "stderr",
          "output_type": "stream",
          "text": [
            "[nltk_data] Downloading package averaged_perceptron_tagger to\n",
            "[nltk_data]     /Users/gretasimeliunaite/nltk_data...\n",
            "[nltk_data]   Package averaged_perceptron_tagger is already up-to-\n",
            "[nltk_data]       date!\n"
          ]
        }
      ],
      "source": [
        "import nltk\n",
        "from nltk.stem import WordNetLemmatizer\n",
        "from nltk.corpus import wordnet\n",
        "nltk.download('averaged_perceptron_tagger')\n",
        "\n",
        "lemmatizer = WordNetLemmatizer()\n",
        "\n",
        "def nltk_pos_tagger(nltk_tag):\n",
        "    if nltk_tag.startswith('J'):\n",
        "        return wordnet.ADJ\n",
        "    elif nltk_tag.startswith('V'):\n",
        "        return wordnet.VERB\n",
        "    elif nltk_tag.startswith('N'):\n",
        "        return wordnet.NOUN\n",
        "    elif nltk_tag.startswith('R'):\n",
        "        return wordnet.ADV\n",
        "    else:          \n",
        "        return None\n",
        "\n",
        "def lemmatize_sentence(sentence):\n",
        "\n",
        "    nltk_tagged = nltk.pos_tag(nltk.word_tokenize(sentence))  \n",
        "    wordnet_tagged = map(lambda x: (x[0], nltk_pos_tagger(x[1])), nltk_tagged)\n",
        "    lemmatized_sentence = []\n",
        "    \n",
        "    for word, tag in wordnet_tagged:\n",
        "        if tag is None:\n",
        "            lemmatized_sentence.append(word)\n",
        "        else:        \n",
        "            lemmatized_sentence.append(lemmatizer.lemmatize(word, tag))\n",
        "    return \" \".join(lemmatized_sentence)"
      ]
    },
    {
      "cell_type": "code",
      "execution_count": null,
      "metadata": {
        "id": "pAeXCqW09wwU"
      },
      "outputs": [],
      "source": [
        "df['tweet_high_clean'] = df['tweet_no_stopwords'].apply(lemmatize_sentence)"
      ]
    },
    {
      "cell_type": "code",
      "execution_count": null,
      "metadata": {
        "colab": {
          "base_uri": "https://localhost:8080/",
          "height": 856
        },
        "id": "A4Nw4jhNWpTh",
        "outputId": "593dc59e-12cb-4757-c0bd-21b5b0f33899"
      },
      "outputs": [
        {
          "data": {
            "text/plain": [
              "'armed forces ukraine advance kramatorsk front killing 100 occupiers near kupiansk general staff ukrainska pravda'"
            ]
          },
          "execution_count": 30,
          "metadata": {},
          "output_type": "execute_result"
        }
      ],
      "source": [
        "df['tweet_no_stopwords'].iloc[47]"
      ]
    },
    {
      "cell_type": "code",
      "execution_count": null,
      "metadata": {
        "colab": {
          "base_uri": "https://localhost:8080/",
          "height": 822
        },
        "id": "XroSd_BQ-KRg",
        "outputId": "38f60045-cd70-4641-a998-ae8ea00ca317"
      },
      "outputs": [
        {
          "data": {
            "text/plain": [
              "'arm force ukraine advance kramatorsk front kill 100 occupier near kupiansk general staff ukrainska pravda'"
            ]
          },
          "execution_count": 31,
          "metadata": {},
          "output_type": "execute_result"
        }
      ],
      "source": [
        "df['tweet_high_clean'].iloc[47] # tweet after cleaning"
      ]
    },
    {
      "cell_type": "code",
      "execution_count": null,
      "metadata": {
        "colab": {
          "base_uri": "https://localhost:8080/",
          "height": 1000
        },
        "id": "JvqUuLgZWOC_",
        "outputId": "390a4685-deb6-4986-adf7-b2675c0139b1"
      },
      "outputs": [
        {
          "data": {
            "text/plain": [
              "'johnsipher saying honestywhat business america uk meddling iran asking'"
            ]
          },
          "execution_count": 32,
          "metadata": {},
          "output_type": "execute_result"
        }
      ],
      "source": [
        "df['tweet_no_stopwords'].iloc[40]"
      ]
    },
    {
      "cell_type": "code",
      "execution_count": null,
      "metadata": {
        "colab": {
          "base_uri": "https://localhost:8080/",
          "height": 1000
        },
        "id": "c3vCw88sWQY-",
        "outputId": "07c53921-a0cd-44b7-9c3e-c839c4a07c5a"
      },
      "outputs": [
        {
          "data": {
            "text/plain": [
              "'johnsipher say honestywhat business america uk meddling iran ask'"
            ]
          },
          "execution_count": 33,
          "metadata": {},
          "output_type": "execute_result"
        }
      ],
      "source": [
        "df['tweet_high_clean'].iloc[40]"
      ]
    },
    {
      "cell_type": "markdown",
      "metadata": {
        "id": "cVub24t0ldE-"
      },
      "source": [
        "## Classify Sentiment"
      ]
    },
    {
      "cell_type": "markdown",
      "metadata": {
        "id": "525yjynzmRP8"
      },
      "source": [
        "### Scoring tweets with simple cleaning"
      ]
    },
    {
      "cell_type": "code",
      "execution_count": null,
      "metadata": {
        "id": "jYYy7Q2ymNis"
      },
      "outputs": [],
      "source": [
        "sentiments = SentimentIntensityAnalyzer()\n",
        "\n",
        "df['Positive'] = [sentiments.polarity_scores(i)['pos'] for i in df['tweet_simple_clean']]\n",
        "df['Neutral'] = [sentiments.polarity_scores(i)['neu'] for i in df['tweet_simple_clean']]\n",
        "df['Negative'] = [sentiments.polarity_scores(i)['neg'] for i in df['tweet_simple_clean']]\n",
        "df['Compound'] = [sentiments.polarity_scores(i)['compound'] for i in df['tweet_simple_clean']]"
      ]
    },
    {
      "cell_type": "code",
      "execution_count": null,
      "metadata": {
        "colab": {
          "base_uri": "https://localhost:8080/"
        },
        "id": "BcJGIja7mhL1",
        "outputId": "4461c0e7-467a-4013-edac-b74a8b356d8c"
      },
      "outputs": [
        {
          "name": "stdout",
          "output_type": "stream",
          "text": [
            "armed forces of ukraine advance on kramatorsk front killing up to 100 occupiers near kupiansk general staff ukrainska pravda \n",
            " -0.6597\n"
          ]
        }
      ],
      "source": [
        "print(df['tweet_simple_clean'].iloc[47],'\\n',df['Compound'].iloc[47])"
      ]
    },
    {
      "cell_type": "code",
      "execution_count": null,
      "metadata": {
        "id": "jcSEijrJlkok"
      },
      "outputs": [],
      "source": [
        "def classify_sentiment(row):\n",
        "    classify = 'Neutral'\n",
        "    if row['Compound'] >= 0.05:\n",
        "        classify = 'Positive'\n",
        "    elif row['Compound'] <= -0.05:\n",
        "        classify = 'Negative'\n",
        "    return classify"
      ]
    },
    {
      "cell_type": "code",
      "execution_count": null,
      "metadata": {
        "id": "eEAeXFfMle1d"
      },
      "outputs": [],
      "source": [
        "df['Sentiment'] = df.apply(classify_sentiment, axis=1)"
      ]
    },
    {
      "cell_type": "code",
      "execution_count": null,
      "metadata": {
        "colab": {
          "base_uri": "https://localhost:8080/"
        },
        "id": "ByKlFVfGlxM5",
        "outputId": "bc73e228-62b7-45c6-f1a3-e626a34904d0"
      },
      "outputs": [
        {
          "data": {
            "text/plain": [
              "Negative    20940\n",
              "Positive    17934\n",
              "Neutral     13479\n",
              "Name: Sentiment, dtype: int64"
            ]
          },
          "execution_count": 38,
          "metadata": {},
          "output_type": "execute_result"
        }
      ],
      "source": [
        "pos = df['Sentiment'][df['Sentiment'] == 'Positive'].count()\n",
        "neg = df['Sentiment'][df['Sentiment'] == 'Negative'].count()\n",
        "neu = df['Sentiment'][df['Sentiment'] == 'Neutral'].count()\n",
        "df['Sentiment'].value_counts()"
      ]
    },
    {
      "cell_type": "code",
      "execution_count": null,
      "metadata": {
        "colab": {
          "base_uri": "https://localhost:8080/"
        },
        "id": "lavtNhE1l2h2",
        "outputId": "7fa15d88-6dca-4300-b1d2-0e5fe1094ff8"
      },
      "outputs": [
        {
          "name": "stdout",
          "output_type": "stream",
          "text": [
            "Ratio of Negative to Positive Tweets by Sentiment Count: 20940:17934 (1.17:1)\n"
          ]
        }
      ],
      "source": [
        "print('Ratio of Negative to Positive Tweets by Sentiment Count: {:.0f}:{:.0f} ({:.2f}:1)'.format(neg, pos, neg / pos))"
      ]
    },
    {
      "cell_type": "code",
      "execution_count": null,
      "metadata": {
        "colab": {
          "base_uri": "https://localhost:8080/"
        },
        "id": "taVW-cx5l3Hi",
        "outputId": "2d58b4ef-8c17-4ad4-d804-539af228ba42"
      },
      "outputs": [
        {
          "data": {
            "text/plain": [
              "{'Positive': 0, 'Negative': 1, 'Neutral': 2}"
            ]
          },
          "execution_count": 40,
          "metadata": {},
          "output_type": "execute_result"
        }
      ],
      "source": [
        "possible_label = df.Sentiment.unique()\n",
        "dict_label = {}\n",
        "for index,possible_label in enumerate(possible_label):\n",
        "    dict_label[possible_label] = index\n",
        "dict_label"
      ]
    },
    {
      "cell_type": "code",
      "execution_count": null,
      "metadata": {
        "id": "-o-D3Svcl7Az"
      },
      "outputs": [],
      "source": [
        "df[\"Label\"] = df[\"Sentiment\"].replace(dict_label)"
      ]
    },
    {
      "cell_type": "code",
      "execution_count": null,
      "metadata": {
        "colab": {
          "base_uri": "https://localhost:8080/",
          "height": 854
        },
        "id": "F_8pqp66lw_m",
        "outputId": "f145a165-25d5-4df2-d131-34571fa2d91d"
      },
      "outputs": [
        {
          "data": {
            "text/html": [
              "<div>\n",
              "<style scoped>\n",
              "    .dataframe tbody tr th:only-of-type {\n",
              "        vertical-align: middle;\n",
              "    }\n",
              "\n",
              "    .dataframe tbody tr th {\n",
              "        vertical-align: top;\n",
              "    }\n",
              "\n",
              "    .dataframe thead th {\n",
              "        text-align: right;\n",
              "    }\n",
              "</style>\n",
              "<table border=\"1\" class=\"dataframe\">\n",
              "  <thead>\n",
              "    <tr style=\"text-align: right;\">\n",
              "      <th></th>\n",
              "      <th>username</th>\n",
              "      <th>created_at</th>\n",
              "      <th>tweet</th>\n",
              "      <th>language</th>\n",
              "      <th>tweet_simple_clean</th>\n",
              "      <th>tweet_no_stopwords</th>\n",
              "      <th>tweet_high_clean</th>\n",
              "      <th>Positive</th>\n",
              "      <th>Neutral</th>\n",
              "      <th>Negative</th>\n",
              "      <th>Compound</th>\n",
              "      <th>Sentiment</th>\n",
              "      <th>Label</th>\n",
              "    </tr>\n",
              "  </thead>\n",
              "  <tbody>\n",
              "    <tr>\n",
              "      <th>0</th>\n",
              "      <td>xXOxygeNXx49</td>\n",
              "      <td>2022-09-05</td>\n",
              "      <td>@SupaIsaiah016 Yummy</td>\n",
              "      <td>en</td>\n",
              "      <td>yummy</td>\n",
              "      <td>yummy</td>\n",
              "      <td>yummy</td>\n",
              "      <td>1.000</td>\n",
              "      <td>0.000</td>\n",
              "      <td>0.000</td>\n",
              "      <td>0.5267</td>\n",
              "      <td>Positive</td>\n",
              "      <td>0</td>\n",
              "    </tr>\n",
              "    <tr>\n",
              "      <th>1</th>\n",
              "      <td>Abraxas444</td>\n",
              "      <td>2022-09-06</td>\n",
              "      <td>Peace is offensive concept for some of #Ukrain...</td>\n",
              "      <td>en</td>\n",
              "      <td>peace is offensive concept for some of officials</td>\n",
              "      <td>peace offensive concept officials</td>\n",
              "      <td>peace offensive concept official</td>\n",
              "      <td>0.280</td>\n",
              "      <td>0.480</td>\n",
              "      <td>0.240</td>\n",
              "      <td>0.1280</td>\n",
              "      <td>Positive</td>\n",
              "      <td>0</td>\n",
              "    </tr>\n",
              "    <tr>\n",
              "      <th>2</th>\n",
              "      <td>iwdu_global</td>\n",
              "      <td>2022-09-05</td>\n",
              "      <td>Thanks to the @iwdu_global for another fruitfu...</td>\n",
              "      <td>en</td>\n",
              "      <td>thanks to the for another fruitful and insight...</td>\n",
              "      <td>thanks another fruitful insightful meeting dis...</td>\n",
              "      <td>thanks another fruitful insightful meeting dis...</td>\n",
              "      <td>0.268</td>\n",
              "      <td>0.732</td>\n",
              "      <td>0.000</td>\n",
              "      <td>0.8316</td>\n",
              "      <td>Positive</td>\n",
              "      <td>0</td>\n",
              "    </tr>\n",
              "    <tr>\n",
              "      <th>3</th>\n",
              "      <td>VoteEarly2</td>\n",
              "      <td>2022-09-06</td>\n",
              "      <td>@RepLeeZeldin Trump sabotaging democracy &amp;amp;...</td>\n",
              "      <td>en</td>\n",
              "      <td>trump sabotaging democracy threatening natl se...</td>\n",
              "      <td>trump sabotaging democracy threatening natl se...</td>\n",
              "      <td>trump sabotage democracy threaten natl securit...</td>\n",
              "      <td>0.122</td>\n",
              "      <td>0.623</td>\n",
              "      <td>0.255</td>\n",
              "      <td>-0.6908</td>\n",
              "      <td>Negative</td>\n",
              "      <td>1</td>\n",
              "    </tr>\n",
              "    <tr>\n",
              "      <th>4</th>\n",
              "      <td>UKikaski</td>\n",
              "      <td>2022-09-05</td>\n",
              "      <td>#APU Bayraktar TB-2's destroy two RUS Tor-M1 S...</td>\n",
              "      <td>en</td>\n",
              "      <td>bayraktar tb2s destroy two rus torm1 sam syste...</td>\n",
              "      <td>bayraktar tb2s destroy two rus torm1 sam syste...</td>\n",
              "      <td>bayraktar tb2s destroy two ru torm1 sam system...</td>\n",
              "      <td>0.045</td>\n",
              "      <td>0.714</td>\n",
              "      <td>0.241</td>\n",
              "      <td>-0.8126</td>\n",
              "      <td>Negative</td>\n",
              "      <td>1</td>\n",
              "    </tr>\n",
              "    <tr>\n",
              "      <th>...</th>\n",
              "      <td>...</td>\n",
              "      <td>...</td>\n",
              "      <td>...</td>\n",
              "      <td>...</td>\n",
              "      <td>...</td>\n",
              "      <td>...</td>\n",
              "      <td>...</td>\n",
              "      <td>...</td>\n",
              "      <td>...</td>\n",
              "      <td>...</td>\n",
              "      <td>...</td>\n",
              "      <td>...</td>\n",
              "      <td>...</td>\n",
              "    </tr>\n",
              "    <tr>\n",
              "      <th>52348</th>\n",
              "      <td>anno1540</td>\n",
              "      <td>2022-11-05</td>\n",
              "      <td>Today, close to 4:00 p.m., two Kalibr missiles...</td>\n",
              "      <td>en</td>\n",
              "      <td>today close to 400 pm two kalibr missiles were...</td>\n",
              "      <td>today close 400 pm two kalibr missiles shot pp...</td>\n",
              "      <td>today close 400 pm two kalibr missile shoot pp...</td>\n",
              "      <td>0.000</td>\n",
              "      <td>1.000</td>\n",
              "      <td>0.000</td>\n",
              "      <td>0.0000</td>\n",
              "      <td>Neutral</td>\n",
              "      <td>2</td>\n",
              "    </tr>\n",
              "    <tr>\n",
              "      <th>52349</th>\n",
              "      <td>TeslaradarB</td>\n",
              "      <td>2022-11-04</td>\n",
              "      <td>Yay! TreePuncher just spotted a 2021 Tesla Mod...</td>\n",
              "      <td>en</td>\n",
              "      <td>yay treepuncher just spotted 2021 tesla model ...</td>\n",
              "      <td>yay treepuncher spotted 2021 tesla model p2 du...</td>\n",
              "      <td>yay treepuncher spot 2021 tesla model p2 dual ...</td>\n",
              "      <td>0.279</td>\n",
              "      <td>0.721</td>\n",
              "      <td>0.000</td>\n",
              "      <td>0.7351</td>\n",
              "      <td>Positive</td>\n",
              "      <td>0</td>\n",
              "    </tr>\n",
              "    <tr>\n",
              "      <th>52350</th>\n",
              "      <td>OneginRaul</td>\n",
              "      <td>2022-11-05</td>\n",
              "      <td>@KimDotcom The only one that can supply cheap ...</td>\n",
              "      <td>en</td>\n",
              "      <td>the only one that can supply cheap energy to i...</td>\n",
              "      <td>one supply cheap energy absolutely nobody offe...</td>\n",
              "      <td>one supply cheap energy absolutely nobody offe...</td>\n",
              "      <td>0.278</td>\n",
              "      <td>0.722</td>\n",
              "      <td>0.000</td>\n",
              "      <td>0.6124</td>\n",
              "      <td>Positive</td>\n",
              "      <td>0</td>\n",
              "    </tr>\n",
              "    <tr>\n",
              "      <th>52351</th>\n",
              "      <td>Trust_In_Noto</td>\n",
              "      <td>2022-11-04</td>\n",
              "      <td>@AOC You know you want to support this. #Biden...</td>\n",
              "      <td>en</td>\n",
              "      <td>you know you want to support this</td>\n",
              "      <td>know want support</td>\n",
              "      <td>know want support</td>\n",
              "      <td>0.444</td>\n",
              "      <td>0.556</td>\n",
              "      <td>0.000</td>\n",
              "      <td>0.4588</td>\n",
              "      <td>Positive</td>\n",
              "      <td>0</td>\n",
              "    </tr>\n",
              "    <tr>\n",
              "      <th>52352</th>\n",
              "      <td>thestranger515</td>\n",
              "      <td>2022-11-04</td>\n",
              "      <td>#Russian commanders in #Kherson are fleeing &amp;a...</td>\n",
              "      <td>en</td>\n",
              "      <td>commanders in are fleeing leaving illequipped ...</td>\n",
              "      <td>commanders fleeing leaving illequipped demoral...</td>\n",
              "      <td>commander flee leave illequipped demoralise tr...</td>\n",
              "      <td>0.030</td>\n",
              "      <td>0.874</td>\n",
              "      <td>0.096</td>\n",
              "      <td>-0.5267</td>\n",
              "      <td>Negative</td>\n",
              "      <td>1</td>\n",
              "    </tr>\n",
              "  </tbody>\n",
              "</table>\n",
              "<p>52353 rows × 13 columns</p>\n",
              "</div>"
            ],
            "text/plain": [
              "             username created_at  \\\n",
              "0        xXOxygeNXx49 2022-09-05   \n",
              "1          Abraxas444 2022-09-06   \n",
              "2         iwdu_global 2022-09-05   \n",
              "3          VoteEarly2 2022-09-06   \n",
              "4            UKikaski 2022-09-05   \n",
              "...               ...        ...   \n",
              "52348        anno1540 2022-11-05   \n",
              "52349     TeslaradarB 2022-11-04   \n",
              "52350      OneginRaul 2022-11-05   \n",
              "52351   Trust_In_Noto 2022-11-04   \n",
              "52352  thestranger515 2022-11-04   \n",
              "\n",
              "                                                   tweet language  \\\n",
              "0                                   @SupaIsaiah016 Yummy       en   \n",
              "1      Peace is offensive concept for some of #Ukrain...       en   \n",
              "2      Thanks to the @iwdu_global for another fruitfu...       en   \n",
              "3      @RepLeeZeldin Trump sabotaging democracy &amp;...       en   \n",
              "4      #APU Bayraktar TB-2's destroy two RUS Tor-M1 S...       en   \n",
              "...                                                  ...      ...   \n",
              "52348  Today, close to 4:00 p.m., two Kalibr missiles...       en   \n",
              "52349  Yay! TreePuncher just spotted a 2021 Tesla Mod...       en   \n",
              "52350  @KimDotcom The only one that can supply cheap ...       en   \n",
              "52351  @AOC You know you want to support this. #Biden...       en   \n",
              "52352  #Russian commanders in #Kherson are fleeing &a...       en   \n",
              "\n",
              "                                      tweet_simple_clean  \\\n",
              "0                                                  yummy   \n",
              "1       peace is offensive concept for some of officials   \n",
              "2      thanks to the for another fruitful and insight...   \n",
              "3      trump sabotaging democracy threatening natl se...   \n",
              "4      bayraktar tb2s destroy two rus torm1 sam syste...   \n",
              "...                                                  ...   \n",
              "52348  today close to 400 pm two kalibr missiles were...   \n",
              "52349  yay treepuncher just spotted 2021 tesla model ...   \n",
              "52350  the only one that can supply cheap energy to i...   \n",
              "52351                  you know you want to support this   \n",
              "52352  commanders in are fleeing leaving illequipped ...   \n",
              "\n",
              "                                      tweet_no_stopwords  \\\n",
              "0                                                  yummy   \n",
              "1                      peace offensive concept officials   \n",
              "2      thanks another fruitful insightful meeting dis...   \n",
              "3      trump sabotaging democracy threatening natl se...   \n",
              "4      bayraktar tb2s destroy two rus torm1 sam syste...   \n",
              "...                                                  ...   \n",
              "52348  today close 400 pm two kalibr missiles shot pp...   \n",
              "52349  yay treepuncher spotted 2021 tesla model p2 du...   \n",
              "52350  one supply cheap energy absolutely nobody offe...   \n",
              "52351                                  know want support   \n",
              "52352  commanders fleeing leaving illequipped demoral...   \n",
              "\n",
              "                                        tweet_high_clean  Positive  Neutral  \\\n",
              "0                                                  yummy     1.000    0.000   \n",
              "1                       peace offensive concept official     0.280    0.480   \n",
              "2      thanks another fruitful insightful meeting dis...     0.268    0.732   \n",
              "3      trump sabotage democracy threaten natl securit...     0.122    0.623   \n",
              "4      bayraktar tb2s destroy two ru torm1 sam system...     0.045    0.714   \n",
              "...                                                  ...       ...      ...   \n",
              "52348  today close 400 pm two kalibr missile shoot pp...     0.000    1.000   \n",
              "52349  yay treepuncher spot 2021 tesla model p2 dual ...     0.279    0.721   \n",
              "52350  one supply cheap energy absolutely nobody offe...     0.278    0.722   \n",
              "52351                                  know want support     0.444    0.556   \n",
              "52352  commander flee leave illequipped demoralise tr...     0.030    0.874   \n",
              "\n",
              "       Negative  Compound Sentiment  Label  \n",
              "0         0.000    0.5267  Positive      0  \n",
              "1         0.240    0.1280  Positive      0  \n",
              "2         0.000    0.8316  Positive      0  \n",
              "3         0.255   -0.6908  Negative      1  \n",
              "4         0.241   -0.8126  Negative      1  \n",
              "...         ...       ...       ...    ...  \n",
              "52348     0.000    0.0000   Neutral      2  \n",
              "52349     0.000    0.7351  Positive      0  \n",
              "52350     0.000    0.6124  Positive      0  \n",
              "52351     0.000    0.4588  Positive      0  \n",
              "52352     0.096   -0.5267  Negative      1  \n",
              "\n",
              "[52353 rows x 13 columns]"
            ]
          },
          "execution_count": 42,
          "metadata": {},
          "output_type": "execute_result"
        }
      ],
      "source": [
        "df"
      ]
    },
    {
      "cell_type": "code",
      "execution_count": null,
      "metadata": {
        "colab": {
          "base_uri": "https://localhost:8080/",
          "height": 237
        },
        "id": "aFZ5jepcl7_O",
        "outputId": "7f1e58ff-7776-48ce-b5a4-3290f5027285"
      },
      "outputs": [
        {
          "data": {
            "text/html": [
              "<div>\n",
              "<style scoped>\n",
              "    .dataframe tbody tr th:only-of-type {\n",
              "        vertical-align: middle;\n",
              "    }\n",
              "\n",
              "    .dataframe tbody tr th {\n",
              "        vertical-align: top;\n",
              "    }\n",
              "\n",
              "    .dataframe thead th {\n",
              "        text-align: right;\n",
              "    }\n",
              "</style>\n",
              "<table border=\"1\" class=\"dataframe\">\n",
              "  <thead>\n",
              "    <tr style=\"text-align: right;\">\n",
              "      <th></th>\n",
              "      <th>Counts</th>\n",
              "      <th>Percentage</th>\n",
              "    </tr>\n",
              "    <tr>\n",
              "      <th>Sentiment</th>\n",
              "      <th></th>\n",
              "      <th></th>\n",
              "    </tr>\n",
              "  </thead>\n",
              "  <tbody>\n",
              "    <tr>\n",
              "      <th>Negative</th>\n",
              "      <td>20940</td>\n",
              "      <td>39.997708</td>\n",
              "    </tr>\n",
              "    <tr>\n",
              "      <th>Neutral</th>\n",
              "      <td>13479</td>\n",
              "      <td>25.746376</td>\n",
              "    </tr>\n",
              "    <tr>\n",
              "      <th>Positive</th>\n",
              "      <td>17934</td>\n",
              "      <td>34.255917</td>\n",
              "    </tr>\n",
              "  </tbody>\n",
              "</table>\n",
              "</div>"
            ],
            "text/plain": [
              "           Counts  Percentage\n",
              "Sentiment                    \n",
              "Negative    20940   39.997708\n",
              "Neutral     13479   25.746376\n",
              "Positive    17934   34.255917"
            ]
          },
          "execution_count": 43,
          "metadata": {},
          "output_type": "execute_result"
        }
      ],
      "source": [
        "pd.DataFrame(df.groupby(['Sentiment'])['Sentiment'].count()).rename(columns={\"Sentiment\":\"Counts\"}).assign(\n",
        "    Percentage=lambda x: (x.Counts/ x.Counts.sum())*100)"
      ]
    },
    {
      "cell_type": "code",
      "execution_count": null,
      "metadata": {
        "colab": {
          "base_uri": "https://localhost:8080/",
          "height": 54
        },
        "id": "JBUXAAMbp5GH",
        "outputId": "f0a5faa9-3e4c-4360-bff9-a75300c6ce77"
      },
      "outputs": [
        {
          "data": {
            "image/png": "[encoded data removed]",
            "text/plain": [
              "<Figure size 600x600 with 1 Axes>"
            ]
          },
          "metadata": {},
          "output_type": "display_data"
        }
      ],
      "source": [
        "x = pd.DataFrame(df.groupby(['Sentiment'])['Sentiment'].count()).rename(columns={\"Sentiment\":\"Counts\"})\n",
        "labels = ['Negative','Neutral','Positive']\n",
        "colors = [\"#FF3C38\",\"#A9E4EF\",\"#81F495\"]\n",
        "fig, ax = plt.subplots(figsize=(6, 6))\n",
        "ax.pie(x[\"Counts\"], labels=labels, autopct='%.1f%%', colors=colors, startangle=90)\n",
        "ax.set_title(\"Percentage of Labeled Tweets\")\n",
        "plt.tight_layout()"
      ]
    },
    {
      "cell_type": "markdown",
      "metadata": {
        "id": "eWQtEQKKcSoN"
      },
      "source": [
        "## Bert"
      ]
    },
    {
      "cell_type": "code",
      "execution_count": null,
      "metadata": {
        "colab": {
          "base_uri": "https://localhost:8080/",
          "height": 854
        },
        "id": "DNsBq5Rm2-d-",
        "outputId": "bc5c65fe-aa78-4285-82f8-65af078156af"
      },
      "outputs": [
        {
          "data": {
            "text/html": [
              "<div>\n",
              "<style scoped>\n",
              "    .dataframe tbody tr th:only-of-type {\n",
              "        vertical-align: middle;\n",
              "    }\n",
              "\n",
              "    .dataframe tbody tr th {\n",
              "        vertical-align: top;\n",
              "    }\n",
              "\n",
              "    .dataframe thead th {\n",
              "        text-align: right;\n",
              "    }\n",
              "</style>\n",
              "<table border=\"1\" class=\"dataframe\">\n",
              "  <thead>\n",
              "    <tr style=\"text-align: right;\">\n",
              "      <th></th>\n",
              "      <th>username</th>\n",
              "      <th>created_at</th>\n",
              "      <th>tweet</th>\n",
              "      <th>language</th>\n",
              "      <th>tweet_simple_clean</th>\n",
              "      <th>tweet_no_stopwords</th>\n",
              "      <th>tweet_high_clean</th>\n",
              "      <th>Positive</th>\n",
              "      <th>Neutral</th>\n",
              "      <th>Negative</th>\n",
              "      <th>Compound</th>\n",
              "      <th>Sentiment</th>\n",
              "      <th>Label</th>\n",
              "    </tr>\n",
              "  </thead>\n",
              "  <tbody>\n",
              "    <tr>\n",
              "      <th>0</th>\n",
              "      <td>xXOxygeNXx49</td>\n",
              "      <td>2022-09-05</td>\n",
              "      <td>@SupaIsaiah016 Yummy</td>\n",
              "      <td>en</td>\n",
              "      <td>yummy</td>\n",
              "      <td>yummy</td>\n",
              "      <td>yummy</td>\n",
              "      <td>1.000</td>\n",
              "      <td>0.000</td>\n",
              "      <td>0.000</td>\n",
              "      <td>0.5267</td>\n",
              "      <td>Positive</td>\n",
              "      <td>0</td>\n",
              "    </tr>\n",
              "    <tr>\n",
              "      <th>1</th>\n",
              "      <td>Abraxas444</td>\n",
              "      <td>2022-09-06</td>\n",
              "      <td>Peace is offensive concept for some of #Ukrain...</td>\n",
              "      <td>en</td>\n",
              "      <td>peace is offensive concept for some of officials</td>\n",
              "      <td>peace offensive concept officials</td>\n",
              "      <td>peace offensive concept official</td>\n",
              "      <td>0.280</td>\n",
              "      <td>0.480</td>\n",
              "      <td>0.240</td>\n",
              "      <td>0.1280</td>\n",
              "      <td>Positive</td>\n",
              "      <td>0</td>\n",
              "    </tr>\n",
              "    <tr>\n",
              "      <th>2</th>\n",
              "      <td>iwdu_global</td>\n",
              "      <td>2022-09-05</td>\n",
              "      <td>Thanks to the @iwdu_global for another fruitfu...</td>\n",
              "      <td>en</td>\n",
              "      <td>thanks to the for another fruitful and insight...</td>\n",
              "      <td>thanks another fruitful insightful meeting dis...</td>\n",
              "      <td>thanks another fruitful insightful meeting dis...</td>\n",
              "      <td>0.268</td>\n",
              "      <td>0.732</td>\n",
              "      <td>0.000</td>\n",
              "      <td>0.8316</td>\n",
              "      <td>Positive</td>\n",
              "      <td>0</td>\n",
              "    </tr>\n",
              "    <tr>\n",
              "      <th>3</th>\n",
              "      <td>VoteEarly2</td>\n",
              "      <td>2022-09-06</td>\n",
              "      <td>@RepLeeZeldin Trump sabotaging democracy &amp;amp;...</td>\n",
              "      <td>en</td>\n",
              "      <td>trump sabotaging democracy threatening natl se...</td>\n",
              "      <td>trump sabotaging democracy threatening natl se...</td>\n",
              "      <td>trump sabotage democracy threaten natl securit...</td>\n",
              "      <td>0.122</td>\n",
              "      <td>0.623</td>\n",
              "      <td>0.255</td>\n",
              "      <td>-0.6908</td>\n",
              "      <td>Negative</td>\n",
              "      <td>1</td>\n",
              "    </tr>\n",
              "    <tr>\n",
              "      <th>4</th>\n",
              "      <td>UKikaski</td>\n",
              "      <td>2022-09-05</td>\n",
              "      <td>#APU Bayraktar TB-2's destroy two RUS Tor-M1 S...</td>\n",
              "      <td>en</td>\n",
              "      <td>bayraktar tb2s destroy two rus torm1 sam syste...</td>\n",
              "      <td>bayraktar tb2s destroy two rus torm1 sam syste...</td>\n",
              "      <td>bayraktar tb2s destroy two ru torm1 sam system...</td>\n",
              "      <td>0.045</td>\n",
              "      <td>0.714</td>\n",
              "      <td>0.241</td>\n",
              "      <td>-0.8126</td>\n",
              "      <td>Negative</td>\n",
              "      <td>1</td>\n",
              "    </tr>\n",
              "    <tr>\n",
              "      <th>...</th>\n",
              "      <td>...</td>\n",
              "      <td>...</td>\n",
              "      <td>...</td>\n",
              "      <td>...</td>\n",
              "      <td>...</td>\n",
              "      <td>...</td>\n",
              "      <td>...</td>\n",
              "      <td>...</td>\n",
              "      <td>...</td>\n",
              "      <td>...</td>\n",
              "      <td>...</td>\n",
              "      <td>...</td>\n",
              "      <td>...</td>\n",
              "    </tr>\n",
              "    <tr>\n",
              "      <th>52348</th>\n",
              "      <td>anno1540</td>\n",
              "      <td>2022-11-05</td>\n",
              "      <td>Today, close to 4:00 p.m., two Kalibr missiles...</td>\n",
              "      <td>en</td>\n",
              "      <td>today close to 400 pm two kalibr missiles were...</td>\n",
              "      <td>today close 400 pm two kalibr missiles shot pp...</td>\n",
              "      <td>today close 400 pm two kalibr missile shoot pp...</td>\n",
              "      <td>0.000</td>\n",
              "      <td>1.000</td>\n",
              "      <td>0.000</td>\n",
              "      <td>0.0000</td>\n",
              "      <td>Neutral</td>\n",
              "      <td>2</td>\n",
              "    </tr>\n",
              "    <tr>\n",
              "      <th>52349</th>\n",
              "      <td>TeslaradarB</td>\n",
              "      <td>2022-11-04</td>\n",
              "      <td>Yay! TreePuncher just spotted a 2021 Tesla Mod...</td>\n",
              "      <td>en</td>\n",
              "      <td>yay treepuncher just spotted 2021 tesla model ...</td>\n",
              "      <td>yay treepuncher spotted 2021 tesla model p2 du...</td>\n",
              "      <td>yay treepuncher spot 2021 tesla model p2 dual ...</td>\n",
              "      <td>0.279</td>\n",
              "      <td>0.721</td>\n",
              "      <td>0.000</td>\n",
              "      <td>0.7351</td>\n",
              "      <td>Positive</td>\n",
              "      <td>0</td>\n",
              "    </tr>\n",
              "    <tr>\n",
              "      <th>52350</th>\n",
              "      <td>OneginRaul</td>\n",
              "      <td>2022-11-05</td>\n",
              "      <td>@KimDotcom The only one that can supply cheap ...</td>\n",
              "      <td>en</td>\n",
              "      <td>the only one that can supply cheap energy to i...</td>\n",
              "      <td>one supply cheap energy absolutely nobody offe...</td>\n",
              "      <td>one supply cheap energy absolutely nobody offe...</td>\n",
              "      <td>0.278</td>\n",
              "      <td>0.722</td>\n",
              "      <td>0.000</td>\n",
              "      <td>0.6124</td>\n",
              "      <td>Positive</td>\n",
              "      <td>0</td>\n",
              "    </tr>\n",
              "    <tr>\n",
              "      <th>52351</th>\n",
              "      <td>Trust_In_Noto</td>\n",
              "      <td>2022-11-04</td>\n",
              "      <td>@AOC You know you want to support this. #Biden...</td>\n",
              "      <td>en</td>\n",
              "      <td>you know you want to support this</td>\n",
              "      <td>know want support</td>\n",
              "      <td>know want support</td>\n",
              "      <td>0.444</td>\n",
              "      <td>0.556</td>\n",
              "      <td>0.000</td>\n",
              "      <td>0.4588</td>\n",
              "      <td>Positive</td>\n",
              "      <td>0</td>\n",
              "    </tr>\n",
              "    <tr>\n",
              "      <th>52352</th>\n",
              "      <td>thestranger515</td>\n",
              "      <td>2022-11-04</td>\n",
              "      <td>#Russian commanders in #Kherson are fleeing &amp;a...</td>\n",
              "      <td>en</td>\n",
              "      <td>commanders in are fleeing leaving illequipped ...</td>\n",
              "      <td>commanders fleeing leaving illequipped demoral...</td>\n",
              "      <td>commander flee leave illequipped demoralise tr...</td>\n",
              "      <td>0.030</td>\n",
              "      <td>0.874</td>\n",
              "      <td>0.096</td>\n",
              "      <td>-0.5267</td>\n",
              "      <td>Negative</td>\n",
              "      <td>1</td>\n",
              "    </tr>\n",
              "  </tbody>\n",
              "</table>\n",
              "<p>52353 rows × 13 columns</p>\n",
              "</div>"
            ],
            "text/plain": [
              "             username created_at  \\\n",
              "0        xXOxygeNXx49 2022-09-05   \n",
              "1          Abraxas444 2022-09-06   \n",
              "2         iwdu_global 2022-09-05   \n",
              "3          VoteEarly2 2022-09-06   \n",
              "4            UKikaski 2022-09-05   \n",
              "...               ...        ...   \n",
              "52348        anno1540 2022-11-05   \n",
              "52349     TeslaradarB 2022-11-04   \n",
              "52350      OneginRaul 2022-11-05   \n",
              "52351   Trust_In_Noto 2022-11-04   \n",
              "52352  thestranger515 2022-11-04   \n",
              "\n",
              "                                                   tweet language  \\\n",
              "0                                   @SupaIsaiah016 Yummy       en   \n",
              "1      Peace is offensive concept for some of #Ukrain...       en   \n",
              "2      Thanks to the @iwdu_global for another fruitfu...       en   \n",
              "3      @RepLeeZeldin Trump sabotaging democracy &amp;...       en   \n",
              "4      #APU Bayraktar TB-2's destroy two RUS Tor-M1 S...       en   \n",
              "...                                                  ...      ...   \n",
              "52348  Today, close to 4:00 p.m., two Kalibr missiles...       en   \n",
              "52349  Yay! TreePuncher just spotted a 2021 Tesla Mod...       en   \n",
              "52350  @KimDotcom The only one that can supply cheap ...       en   \n",
              "52351  @AOC You know you want to support this. #Biden...       en   \n",
              "52352  #Russian commanders in #Kherson are fleeing &a...       en   \n",
              "\n",
              "                                      tweet_simple_clean  \\\n",
              "0                                                  yummy   \n",
              "1       peace is offensive concept for some of officials   \n",
              "2      thanks to the for another fruitful and insight...   \n",
              "3      trump sabotaging democracy threatening natl se...   \n",
              "4      bayraktar tb2s destroy two rus torm1 sam syste...   \n",
              "...                                                  ...   \n",
              "52348  today close to 400 pm two kalibr missiles were...   \n",
              "52349  yay treepuncher just spotted 2021 tesla model ...   \n",
              "52350  the only one that can supply cheap energy to i...   \n",
              "52351                  you know you want to support this   \n",
              "52352  commanders in are fleeing leaving illequipped ...   \n",
              "\n",
              "                                      tweet_no_stopwords  \\\n",
              "0                                                  yummy   \n",
              "1                      peace offensive concept officials   \n",
              "2      thanks another fruitful insightful meeting dis...   \n",
              "3      trump sabotaging democracy threatening natl se...   \n",
              "4      bayraktar tb2s destroy two rus torm1 sam syste...   \n",
              "...                                                  ...   \n",
              "52348  today close 400 pm two kalibr missiles shot pp...   \n",
              "52349  yay treepuncher spotted 2021 tesla model p2 du...   \n",
              "52350  one supply cheap energy absolutely nobody offe...   \n",
              "52351                                  know want support   \n",
              "52352  commanders fleeing leaving illequipped demoral...   \n",
              "\n",
              "                                        tweet_high_clean  Positive  Neutral  \\\n",
              "0                                                  yummy     1.000    0.000   \n",
              "1                       peace offensive concept official     0.280    0.480   \n",
              "2      thanks another fruitful insightful meeting dis...     0.268    0.732   \n",
              "3      trump sabotage democracy threaten natl securit...     0.122    0.623   \n",
              "4      bayraktar tb2s destroy two ru torm1 sam system...     0.045    0.714   \n",
              "...                                                  ...       ...      ...   \n",
              "52348  today close 400 pm two kalibr missile shoot pp...     0.000    1.000   \n",
              "52349  yay treepuncher spot 2021 tesla model p2 dual ...     0.279    0.721   \n",
              "52350  one supply cheap energy absolutely nobody offe...     0.278    0.722   \n",
              "52351                                  know want support     0.444    0.556   \n",
              "52352  commander flee leave illequipped demoralise tr...     0.030    0.874   \n",
              "\n",
              "       Negative  Compound Sentiment  Label  \n",
              "0         0.000    0.5267  Positive      0  \n",
              "1         0.240    0.1280  Positive      0  \n",
              "2         0.000    0.8316  Positive      0  \n",
              "3         0.255   -0.6908  Negative      1  \n",
              "4         0.241   -0.8126  Negative      1  \n",
              "...         ...       ...       ...    ...  \n",
              "52348     0.000    0.0000   Neutral      2  \n",
              "52349     0.000    0.7351  Positive      0  \n",
              "52350     0.000    0.6124  Positive      0  \n",
              "52351     0.000    0.4588  Positive      0  \n",
              "52352     0.096   -0.5267  Negative      1  \n",
              "\n",
              "[52353 rows x 13 columns]"
            ]
          },
          "execution_count": 45,
          "metadata": {},
          "output_type": "execute_result"
        }
      ],
      "source": [
        "df"
      ]
    },
    {
      "cell_type": "code",
      "execution_count": null,
      "metadata": {
        "colab": {
          "base_uri": "https://localhost:8080/"
        },
        "id": "CabIm5_54GUX",
        "outputId": "0e119161-6b7f-4eef-a8de-528cddd4798d"
      },
      "outputs": [
        {
          "name": "stdout",
          "output_type": "stream",
          "text": [
            "Requirement already satisfied: transformers in /Users/gretasimeliunaite/miniforge3/envs/tensorflow_m1/lib/python3.9/site-packages (4.25.1)\n",
            "Requirement already satisfied: filelock in /Users/gretasimeliunaite/miniforge3/envs/tensorflow_m1/lib/python3.9/site-packages (from transformers) (3.8.2)\n",
            "Requirement already satisfied: regex!=2019.12.17 in /Users/gretasimeliunaite/miniforge3/envs/tensorflow_m1/lib/python3.9/site-packages (from transformers) (2022.10.31)\n",
            "Requirement already satisfied: tokenizers!=0.11.3,<0.14,>=0.11.1 in /Users/gretasimeliunaite/miniforge3/envs/tensorflow_m1/lib/python3.9/site-packages (from transformers) (0.13.2)\n",
            "Requirement already satisfied: huggingface-hub<1.0,>=0.10.0 in /Users/gretasimeliunaite/miniforge3/envs/tensorflow_m1/lib/python3.9/site-packages (from transformers) (0.11.1)\n",
            "Requirement already satisfied: packaging>=20.0 in /Users/gretasimeliunaite/miniforge3/envs/tensorflow_m1/lib/python3.9/site-packages (from transformers) (22.0)\n",
            "Requirement already satisfied: tqdm>=4.27 in /Users/gretasimeliunaite/miniforge3/envs/tensorflow_m1/lib/python3.9/site-packages (from transformers) (4.64.1)\n",
            "Requirement already satisfied: pyyaml>=5.1 in /Users/gretasimeliunaite/miniforge3/envs/tensorflow_m1/lib/python3.9/site-packages (from transformers) (6.0)\n",
            "Requirement already satisfied: requests in /Users/gretasimeliunaite/miniforge3/envs/tensorflow_m1/lib/python3.9/site-packages (from transformers) (2.28.1)\n",
            "Requirement already satisfied: numpy>=1.17 in /Users/gretasimeliunaite/miniforge3/envs/tensorflow_m1/lib/python3.9/site-packages (from transformers) (1.23.2)\n",
            "Requirement already satisfied: typing-extensions>=3.7.4.3 in /Users/gretasimeliunaite/miniforge3/envs/tensorflow_m1/lib/python3.9/site-packages (from huggingface-hub<1.0,>=0.10.0->transformers) (4.4.0)\n",
            "Requirement already satisfied: charset-normalizer<3,>=2 in /Users/gretasimeliunaite/miniforge3/envs/tensorflow_m1/lib/python3.9/site-packages (from requests->transformers) (2.1.1)\n",
            "Requirement already satisfied: certifi>=2017.4.17 in /Users/gretasimeliunaite/miniforge3/envs/tensorflow_m1/lib/python3.9/site-packages (from requests->transformers) (2022.12.7)\n",
            "Requirement already satisfied: urllib3<1.27,>=1.21.1 in /Users/gretasimeliunaite/miniforge3/envs/tensorflow_m1/lib/python3.9/site-packages (from requests->transformers) (1.26.13)\n",
            "Requirement already satisfied: idna<4,>=2.5 in /Users/gretasimeliunaite/miniforge3/envs/tensorflow_m1/lib/python3.9/site-packages (from requests->transformers) (3.4)\n"
          ]
        }
      ],
      "source": [
        "!pip install transformers\n",
        "from transformers import BertTokenizer\n",
        "from torch.utils.data import TensorDataset"
      ]
    },
    {
      "cell_type": "markdown",
      "metadata": {
        "id": "q15UuLE0-Df9"
      },
      "source": [
        "https://www.kaggle.com/code/harshjain123/bert-for-everyone-tutorial-implementation \n"
      ]
    },
    {
      "cell_type": "markdown",
      "metadata": {
        "id": "q5NGobds5k6o"
      },
      "source": [
        "### **Bert**"
      ]
    },
    {
      "cell_type": "code",
      "execution_count": null,
      "metadata": {
        "id": "H-clcF8L5tWO"
      },
      "outputs": [],
      "source": [
        "import numpy as np\n",
        "import pandas as pd\n",
        "from sklearn.model_selection import train_test_split\n",
        "from sklearn.linear_model import LogisticRegression\n",
        "from sklearn.model_selection import GridSearchCV\n",
        "from sklearn.model_selection import cross_val_score\n",
        "import torch\n",
        "import transformers as ppb\n",
        "import warnings\n",
        "warnings.filterwarnings('ignore')"
      ]
    },
    {
      "cell_type": "code",
      "execution_count": null,
      "metadata": {
        "id": "xK270MCT6Nth"
      },
      "outputs": [],
      "source": [
        "batch_1 = df[:2000]"
      ]
    },
    {
      "cell_type": "code",
      "execution_count": null,
      "metadata": {
        "colab": {
          "base_uri": "https://localhost:8080/",
          "height": 854
        },
        "id": "nNCwdzNrye4Q",
        "outputId": "cde52b95-c1c7-421d-cebb-8b086a559062"
      },
      "outputs": [
        {
          "data": {
            "text/html": [
              "<div>\n",
              "<style scoped>\n",
              "    .dataframe tbody tr th:only-of-type {\n",
              "        vertical-align: middle;\n",
              "    }\n",
              "\n",
              "    .dataframe tbody tr th {\n",
              "        vertical-align: top;\n",
              "    }\n",
              "\n",
              "    .dataframe thead th {\n",
              "        text-align: right;\n",
              "    }\n",
              "</style>\n",
              "<table border=\"1\" class=\"dataframe\">\n",
              "  <thead>\n",
              "    <tr style=\"text-align: right;\">\n",
              "      <th></th>\n",
              "      <th>username</th>\n",
              "      <th>created_at</th>\n",
              "      <th>tweet</th>\n",
              "      <th>language</th>\n",
              "      <th>tweet_simple_clean</th>\n",
              "      <th>tweet_no_stopwords</th>\n",
              "      <th>tweet_high_clean</th>\n",
              "      <th>Positive</th>\n",
              "      <th>Neutral</th>\n",
              "      <th>Negative</th>\n",
              "      <th>Compound</th>\n",
              "      <th>Sentiment</th>\n",
              "      <th>Label</th>\n",
              "    </tr>\n",
              "  </thead>\n",
              "  <tbody>\n",
              "    <tr>\n",
              "      <th>0</th>\n",
              "      <td>xXOxygeNXx49</td>\n",
              "      <td>2022-09-05</td>\n",
              "      <td>@SupaIsaiah016 Yummy</td>\n",
              "      <td>en</td>\n",
              "      <td>yummy</td>\n",
              "      <td>yummy</td>\n",
              "      <td>yummy</td>\n",
              "      <td>1.000</td>\n",
              "      <td>0.000</td>\n",
              "      <td>0.000</td>\n",
              "      <td>0.5267</td>\n",
              "      <td>Positive</td>\n",
              "      <td>0</td>\n",
              "    </tr>\n",
              "    <tr>\n",
              "      <th>1</th>\n",
              "      <td>Abraxas444</td>\n",
              "      <td>2022-09-06</td>\n",
              "      <td>Peace is offensive concept for some of #Ukrain...</td>\n",
              "      <td>en</td>\n",
              "      <td>peace is offensive concept for some of officials</td>\n",
              "      <td>peace offensive concept officials</td>\n",
              "      <td>peace offensive concept official</td>\n",
              "      <td>0.280</td>\n",
              "      <td>0.480</td>\n",
              "      <td>0.240</td>\n",
              "      <td>0.1280</td>\n",
              "      <td>Positive</td>\n",
              "      <td>0</td>\n",
              "    </tr>\n",
              "    <tr>\n",
              "      <th>2</th>\n",
              "      <td>iwdu_global</td>\n",
              "      <td>2022-09-05</td>\n",
              "      <td>Thanks to the @iwdu_global for another fruitfu...</td>\n",
              "      <td>en</td>\n",
              "      <td>thanks to the for another fruitful and insight...</td>\n",
              "      <td>thanks another fruitful insightful meeting dis...</td>\n",
              "      <td>thanks another fruitful insightful meeting dis...</td>\n",
              "      <td>0.268</td>\n",
              "      <td>0.732</td>\n",
              "      <td>0.000</td>\n",
              "      <td>0.8316</td>\n",
              "      <td>Positive</td>\n",
              "      <td>0</td>\n",
              "    </tr>\n",
              "    <tr>\n",
              "      <th>3</th>\n",
              "      <td>VoteEarly2</td>\n",
              "      <td>2022-09-06</td>\n",
              "      <td>@RepLeeZeldin Trump sabotaging democracy &amp;amp;...</td>\n",
              "      <td>en</td>\n",
              "      <td>trump sabotaging democracy threatening natl se...</td>\n",
              "      <td>trump sabotaging democracy threatening natl se...</td>\n",
              "      <td>trump sabotage democracy threaten natl securit...</td>\n",
              "      <td>0.122</td>\n",
              "      <td>0.623</td>\n",
              "      <td>0.255</td>\n",
              "      <td>-0.6908</td>\n",
              "      <td>Negative</td>\n",
              "      <td>1</td>\n",
              "    </tr>\n",
              "    <tr>\n",
              "      <th>4</th>\n",
              "      <td>UKikaski</td>\n",
              "      <td>2022-09-05</td>\n",
              "      <td>#APU Bayraktar TB-2's destroy two RUS Tor-M1 S...</td>\n",
              "      <td>en</td>\n",
              "      <td>bayraktar tb2s destroy two rus torm1 sam syste...</td>\n",
              "      <td>bayraktar tb2s destroy two rus torm1 sam syste...</td>\n",
              "      <td>bayraktar tb2s destroy two ru torm1 sam system...</td>\n",
              "      <td>0.045</td>\n",
              "      <td>0.714</td>\n",
              "      <td>0.241</td>\n",
              "      <td>-0.8126</td>\n",
              "      <td>Negative</td>\n",
              "      <td>1</td>\n",
              "    </tr>\n",
              "    <tr>\n",
              "      <th>...</th>\n",
              "      <td>...</td>\n",
              "      <td>...</td>\n",
              "      <td>...</td>\n",
              "      <td>...</td>\n",
              "      <td>...</td>\n",
              "      <td>...</td>\n",
              "      <td>...</td>\n",
              "      <td>...</td>\n",
              "      <td>...</td>\n",
              "      <td>...</td>\n",
              "      <td>...</td>\n",
              "      <td>...</td>\n",
              "      <td>...</td>\n",
              "    </tr>\n",
              "    <tr>\n",
              "      <th>1995</th>\n",
              "      <td>SavchukAlex</td>\n",
              "      <td>2022-11-22</td>\n",
              "      <td>#Ukraine receives modernized high-precision Br...</td>\n",
              "      <td>en</td>\n",
              "      <td>receives modernized highprecision brimstone 2 ...</td>\n",
              "      <td>receives modernized highprecision brimstone 2 ...</td>\n",
              "      <td>receives modernize highprecision brimstone 2 m...</td>\n",
              "      <td>0.292</td>\n",
              "      <td>0.708</td>\n",
              "      <td>0.000</td>\n",
              "      <td>0.7650</td>\n",
              "      <td>Positive</td>\n",
              "      <td>0</td>\n",
              "    </tr>\n",
              "    <tr>\n",
              "      <th>1996</th>\n",
              "      <td>nigethugrug</td>\n",
              "      <td>2022-11-22</td>\n",
              "      <td>Care to comment @awb58 @BenjaminAChilds  ?\\n\\n...</td>\n",
              "      <td>en</td>\n",
              "      <td>care to comment sweetheart energy deals caused...</td>\n",
              "      <td>care comment sweetheart energy deals caused fr...</td>\n",
              "      <td>care comment sweetheart energy deal cause fran...</td>\n",
              "      <td>0.295</td>\n",
              "      <td>0.668</td>\n",
              "      <td>0.037</td>\n",
              "      <td>0.8765</td>\n",
              "      <td>Positive</td>\n",
              "      <td>0</td>\n",
              "    </tr>\n",
              "    <tr>\n",
              "      <th>1997</th>\n",
              "      <td>bloomsbury1918</td>\n",
              "      <td>2022-11-22</td>\n",
              "      <td>European Parliament will deal with a project t...</td>\n",
              "      <td>en</td>\n",
              "      <td>european parliament will deal with project to ...</td>\n",
              "      <td>european parliament deal project declare terro...</td>\n",
              "      <td>european parliament deal project declare terro...</td>\n",
              "      <td>0.111</td>\n",
              "      <td>0.677</td>\n",
              "      <td>0.212</td>\n",
              "      <td>-0.4989</td>\n",
              "      <td>Negative</td>\n",
              "      <td>1</td>\n",
              "    </tr>\n",
              "    <tr>\n",
              "      <th>1998</th>\n",
              "      <td>10WallStreet</td>\n",
              "      <td>2022-11-22</td>\n",
              "      <td>Ultimately #Catholic #NeoNazis Will Destroy Al...</td>\n",
              "      <td>en</td>\n",
              "      <td>ultimately will destroy all holy sites of chur...</td>\n",
              "      <td>ultimately destroy holy sites church</td>\n",
              "      <td>ultimately destroy holy site church</td>\n",
              "      <td>0.000</td>\n",
              "      <td>0.696</td>\n",
              "      <td>0.304</td>\n",
              "      <td>-0.5423</td>\n",
              "      <td>Negative</td>\n",
              "      <td>1</td>\n",
              "    </tr>\n",
              "    <tr>\n",
              "      <th>1999</th>\n",
              "      <td>ChrisWe19956626</td>\n",
              "      <td>2022-11-23</td>\n",
              "      <td>It is because the corrupt among the #Russians ...</td>\n",
              "      <td>en</td>\n",
              "      <td>it is because the corrupt among the also deal ...</td>\n",
              "      <td>corrupt among also deal drugs prostitution man...</td>\n",
              "      <td>corrupt among also deal drug prostitution many...</td>\n",
              "      <td>0.000</td>\n",
              "      <td>0.903</td>\n",
              "      <td>0.097</td>\n",
              "      <td>-0.4215</td>\n",
              "      <td>Negative</td>\n",
              "      <td>1</td>\n",
              "    </tr>\n",
              "  </tbody>\n",
              "</table>\n",
              "<p>2000 rows × 13 columns</p>\n",
              "</div>"
            ],
            "text/plain": [
              "             username created_at  \\\n",
              "0        xXOxygeNXx49 2022-09-05   \n",
              "1          Abraxas444 2022-09-06   \n",
              "2         iwdu_global 2022-09-05   \n",
              "3          VoteEarly2 2022-09-06   \n",
              "4            UKikaski 2022-09-05   \n",
              "...               ...        ...   \n",
              "1995      SavchukAlex 2022-11-22   \n",
              "1996      nigethugrug 2022-11-22   \n",
              "1997   bloomsbury1918 2022-11-22   \n",
              "1998     10WallStreet 2022-11-22   \n",
              "1999  ChrisWe19956626 2022-11-23   \n",
              "\n",
              "                                                  tweet language  \\\n",
              "0                                  @SupaIsaiah016 Yummy       en   \n",
              "1     Peace is offensive concept for some of #Ukrain...       en   \n",
              "2     Thanks to the @iwdu_global for another fruitfu...       en   \n",
              "3     @RepLeeZeldin Trump sabotaging democracy &amp;...       en   \n",
              "4     #APU Bayraktar TB-2's destroy two RUS Tor-M1 S...       en   \n",
              "...                                                 ...      ...   \n",
              "1995  #Ukraine receives modernized high-precision Br...       en   \n",
              "1996  Care to comment @awb58 @BenjaminAChilds  ?\\n\\n...       en   \n",
              "1997  European Parliament will deal with a project t...       en   \n",
              "1998  Ultimately #Catholic #NeoNazis Will Destroy Al...       en   \n",
              "1999  It is because the corrupt among the #Russians ...       en   \n",
              "\n",
              "                                     tweet_simple_clean  \\\n",
              "0                                                 yummy   \n",
              "1      peace is offensive concept for some of officials   \n",
              "2     thanks to the for another fruitful and insight...   \n",
              "3     trump sabotaging democracy threatening natl se...   \n",
              "4     bayraktar tb2s destroy two rus torm1 sam syste...   \n",
              "...                                                 ...   \n",
              "1995  receives modernized highprecision brimstone 2 ...   \n",
              "1996  care to comment sweetheart energy deals caused...   \n",
              "1997  european parliament will deal with project to ...   \n",
              "1998  ultimately will destroy all holy sites of chur...   \n",
              "1999  it is because the corrupt among the also deal ...   \n",
              "\n",
              "                                     tweet_no_stopwords  \\\n",
              "0                                                 yummy   \n",
              "1                     peace offensive concept officials   \n",
              "2     thanks another fruitful insightful meeting dis...   \n",
              "3     trump sabotaging democracy threatening natl se...   \n",
              "4     bayraktar tb2s destroy two rus torm1 sam syste...   \n",
              "...                                                 ...   \n",
              "1995  receives modernized highprecision brimstone 2 ...   \n",
              "1996  care comment sweetheart energy deals caused fr...   \n",
              "1997  european parliament deal project declare terro...   \n",
              "1998               ultimately destroy holy sites church   \n",
              "1999  corrupt among also deal drugs prostitution man...   \n",
              "\n",
              "                                       tweet_high_clean  Positive  Neutral  \\\n",
              "0                                                 yummy     1.000    0.000   \n",
              "1                      peace offensive concept official     0.280    0.480   \n",
              "2     thanks another fruitful insightful meeting dis...     0.268    0.732   \n",
              "3     trump sabotage democracy threaten natl securit...     0.122    0.623   \n",
              "4     bayraktar tb2s destroy two ru torm1 sam system...     0.045    0.714   \n",
              "...                                                 ...       ...      ...   \n",
              "1995  receives modernize highprecision brimstone 2 m...     0.292    0.708   \n",
              "1996  care comment sweetheart energy deal cause fran...     0.295    0.668   \n",
              "1997  european parliament deal project declare terro...     0.111    0.677   \n",
              "1998                ultimately destroy holy site church     0.000    0.696   \n",
              "1999  corrupt among also deal drug prostitution many...     0.000    0.903   \n",
              "\n",
              "      Negative  Compound Sentiment  Label  \n",
              "0        0.000    0.5267  Positive      0  \n",
              "1        0.240    0.1280  Positive      0  \n",
              "2        0.000    0.8316  Positive      0  \n",
              "3        0.255   -0.6908  Negative      1  \n",
              "4        0.241   -0.8126  Negative      1  \n",
              "...        ...       ...       ...    ...  \n",
              "1995     0.000    0.7650  Positive      0  \n",
              "1996     0.037    0.8765  Positive      0  \n",
              "1997     0.212   -0.4989  Negative      1  \n",
              "1998     0.304   -0.5423  Negative      1  \n",
              "1999     0.097   -0.4215  Negative      1  \n",
              "\n",
              "[2000 rows x 13 columns]"
            ]
          },
          "execution_count": 49,
          "metadata": {},
          "output_type": "execute_result"
        }
      ],
      "source": [
        "batch_1"
      ]
    },
    {
      "cell_type": "code",
      "execution_count": null,
      "metadata": {
        "colab": {
          "base_uri": "https://localhost:8080/",
          "height": 216,
          "referenced_widgets": [
            "0c74023e58684316966e79106957a6cc",
            "59cd3195bc6d4e4e97a044f56782671a",
            "1a9c4dc8316943fd8b7d67eaccde1a38",
            "dbd4253989b74fb6aca6d298dad423eb",
            "5041f00fe50647658223bce9bcdc6d13",
            "83d233d928734193a85163fe22b63928",
            "2ba39bd7b11e49dcab14417c398ab9f2",
            "6ff7e590320c4a57a6e7d26a703b6db3",
            "de6a2f2a84884f3c8ca1062a5a3a05ed",
            "2d31dff25e54458e980bf6ad8009dfb2",
            "85bf49233d23462187ada8214cd98d01",
            "38f950ea39a3469ab673cd3f5b7a155d",
            "fee9eda945564c01af0d71befa76eac6",
            "24ae536c11dd4f878eeb4247135e72fd",
            "073fff0ce2984d21bc2f1e015ea28ddf",
            "52c7f8dcf6ab4c179178ce2bc4773387",
            "f9d353f4c20743e19d3dab37dc2e13bd",
            "de700be5f02140b4aca7e91846f94fd6",
            "a417166db07945c5a289da7d50c50082",
            "23a70d45efe74b81b46b4ddffb6c46d8",
            "2d35a7a56d244f43bac6aa42bb5b14aa",
            "6111b660d90140428f9c5ba84330f141",
            "9bb144d8e5f941ad8de699fe8a95919b",
            "a7000e9d629b445a8bcd2c3e549f94f3",
            "a6cba5c16431437a9b55570598deb40e",
            "cc43f434613e40ed8e1edb2cc6d68595",
            "0119201e683b45c38461ba470a0efb2e",
            "78afadaac144432c88ab2bcc15396da0",
            "2dd4733356ad4479adf8f6d2df756b27",
            "16e40e6d26774e34944625c9e384042d",
            "f31e957db32447058d3660988fda20f4",
            "25b59143deba447f8a4a30d1964259f4",
            "b7dd6f7890a340acbb6c980c90cadbab",
            "7b104038c99643dab45255e034c8896e",
            "86d315fddf514fe5b300a401f1ec233b",
            "77167bf4a54c43e08b8c2fc6a4c635e6",
            "77b71cb65ec0466283f7b3cb4e52a013",
            "9222786570d74e23ae5fc17ae881292d",
            "9749950c504340cc8bd63ab9eb7f70b7",
            "c7af63ae5ba348c9888b6b33f8b02a2e",
            "3b6cb7ae6a8e4d39827e6dee89d4a317",
            "678a66d074164f71b7de83bbec7a2d6a",
            "c0a152dce20b4cd5993e280d4b3da76a",
            "5f8161ab03274d0da0380ca50156a0fd"
          ]
        },
        "id": "YhGXh3EX5tdx",
        "outputId": "15dbbdfd-b33e-4961-a6dc-b1d9bae117bb"
      },
      "outputs": [
        {
          "name": "stderr",
          "output_type": "stream",
          "text": [
            "Some weights of the model checkpoint at distilbert-base-uncased were not used when initializing DistilBertModel: ['vocab_projector.bias', 'vocab_transform.bias', 'vocab_layer_norm.weight', 'vocab_transform.weight', 'vocab_layer_norm.bias', 'vocab_projector.weight']\n",
            "- This IS expected if you are initializing DistilBertModel from the checkpoint of a model trained on another task or with another architecture (e.g. initializing a BertForSequenceClassification model from a BertForPreTraining model).\n",
            "- This IS NOT expected if you are initializing DistilBertModel from the checkpoint of a model that you expect to be exactly identical (initializing a BertForSequenceClassification model from a BertForSequenceClassification model).\n"
          ]
        }
      ],
      "source": [
        "model_class, tokenizer_class, pretrained_weights = (ppb.DistilBertModel, ppb.DistilBertTokenizer, 'distilbert-base-uncased')\n",
        "\n",
        "\n",
        "# Load pretrained model/tokenizer\n",
        "tokenizer = tokenizer_class.from_pretrained(pretrained_weights)\n",
        "model = model_class.from_pretrained(pretrained_weights)"
      ]
    },
    {
      "cell_type": "code",
      "execution_count": null,
      "metadata": {
        "id": "kE-GP7d_6SFd"
      },
      "outputs": [],
      "source": [
        "tokenized = batch_1[\"tweet_simple_clean\"].apply((lambda x: tokenizer.encode(x, add_special_tokens=True)))"
      ]
    },
    {
      "cell_type": "code",
      "execution_count": null,
      "metadata": {
        "id": "BR1auWz36SrC"
      },
      "outputs": [],
      "source": [
        "max_len = 0\n",
        "for i in tokenized.values:\n",
        "    if len(i) > max_len:\n",
        "        max_len = len(i)\n",
        "\n",
        "padded = np.array([i + [0]*(max_len-len(i)) for i in tokenized.values])"
      ]
    },
    {
      "cell_type": "code",
      "execution_count": null,
      "metadata": {
        "colab": {
          "base_uri": "https://localhost:8080/"
        },
        "id": "a1bLWXjx2vd8",
        "outputId": "163f7e19-346e-413b-aa7e-e4cf38cef558"
      },
      "outputs": [
        {
          "data": {
            "text/plain": [
              "array([[  101,  9805, 18879, ...,     0,     0,     0],\n",
              "       [  101,  3521,  2003, ...,     0,     0,     0],\n",
              "       [  101,  4283,  2000, ...,     0,     0,     0],\n",
              "       ...,\n",
              "       [  101,  2647,  3323, ...,     0,     0,     0],\n",
              "       [  101,  4821,  2097, ...,     0,     0,     0],\n",
              "       [  101,  2009,  2003, ...,     0,     0,     0]])"
            ]
          },
          "execution_count": 53,
          "metadata": {},
          "output_type": "execute_result"
        }
      ],
      "source": [
        "padded"
      ]
    },
    {
      "cell_type": "code",
      "execution_count": null,
      "metadata": {
        "colab": {
          "base_uri": "https://localhost:8080/"
        },
        "id": "NUPcGT3wzKmp",
        "outputId": "cdcac9d5-e766-46eb-f872-4eb56471a44d"
      },
      "outputs": [
        {
          "data": {
            "text/plain": [
              "(2000, 65)"
            ]
          },
          "execution_count": 54,
          "metadata": {},
          "output_type": "execute_result"
        }
      ],
      "source": [
        "attention_mask = np.where(padded != 0, 1, 0)\n",
        "attention_mask.shape"
      ]
    },
    {
      "cell_type": "code",
      "execution_count": null,
      "metadata": {
        "id": "_uQcYn1z6Stj"
      },
      "outputs": [],
      "source": [
        "input_ids = torch.tensor(padded)  \n",
        "attention_mask = torch.tensor(attention_mask)\n",
        "\n",
        "with torch.no_grad():\n",
        "    last_hidden_states = model(input_ids, attention_mask=attention_mask)"
      ]
    },
    {
      "cell_type": "code",
      "execution_count": null,
      "metadata": {
        "id": "6sZiooQB6SwO"
      },
      "outputs": [],
      "source": [
        "features = last_hidden_states[0][:,0,:].numpy()"
      ]
    },
    {
      "cell_type": "code",
      "execution_count": null,
      "metadata": {
        "id": "HozKPstb6Yya"
      },
      "outputs": [],
      "source": [
        "labels = batch_1['Label']"
      ]
    },
    {
      "cell_type": "code",
      "execution_count": null,
      "metadata": {
        "id": "y5aLP7bbOMnb"
      },
      "outputs": [],
      "source": [
        "X_train, X_test, y_train, y_test = train_test_split(features, labels, \n",
        "                                                    test_size=0.2,\n",
        "                                                   random_state=100,\n",
        "                                                    stratify=labels)"
      ]
    },
    {
      "cell_type": "markdown",
      "metadata": {
        "id": "L9IZmwgzW1t_"
      },
      "source": [
        "Bert with Logistic regression without fine-tunning"
      ]
    },
    {
      "cell_type": "code",
      "execution_count": null,
      "metadata": {
        "id": "DB3lgC_n6Y_6"
      },
      "outputs": [],
      "source": [
        "lr_clf = LogisticRegression()\n",
        "lr_clf.fit(X_train, y_train)\n",
        "lr_clf.score(X_train, y_train)\n",
        "predictions = lr_clf.predict(X_test)"
      ]
    },
    {
      "cell_type": "code",
      "execution_count": null,
      "metadata": {
        "colab": {
          "base_uri": "https://localhost:8080/"
        },
        "id": "DMWUzdfbWi5j",
        "outputId": "e94744da-f759-4c95-d64e-c0fa869b3cc0"
      },
      "outputs": [
        {
          "name": "stdout",
          "output_type": "stream",
          "text": [
            "[[104  23  11]\n",
            " [ 31 117  15]\n",
            " [ 20  12  67]]\n",
            "              precision    recall  f1-score   support\n",
            "\n",
            "           0       0.67      0.75      0.71       138\n",
            "           1       0.77      0.72      0.74       163\n",
            "           2       0.72      0.68      0.70        99\n",
            "\n",
            "    accuracy                           0.72       400\n",
            "   macro avg       0.72      0.72      0.72       400\n",
            "weighted avg       0.72      0.72      0.72       400\n",
            "\n",
            "Model evaluation\n",
            "Accuracy: 0.72\n"
          ]
        }
      ],
      "source": [
        "from sklearn.metrics import classification_report, confusion_matrix, accuracy_score,precision_score, recall_score, f1_score\n",
        "\n",
        "print(confusion_matrix(y_test,predictions))  \n",
        "print(classification_report(y_test,predictions))  \n",
        "print(\"Model evaluation\")\n",
        "print(\"Accuracy:\", accuracy_score(y_test, predictions))"
      ]
    },
    {
      "cell_type": "markdown",
      "metadata": {
        "id": "8qhxnQ_CW-6v"
      },
      "source": [
        "Bert with Logistic regression with fine-tunning"
      ]
    },
    {
      "cell_type": "code",
      "execution_count": null,
      "metadata": {
        "colab": {
          "base_uri": "https://localhost:8080/"
        },
        "id": "sD-CW-74S9Sn",
        "outputId": "f2ca46d2-979c-4892-cc2f-26b7d767b45f"
      },
      "outputs": [
        {
          "data": {
            "text/plain": [
              "{'C': 1.0,\n",
              " 'class_weight': None,\n",
              " 'dual': False,\n",
              " 'fit_intercept': True,\n",
              " 'intercept_scaling': 1,\n",
              " 'l1_ratio': None,\n",
              " 'max_iter': 100,\n",
              " 'multi_class': 'auto',\n",
              " 'n_jobs': None,\n",
              " 'penalty': 'l2',\n",
              " 'random_state': None,\n",
              " 'solver': 'lbfgs',\n",
              " 'tol': 0.0001,\n",
              " 'verbose': 0,\n",
              " 'warm_start': False}"
            ]
          },
          "execution_count": 61,
          "metadata": {},
          "output_type": "execute_result"
        }
      ],
      "source": [
        "lr_clf.get_params()"
      ]
    },
    {
      "cell_type": "code",
      "execution_count": null,
      "metadata": {
        "colab": {
          "base_uri": "https://localhost:8080/"
        },
        "id": "elUN_M-R-9r1",
        "outputId": "93e33fc5-873e-45c6-9241-a445640ff889"
      },
      "outputs": [
        {
          "name": "stdout",
          "output_type": "stream",
          "text": [
            "Requirement already satisfied: scikit-optimize in /Users/gretasimeliunaite/miniforge3/envs/tensorflow_m1/lib/python3.9/site-packages (0.9.0)\n",
            "Requirement already satisfied: scikit-learn>=0.20.0 in /Users/gretasimeliunaite/miniforge3/envs/tensorflow_m1/lib/python3.9/site-packages (from scikit-optimize) (1.2.0)\n",
            "Requirement already satisfied: joblib>=0.11 in /Users/gretasimeliunaite/miniforge3/envs/tensorflow_m1/lib/python3.9/site-packages (from scikit-optimize) (1.2.0)\n",
            "Requirement already satisfied: pyaml>=16.9 in /Users/gretasimeliunaite/miniforge3/envs/tensorflow_m1/lib/python3.9/site-packages (from scikit-optimize) (21.10.1)\n",
            "Requirement already satisfied: numpy>=1.13.3 in /Users/gretasimeliunaite/miniforge3/envs/tensorflow_m1/lib/python3.9/site-packages (from scikit-optimize) (1.23.2)\n",
            "Requirement already satisfied: scipy>=0.19.1 in /Users/gretasimeliunaite/miniforge3/envs/tensorflow_m1/lib/python3.9/site-packages (from scikit-optimize) (1.9.3)\n",
            "Requirement already satisfied: PyYAML in /Users/gretasimeliunaite/miniforge3/envs/tensorflow_m1/lib/python3.9/site-packages (from pyaml>=16.9->scikit-optimize) (6.0)\n",
            "Requirement already satisfied: threadpoolctl>=2.0.0 in /Users/gretasimeliunaite/miniforge3/envs/tensorflow_m1/lib/python3.9/site-packages (from scikit-learn>=0.20.0->scikit-optimize) (3.1.0)\n"
          ]
        }
      ],
      "source": [
        "!pip install scikit-optimize"
      ]
    },
    {
      "cell_type": "code",
      "execution_count": null,
      "metadata": {
        "colab": {
          "base_uri": "https://localhost:8080/",
          "height": 375
        },
        "id": "3kLuOkkvT9ga",
        "outputId": "bce8d007-ea1c-45a6-e10b-72f343996a1a"
      },
      "outputs": [
        {
          "data": {
            "text/plain": [
              "OrderedDict([('C', 0.4)])"
            ]
          },
          "execution_count": 63,
          "metadata": {},
          "output_type": "execute_result"
        }
      ],
      "source": [
        "from skopt import BayesSearchCV\n",
        "parameters = {'C':[0.1,0.2,0.3,0.4,0.5,0.6,0.7,0.8,0.9,1]}\n",
        "log_reg_model = LogisticRegression()\n",
        "\n",
        "cv = BayesSearchCV(log_reg_model, parameters)\n",
        "cv.fit(X_train, y_train)\n",
        "best_params = cv.best_params_\n",
        "best_params\n",
        "\n"
      ]
    },
    {
      "cell_type": "code",
      "execution_count": null,
      "metadata": {
        "id": "M6wEZSMBUR6r"
      },
      "outputs": [],
      "source": [
        "logistic = LogisticRegression(**best_params, class_weight='balanced', random_state = 42, \n",
        "                              max_iter=10000)\n",
        "\n",
        "logistic.fit(X_train, y_train)\n",
        "predictions = logistic.predict(X_test)\n"
      ]
    },
    {
      "cell_type": "code",
      "execution_count": null,
      "metadata": {
        "id": "pEdkixFFVluu"
      },
      "outputs": [
        {
          "name": "stdout",
          "output_type": "stream",
          "text": [
            "[[103  19  16]\n",
            " [ 33 114  16]\n",
            " [ 16  11  72]]\n",
            "              precision    recall  f1-score   support\n",
            "\n",
            "           0       0.68      0.75      0.71       138\n",
            "           1       0.79      0.70      0.74       163\n",
            "           2       0.69      0.73      0.71        99\n",
            "\n",
            "    accuracy                           0.72       400\n",
            "   macro avg       0.72      0.72      0.72       400\n",
            "weighted avg       0.73      0.72      0.72       400\n",
            "\n",
            "Model evaluation\n",
            "Accuracy: 0.7225\n"
          ]
        }
      ],
      "source": [
        "from sklearn.metrics import classification_report, confusion_matrix, accuracy_score,precision_score, recall_score, f1_score\n",
        " \n",
        "print(confusion_matrix(y_test,predictions))  \n",
        "print(classification_report(y_test,predictions))  \n",
        "print(\"Model evaluation\")\n",
        "print(\"Accuracy:\", accuracy_score(y_test, predictions))"
      ]
    },
    {
      "cell_type": "markdown",
      "metadata": {
        "id": "tZZq_ACVXniQ"
      },
      "source": [
        "Bert with XGBoost without fine-tunning"
      ]
    },
    {
      "cell_type": "code",
      "execution_count": null,
      "metadata": {
        "id": "CNfBxlYrXmoJ"
      },
      "outputs": [],
      "source": [
        "from xgboost import XGBClassifier\n",
        "import xgboost as xgb\n",
        "\n",
        "\n",
        "xgboost = XGBClassifier()\n",
        "xgboost.fit(X_train, y_train)\n",
        "xgboost.score(X_train, y_train)\n",
        "predictions = xgboost.predict(X_test)"
      ]
    },
    {
      "cell_type": "code",
      "execution_count": null,
      "metadata": {
        "id": "2jDYsugUXnFG"
      },
      "outputs": [
        {
          "name": "stdout",
          "output_type": "stream",
          "text": [
            "[[101  29   8]\n",
            " [ 32 126   5]\n",
            " [ 26  19  54]]\n",
            "              precision    recall  f1-score   support\n",
            "\n",
            "           0       0.64      0.73      0.68       138\n",
            "           1       0.72      0.77      0.75       163\n",
            "           2       0.81      0.55      0.65        99\n",
            "\n",
            "    accuracy                           0.70       400\n",
            "   macro avg       0.72      0.68      0.69       400\n",
            "weighted avg       0.71      0.70      0.70       400\n",
            "\n",
            "Model evaluation\n",
            "Accuracy: 0.7025\n"
          ]
        }
      ],
      "source": [
        "print(confusion_matrix(y_test,predictions))  \n",
        "print(classification_report(y_test,predictions))  \n",
        "print(\"Model evaluation\")\n",
        "print(\"Accuracy:\", accuracy_score(y_test, predictions))"
      ]
    },
    {
      "cell_type": "markdown",
      "metadata": {
        "id": "CQ4y_douX-Y_"
      },
      "source": [
        "Bert with XGBoost with fine-tunning"
      ]
    },
    {
      "cell_type": "code",
      "execution_count": null,
      "metadata": {
        "id": "1_WgWdCbYCnU"
      },
      "outputs": [
        {
          "data": {
            "text/plain": [
              "{'objective': 'multi:softprob',\n",
              " 'use_label_encoder': None,\n",
              " 'base_score': 0.5,\n",
              " 'booster': 'gbtree',\n",
              " 'callbacks': None,\n",
              " 'colsample_bylevel': 1,\n",
              " 'colsample_bynode': 1,\n",
              " 'colsample_bytree': 1,\n",
              " 'early_stopping_rounds': None,\n",
              " 'enable_categorical': False,\n",
              " 'eval_metric': None,\n",
              " 'feature_types': None,\n",
              " 'gamma': 0,\n",
              " 'gpu_id': -1,\n",
              " 'grow_policy': 'depthwise',\n",
              " 'importance_type': None,\n",
              " 'interaction_constraints': '',\n",
              " 'learning_rate': 0.300000012,\n",
              " 'max_bin': 256,\n",
              " 'max_cat_threshold': 64,\n",
              " 'max_cat_to_onehot': 4,\n",
              " 'max_delta_step': 0,\n",
              " 'max_depth': 6,\n",
              " 'max_leaves': 0,\n",
              " 'min_child_weight': 1,\n",
              " 'missing': nan,\n",
              " 'monotone_constraints': '()',\n",
              " 'n_estimators': 100,\n",
              " 'n_jobs': 0,\n",
              " 'num_parallel_tree': 1,\n",
              " 'predictor': 'auto',\n",
              " 'random_state': 0,\n",
              " 'reg_alpha': 0,\n",
              " 'reg_lambda': 1,\n",
              " 'sampling_method': 'uniform',\n",
              " 'scale_pos_weight': None,\n",
              " 'subsample': 1,\n",
              " 'tree_method': 'exact',\n",
              " 'validate_parameters': 1,\n",
              " 'verbosity': None}"
            ]
          },
          "execution_count": 68,
          "metadata": {},
          "output_type": "execute_result"
        }
      ],
      "source": [
        "xgboost.get_params()"
      ]
    },
    {
      "cell_type": "code",
      "execution_count": null,
      "metadata": {
        "id": "gAl1YY8hYCp4"
      },
      "outputs": [],
      "source": [
        "parameters = {'learning_rate':[0.1,0.2,0.3,0.4,0.5,0.6,0.7,0.8,0.9,1], \n",
        "              'subsample':[0.6, 0.7, 0.8, 0.9, 1], \n",
        "              'min_child_weight' : [0,1,2,3,4,5,6,7,8,9,10]}\n",
        "xgboost_model = XGBClassifier()\n",
        "\n",
        "cv = BayesSearchCV(xgboost_model, parameters)\n",
        "cv.fit(X_train, y_train)\n",
        "best_params = cv.best_params_\n",
        "best_params\n"
      ]
    },
    {
      "cell_type": "code",
      "execution_count": null,
      "metadata": {
        "id": "5mgVRWsAYCxc"
      },
      "outputs": [
        {
          "name": "stdout",
          "output_type": "stream",
          "text": [
            "[22:50:00] WARNING: /Users/runner/work/xgboost/xgboost/python-package/build/temp.macosx-11.0-arm64-cpython-38/xgboost/src/learner.cc:767: \n",
            "Parameters: { \"class_weight\", \"max_iter\" } are not used.\n",
            "\n"
          ]
        }
      ],
      "source": [
        "xgboost= XGBClassifier(**best_params, class_weight='balanced', random_state = 42, \n",
        "                              max_iter=10000)\n",
        "\n",
        "xgboost.fit(X_train, y_train)\n",
        "predictions = xgboost.predict(X_test)"
      ]
    },
    {
      "cell_type": "code",
      "execution_count": null,
      "metadata": {
        "id": "qPSqEYc29DN5"
      },
      "outputs": [
        {
          "name": "stdout",
          "output_type": "stream",
          "text": [
            "[[101  26  11]\n",
            " [ 31 126   6]\n",
            " [ 27  19  53]]\n",
            "              precision    recall  f1-score   support\n",
            "\n",
            "           0       0.64      0.73      0.68       138\n",
            "           1       0.74      0.77      0.75       163\n",
            "           2       0.76      0.54      0.63        99\n",
            "\n",
            "    accuracy                           0.70       400\n",
            "   macro avg       0.71      0.68      0.69       400\n",
            "weighted avg       0.71      0.70      0.70       400\n",
            "\n",
            "Model evaluation\n",
            "Accuracy: 0.7\n"
          ]
        }
      ],
      "source": [
        "from sklearn.metrics import classification_report, confusion_matrix, accuracy_score,precision_score, recall_score, f1_score\n",
        " \n",
        "print(confusion_matrix(y_test,predictions))  \n",
        "print(classification_report(y_test,predictions))  \n",
        "print(\"Model evaluation\")\n",
        "print(\"Accuracy:\", accuracy_score(y_test, predictions))"
      ]
    },
    {
      "cell_type": "markdown",
      "metadata": {
        "id": "cYJ_D-Lk9T0o"
      },
      "source": [
        "Bert with Naïve Bayes without fine-tunning"
      ]
    },
    {
      "cell_type": "code",
      "execution_count": null,
      "metadata": {
        "id": "g2xfmHrp9DQu"
      },
      "outputs": [],
      "source": [
        "from sklearn.naive_bayes import GaussianNB\n",
        "text_classifier = GaussianNB()\n",
        "text_classifier.fit(X_train, y_train)\n",
        "text_classifier.score(X_train, y_train)\n",
        "predictions = text_classifier.predict(X_test)"
      ]
    },
    {
      "cell_type": "code",
      "execution_count": null,
      "metadata": {
        "id": "jo1DJFD99DT6"
      },
      "outputs": [
        {
          "name": "stdout",
          "output_type": "stream",
          "text": [
            "[[ 80  25  33]\n",
            " [ 37 104  22]\n",
            " [ 17  21  61]]\n",
            "              precision    recall  f1-score   support\n",
            "\n",
            "           0       0.60      0.58      0.59       138\n",
            "           1       0.69      0.64      0.66       163\n",
            "           2       0.53      0.62      0.57        99\n",
            "\n",
            "    accuracy                           0.61       400\n",
            "   macro avg       0.61      0.61      0.61       400\n",
            "weighted avg       0.62      0.61      0.61       400\n",
            "\n",
            "Model evaluation\n",
            "Accuracy: 0.6125\n"
          ]
        }
      ],
      "source": [
        "print(confusion_matrix(y_test,predictions))  \n",
        "print(classification_report(y_test,predictions))  \n",
        "print(\"Model evaluation\")\n",
        "print(\"Accuracy:\", accuracy_score(y_test, predictions))"
      ]
    },
    {
      "cell_type": "markdown",
      "metadata": {
        "id": "87NHXJZAAJ8B"
      },
      "source": [
        "Bert with Naïve Bayes with fine-tunning"
      ]
    },
    {
      "cell_type": "code",
      "execution_count": null,
      "metadata": {
        "id": "m3bhpqD19DXR"
      },
      "outputs": [
        {
          "data": {
            "text/plain": [
              "{'priors': None, 'var_smoothing': 1e-09}"
            ]
          },
          "execution_count": 74,
          "metadata": {},
          "output_type": "execute_result"
        }
      ],
      "source": [
        "text_classifier.get_params()"
      ]
    },
    {
      "cell_type": "code",
      "execution_count": null,
      "metadata": {
        "id": "Xanj-bL1RkU0"
      },
      "outputs": [
        {
          "data": {
            "text/plain": [
              "OrderedDict([('var_smoothing', 0.0004328761281083057)])"
            ]
          },
          "execution_count": 75,
          "metadata": {},
          "output_type": "execute_result"
        }
      ],
      "source": [
        "parameters = {'var_smoothing': np.logspace(0,-9, num=100)}\n",
        "text_classifier = GaussianNB()\n",
        "\n",
        "cv = BayesSearchCV(text_classifier, parameters)\n",
        "cv.fit(X_train, y_train)\n",
        "best_params = cv.best_params_\n",
        "best_params"
      ]
    },
    {
      "cell_type": "code",
      "execution_count": null,
      "metadata": {
        "id": "3ZGakCeuRkYQ"
      },
      "outputs": [],
      "source": [
        " text_classifier = GaussianNB(**best_params)\n",
        "\n",
        "text_classifier.fit(X_train, y_train)\n",
        "predictions = text_classifier.predict(X_test)"
      ]
    },
    {
      "cell_type": "code",
      "execution_count": null,
      "metadata": {
        "id": "zrufNlA_RkcR"
      },
      "outputs": [
        {
          "name": "stdout",
          "output_type": "stream",
          "text": [
            "[[ 80  25  33]\n",
            " [ 36 105  22]\n",
            " [ 17  21  61]]\n",
            "              precision    recall  f1-score   support\n",
            "\n",
            "           0       0.60      0.58      0.59       138\n",
            "           1       0.70      0.64      0.67       163\n",
            "           2       0.53      0.62      0.57        99\n",
            "\n",
            "    accuracy                           0.61       400\n",
            "   macro avg       0.61      0.61      0.61       400\n",
            "weighted avg       0.62      0.61      0.62       400\n",
            "\n",
            "Model evaluation\n",
            "Accuracy: 0.615\n"
          ]
        }
      ],
      "source": [
        "print(confusion_matrix(y_test,predictions))  \n",
        "print(classification_report(y_test,predictions))  \n",
        "print(\"Model evaluation\")\n",
        "print(\"Accuracy:\", accuracy_score(y_test, predictions))"
      ]
    },
    {
      "cell_type": "markdown",
      "metadata": {
        "id": "FL3Z0BVCaibY"
      },
      "source": [
        "**RoBerta**"
      ]
    },
    {
      "cell_type": "code",
      "execution_count": null,
      "metadata": {
        "id": "xQrbHAPD3XpF"
      },
      "outputs": [
        {
          "name": "stderr",
          "output_type": "stream",
          "text": [
            "Some weights of the model checkpoint at roberta-base were not used when initializing RobertaModel: ['lm_head.decoder.weight', 'lm_head.dense.weight', 'lm_head.dense.bias', 'lm_head.layer_norm.bias', 'lm_head.layer_norm.weight', 'lm_head.bias']\n",
            "- This IS expected if you are initializing RobertaModel from the checkpoint of a model trained on another task or with another architecture (e.g. initializing a BertForSequenceClassification model from a BertForPreTraining model).\n",
            "- This IS NOT expected if you are initializing RobertaModel from the checkpoint of a model that you expect to be exactly identical (initializing a BertForSequenceClassification model from a BertForSequenceClassification model).\n"
          ]
        }
      ],
      "source": [
        "from transformers import RobertaTokenizer, RobertaModel\n",
        "tokenizer = RobertaTokenizer.from_pretrained('roberta-base')\n",
        "model = RobertaModel.from_pretrained('roberta-base')"
      ]
    },
    {
      "cell_type": "code",
      "execution_count": null,
      "metadata": {
        "id": "jwvZ-9Ki3Xro"
      },
      "outputs": [],
      "source": [
        "tokenized = batch_1[\"tweet_simple_clean\"].apply((lambda x: tokenizer.encode(x, add_special_tokens=True)))"
      ]
    },
    {
      "cell_type": "code",
      "execution_count": null,
      "metadata": {
        "id": "RsoSuJYR3Xul"
      },
      "outputs": [],
      "source": [
        "max_len = 0\n",
        "for i in tokenized.values:\n",
        "    if len(i) > max_len:\n",
        "        max_len = len(i)\n",
        "\n",
        "padded = np.array([i + [0]*(max_len-len(i)) for i in tokenized.values])\n"
      ]
    },
    {
      "cell_type": "code",
      "execution_count": null,
      "metadata": {
        "id": "Kn4p-a2E3xER"
      },
      "outputs": [
        {
          "data": {
            "text/plain": [
              "(2000, 67)"
            ]
          },
          "execution_count": 81,
          "metadata": {},
          "output_type": "execute_result"
        }
      ],
      "source": [
        "attention_mask = np.where(padded != 0, 1, 0)\n",
        "attention_mask.shape"
      ]
    },
    {
      "cell_type": "code",
      "execution_count": null,
      "metadata": {
        "id": "IJd-6Co93Xw3"
      },
      "outputs": [
        {
          "ename": "KeyboardInterrupt",
          "evalue": "",
          "output_type": "error",
          "traceback": [
            "\u001b[0;31m---------------------------------------------------------------------------\u001b[0m",
            "\u001b[0;31mKeyboardInterrupt\u001b[0m                         Traceback (most recent call last)",
            "Cell \u001b[0;32mIn[82], line 5\u001b[0m\n\u001b[1;32m      2\u001b[0m attention_mask \u001b[39m=\u001b[39m torch\u001b[39m.\u001b[39mtensor(attention_mask)\n\u001b[1;32m      4\u001b[0m \u001b[39mwith\u001b[39;00m torch\u001b[39m.\u001b[39mno_grad():\n\u001b[0;32m----> 5\u001b[0m     last_hidden_states \u001b[39m=\u001b[39m model(input_ids, attention_mask\u001b[39m=\u001b[39;49mattention_mask)\n",
            "File \u001b[0;32m~/miniforge3/envs/tensorflow_m1/lib/python3.9/site-packages/torch/nn/modules/module.py:1190\u001b[0m, in \u001b[0;36mModule._call_impl\u001b[0;34m(self, *input, **kwargs)\u001b[0m\n\u001b[1;32m   1186\u001b[0m \u001b[39m# If we don't have any hooks, we want to skip the rest of the logic in\u001b[39;00m\n\u001b[1;32m   1187\u001b[0m \u001b[39m# this function, and just call forward.\u001b[39;00m\n\u001b[1;32m   1188\u001b[0m \u001b[39mif\u001b[39;00m \u001b[39mnot\u001b[39;00m (\u001b[39mself\u001b[39m\u001b[39m.\u001b[39m_backward_hooks \u001b[39mor\u001b[39;00m \u001b[39mself\u001b[39m\u001b[39m.\u001b[39m_forward_hooks \u001b[39mor\u001b[39;00m \u001b[39mself\u001b[39m\u001b[39m.\u001b[39m_forward_pre_hooks \u001b[39mor\u001b[39;00m _global_backward_hooks\n\u001b[1;32m   1189\u001b[0m         \u001b[39mor\u001b[39;00m _global_forward_hooks \u001b[39mor\u001b[39;00m _global_forward_pre_hooks):\n\u001b[0;32m-> 1190\u001b[0m     \u001b[39mreturn\u001b[39;00m forward_call(\u001b[39m*\u001b[39;49m\u001b[39minput\u001b[39;49m, \u001b[39m*\u001b[39;49m\u001b[39m*\u001b[39;49mkwargs)\n\u001b[1;32m   1191\u001b[0m \u001b[39m# Do not call functions when jit is used\u001b[39;00m\n\u001b[1;32m   1192\u001b[0m full_backward_hooks, non_full_backward_hooks \u001b[39m=\u001b[39m [], []\n",
            "File \u001b[0;32m~/miniforge3/envs/tensorflow_m1/lib/python3.9/site-packages/transformers/models/roberta/modeling_roberta.py:853\u001b[0m, in \u001b[0;36mRobertaModel.forward\u001b[0;34m(self, input_ids, attention_mask, token_type_ids, position_ids, head_mask, inputs_embeds, encoder_hidden_states, encoder_attention_mask, past_key_values, use_cache, output_attentions, output_hidden_states, return_dict)\u001b[0m\n\u001b[1;32m    844\u001b[0m head_mask \u001b[39m=\u001b[39m \u001b[39mself\u001b[39m\u001b[39m.\u001b[39mget_head_mask(head_mask, \u001b[39mself\u001b[39m\u001b[39m.\u001b[39mconfig\u001b[39m.\u001b[39mnum_hidden_layers)\n\u001b[1;32m    846\u001b[0m embedding_output \u001b[39m=\u001b[39m \u001b[39mself\u001b[39m\u001b[39m.\u001b[39membeddings(\n\u001b[1;32m    847\u001b[0m     input_ids\u001b[39m=\u001b[39minput_ids,\n\u001b[1;32m    848\u001b[0m     position_ids\u001b[39m=\u001b[39mposition_ids,\n\u001b[0;32m   (...)\u001b[0m\n\u001b[1;32m    851\u001b[0m     past_key_values_length\u001b[39m=\u001b[39mpast_key_values_length,\n\u001b[1;32m    852\u001b[0m )\n\u001b[0;32m--> 853\u001b[0m encoder_outputs \u001b[39m=\u001b[39m \u001b[39mself\u001b[39;49m\u001b[39m.\u001b[39;49mencoder(\n\u001b[1;32m    854\u001b[0m     embedding_output,\n\u001b[1;32m    855\u001b[0m     attention_mask\u001b[39m=\u001b[39;49mextended_attention_mask,\n\u001b[1;32m    856\u001b[0m     head_mask\u001b[39m=\u001b[39;49mhead_mask,\n\u001b[1;32m    857\u001b[0m     encoder_hidden_states\u001b[39m=\u001b[39;49mencoder_hidden_states,\n\u001b[1;32m    858\u001b[0m     encoder_attention_mask\u001b[39m=\u001b[39;49mencoder_extended_attention_mask,\n\u001b[1;32m    859\u001b[0m     past_key_values\u001b[39m=\u001b[39;49mpast_key_values,\n\u001b[1;32m    860\u001b[0m     use_cache\u001b[39m=\u001b[39;49muse_cache,\n\u001b[1;32m    861\u001b[0m     output_attentions\u001b[39m=\u001b[39;49moutput_attentions,\n\u001b[1;32m    862\u001b[0m     output_hidden_states\u001b[39m=\u001b[39;49moutput_hidden_states,\n\u001b[1;32m    863\u001b[0m     return_dict\u001b[39m=\u001b[39;49mreturn_dict,\n\u001b[1;32m    864\u001b[0m )\n\u001b[1;32m    865\u001b[0m sequence_output \u001b[39m=\u001b[39m encoder_outputs[\u001b[39m0\u001b[39m]\n\u001b[1;32m    866\u001b[0m pooled_output \u001b[39m=\u001b[39m \u001b[39mself\u001b[39m\u001b[39m.\u001b[39mpooler(sequence_output) \u001b[39mif\u001b[39;00m \u001b[39mself\u001b[39m\u001b[39m.\u001b[39mpooler \u001b[39mis\u001b[39;00m \u001b[39mnot\u001b[39;00m \u001b[39mNone\u001b[39;00m \u001b[39melse\u001b[39;00m \u001b[39mNone\u001b[39;00m\n",
            "File \u001b[0;32m~/miniforge3/envs/tensorflow_m1/lib/python3.9/site-packages/torch/nn/modules/module.py:1190\u001b[0m, in \u001b[0;36mModule._call_impl\u001b[0;34m(self, *input, **kwargs)\u001b[0m\n\u001b[1;32m   1186\u001b[0m \u001b[39m# If we don't have any hooks, we want to skip the rest of the logic in\u001b[39;00m\n\u001b[1;32m   1187\u001b[0m \u001b[39m# this function, and just call forward.\u001b[39;00m\n\u001b[1;32m   1188\u001b[0m \u001b[39mif\u001b[39;00m \u001b[39mnot\u001b[39;00m (\u001b[39mself\u001b[39m\u001b[39m.\u001b[39m_backward_hooks \u001b[39mor\u001b[39;00m \u001b[39mself\u001b[39m\u001b[39m.\u001b[39m_forward_hooks \u001b[39mor\u001b[39;00m \u001b[39mself\u001b[39m\u001b[39m.\u001b[39m_forward_pre_hooks \u001b[39mor\u001b[39;00m _global_backward_hooks\n\u001b[1;32m   1189\u001b[0m         \u001b[39mor\u001b[39;00m _global_forward_hooks \u001b[39mor\u001b[39;00m _global_forward_pre_hooks):\n\u001b[0;32m-> 1190\u001b[0m     \u001b[39mreturn\u001b[39;00m forward_call(\u001b[39m*\u001b[39;49m\u001b[39minput\u001b[39;49m, \u001b[39m*\u001b[39;49m\u001b[39m*\u001b[39;49mkwargs)\n\u001b[1;32m   1191\u001b[0m \u001b[39m# Do not call functions when jit is used\u001b[39;00m\n\u001b[1;32m   1192\u001b[0m full_backward_hooks, non_full_backward_hooks \u001b[39m=\u001b[39m [], []\n",
            "File \u001b[0;32m~/miniforge3/envs/tensorflow_m1/lib/python3.9/site-packages/transformers/models/roberta/modeling_roberta.py:527\u001b[0m, in \u001b[0;36mRobertaEncoder.forward\u001b[0;34m(self, hidden_states, attention_mask, head_mask, encoder_hidden_states, encoder_attention_mask, past_key_values, use_cache, output_attentions, output_hidden_states, return_dict)\u001b[0m\n\u001b[1;32m    518\u001b[0m     layer_outputs \u001b[39m=\u001b[39m torch\u001b[39m.\u001b[39mutils\u001b[39m.\u001b[39mcheckpoint\u001b[39m.\u001b[39mcheckpoint(\n\u001b[1;32m    519\u001b[0m         create_custom_forward(layer_module),\n\u001b[1;32m    520\u001b[0m         hidden_states,\n\u001b[0;32m   (...)\u001b[0m\n\u001b[1;32m    524\u001b[0m         encoder_attention_mask,\n\u001b[1;32m    525\u001b[0m     )\n\u001b[1;32m    526\u001b[0m \u001b[39melse\u001b[39;00m:\n\u001b[0;32m--> 527\u001b[0m     layer_outputs \u001b[39m=\u001b[39m layer_module(\n\u001b[1;32m    528\u001b[0m         hidden_states,\n\u001b[1;32m    529\u001b[0m         attention_mask,\n\u001b[1;32m    530\u001b[0m         layer_head_mask,\n\u001b[1;32m    531\u001b[0m         encoder_hidden_states,\n\u001b[1;32m    532\u001b[0m         encoder_attention_mask,\n\u001b[1;32m    533\u001b[0m         past_key_value,\n\u001b[1;32m    534\u001b[0m         output_attentions,\n\u001b[1;32m    535\u001b[0m     )\n\u001b[1;32m    537\u001b[0m hidden_states \u001b[39m=\u001b[39m layer_outputs[\u001b[39m0\u001b[39m]\n\u001b[1;32m    538\u001b[0m \u001b[39mif\u001b[39;00m use_cache:\n",
            "File \u001b[0;32m~/miniforge3/envs/tensorflow_m1/lib/python3.9/site-packages/torch/nn/modules/module.py:1190\u001b[0m, in \u001b[0;36mModule._call_impl\u001b[0;34m(self, *input, **kwargs)\u001b[0m\n\u001b[1;32m   1186\u001b[0m \u001b[39m# If we don't have any hooks, we want to skip the rest of the logic in\u001b[39;00m\n\u001b[1;32m   1187\u001b[0m \u001b[39m# this function, and just call forward.\u001b[39;00m\n\u001b[1;32m   1188\u001b[0m \u001b[39mif\u001b[39;00m \u001b[39mnot\u001b[39;00m (\u001b[39mself\u001b[39m\u001b[39m.\u001b[39m_backward_hooks \u001b[39mor\u001b[39;00m \u001b[39mself\u001b[39m\u001b[39m.\u001b[39m_forward_hooks \u001b[39mor\u001b[39;00m \u001b[39mself\u001b[39m\u001b[39m.\u001b[39m_forward_pre_hooks \u001b[39mor\u001b[39;00m _global_backward_hooks\n\u001b[1;32m   1189\u001b[0m         \u001b[39mor\u001b[39;00m _global_forward_hooks \u001b[39mor\u001b[39;00m _global_forward_pre_hooks):\n\u001b[0;32m-> 1190\u001b[0m     \u001b[39mreturn\u001b[39;00m forward_call(\u001b[39m*\u001b[39;49m\u001b[39minput\u001b[39;49m, \u001b[39m*\u001b[39;49m\u001b[39m*\u001b[39;49mkwargs)\n\u001b[1;32m   1191\u001b[0m \u001b[39m# Do not call functions when jit is used\u001b[39;00m\n\u001b[1;32m   1192\u001b[0m full_backward_hooks, non_full_backward_hooks \u001b[39m=\u001b[39m [], []\n",
            "File \u001b[0;32m~/miniforge3/envs/tensorflow_m1/lib/python3.9/site-packages/transformers/models/roberta/modeling_roberta.py:412\u001b[0m, in \u001b[0;36mRobertaLayer.forward\u001b[0;34m(self, hidden_states, attention_mask, head_mask, encoder_hidden_states, encoder_attention_mask, past_key_value, output_attentions)\u001b[0m\n\u001b[1;32m    400\u001b[0m \u001b[39mdef\u001b[39;00m \u001b[39mforward\u001b[39m(\n\u001b[1;32m    401\u001b[0m     \u001b[39mself\u001b[39m,\n\u001b[1;32m    402\u001b[0m     hidden_states: torch\u001b[39m.\u001b[39mTensor,\n\u001b[0;32m   (...)\u001b[0m\n\u001b[1;32m    409\u001b[0m ) \u001b[39m-\u001b[39m\u001b[39m>\u001b[39m Tuple[torch\u001b[39m.\u001b[39mTensor]:\n\u001b[1;32m    410\u001b[0m     \u001b[39m# decoder uni-directional self-attention cached key/values tuple is at positions 1,2\u001b[39;00m\n\u001b[1;32m    411\u001b[0m     self_attn_past_key_value \u001b[39m=\u001b[39m past_key_value[:\u001b[39m2\u001b[39m] \u001b[39mif\u001b[39;00m past_key_value \u001b[39mis\u001b[39;00m \u001b[39mnot\u001b[39;00m \u001b[39mNone\u001b[39;00m \u001b[39melse\u001b[39;00m \u001b[39mNone\u001b[39;00m\n\u001b[0;32m--> 412\u001b[0m     self_attention_outputs \u001b[39m=\u001b[39m \u001b[39mself\u001b[39;49m\u001b[39m.\u001b[39;49mattention(\n\u001b[1;32m    413\u001b[0m         hidden_states,\n\u001b[1;32m    414\u001b[0m         attention_mask,\n\u001b[1;32m    415\u001b[0m         head_mask,\n\u001b[1;32m    416\u001b[0m         output_attentions\u001b[39m=\u001b[39;49moutput_attentions,\n\u001b[1;32m    417\u001b[0m         past_key_value\u001b[39m=\u001b[39;49mself_attn_past_key_value,\n\u001b[1;32m    418\u001b[0m     )\n\u001b[1;32m    419\u001b[0m     attention_output \u001b[39m=\u001b[39m self_attention_outputs[\u001b[39m0\u001b[39m]\n\u001b[1;32m    421\u001b[0m     \u001b[39m# if decoder, the last output is tuple of self-attn cache\u001b[39;00m\n",
            "File \u001b[0;32m~/miniforge3/envs/tensorflow_m1/lib/python3.9/site-packages/torch/nn/modules/module.py:1190\u001b[0m, in \u001b[0;36mModule._call_impl\u001b[0;34m(self, *input, **kwargs)\u001b[0m\n\u001b[1;32m   1186\u001b[0m \u001b[39m# If we don't have any hooks, we want to skip the rest of the logic in\u001b[39;00m\n\u001b[1;32m   1187\u001b[0m \u001b[39m# this function, and just call forward.\u001b[39;00m\n\u001b[1;32m   1188\u001b[0m \u001b[39mif\u001b[39;00m \u001b[39mnot\u001b[39;00m (\u001b[39mself\u001b[39m\u001b[39m.\u001b[39m_backward_hooks \u001b[39mor\u001b[39;00m \u001b[39mself\u001b[39m\u001b[39m.\u001b[39m_forward_hooks \u001b[39mor\u001b[39;00m \u001b[39mself\u001b[39m\u001b[39m.\u001b[39m_forward_pre_hooks \u001b[39mor\u001b[39;00m _global_backward_hooks\n\u001b[1;32m   1189\u001b[0m         \u001b[39mor\u001b[39;00m _global_forward_hooks \u001b[39mor\u001b[39;00m _global_forward_pre_hooks):\n\u001b[0;32m-> 1190\u001b[0m     \u001b[39mreturn\u001b[39;00m forward_call(\u001b[39m*\u001b[39;49m\u001b[39minput\u001b[39;49m, \u001b[39m*\u001b[39;49m\u001b[39m*\u001b[39;49mkwargs)\n\u001b[1;32m   1191\u001b[0m \u001b[39m# Do not call functions when jit is used\u001b[39;00m\n\u001b[1;32m   1192\u001b[0m full_backward_hooks, non_full_backward_hooks \u001b[39m=\u001b[39m [], []\n",
            "File \u001b[0;32m~/miniforge3/envs/tensorflow_m1/lib/python3.9/site-packages/transformers/models/roberta/modeling_roberta.py:348\u001b[0m, in \u001b[0;36mRobertaAttention.forward\u001b[0;34m(self, hidden_states, attention_mask, head_mask, encoder_hidden_states, encoder_attention_mask, past_key_value, output_attentions)\u001b[0m\n\u001b[1;32m    329\u001b[0m \u001b[39mdef\u001b[39;00m \u001b[39mforward\u001b[39m(\n\u001b[1;32m    330\u001b[0m     \u001b[39mself\u001b[39m,\n\u001b[1;32m    331\u001b[0m     hidden_states: torch\u001b[39m.\u001b[39mTensor,\n\u001b[0;32m   (...)\u001b[0m\n\u001b[1;32m    337\u001b[0m     output_attentions: Optional[\u001b[39mbool\u001b[39m] \u001b[39m=\u001b[39m \u001b[39mFalse\u001b[39;00m,\n\u001b[1;32m    338\u001b[0m ) \u001b[39m-\u001b[39m\u001b[39m>\u001b[39m Tuple[torch\u001b[39m.\u001b[39mTensor]:\n\u001b[1;32m    339\u001b[0m     self_outputs \u001b[39m=\u001b[39m \u001b[39mself\u001b[39m\u001b[39m.\u001b[39mself(\n\u001b[1;32m    340\u001b[0m         hidden_states,\n\u001b[1;32m    341\u001b[0m         attention_mask,\n\u001b[0;32m   (...)\u001b[0m\n\u001b[1;32m    346\u001b[0m         output_attentions,\n\u001b[1;32m    347\u001b[0m     )\n\u001b[0;32m--> 348\u001b[0m     attention_output \u001b[39m=\u001b[39m \u001b[39mself\u001b[39;49m\u001b[39m.\u001b[39;49moutput(self_outputs[\u001b[39m0\u001b[39;49m], hidden_states)\n\u001b[1;32m    349\u001b[0m     outputs \u001b[39m=\u001b[39m (attention_output,) \u001b[39m+\u001b[39m self_outputs[\u001b[39m1\u001b[39m:]  \u001b[39m# add attentions if we output them\u001b[39;00m\n\u001b[1;32m    350\u001b[0m     \u001b[39mreturn\u001b[39;00m outputs\n",
            "File \u001b[0;32m~/miniforge3/envs/tensorflow_m1/lib/python3.9/site-packages/torch/nn/modules/module.py:1190\u001b[0m, in \u001b[0;36mModule._call_impl\u001b[0;34m(self, *input, **kwargs)\u001b[0m\n\u001b[1;32m   1186\u001b[0m \u001b[39m# If we don't have any hooks, we want to skip the rest of the logic in\u001b[39;00m\n\u001b[1;32m   1187\u001b[0m \u001b[39m# this function, and just call forward.\u001b[39;00m\n\u001b[1;32m   1188\u001b[0m \u001b[39mif\u001b[39;00m \u001b[39mnot\u001b[39;00m (\u001b[39mself\u001b[39m\u001b[39m.\u001b[39m_backward_hooks \u001b[39mor\u001b[39;00m \u001b[39mself\u001b[39m\u001b[39m.\u001b[39m_forward_hooks \u001b[39mor\u001b[39;00m \u001b[39mself\u001b[39m\u001b[39m.\u001b[39m_forward_pre_hooks \u001b[39mor\u001b[39;00m _global_backward_hooks\n\u001b[1;32m   1189\u001b[0m         \u001b[39mor\u001b[39;00m _global_forward_hooks \u001b[39mor\u001b[39;00m _global_forward_pre_hooks):\n\u001b[0;32m-> 1190\u001b[0m     \u001b[39mreturn\u001b[39;00m forward_call(\u001b[39m*\u001b[39;49m\u001b[39minput\u001b[39;49m, \u001b[39m*\u001b[39;49m\u001b[39m*\u001b[39;49mkwargs)\n\u001b[1;32m   1191\u001b[0m \u001b[39m# Do not call functions when jit is used\u001b[39;00m\n\u001b[1;32m   1192\u001b[0m full_backward_hooks, non_full_backward_hooks \u001b[39m=\u001b[39m [], []\n",
            "File \u001b[0;32m~/miniforge3/envs/tensorflow_m1/lib/python3.9/site-packages/transformers/models/roberta/modeling_roberta.py:297\u001b[0m, in \u001b[0;36mRobertaSelfOutput.forward\u001b[0;34m(self, hidden_states, input_tensor)\u001b[0m\n\u001b[1;32m    296\u001b[0m \u001b[39mdef\u001b[39;00m \u001b[39mforward\u001b[39m(\u001b[39mself\u001b[39m, hidden_states: torch\u001b[39m.\u001b[39mTensor, input_tensor: torch\u001b[39m.\u001b[39mTensor) \u001b[39m-\u001b[39m\u001b[39m>\u001b[39m torch\u001b[39m.\u001b[39mTensor:\n\u001b[0;32m--> 297\u001b[0m     hidden_states \u001b[39m=\u001b[39m \u001b[39mself\u001b[39;49m\u001b[39m.\u001b[39;49mdense(hidden_states)\n\u001b[1;32m    298\u001b[0m     hidden_states \u001b[39m=\u001b[39m \u001b[39mself\u001b[39m\u001b[39m.\u001b[39mdropout(hidden_states)\n\u001b[1;32m    299\u001b[0m     hidden_states \u001b[39m=\u001b[39m \u001b[39mself\u001b[39m\u001b[39m.\u001b[39mLayerNorm(hidden_states \u001b[39m+\u001b[39m input_tensor)\n",
            "File \u001b[0;32m~/miniforge3/envs/tensorflow_m1/lib/python3.9/site-packages/torch/nn/modules/module.py:1190\u001b[0m, in \u001b[0;36mModule._call_impl\u001b[0;34m(self, *input, **kwargs)\u001b[0m\n\u001b[1;32m   1186\u001b[0m \u001b[39m# If we don't have any hooks, we want to skip the rest of the logic in\u001b[39;00m\n\u001b[1;32m   1187\u001b[0m \u001b[39m# this function, and just call forward.\u001b[39;00m\n\u001b[1;32m   1188\u001b[0m \u001b[39mif\u001b[39;00m \u001b[39mnot\u001b[39;00m (\u001b[39mself\u001b[39m\u001b[39m.\u001b[39m_backward_hooks \u001b[39mor\u001b[39;00m \u001b[39mself\u001b[39m\u001b[39m.\u001b[39m_forward_hooks \u001b[39mor\u001b[39;00m \u001b[39mself\u001b[39m\u001b[39m.\u001b[39m_forward_pre_hooks \u001b[39mor\u001b[39;00m _global_backward_hooks\n\u001b[1;32m   1189\u001b[0m         \u001b[39mor\u001b[39;00m _global_forward_hooks \u001b[39mor\u001b[39;00m _global_forward_pre_hooks):\n\u001b[0;32m-> 1190\u001b[0m     \u001b[39mreturn\u001b[39;00m forward_call(\u001b[39m*\u001b[39;49m\u001b[39minput\u001b[39;49m, \u001b[39m*\u001b[39;49m\u001b[39m*\u001b[39;49mkwargs)\n\u001b[1;32m   1191\u001b[0m \u001b[39m# Do not call functions when jit is used\u001b[39;00m\n\u001b[1;32m   1192\u001b[0m full_backward_hooks, non_full_backward_hooks \u001b[39m=\u001b[39m [], []\n",
            "File \u001b[0;32m~/miniforge3/envs/tensorflow_m1/lib/python3.9/site-packages/torch/nn/modules/linear.py:114\u001b[0m, in \u001b[0;36mLinear.forward\u001b[0;34m(self, input)\u001b[0m\n\u001b[1;32m    113\u001b[0m \u001b[39mdef\u001b[39;00m \u001b[39mforward\u001b[39m(\u001b[39mself\u001b[39m, \u001b[39minput\u001b[39m: Tensor) \u001b[39m-\u001b[39m\u001b[39m>\u001b[39m Tensor:\n\u001b[0;32m--> 114\u001b[0m     \u001b[39mreturn\u001b[39;00m F\u001b[39m.\u001b[39;49mlinear(\u001b[39minput\u001b[39;49m, \u001b[39mself\u001b[39;49m\u001b[39m.\u001b[39;49mweight, \u001b[39mself\u001b[39;49m\u001b[39m.\u001b[39;49mbias)\n",
            "\u001b[0;31mKeyboardInterrupt\u001b[0m: "
          ]
        }
      ],
      "source": [
        "input_ids = torch.tensor(padded)  \n",
        "attention_mask = torch.tensor(attention_mask)\n",
        "\n",
        "with torch.no_grad():\n",
        "    last_hidden_states = model(input_ids, attention_mask=attention_mask)"
      ]
    },
    {
      "cell_type": "code",
      "execution_count": null,
      "metadata": {
        "id": "5EJ3NQSW3Xzc"
      },
      "outputs": [],
      "source": [
        "features = last_hidden_states[0][:,0,:].numpy()"
      ]
    },
    {
      "cell_type": "code",
      "execution_count": null,
      "metadata": {
        "id": "UqRYYq5j3X2e"
      },
      "outputs": [],
      "source": [
        "labels = batch_1['Label']"
      ]
    },
    {
      "cell_type": "code",
      "execution_count": null,
      "metadata": {
        "id": "aTdTXLFY3X5e"
      },
      "outputs": [],
      "source": [
        "X_train, X_test, y_train, y_test = train_test_split(features, labels, \n",
        "                                                    test_size=0.2,\n",
        "                                                   random_state=100,\n",
        "                                                    stratify=labels)"
      ]
    },
    {
      "cell_type": "markdown",
      "metadata": {
        "id": "GrS5d3eJV1D_"
      },
      "source": [
        "Robert with logistic regression without fine-tunning."
      ]
    },
    {
      "cell_type": "code",
      "execution_count": null,
      "metadata": {
        "id": "0_nsw1X9Szl5"
      },
      "outputs": [],
      "source": [
        "lr_clf = LogisticRegression()\n",
        "lr_clf.fit(X_train, y_train)\n",
        "lr_clf.score(X_train, y_train)\n",
        "predictions = lr_clf.predict(X_test)"
      ]
    },
    {
      "cell_type": "code",
      "execution_count": null,
      "metadata": {
        "id": "QNsZle4GSzpz"
      },
      "outputs": [],
      "source": [
        "print(confusion_matrix(y_test,predictions))  \n",
        "print(classification_report(y_test,predictions))  \n",
        "print(\"Model evaluation\")\n",
        "print(\"Accuracy:\", accuracy_score(y_test, predictions))"
      ]
    },
    {
      "cell_type": "markdown",
      "metadata": {
        "id": "-_J3FmVjV7nf"
      },
      "source": [
        "Robert with logistic regression with fine-tunning."
      ]
    },
    {
      "cell_type": "code",
      "execution_count": null,
      "metadata": {
        "id": "xcFIWsBJWEIi"
      },
      "outputs": [],
      "source": [
        "parameters = {'C':[0.1,0.2,0.3,0.4,0.5,0.6,0.7,0.8,0.9,1]}\n",
        "log_reg_model = LogisticRegression()\n",
        "\n",
        "cv = BayesSearchCV(log_reg_model, parameters)\n",
        "cv.fit(X_train, y_train)\n",
        "best_params = cv.best_params_\n",
        "best_params"
      ]
    },
    {
      "cell_type": "code",
      "execution_count": null,
      "metadata": {
        "id": "rJkIAANKWEK4"
      },
      "outputs": [],
      "source": [
        "logistic = LogisticRegression(**best_params, class_weight='balanced', random_state = 42, \n",
        "                              max_iter=10000)\n",
        "\n",
        "logistic.fit(X_train, y_train)\n",
        "predictions = logistic.predict(X_test)"
      ]
    },
    {
      "cell_type": "code",
      "execution_count": null,
      "metadata": {
        "id": "R1E7tbK_WENw"
      },
      "outputs": [],
      "source": [
        "print(confusion_matrix(y_test,predictions))  \n",
        "print(classification_report(y_test,predictions))  \n",
        "print(\"Model evaluation\")\n",
        "print(\"Accuracy:\", accuracy_score(y_test, predictions))"
      ]
    },
    {
      "cell_type": "markdown",
      "metadata": {
        "id": "bG_AEiN-Wo1L"
      },
      "source": [
        "Robert with XGBoost without fine-tuning. "
      ]
    },
    {
      "cell_type": "code",
      "execution_count": null,
      "metadata": {
        "id": "2jIUkEl1WEQ8"
      },
      "outputs": [],
      "source": [
        "xgboost = XGBClassifier()\n",
        "xgboost.fit(X_train, y_train)\n",
        "xgboost.score(X_train, y_train)\n",
        "predictions = xgboost.predict(X_test)"
      ]
    },
    {
      "cell_type": "code",
      "execution_count": null,
      "metadata": {
        "id": "fEig1COpWEUB"
      },
      "outputs": [],
      "source": [
        "print(confusion_matrix(y_test,predictions))  \n",
        "print(classification_report(y_test,predictions))  \n",
        "print(\"Model evaluation\")\n",
        "print(\"Accuracy:\", accuracy_score(y_test, predictions))"
      ]
    },
    {
      "cell_type": "markdown",
      "metadata": {
        "id": "AyVvH1dYXI4M"
      },
      "source": [
        "Robert with XGBoost with fine-tuning."
      ]
    },
    {
      "cell_type": "code",
      "execution_count": null,
      "metadata": {
        "id": "IK9h1V2UWEZD"
      },
      "outputs": [],
      "source": [
        "parameters = {'learning_rate':[0.1,0.2,0.3,0.4,0.5,0.6,0.7,0.8,0.9,1], \n",
        "              'subsample':[0.6, 0.7, 0.8, 0.9, 1], \n",
        "              'min_child_weight' : [0,1,2,3,4,5,6,7,8,9,10]}\n",
        "xgboost_model = XGBClassifier()\n",
        "\n",
        "cv = BayesSearchCV(xgboost_model, parameters)\n",
        "cv.fit(X_train, y_train)\n",
        "best_params = cv.best_params_\n",
        "best_params"
      ]
    },
    {
      "cell_type": "code",
      "execution_count": null,
      "metadata": {
        "id": "xax1y1nNWEbG"
      },
      "outputs": [],
      "source": [
        "xgboost= XGBClassifier(**best_params, class_weight='balanced', random_state = 42, \n",
        "                              max_iter=10000)\n",
        "\n",
        "xgboost.fit(X_train, y_train)\n",
        "predictions = xgboost.predict(X_test)"
      ]
    },
    {
      "cell_type": "code",
      "execution_count": null,
      "metadata": {
        "id": "TpTWsUBJWEeg"
      },
      "outputs": [],
      "source": [
        "print(confusion_matrix(y_test,predictions))  \n",
        "print(classification_report(y_test,predictions))  \n",
        "print(\"Model evaluation\")\n",
        "print(\"Accuracy:\", accuracy_score(y_test, predictions))"
      ]
    },
    {
      "cell_type": "markdown",
      "metadata": {
        "id": "5V3tzonwXdvE"
      },
      "source": [
        "Roberta with Naive Bayes without fine-tuning. \n"
      ]
    },
    {
      "cell_type": "code",
      "execution_count": null,
      "metadata": {
        "id": "1GSuC2fyZImo"
      },
      "outputs": [],
      "source": [
        "text_classifier = GaussianNB()\n",
        "text_classifier.fit(X_train, y_train)\n",
        "text_classifier.score(X_train, y_train)\n",
        "predictions = text_classifier.predict(X_test)"
      ]
    },
    {
      "cell_type": "code",
      "execution_count": null,
      "metadata": {
        "id": "Y1Jo2l7jZIqA"
      },
      "outputs": [],
      "source": [
        "print(confusion_matrix(y_test,predictions))  \n",
        "print(classification_report(y_test,predictions))  \n",
        "print(\"Model evaluation\")\n",
        "print(\"Accuracy:\", accuracy_score(y_test, predictions))"
      ]
    },
    {
      "cell_type": "markdown",
      "metadata": {
        "id": "GHNT07OaZRPg"
      },
      "source": [
        "Roberta with Naive Bayes with fine-tuning."
      ]
    },
    {
      "cell_type": "code",
      "execution_count": null,
      "metadata": {
        "id": "96DNMCkKZIvP"
      },
      "outputs": [],
      "source": [
        "parameters = {'var_smoothing': np.logspace(0,-9, num=100)}\n",
        "text_classifier = GaussianNB()\n",
        "\n",
        "cv = BayesSearchCV(text_classifier, parameters)\n",
        "cv.fit(X_train, y_train)\n",
        "best_params = cv.best_params_\n",
        "best_params"
      ]
    },
    {
      "cell_type": "code",
      "execution_count": null,
      "metadata": {
        "id": "vCDAAnm8ZIxV"
      },
      "outputs": [],
      "source": [
        "text_classifier = GaussianNB(**best_params)\n",
        "\n",
        "text_classifier.fit(X_train, y_train)\n",
        "predictions = text_classifier.predict(X_test)"
      ]
    },
    {
      "cell_type": "code",
      "execution_count": null,
      "metadata": {
        "id": "NsxwZYNfZIzs"
      },
      "outputs": [],
      "source": [
        "print(confusion_matrix(y_test,predictions))  \n",
        "print(classification_report(y_test,predictions))  \n",
        "print(\"Model evaluation\")\n",
        "print(\"Accuracy:\", accuracy_score(y_test, predictions))"
      ]
    },
    {
      "cell_type": "markdown",
      "metadata": {
        "id": "7yxJMZnRIBKZ"
      },
      "source": [
        "**Alberta**\n"
      ]
    },
    {
      "cell_type": "code",
      "execution_count": null,
      "metadata": {
        "id": "J_ozzGihIDZI"
      },
      "outputs": [],
      "source": [
        "from transformers import AlbertTokenizer, AlbertModel\n",
        "tokenizer = AlbertTokenizer.from_pretrained('albert-base-v1')\n",
        "model = AlbertModel.from_pretrained(\"albert-base-v1\")"
      ]
    },
    {
      "cell_type": "code",
      "execution_count": null,
      "metadata": {
        "id": "aieCS2fAIDb9"
      },
      "outputs": [],
      "source": [
        "tokenized = batch_1[\"tweet_simple_clean\"].apply((lambda x: tokenizer.encode(x, add_special_tokens=True)))"
      ]
    },
    {
      "cell_type": "code",
      "execution_count": null,
      "metadata": {
        "id": "93UXPLiKIDeU"
      },
      "outputs": [],
      "source": [
        "max_len = 0\n",
        "for i in tokenized.values:\n",
        "    if len(i) > max_len:\n",
        "        max_len = len(i)\n",
        "\n",
        "padded = np.array([i + [0]*(max_len-len(i)) for i in tokenized.values])\n"
      ]
    },
    {
      "cell_type": "code",
      "execution_count": null,
      "metadata": {
        "id": "gwYs8cLFIDhd"
      },
      "outputs": [],
      "source": [
        "attention_mask = np.where(padded != 0, 1, 0)\n",
        "attention_mask.shape"
      ]
    },
    {
      "cell_type": "code",
      "execution_count": null,
      "metadata": {
        "id": "VHHYLJ2SIDlM"
      },
      "outputs": [],
      "source": [
        "input_ids = torch.tensor(padded)  \n",
        "attention_mask = torch.tensor(attention_mask)\n",
        "\n",
        "with torch.no_grad():\n",
        "    last_hidden_states = model(input_ids, attention_mask=attention_mask)"
      ]
    },
    {
      "cell_type": "code",
      "execution_count": null,
      "metadata": {
        "id": "5goCCwKTIDo8"
      },
      "outputs": [],
      "source": [
        "features = last_hidden_states[0][:,0,:].numpy()"
      ]
    },
    {
      "cell_type": "code",
      "execution_count": null,
      "metadata": {
        "id": "AMiIsV2bIDq9"
      },
      "outputs": [],
      "source": [
        "labels = batch_1['Label']"
      ]
    },
    {
      "cell_type": "code",
      "execution_count": null,
      "metadata": {
        "id": "GYBZvKCyIDtA"
      },
      "outputs": [],
      "source": [
        "X_train, X_test, y_train, y_test = train_test_split(features, labels, \n",
        "                                                    test_size=0.2,\n",
        "                                                   random_state=100,\n",
        "                                                    stratify=labels)"
      ]
    },
    {
      "cell_type": "markdown",
      "metadata": {
        "id": "rqpwoxB9aDbK"
      },
      "source": [
        "Albert with logistic regression without fine-tuning. \n",
        "\n"
      ]
    },
    {
      "cell_type": "code",
      "execution_count": null,
      "metadata": {
        "id": "mpW11N-TaLAU"
      },
      "outputs": [],
      "source": [
        "lr_clf = LogisticRegression()\n",
        "lr_clf.fit(X_train, y_train)\n",
        "lr_clf.score(X_train, y_train)\n",
        "predictions = lr_clf.predict(X_test)"
      ]
    },
    {
      "cell_type": "code",
      "execution_count": null,
      "metadata": {
        "id": "Z8Yfa3ydaLEK"
      },
      "outputs": [],
      "source": [
        "print(confusion_matrix(y_test,predictions))  \n",
        "print(classification_report(y_test,predictions))  \n",
        "print(\"Model evaluation\")\n",
        "print(\"Accuracy:\", accuracy_score(y_test, predictions))"
      ]
    },
    {
      "cell_type": "markdown",
      "metadata": {
        "id": "lZC5NS_aaOlP"
      },
      "source": [
        "Albert with logistic regression with fine-tuning. \n"
      ]
    },
    {
      "cell_type": "code",
      "execution_count": null,
      "metadata": {
        "id": "Wv2_IVtlaLGH"
      },
      "outputs": [],
      "source": [
        "parameters = {'C':[0.1,0.2,0.3,0.4,0.5,0.6,0.7,0.8,0.9,1]}\n",
        "log_reg_model = LogisticRegression()\n",
        "\n",
        "cv = BayesSearchCV(log_reg_model, parameters)\n",
        "cv.fit(X_train, y_train)\n",
        "best_params = cv.best_params_\n",
        "best_params"
      ]
    },
    {
      "cell_type": "code",
      "execution_count": null,
      "metadata": {
        "id": "6LhtFY4faLH7"
      },
      "outputs": [],
      "source": [
        "logistic = LogisticRegression(**best_params, class_weight='balanced', random_state = 42, \n",
        "                              max_iter=10000)\n",
        "\n",
        "logistic.fit(X_train, y_train)\n",
        "predictions = logistic.predict(X_test)"
      ]
    },
    {
      "cell_type": "code",
      "execution_count": null,
      "metadata": {
        "id": "CKWLxalCaLKc"
      },
      "outputs": [],
      "source": [
        "print(confusion_matrix(y_test,predictions))  \n",
        "print(classification_report(y_test,predictions))  \n",
        "print(\"Model evaluation\")\n",
        "print(\"Accuracy:\", accuracy_score(y_test, predictions))"
      ]
    },
    {
      "cell_type": "markdown",
      "metadata": {
        "id": "NVEo8mJradx3"
      },
      "source": [
        "Albert with XGBoost without fine-tuning."
      ]
    },
    {
      "cell_type": "code",
      "execution_count": null,
      "metadata": {
        "id": "KG4XB7lWaLM0"
      },
      "outputs": [],
      "source": [
        "xgboost = XGBClassifier()\n",
        "xgboost.fit(X_train, y_train)\n",
        "xgboost.score(X_train, y_train)\n",
        "predictions = xgboost.predict(X_test)"
      ]
    },
    {
      "cell_type": "code",
      "execution_count": null,
      "metadata": {
        "id": "B-NnylhmaLQk"
      },
      "outputs": [],
      "source": [
        "print(confusion_matrix(y_test,predictions))  \n",
        "print(classification_report(y_test,predictions))  \n",
        "print(\"Model evaluation\")\n",
        "print(\"Accuracy:\", accuracy_score(y_test, predictions))"
      ]
    },
    {
      "cell_type": "markdown",
      "metadata": {
        "id": "Ritnd5GaajuC"
      },
      "source": [
        "Albert with XGBoost with fine-tuning."
      ]
    },
    {
      "cell_type": "code",
      "execution_count": null,
      "metadata": {
        "id": "ZfmEBgB1avgL"
      },
      "outputs": [],
      "source": [
        "parameters = {'learning_rate':[0.1,0.2,0.3,0.4,0.5,0.6,0.7,0.8,0.9,1], \n",
        "              'subsample':[0.6, 0.7, 0.8, 0.9, 1], \n",
        "              'min_child_weight' : [0,1,2,3,4,5,6,7,8,9,10]}\n",
        "xgboost_model = XGBClassifier()\n",
        "\n",
        "cv = BayesSearchCV(xgboost_model, parameters)\n",
        "cv.fit(X_train, y_train)\n",
        "best_params = cv.best_params_\n",
        "best_params"
      ]
    },
    {
      "cell_type": "code",
      "execution_count": null,
      "metadata": {
        "id": "eeSn4ko_ayy2"
      },
      "outputs": [],
      "source": [
        "xgboost= XGBClassifier(**best_params, class_weight='balanced', random_state = 42, \n",
        "                              max_iter=10000)\n",
        "\n",
        "xgboost.fit(X_train, y_train)\n",
        "predictions = xgboost.predict(X_test)"
      ]
    },
    {
      "cell_type": "code",
      "execution_count": null,
      "metadata": {
        "id": "exZmAdz2aqcg"
      },
      "outputs": [],
      "source": [
        "print(confusion_matrix(y_test,predictions))  \n",
        "print(classification_report(y_test,predictions))  \n",
        "print(\"Model evaluation\")\n",
        "print(\"Accuracy:\", accuracy_score(y_test, predictions))"
      ]
    },
    {
      "cell_type": "markdown",
      "metadata": {
        "id": "ajtWk_BibNen"
      },
      "source": [
        "Albert with Naive Bayes without fine-tuning. "
      ]
    },
    {
      "cell_type": "code",
      "execution_count": null,
      "metadata": {
        "id": "KVurh1IvbkWY"
      },
      "outputs": [],
      "source": [
        "text_classifier = GaussianNB()\n",
        "text_classifier.fit(X_train, y_train)\n",
        "text_classifier.score(X_train, y_train)\n",
        "predictions = text_classifier.predict(X_test)"
      ]
    },
    {
      "cell_type": "code",
      "execution_count": null,
      "metadata": {
        "id": "I28c4ooAbmCt"
      },
      "outputs": [],
      "source": [
        "print(confusion_matrix(y_test,predictions))  \n",
        "print(classification_report(y_test,predictions))  \n",
        "print(\"Model evaluation\")\n",
        "print(\"Accuracy:\", accuracy_score(y_test, predictions))"
      ]
    },
    {
      "cell_type": "markdown",
      "metadata": {
        "id": "h65yVXfhby2x"
      },
      "source": [
        "Albert with Naive Bayes with fine-tuning. "
      ]
    },
    {
      "cell_type": "code",
      "execution_count": null,
      "metadata": {
        "id": "BjKYDsDDb6dN"
      },
      "outputs": [],
      "source": [
        "parameters = {'var_smoothing': np.logspace(0,-9, num=100)}\n",
        "text_classifier = GaussianNB()\n",
        "\n",
        "cv = BayesSearchCV(text_classifier, parameters)\n",
        "cv.fit(X_train, y_train)\n",
        "best_params = cv.best_params_\n",
        "best_params"
      ]
    },
    {
      "cell_type": "code",
      "execution_count": null,
      "metadata": {
        "id": "1y_0y3BAcBlB"
      },
      "outputs": [],
      "source": [
        "text_classifier = GaussianNB(**best_params)\n",
        "\n",
        "text_classifier.fit(X_train, y_train)\n",
        "predictions = text_classifier.predict(X_test)"
      ]
    },
    {
      "cell_type": "code",
      "execution_count": null,
      "metadata": {
        "id": "DXiXn_aqcDBe"
      },
      "outputs": [],
      "source": [
        "print(confusion_matrix(y_test,predictions))  \n",
        "print(classification_report(y_test,predictions))  \n",
        "print(\"Model evaluation\")\n",
        "print(\"Accuracy:\", accuracy_score(y_test, predictions))"
      ]
    },
    {
      "cell_type": "markdown",
      "metadata": {
        "id": "Npf5tFr8nz5B"
      },
      "source": [
        "\n",
        "\n",
        "---\n",
        "\n"
      ]
    },
    {
      "cell_type": "markdown",
      "metadata": {
        "id": "NsyOwWdEeZd8"
      },
      "source": [
        "**BERT, Robert and Albert** \n",
        "- Classification models with fine-tuning on **tweet_high_clean**"
      ]
    },
    {
      "cell_type": "markdown",
      "metadata": {
        "id": "icwuo2Ase2uG"
      },
      "source": [
        "**BERT**"
      ]
    },
    {
      "cell_type": "code",
      "execution_count": null,
      "metadata": {
        "colab": {
          "base_uri": "https://localhost:8080/",
          "height": 216,
          "referenced_widgets": [
            "0c74023e58684316966e79106957a6cc",
            "59cd3195bc6d4e4e97a044f56782671a",
            "1a9c4dc8316943fd8b7d67eaccde1a38",
            "dbd4253989b74fb6aca6d298dad423eb",
            "5041f00fe50647658223bce9bcdc6d13",
            "83d233d928734193a85163fe22b63928",
            "2ba39bd7b11e49dcab14417c398ab9f2",
            "6ff7e590320c4a57a6e7d26a703b6db3",
            "de6a2f2a84884f3c8ca1062a5a3a05ed",
            "2d31dff25e54458e980bf6ad8009dfb2",
            "85bf49233d23462187ada8214cd98d01",
            "38f950ea39a3469ab673cd3f5b7a155d",
            "fee9eda945564c01af0d71befa76eac6",
            "24ae536c11dd4f878eeb4247135e72fd",
            "073fff0ce2984d21bc2f1e015ea28ddf",
            "52c7f8dcf6ab4c179178ce2bc4773387",
            "f9d353f4c20743e19d3dab37dc2e13bd",
            "de700be5f02140b4aca7e91846f94fd6",
            "a417166db07945c5a289da7d50c50082",
            "23a70d45efe74b81b46b4ddffb6c46d8",
            "2d35a7a56d244f43bac6aa42bb5b14aa",
            "6111b660d90140428f9c5ba84330f141",
            "9bb144d8e5f941ad8de699fe8a95919b",
            "a7000e9d629b445a8bcd2c3e549f94f3",
            "a6cba5c16431437a9b55570598deb40e",
            "cc43f434613e40ed8e1edb2cc6d68595",
            "0119201e683b45c38461ba470a0efb2e",
            "78afadaac144432c88ab2bcc15396da0",
            "2dd4733356ad4479adf8f6d2df756b27",
            "16e40e6d26774e34944625c9e384042d",
            "f31e957db32447058d3660988fda20f4",
            "25b59143deba447f8a4a30d1964259f4",
            "b7dd6f7890a340acbb6c980c90cadbab",
            "7b104038c99643dab45255e034c8896e",
            "86d315fddf514fe5b300a401f1ec233b",
            "77167bf4a54c43e08b8c2fc6a4c635e6",
            "77b71cb65ec0466283f7b3cb4e52a013",
            "9222786570d74e23ae5fc17ae881292d",
            "9749950c504340cc8bd63ab9eb7f70b7",
            "c7af63ae5ba348c9888b6b33f8b02a2e",
            "3b6cb7ae6a8e4d39827e6dee89d4a317",
            "678a66d074164f71b7de83bbec7a2d6a",
            "c0a152dce20b4cd5993e280d4b3da76a",
            "5f8161ab03274d0da0380ca50156a0fd"
          ]
        },
        "id": "H8r1JDEbnyIW",
        "outputId": "15dbbdfd-b33e-4961-a6dc-b1d9bae117bb"
      },
      "outputs": [
        {
          "data": {
            "application/vnd.jupyter.widget-view+json": {
              "model_id": "0c74023e58684316966e79106957a6cc",
              "version_major": 2,
              "version_minor": 0
            },
            "text/plain": [
              "Downloading:   0%|          | 0.00/232k [00:00<?, ?B/s]"
            ]
          },
          "metadata": {},
          "output_type": "display_data"
        },
        {
          "data": {
            "application/vnd.jupyter.widget-view+json": {
              "model_id": "38f950ea39a3469ab673cd3f5b7a155d",
              "version_major": 2,
              "version_minor": 0
            },
            "text/plain": [
              "Downloading:   0%|          | 0.00/28.0 [00:00<?, ?B/s]"
            ]
          },
          "metadata": {},
          "output_type": "display_data"
        },
        {
          "data": {
            "application/vnd.jupyter.widget-view+json": {
              "model_id": "9bb144d8e5f941ad8de699fe8a95919b",
              "version_major": 2,
              "version_minor": 0
            },
            "text/plain": [
              "Downloading:   0%|          | 0.00/483 [00:00<?, ?B/s]"
            ]
          },
          "metadata": {},
          "output_type": "display_data"
        },
        {
          "data": {
            "application/vnd.jupyter.widget-view+json": {
              "model_id": "7b104038c99643dab45255e034c8896e",
              "version_major": 2,
              "version_minor": 0
            },
            "text/plain": [
              "Downloading:   0%|          | 0.00/268M [00:00<?, ?B/s]"
            ]
          },
          "metadata": {},
          "output_type": "display_data"
        },
        {
          "name": "stderr",
          "output_type": "stream",
          "text": [
            "Some weights of the model checkpoint at distilbert-base-uncased were not used when initializing DistilBertModel: ['vocab_transform.weight', 'vocab_projector.bias', 'vocab_layer_norm.bias', 'vocab_projector.weight', 'vocab_layer_norm.weight', 'vocab_transform.bias']\n",
            "- This IS expected if you are initializing DistilBertModel from the checkpoint of a model trained on another task or with another architecture (e.g. initializing a BertForSequenceClassification model from a BertForPreTraining model).\n",
            "- This IS NOT expected if you are initializing DistilBertModel from the checkpoint of a model that you expect to be exactly identical (initializing a BertForSequenceClassification model from a BertForSequenceClassification model).\n"
          ]
        }
      ],
      "source": [
        "model_class, tokenizer_class, pretrained_weights = (ppb.DistilBertModel, ppb.DistilBertTokenizer, 'distilbert-base-uncased')\n",
        "\n",
        "\n",
        "# Load pretrained model/tokenizer\n",
        "tokenizer = tokenizer_class.from_pretrained(pretrained_weights)\n",
        "model = model_class.from_pretrained(pretrained_weights)"
      ]
    },
    {
      "cell_type": "code",
      "execution_count": null,
      "metadata": {
        "id": "1PS8jQMonyIX"
      },
      "outputs": [],
      "source": [
        "tokenized = batch_1[\"tweet_high_clean\"].apply((lambda x: tokenizer.encode(x, add_special_tokens=True)))"
      ]
    },
    {
      "cell_type": "code",
      "execution_count": null,
      "metadata": {
        "id": "KttB8uVinyIX"
      },
      "outputs": [],
      "source": [
        "max_len = 0\n",
        "for i in tokenized.values:\n",
        "    if len(i) > max_len:\n",
        "        max_len = len(i)\n",
        "\n",
        "padded = np.array([i + [0]*(max_len-len(i)) for i in tokenized.values])"
      ]
    },
    {
      "cell_type": "code",
      "execution_count": null,
      "metadata": {
        "colab": {
          "base_uri": "https://localhost:8080/"
        },
        "id": "AcSjMNOwnyIX",
        "outputId": "163f7e19-346e-413b-aa7e-e4cf38cef558"
      },
      "outputs": [
        {
          "data": {
            "text/plain": [
              "array([[  101, 10651,  2013, ...,     0,     0,     0],\n",
              "       [  101,  2009,  2071, ...,     0,     0,     0],\n",
              "       [  101,  3607,  2323, ...,     0,     0,     0],\n",
              "       ...,\n",
              "       [  101, 20277,  2480, ...,     0,     0,     0],\n",
              "       [  101,  2204,  6735, ...,     0,     0,     0],\n",
              "       [  101,  2065,  3607, ...,     0,     0,     0]])"
            ]
          },
          "execution_count": 57,
          "metadata": {},
          "output_type": "execute_result"
        }
      ],
      "source": [
        "padded"
      ]
    },
    {
      "cell_type": "code",
      "execution_count": null,
      "metadata": {
        "colab": {
          "base_uri": "https://localhost:8080/"
        },
        "id": "ddGaMMNdnyIY",
        "outputId": "cdcac9d5-e766-46eb-f872-4eb56471a44d"
      },
      "outputs": [
        {
          "data": {
            "text/plain": [
              "(2000, 85)"
            ]
          },
          "execution_count": 58,
          "metadata": {},
          "output_type": "execute_result"
        }
      ],
      "source": [
        "attention_mask = np.where(padded != 0, 1, 0)\n",
        "attention_mask.shape"
      ]
    },
    {
      "cell_type": "code",
      "execution_count": null,
      "metadata": {
        "id": "7SyoMzU2nyIY"
      },
      "outputs": [],
      "source": [
        "input_ids = torch.tensor(padded)  \n",
        "attention_mask = torch.tensor(attention_mask)\n",
        "\n",
        "with torch.no_grad():\n",
        "    last_hidden_states = model(input_ids, attention_mask=attention_mask)"
      ]
    },
    {
      "cell_type": "code",
      "execution_count": null,
      "metadata": {
        "id": "WVmG9onAnyIY"
      },
      "outputs": [],
      "source": [
        "features = last_hidden_states[0][:,0,:].numpy()"
      ]
    },
    {
      "cell_type": "code",
      "execution_count": null,
      "metadata": {
        "id": "rNm25lddnyIY"
      },
      "outputs": [],
      "source": [
        "labels = batch_1['Label']"
      ]
    },
    {
      "cell_type": "code",
      "execution_count": null,
      "metadata": {
        "id": "Ko-_3b5BnyIZ"
      },
      "outputs": [],
      "source": [
        "X_train, X_test, y_train, y_test = train_test_split(features, labels, \n",
        "                                                    test_size=0.2,\n",
        "                                                   random_state=100,\n",
        "                                                    stratify=labels)"
      ]
    },
    {
      "cell_type": "markdown",
      "metadata": {
        "id": "KkJM7g_Ve0VL"
      },
      "source": [
        "Bert and **Logistic Regression** with tuning on tweet_high_clean"
      ]
    },
    {
      "cell_type": "code",
      "execution_count": null,
      "metadata": {
        "colab": {
          "base_uri": "https://localhost:8080/",
          "height": 375
        },
        "id": "O8OqMlUon5vF",
        "outputId": "bce8d007-ea1c-45a6-e10b-72f343996a1a"
      },
      "outputs": [
        {
          "ename": "KeyboardInterrupt",
          "evalue": "ignored",
          "output_type": "error",
          "traceback": [
            "\u001b[0;31m---------------------------------------------------------------------------\u001b[0m",
            "\u001b[0;31mKeyboardInterrupt\u001b[0m                         Traceback (most recent call last)",
            "\u001b[0;32m<ipython-input-67-608f84a65d05>\u001b[0m in \u001b[0;36m<module>\u001b[0;34m\u001b[0m\n\u001b[1;32m      4\u001b[0m \u001b[0;34m\u001b[0m\u001b[0m\n\u001b[1;32m      5\u001b[0m \u001b[0mcv\u001b[0m \u001b[0;34m=\u001b[0m \u001b[0mBayesSearchCV\u001b[0m\u001b[0;34m(\u001b[0m\u001b[0mlog_reg_model\u001b[0m\u001b[0;34m,\u001b[0m \u001b[0mparameters\u001b[0m\u001b[0;34m)\u001b[0m\u001b[0;34m\u001b[0m\u001b[0;34m\u001b[0m\u001b[0m\n\u001b[0;32m----> 6\u001b[0;31m \u001b[0mcv\u001b[0m\u001b[0;34m.\u001b[0m\u001b[0mfit\u001b[0m\u001b[0;34m(\u001b[0m\u001b[0mX_train\u001b[0m\u001b[0;34m,\u001b[0m \u001b[0my_train\u001b[0m\u001b[0;34m)\u001b[0m\u001b[0;34m\u001b[0m\u001b[0;34m\u001b[0m\u001b[0m\n\u001b[0m\u001b[1;32m      7\u001b[0m \u001b[0mbest_params\u001b[0m \u001b[0;34m=\u001b[0m \u001b[0mcv\u001b[0m\u001b[0;34m.\u001b[0m\u001b[0mbest_params_\u001b[0m\u001b[0;34m\u001b[0m\u001b[0;34m\u001b[0m\u001b[0m\n\u001b[1;32m      8\u001b[0m \u001b[0mbest_params\u001b[0m\u001b[0;34m\u001b[0m\u001b[0;34m\u001b[0m\u001b[0m\n",
            "\u001b[0;32m/usr/local/lib/python3.8/dist-packages/skopt/searchcv.py\u001b[0m in \u001b[0;36mfit\u001b[0;34m(self, X, y, groups, callback, **fit_params)\u001b[0m\n\u001b[1;32m    464\u001b[0m             \u001b[0mself\u001b[0m\u001b[0;34m.\u001b[0m\u001b[0moptimizer_kwargs_\u001b[0m \u001b[0;34m=\u001b[0m \u001b[0mdict\u001b[0m\u001b[0;34m(\u001b[0m\u001b[0mself\u001b[0m\u001b[0;34m.\u001b[0m\u001b[0moptimizer_kwargs\u001b[0m\u001b[0;34m)\u001b[0m\u001b[0;34m\u001b[0m\u001b[0;34m\u001b[0m\u001b[0m\n\u001b[1;32m    465\u001b[0m \u001b[0;34m\u001b[0m\u001b[0m\n\u001b[0;32m--> 466\u001b[0;31m         \u001b[0msuper\u001b[0m\u001b[0;34m(\u001b[0m\u001b[0;34m)\u001b[0m\u001b[0;34m.\u001b[0m\u001b[0mfit\u001b[0m\u001b[0;34m(\u001b[0m\u001b[0mX\u001b[0m\u001b[0;34m=\u001b[0m\u001b[0mX\u001b[0m\u001b[0;34m,\u001b[0m \u001b[0my\u001b[0m\u001b[0;34m=\u001b[0m\u001b[0my\u001b[0m\u001b[0;34m,\u001b[0m \u001b[0mgroups\u001b[0m\u001b[0;34m=\u001b[0m\u001b[0mgroups\u001b[0m\u001b[0;34m,\u001b[0m \u001b[0;34m**\u001b[0m\u001b[0mfit_params\u001b[0m\u001b[0;34m)\u001b[0m\u001b[0;34m\u001b[0m\u001b[0;34m\u001b[0m\u001b[0m\n\u001b[0m\u001b[1;32m    467\u001b[0m \u001b[0;34m\u001b[0m\u001b[0m\n\u001b[1;32m    468\u001b[0m         \u001b[0;31m# BaseSearchCV never ranked train scores,\u001b[0m\u001b[0;34m\u001b[0m\u001b[0;34m\u001b[0m\u001b[0;34m\u001b[0m\u001b[0m\n",
            "\u001b[0;32m/usr/local/lib/python3.8/dist-packages/sklearn/model_selection/_search.py\u001b[0m in \u001b[0;36mfit\u001b[0;34m(self, X, y, groups, **fit_params)\u001b[0m\n\u001b[1;32m    889\u001b[0m                 \u001b[0;32mreturn\u001b[0m \u001b[0mresults\u001b[0m\u001b[0;34m\u001b[0m\u001b[0;34m\u001b[0m\u001b[0m\n\u001b[1;32m    890\u001b[0m \u001b[0;34m\u001b[0m\u001b[0m\n\u001b[0;32m--> 891\u001b[0;31m             \u001b[0mself\u001b[0m\u001b[0;34m.\u001b[0m\u001b[0m_run_search\u001b[0m\u001b[0;34m(\u001b[0m\u001b[0mevaluate_candidates\u001b[0m\u001b[0;34m)\u001b[0m\u001b[0;34m\u001b[0m\u001b[0;34m\u001b[0m\u001b[0m\n\u001b[0m\u001b[1;32m    892\u001b[0m \u001b[0;34m\u001b[0m\u001b[0m\n\u001b[1;32m    893\u001b[0m             \u001b[0;31m# multimetric is determined here because in the case of a callable\u001b[0m\u001b[0;34m\u001b[0m\u001b[0;34m\u001b[0m\u001b[0;34m\u001b[0m\u001b[0m\n",
            "\u001b[0;32m/usr/local/lib/python3.8/dist-packages/skopt/searchcv.py\u001b[0m in \u001b[0;36m_run_search\u001b[0;34m(self, evaluate_candidates)\u001b[0m\n\u001b[1;32m    510\u001b[0m                 \u001b[0mn_points_adjusted\u001b[0m \u001b[0;34m=\u001b[0m \u001b[0mmin\u001b[0m\u001b[0;34m(\u001b[0m\u001b[0mn_iter\u001b[0m\u001b[0;34m,\u001b[0m \u001b[0mn_points\u001b[0m\u001b[0;34m)\u001b[0m\u001b[0;34m\u001b[0m\u001b[0;34m\u001b[0m\u001b[0m\n\u001b[1;32m    511\u001b[0m \u001b[0;34m\u001b[0m\u001b[0m\n\u001b[0;32m--> 512\u001b[0;31m                 optim_result = self._step(\n\u001b[0m\u001b[1;32m    513\u001b[0m                     \u001b[0msearch_space\u001b[0m\u001b[0;34m,\u001b[0m \u001b[0moptimizer\u001b[0m\u001b[0;34m,\u001b[0m\u001b[0;34m\u001b[0m\u001b[0;34m\u001b[0m\u001b[0m\n\u001b[1;32m    514\u001b[0m                     \u001b[0mevaluate_candidates\u001b[0m\u001b[0;34m,\u001b[0m \u001b[0mn_points\u001b[0m\u001b[0;34m=\u001b[0m\u001b[0mn_points_adjusted\u001b[0m\u001b[0;34m\u001b[0m\u001b[0;34m\u001b[0m\u001b[0m\n",
            "\u001b[0;32m/usr/local/lib/python3.8/dist-packages/skopt/searchcv.py\u001b[0m in \u001b[0;36m_step\u001b[0;34m(self, search_space, optimizer, evaluate_candidates, n_points)\u001b[0m\n\u001b[1;32m    406\u001b[0m         \u001b[0mparams_dict\u001b[0m \u001b[0;34m=\u001b[0m \u001b[0;34m[\u001b[0m\u001b[0mpoint_asdict\u001b[0m\u001b[0;34m(\u001b[0m\u001b[0msearch_space\u001b[0m\u001b[0;34m,\u001b[0m \u001b[0mp\u001b[0m\u001b[0;34m)\u001b[0m \u001b[0;32mfor\u001b[0m \u001b[0mp\u001b[0m \u001b[0;32min\u001b[0m \u001b[0mparams\u001b[0m\u001b[0;34m]\u001b[0m\u001b[0;34m\u001b[0m\u001b[0;34m\u001b[0m\u001b[0m\n\u001b[1;32m    407\u001b[0m \u001b[0;34m\u001b[0m\u001b[0m\n\u001b[0;32m--> 408\u001b[0;31m         \u001b[0mall_results\u001b[0m \u001b[0;34m=\u001b[0m \u001b[0mevaluate_candidates\u001b[0m\u001b[0;34m(\u001b[0m\u001b[0mparams_dict\u001b[0m\u001b[0;34m)\u001b[0m\u001b[0;34m\u001b[0m\u001b[0;34m\u001b[0m\u001b[0m\n\u001b[0m\u001b[1;32m    409\u001b[0m         \u001b[0;31m# Feed the point and objective value back into optimizer\u001b[0m\u001b[0;34m\u001b[0m\u001b[0;34m\u001b[0m\u001b[0;34m\u001b[0m\u001b[0m\n\u001b[1;32m    410\u001b[0m         \u001b[0;31m# Optimizer minimizes objective, hence provide negative score\u001b[0m\u001b[0;34m\u001b[0m\u001b[0;34m\u001b[0m\u001b[0;34m\u001b[0m\u001b[0m\n",
            "\u001b[0;32m/usr/local/lib/python3.8/dist-packages/sklearn/model_selection/_search.py\u001b[0m in \u001b[0;36mevaluate_candidates\u001b[0;34m(candidate_params, cv, more_results)\u001b[0m\n\u001b[1;32m    836\u001b[0m                     )\n\u001b[1;32m    837\u001b[0m \u001b[0;34m\u001b[0m\u001b[0m\n\u001b[0;32m--> 838\u001b[0;31m                 out = parallel(\n\u001b[0m\u001b[1;32m    839\u001b[0m                     delayed(_fit_and_score)(\n\u001b[1;32m    840\u001b[0m                         \u001b[0mclone\u001b[0m\u001b[0;34m(\u001b[0m\u001b[0mbase_estimator\u001b[0m\u001b[0;34m)\u001b[0m\u001b[0;34m,\u001b[0m\u001b[0;34m\u001b[0m\u001b[0;34m\u001b[0m\u001b[0m\n",
            "\u001b[0;32m/usr/local/lib/python3.8/dist-packages/joblib/parallel.py\u001b[0m in \u001b[0;36m__call__\u001b[0;34m(self, iterable)\u001b[0m\n\u001b[1;32m   1086\u001b[0m                 \u001b[0mself\u001b[0m\u001b[0;34m.\u001b[0m\u001b[0m_iterating\u001b[0m \u001b[0;34m=\u001b[0m \u001b[0mself\u001b[0m\u001b[0;34m.\u001b[0m\u001b[0m_original_iterator\u001b[0m \u001b[0;32mis\u001b[0m \u001b[0;32mnot\u001b[0m \u001b[0;32mNone\u001b[0m\u001b[0;34m\u001b[0m\u001b[0;34m\u001b[0m\u001b[0m\n\u001b[1;32m   1087\u001b[0m \u001b[0;34m\u001b[0m\u001b[0m\n\u001b[0;32m-> 1088\u001b[0;31m             \u001b[0;32mwhile\u001b[0m \u001b[0mself\u001b[0m\u001b[0;34m.\u001b[0m\u001b[0mdispatch_one_batch\u001b[0m\u001b[0;34m(\u001b[0m\u001b[0miterator\u001b[0m\u001b[0;34m)\u001b[0m\u001b[0;34m:\u001b[0m\u001b[0;34m\u001b[0m\u001b[0;34m\u001b[0m\u001b[0m\n\u001b[0m\u001b[1;32m   1089\u001b[0m                 \u001b[0;32mpass\u001b[0m\u001b[0;34m\u001b[0m\u001b[0;34m\u001b[0m\u001b[0m\n\u001b[1;32m   1090\u001b[0m \u001b[0;34m\u001b[0m\u001b[0m\n",
            "\u001b[0;32m/usr/local/lib/python3.8/dist-packages/joblib/parallel.py\u001b[0m in \u001b[0;36mdispatch_one_batch\u001b[0;34m(self, iterator)\u001b[0m\n\u001b[1;32m    899\u001b[0m                 \u001b[0;32mreturn\u001b[0m \u001b[0;32mFalse\u001b[0m\u001b[0;34m\u001b[0m\u001b[0;34m\u001b[0m\u001b[0m\n\u001b[1;32m    900\u001b[0m             \u001b[0;32melse\u001b[0m\u001b[0;34m:\u001b[0m\u001b[0;34m\u001b[0m\u001b[0;34m\u001b[0m\u001b[0m\n\u001b[0;32m--> 901\u001b[0;31m                 \u001b[0mself\u001b[0m\u001b[0;34m.\u001b[0m\u001b[0m_dispatch\u001b[0m\u001b[0;34m(\u001b[0m\u001b[0mtasks\u001b[0m\u001b[0;34m)\u001b[0m\u001b[0;34m\u001b[0m\u001b[0;34m\u001b[0m\u001b[0m\n\u001b[0m\u001b[1;32m    902\u001b[0m                 \u001b[0;32mreturn\u001b[0m \u001b[0;32mTrue\u001b[0m\u001b[0;34m\u001b[0m\u001b[0;34m\u001b[0m\u001b[0m\n\u001b[1;32m    903\u001b[0m \u001b[0;34m\u001b[0m\u001b[0m\n",
            "\u001b[0;32m/usr/local/lib/python3.8/dist-packages/joblib/parallel.py\u001b[0m in \u001b[0;36m_dispatch\u001b[0;34m(self, batch)\u001b[0m\n\u001b[1;32m    817\u001b[0m         \u001b[0;32mwith\u001b[0m \u001b[0mself\u001b[0m\u001b[0;34m.\u001b[0m\u001b[0m_lock\u001b[0m\u001b[0;34m:\u001b[0m\u001b[0;34m\u001b[0m\u001b[0;34m\u001b[0m\u001b[0m\n\u001b[1;32m    818\u001b[0m             \u001b[0mjob_idx\u001b[0m \u001b[0;34m=\u001b[0m \u001b[0mlen\u001b[0m\u001b[0;34m(\u001b[0m\u001b[0mself\u001b[0m\u001b[0;34m.\u001b[0m\u001b[0m_jobs\u001b[0m\u001b[0;34m)\u001b[0m\u001b[0;34m\u001b[0m\u001b[0;34m\u001b[0m\u001b[0m\n\u001b[0;32m--> 819\u001b[0;31m             \u001b[0mjob\u001b[0m \u001b[0;34m=\u001b[0m \u001b[0mself\u001b[0m\u001b[0;34m.\u001b[0m\u001b[0m_backend\u001b[0m\u001b[0;34m.\u001b[0m\u001b[0mapply_async\u001b[0m\u001b[0;34m(\u001b[0m\u001b[0mbatch\u001b[0m\u001b[0;34m,\u001b[0m \u001b[0mcallback\u001b[0m\u001b[0;34m=\u001b[0m\u001b[0mcb\u001b[0m\u001b[0;34m)\u001b[0m\u001b[0;34m\u001b[0m\u001b[0;34m\u001b[0m\u001b[0m\n\u001b[0m\u001b[1;32m    820\u001b[0m             \u001b[0;31m# A job can complete so quickly than its callback is\u001b[0m\u001b[0;34m\u001b[0m\u001b[0;34m\u001b[0m\u001b[0;34m\u001b[0m\u001b[0m\n\u001b[1;32m    821\u001b[0m             \u001b[0;31m# called before we get here, causing self._jobs to\u001b[0m\u001b[0;34m\u001b[0m\u001b[0;34m\u001b[0m\u001b[0;34m\u001b[0m\u001b[0m\n",
            "\u001b[0;32m/usr/local/lib/python3.8/dist-packages/joblib/_parallel_backends.py\u001b[0m in \u001b[0;36mapply_async\u001b[0;34m(self, func, callback)\u001b[0m\n\u001b[1;32m    206\u001b[0m     \u001b[0;32mdef\u001b[0m \u001b[0mapply_async\u001b[0m\u001b[0;34m(\u001b[0m\u001b[0mself\u001b[0m\u001b[0;34m,\u001b[0m \u001b[0mfunc\u001b[0m\u001b[0;34m,\u001b[0m \u001b[0mcallback\u001b[0m\u001b[0;34m=\u001b[0m\u001b[0;32mNone\u001b[0m\u001b[0;34m)\u001b[0m\u001b[0;34m:\u001b[0m\u001b[0;34m\u001b[0m\u001b[0;34m\u001b[0m\u001b[0m\n\u001b[1;32m    207\u001b[0m         \u001b[0;34m\"\"\"Schedule a func to be run\"\"\"\u001b[0m\u001b[0;34m\u001b[0m\u001b[0;34m\u001b[0m\u001b[0m\n\u001b[0;32m--> 208\u001b[0;31m         \u001b[0mresult\u001b[0m \u001b[0;34m=\u001b[0m \u001b[0mImmediateResult\u001b[0m\u001b[0;34m(\u001b[0m\u001b[0mfunc\u001b[0m\u001b[0;34m)\u001b[0m\u001b[0;34m\u001b[0m\u001b[0;34m\u001b[0m\u001b[0m\n\u001b[0m\u001b[1;32m    209\u001b[0m         \u001b[0;32mif\u001b[0m \u001b[0mcallback\u001b[0m\u001b[0;34m:\u001b[0m\u001b[0;34m\u001b[0m\u001b[0;34m\u001b[0m\u001b[0m\n\u001b[1;32m    210\u001b[0m             \u001b[0mcallback\u001b[0m\u001b[0;34m(\u001b[0m\u001b[0mresult\u001b[0m\u001b[0;34m)\u001b[0m\u001b[0;34m\u001b[0m\u001b[0;34m\u001b[0m\u001b[0m\n",
            "\u001b[0;32m/usr/local/lib/python3.8/dist-packages/joblib/_parallel_backends.py\u001b[0m in \u001b[0;36m__init__\u001b[0;34m(self, batch)\u001b[0m\n\u001b[1;32m    595\u001b[0m         \u001b[0;31m# Don't delay the application, to avoid keeping the input\u001b[0m\u001b[0;34m\u001b[0m\u001b[0;34m\u001b[0m\u001b[0;34m\u001b[0m\u001b[0m\n\u001b[1;32m    596\u001b[0m         \u001b[0;31m# arguments in memory\u001b[0m\u001b[0;34m\u001b[0m\u001b[0;34m\u001b[0m\u001b[0;34m\u001b[0m\u001b[0m\n\u001b[0;32m--> 597\u001b[0;31m         \u001b[0mself\u001b[0m\u001b[0;34m.\u001b[0m\u001b[0mresults\u001b[0m \u001b[0;34m=\u001b[0m \u001b[0mbatch\u001b[0m\u001b[0;34m(\u001b[0m\u001b[0;34m)\u001b[0m\u001b[0;34m\u001b[0m\u001b[0;34m\u001b[0m\u001b[0m\n\u001b[0m\u001b[1;32m    598\u001b[0m \u001b[0;34m\u001b[0m\u001b[0m\n\u001b[1;32m    599\u001b[0m     \u001b[0;32mdef\u001b[0m \u001b[0mget\u001b[0m\u001b[0;34m(\u001b[0m\u001b[0mself\u001b[0m\u001b[0;34m)\u001b[0m\u001b[0;34m:\u001b[0m\u001b[0;34m\u001b[0m\u001b[0;34m\u001b[0m\u001b[0m\n",
            "\u001b[0;32m/usr/local/lib/python3.8/dist-packages/joblib/parallel.py\u001b[0m in \u001b[0;36m__call__\u001b[0;34m(self)\u001b[0m\n\u001b[1;32m    286\u001b[0m         \u001b[0;31m# change the default number of processes to -1\u001b[0m\u001b[0;34m\u001b[0m\u001b[0;34m\u001b[0m\u001b[0;34m\u001b[0m\u001b[0m\n\u001b[1;32m    287\u001b[0m         \u001b[0;32mwith\u001b[0m \u001b[0mparallel_backend\u001b[0m\u001b[0;34m(\u001b[0m\u001b[0mself\u001b[0m\u001b[0;34m.\u001b[0m\u001b[0m_backend\u001b[0m\u001b[0;34m,\u001b[0m \u001b[0mn_jobs\u001b[0m\u001b[0;34m=\u001b[0m\u001b[0mself\u001b[0m\u001b[0;34m.\u001b[0m\u001b[0m_n_jobs\u001b[0m\u001b[0;34m)\u001b[0m\u001b[0;34m:\u001b[0m\u001b[0;34m\u001b[0m\u001b[0;34m\u001b[0m\u001b[0m\n\u001b[0;32m--> 288\u001b[0;31m             return [func(*args, **kwargs)\n\u001b[0m\u001b[1;32m    289\u001b[0m                     for func, args, kwargs in self.items]\n\u001b[1;32m    290\u001b[0m \u001b[0;34m\u001b[0m\u001b[0m\n",
            "\u001b[0;32m/usr/local/lib/python3.8/dist-packages/joblib/parallel.py\u001b[0m in \u001b[0;36m<listcomp>\u001b[0;34m(.0)\u001b[0m\n\u001b[1;32m    286\u001b[0m         \u001b[0;31m# change the default number of processes to -1\u001b[0m\u001b[0;34m\u001b[0m\u001b[0;34m\u001b[0m\u001b[0;34m\u001b[0m\u001b[0m\n\u001b[1;32m    287\u001b[0m         \u001b[0;32mwith\u001b[0m \u001b[0mparallel_backend\u001b[0m\u001b[0;34m(\u001b[0m\u001b[0mself\u001b[0m\u001b[0;34m.\u001b[0m\u001b[0m_backend\u001b[0m\u001b[0;34m,\u001b[0m \u001b[0mn_jobs\u001b[0m\u001b[0;34m=\u001b[0m\u001b[0mself\u001b[0m\u001b[0;34m.\u001b[0m\u001b[0m_n_jobs\u001b[0m\u001b[0;34m)\u001b[0m\u001b[0;34m:\u001b[0m\u001b[0;34m\u001b[0m\u001b[0;34m\u001b[0m\u001b[0m\n\u001b[0;32m--> 288\u001b[0;31m             return [func(*args, **kwargs)\n\u001b[0m\u001b[1;32m    289\u001b[0m                     for func, args, kwargs in self.items]\n\u001b[1;32m    290\u001b[0m \u001b[0;34m\u001b[0m\u001b[0m\n",
            "\u001b[0;32m/usr/local/lib/python3.8/dist-packages/sklearn/utils/fixes.py\u001b[0m in \u001b[0;36m__call__\u001b[0;34m(self, *args, **kwargs)\u001b[0m\n\u001b[1;32m    214\u001b[0m     \u001b[0;32mdef\u001b[0m \u001b[0m__call__\u001b[0m\u001b[0;34m(\u001b[0m\u001b[0mself\u001b[0m\u001b[0;34m,\u001b[0m \u001b[0;34m*\u001b[0m\u001b[0margs\u001b[0m\u001b[0;34m,\u001b[0m \u001b[0;34m**\u001b[0m\u001b[0mkwargs\u001b[0m\u001b[0;34m)\u001b[0m\u001b[0;34m:\u001b[0m\u001b[0;34m\u001b[0m\u001b[0;34m\u001b[0m\u001b[0m\n\u001b[1;32m    215\u001b[0m         \u001b[0;32mwith\u001b[0m \u001b[0mconfig_context\u001b[0m\u001b[0;34m(\u001b[0m\u001b[0;34m**\u001b[0m\u001b[0mself\u001b[0m\u001b[0;34m.\u001b[0m\u001b[0mconfig\u001b[0m\u001b[0;34m)\u001b[0m\u001b[0;34m:\u001b[0m\u001b[0;34m\u001b[0m\u001b[0;34m\u001b[0m\u001b[0m\n\u001b[0;32m--> 216\u001b[0;31m             \u001b[0;32mreturn\u001b[0m \u001b[0mself\u001b[0m\u001b[0;34m.\u001b[0m\u001b[0mfunction\u001b[0m\u001b[0;34m(\u001b[0m\u001b[0;34m*\u001b[0m\u001b[0margs\u001b[0m\u001b[0;34m,\u001b[0m \u001b[0;34m**\u001b[0m\u001b[0mkwargs\u001b[0m\u001b[0;34m)\u001b[0m\u001b[0;34m\u001b[0m\u001b[0;34m\u001b[0m\u001b[0m\n\u001b[0m\u001b[1;32m    217\u001b[0m \u001b[0;34m\u001b[0m\u001b[0m\n\u001b[1;32m    218\u001b[0m \u001b[0;34m\u001b[0m\u001b[0m\n",
            "\u001b[0;32m/usr/local/lib/python3.8/dist-packages/sklearn/model_selection/_validation.py\u001b[0m in \u001b[0;36m_fit_and_score\u001b[0;34m(estimator, X, y, scorer, train, test, verbose, parameters, fit_params, return_train_score, return_parameters, return_n_test_samples, return_times, return_estimator, split_progress, candidate_progress, error_score)\u001b[0m\n\u001b[1;32m    671\u001b[0m \u001b[0;34m\u001b[0m\u001b[0m\n\u001b[1;32m    672\u001b[0m     \u001b[0mX_train\u001b[0m\u001b[0;34m,\u001b[0m \u001b[0my_train\u001b[0m \u001b[0;34m=\u001b[0m \u001b[0m_safe_split\u001b[0m\u001b[0;34m(\u001b[0m\u001b[0mestimator\u001b[0m\u001b[0;34m,\u001b[0m \u001b[0mX\u001b[0m\u001b[0;34m,\u001b[0m \u001b[0my\u001b[0m\u001b[0;34m,\u001b[0m \u001b[0mtrain\u001b[0m\u001b[0;34m)\u001b[0m\u001b[0;34m\u001b[0m\u001b[0;34m\u001b[0m\u001b[0m\n\u001b[0;32m--> 673\u001b[0;31m     \u001b[0mX_test\u001b[0m\u001b[0;34m,\u001b[0m \u001b[0my_test\u001b[0m \u001b[0;34m=\u001b[0m \u001b[0m_safe_split\u001b[0m\u001b[0;34m(\u001b[0m\u001b[0mestimator\u001b[0m\u001b[0;34m,\u001b[0m \u001b[0mX\u001b[0m\u001b[0;34m,\u001b[0m \u001b[0my\u001b[0m\u001b[0;34m,\u001b[0m \u001b[0mtest\u001b[0m\u001b[0;34m,\u001b[0m \u001b[0mtrain\u001b[0m\u001b[0;34m)\u001b[0m\u001b[0;34m\u001b[0m\u001b[0;34m\u001b[0m\u001b[0m\n\u001b[0m\u001b[1;32m    674\u001b[0m \u001b[0;34m\u001b[0m\u001b[0m\n\u001b[1;32m    675\u001b[0m     \u001b[0mresult\u001b[0m \u001b[0;34m=\u001b[0m \u001b[0;34m{\u001b[0m\u001b[0;34m}\u001b[0m\u001b[0;34m\u001b[0m\u001b[0;34m\u001b[0m\u001b[0m\n",
            "\u001b[0;32m/usr/local/lib/python3.8/dist-packages/sklearn/utils/metaestimators.py\u001b[0m in \u001b[0;36m_safe_split\u001b[0;34m(estimator, X, y, indices, train_indices)\u001b[0m\n\u001b[1;32m    286\u001b[0m             \u001b[0mX_subset\u001b[0m \u001b[0;34m=\u001b[0m \u001b[0mX\u001b[0m\u001b[0;34m[\u001b[0m\u001b[0mnp\u001b[0m\u001b[0;34m.\u001b[0m\u001b[0mix_\u001b[0m\u001b[0;34m(\u001b[0m\u001b[0mindices\u001b[0m\u001b[0;34m,\u001b[0m \u001b[0mtrain_indices\u001b[0m\u001b[0;34m)\u001b[0m\u001b[0;34m]\u001b[0m\u001b[0;34m\u001b[0m\u001b[0;34m\u001b[0m\u001b[0m\n\u001b[1;32m    287\u001b[0m     \u001b[0;32melse\u001b[0m\u001b[0;34m:\u001b[0m\u001b[0;34m\u001b[0m\u001b[0;34m\u001b[0m\u001b[0m\n\u001b[0;32m--> 288\u001b[0;31m         \u001b[0mX_subset\u001b[0m \u001b[0;34m=\u001b[0m \u001b[0m_safe_indexing\u001b[0m\u001b[0;34m(\u001b[0m\u001b[0mX\u001b[0m\u001b[0;34m,\u001b[0m \u001b[0mindices\u001b[0m\u001b[0;34m)\u001b[0m\u001b[0;34m\u001b[0m\u001b[0;34m\u001b[0m\u001b[0m\n\u001b[0m\u001b[1;32m    289\u001b[0m \u001b[0;34m\u001b[0m\u001b[0m\n\u001b[1;32m    290\u001b[0m     \u001b[0;32mif\u001b[0m \u001b[0my\u001b[0m \u001b[0;32mis\u001b[0m \u001b[0;32mnot\u001b[0m \u001b[0;32mNone\u001b[0m\u001b[0;34m:\u001b[0m\u001b[0;34m\u001b[0m\u001b[0;34m\u001b[0m\u001b[0m\n",
            "\u001b[0;32m/usr/local/lib/python3.8/dist-packages/sklearn/utils/__init__.py\u001b[0m in \u001b[0;36m_safe_indexing\u001b[0;34m(X, indices, axis)\u001b[0m\n\u001b[1;32m    376\u001b[0m         \u001b[0;32mreturn\u001b[0m \u001b[0m_pandas_indexing\u001b[0m\u001b[0;34m(\u001b[0m\u001b[0mX\u001b[0m\u001b[0;34m,\u001b[0m \u001b[0mindices\u001b[0m\u001b[0;34m,\u001b[0m \u001b[0mindices_dtype\u001b[0m\u001b[0;34m,\u001b[0m \u001b[0maxis\u001b[0m\u001b[0;34m=\u001b[0m\u001b[0maxis\u001b[0m\u001b[0;34m)\u001b[0m\u001b[0;34m\u001b[0m\u001b[0;34m\u001b[0m\u001b[0m\n\u001b[1;32m    377\u001b[0m     \u001b[0;32melif\u001b[0m \u001b[0mhasattr\u001b[0m\u001b[0;34m(\u001b[0m\u001b[0mX\u001b[0m\u001b[0;34m,\u001b[0m \u001b[0;34m\"shape\"\u001b[0m\u001b[0;34m)\u001b[0m\u001b[0;34m:\u001b[0m\u001b[0;34m\u001b[0m\u001b[0;34m\u001b[0m\u001b[0m\n\u001b[0;32m--> 378\u001b[0;31m         \u001b[0;32mreturn\u001b[0m \u001b[0m_array_indexing\u001b[0m\u001b[0;34m(\u001b[0m\u001b[0mX\u001b[0m\u001b[0;34m,\u001b[0m \u001b[0mindices\u001b[0m\u001b[0;34m,\u001b[0m \u001b[0mindices_dtype\u001b[0m\u001b[0;34m,\u001b[0m \u001b[0maxis\u001b[0m\u001b[0;34m=\u001b[0m\u001b[0maxis\u001b[0m\u001b[0;34m)\u001b[0m\u001b[0;34m\u001b[0m\u001b[0;34m\u001b[0m\u001b[0m\n\u001b[0m\u001b[1;32m    379\u001b[0m     \u001b[0;32melse\u001b[0m\u001b[0;34m:\u001b[0m\u001b[0;34m\u001b[0m\u001b[0;34m\u001b[0m\u001b[0m\n\u001b[1;32m    380\u001b[0m         \u001b[0;32mreturn\u001b[0m \u001b[0m_list_indexing\u001b[0m\u001b[0;34m(\u001b[0m\u001b[0mX\u001b[0m\u001b[0;34m,\u001b[0m \u001b[0mindices\u001b[0m\u001b[0;34m,\u001b[0m \u001b[0mindices_dtype\u001b[0m\u001b[0;34m)\u001b[0m\u001b[0;34m\u001b[0m\u001b[0;34m\u001b[0m\u001b[0m\n",
            "\u001b[0;32m/usr/local/lib/python3.8/dist-packages/sklearn/utils/__init__.py\u001b[0m in \u001b[0;36m_array_indexing\u001b[0;34m(array, key, key_dtype, axis)\u001b[0m\n\u001b[1;32m    200\u001b[0m     \u001b[0;32mif\u001b[0m \u001b[0misinstance\u001b[0m\u001b[0;34m(\u001b[0m\u001b[0mkey\u001b[0m\u001b[0;34m,\u001b[0m \u001b[0mtuple\u001b[0m\u001b[0;34m)\u001b[0m\u001b[0;34m:\u001b[0m\u001b[0;34m\u001b[0m\u001b[0;34m\u001b[0m\u001b[0m\n\u001b[1;32m    201\u001b[0m         \u001b[0mkey\u001b[0m \u001b[0;34m=\u001b[0m \u001b[0mlist\u001b[0m\u001b[0;34m(\u001b[0m\u001b[0mkey\u001b[0m\u001b[0;34m)\u001b[0m\u001b[0;34m\u001b[0m\u001b[0;34m\u001b[0m\u001b[0m\n\u001b[0;32m--> 202\u001b[0;31m     \u001b[0;32mreturn\u001b[0m \u001b[0marray\u001b[0m\u001b[0;34m[\u001b[0m\u001b[0mkey\u001b[0m\u001b[0;34m]\u001b[0m \u001b[0;32mif\u001b[0m \u001b[0maxis\u001b[0m \u001b[0;34m==\u001b[0m \u001b[0;36m0\u001b[0m \u001b[0;32melse\u001b[0m \u001b[0marray\u001b[0m\u001b[0;34m[\u001b[0m\u001b[0;34m:\u001b[0m\u001b[0;34m,\u001b[0m \u001b[0mkey\u001b[0m\u001b[0;34m]\u001b[0m\u001b[0;34m\u001b[0m\u001b[0;34m\u001b[0m\u001b[0m\n\u001b[0m\u001b[1;32m    203\u001b[0m \u001b[0;34m\u001b[0m\u001b[0m\n\u001b[1;32m    204\u001b[0m \u001b[0;34m\u001b[0m\u001b[0m\n",
            "\u001b[0;31mKeyboardInterrupt\u001b[0m: "
          ]
        }
      ],
      "source": [
        "from skopt import BayesSearchCV\n",
        "parameters = {'C':[0.1,0.2,0.3,0.4,0.5,0.6,0.7,0.8,0.9,1]}\n",
        "log_reg_model = LogisticRegression()\n",
        "\n",
        "cv = BayesSearchCV(log_reg_model, parameters)\n",
        "cv.fit(X_train, y_train)\n",
        "best_params = cv.best_params_\n",
        "best_params\n",
        "\n"
      ]
    },
    {
      "cell_type": "code",
      "execution_count": null,
      "metadata": {
        "id": "Cnlfzazun5vH"
      },
      "outputs": [],
      "source": [
        "logistic = LogisticRegression(**best_params, class_weight='balanced', random_state = 42, \n",
        "                              max_iter=10000)\n",
        "\n",
        "logistic.fit(X_train, y_train)\n",
        "predictions = logistic.predict(X_test)\n"
      ]
    },
    {
      "cell_type": "code",
      "execution_count": null,
      "metadata": {
        "id": "G6IossGyn5vH"
      },
      "outputs": [],
      "source": [
        "from sklearn.metrics import classification_report, confusion_matrix, accuracy_score,precision_score, recall_score, f1_score\n",
        " \n",
        "print(confusion_matrix(y_test,predictions))  \n",
        "print(classification_report(y_test,predictions))  \n",
        "print(\"Model evaluation\")\n",
        "print(\"Accuracy:\", accuracy_score(y_test, predictions))"
      ]
    },
    {
      "cell_type": "markdown",
      "metadata": {
        "id": "RRstWxs0fDW7"
      },
      "source": [
        "Bert with **XGBoost** with fine-tunning on tweet_high_clean"
      ]
    },
    {
      "cell_type": "code",
      "execution_count": null,
      "metadata": {
        "id": "N3dsC2W9n5vI"
      },
      "outputs": [],
      "source": [
        "parameters = {'learning_rate':[0.1,0.2,0.3,0.4,0.5,0.6,0.7,0.8,0.9,1], \n",
        "              'subsample':[0.6, 0.7, 0.8, 0.9, 1], \n",
        "              'min_child_weight' : [0,1,2,3,4,5,6,7,8,9,10]}\n",
        "xgboost_model = XGBClassifier()\n",
        "\n",
        "cv = BayesSearchCV(xgboost_model, parameters)\n",
        "cv.fit(X_train, y_train)\n",
        "best_params = cv.best_params_\n",
        "best_params\n"
      ]
    },
    {
      "cell_type": "code",
      "execution_count": null,
      "metadata": {
        "id": "dTr9PJ5Gn5vI"
      },
      "outputs": [],
      "source": [
        "xgboost= XGBClassifier(**best_params, class_weight='balanced', random_state = 42, \n",
        "                              max_iter=10000)\n",
        "\n",
        "xgboost.fit(X_train, y_train)\n",
        "predictions = xgboost.predict(X_test)"
      ]
    },
    {
      "cell_type": "code",
      "execution_count": null,
      "metadata": {
        "id": "QYR04RnDn5vJ"
      },
      "outputs": [],
      "source": [
        "from sklearn.metrics import classification_report, confusion_matrix, accuracy_score,precision_score, recall_score, f1_score\n",
        " \n",
        "print(confusion_matrix(y_test,predictions))  \n",
        "print(classification_report(y_test,predictions))  \n",
        "print(\"Model evaluation\")\n",
        "print(\"Accuracy:\", accuracy_score(y_test, predictions))"
      ]
    },
    {
      "cell_type": "markdown",
      "metadata": {
        "id": "KyxvhV17fKMl"
      },
      "source": [
        "Bert with **Naïve Bayes** with fine-tunning"
      ]
    },
    {
      "cell_type": "code",
      "execution_count": null,
      "metadata": {
        "id": "shHylslTn5vJ"
      },
      "outputs": [],
      "source": [
        "parameters = {'var_smoothing': np.logspace(0,-9, num=100)}\n",
        "text_classifier = GaussianNB()\n",
        "\n",
        "cv = BayesSearchCV(text_classifier, parameters)\n",
        "cv.fit(X_train, y_train)\n",
        "best_params = cv.best_params_\n",
        "best_params"
      ]
    },
    {
      "cell_type": "code",
      "execution_count": null,
      "metadata": {
        "id": "WTkT2cUyn5vK"
      },
      "outputs": [],
      "source": [
        " text_classifier = GaussianNB(**best_params)\n",
        "\n",
        "text_classifier.fit(X_train, y_train)\n",
        "predictions = text_classifier.predict(X_test)"
      ]
    },
    {
      "cell_type": "code",
      "execution_count": null,
      "metadata": {
        "id": "y3fSdK8tn5vK"
      },
      "outputs": [],
      "source": [
        "print(confusion_matrix(y_test,predictions))  \n",
        "print(classification_report(y_test,predictions))  \n",
        "print(\"Model evaluation\")\n",
        "print(\"Accuracy:\", accuracy_score(y_test, predictions))"
      ]
    },
    {
      "cell_type": "markdown",
      "metadata": {
        "id": "p94LcneCfu_Z"
      },
      "source": [
        "\n",
        "\n",
        "---\n",
        "\n"
      ]
    },
    {
      "cell_type": "markdown",
      "metadata": {
        "id": "GuB-mmgWfVhL"
      },
      "source": [
        "**ROBERT**"
      ]
    },
    {
      "cell_type": "code",
      "execution_count": null,
      "metadata": {
        "id": "3PGHQ_AroB39"
      },
      "outputs": [],
      "source": [
        "from transformers import RobertaTokenizer, RobertaModel\n",
        "tokenizer = RobertaTokenizer.from_pretrained('roberta-base')\n",
        "model = RobertaModel.from_pretrained('roberta-base')"
      ]
    },
    {
      "cell_type": "code",
      "execution_count": null,
      "metadata": {
        "id": "rmH6-tatoB3-"
      },
      "outputs": [],
      "source": [
        "tokenized = batch_1[\"tweet_high_clean\"].apply((lambda x: tokenizer.encode(x, add_special_tokens=True)))"
      ]
    },
    {
      "cell_type": "code",
      "execution_count": null,
      "metadata": {
        "id": "HrgZ3dpwoB3-"
      },
      "outputs": [],
      "source": [
        "max_len = 0\n",
        "for i in tokenized.values:\n",
        "    if len(i) > max_len:\n",
        "        max_len = len(i)\n",
        "\n",
        "padded = np.array([i + [0]*(max_len-len(i)) for i in tokenized.values])\n"
      ]
    },
    {
      "cell_type": "code",
      "execution_count": null,
      "metadata": {
        "id": "aCdQywkmoB3_"
      },
      "outputs": [],
      "source": [
        "attention_mask = np.where(padded != 0, 1, 0)\n",
        "attention_mask.shape"
      ]
    },
    {
      "cell_type": "code",
      "execution_count": null,
      "metadata": {
        "id": "nb4yp_EeoB3_"
      },
      "outputs": [],
      "source": [
        "input_ids = torch.tensor(padded)  \n",
        "attention_mask = torch.tensor(attention_mask)\n",
        "\n",
        "with torch.no_grad():\n",
        "    last_hidden_states = model(input_ids, attention_mask=attention_mask)"
      ]
    },
    {
      "cell_type": "code",
      "execution_count": null,
      "metadata": {
        "id": "_YiApxt1oB3_"
      },
      "outputs": [],
      "source": [
        "features = last_hidden_states[0][:,0,:].numpy()"
      ]
    },
    {
      "cell_type": "code",
      "execution_count": null,
      "metadata": {
        "id": "_56JV9RLoB4A"
      },
      "outputs": [],
      "source": [
        "labels = batch_1['Label']"
      ]
    },
    {
      "cell_type": "code",
      "execution_count": null,
      "metadata": {
        "id": "Gd5Ydbc6oB4A"
      },
      "outputs": [],
      "source": [
        "X_train, X_test, y_train, y_test = train_test_split(features, labels, \n",
        "                                                    test_size=0.2,\n",
        "                                                   random_state=100,\n",
        "                                                    stratify=labels)"
      ]
    },
    {
      "cell_type": "markdown",
      "metadata": {
        "id": "2HxmgRM1hz2W"
      },
      "source": [
        "RoBert and **Logistic Regression** with tuning on tweet_high_clean"
      ]
    },
    {
      "cell_type": "code",
      "execution_count": null,
      "metadata": {
        "id": "b5LpYDO9oB4A"
      },
      "outputs": [],
      "source": [
        "parameters = {'C':[0.1,0.2,0.3,0.4,0.5,0.6,0.7,0.8,0.9,1]}\n",
        "log_reg_model = LogisticRegression()\n",
        "\n",
        "cv = BayesSearchCV(log_reg_model, parameters)\n",
        "cv.fit(X_train, y_train)\n",
        "best_params = cv.best_params_\n",
        "best_params"
      ]
    },
    {
      "cell_type": "code",
      "execution_count": null,
      "metadata": {
        "id": "RelfvtHwoB4A"
      },
      "outputs": [],
      "source": [
        "logistic = LogisticRegression(**best_params, class_weight='balanced', random_state = 42, \n",
        "                              max_iter=10000)\n",
        "\n",
        "logistic.fit(X_train, y_train)\n",
        "predictions = logistic.predict(X_test)"
      ]
    },
    {
      "cell_type": "code",
      "execution_count": null,
      "metadata": {
        "id": "pQlpyn10oB4B"
      },
      "outputs": [],
      "source": [
        "print(confusion_matrix(y_test,predictions))  \n",
        "print(classification_report(y_test,predictions))  \n",
        "print(\"Model evaluation\")\n",
        "print(\"Accuracy:\", accuracy_score(y_test, predictions))"
      ]
    },
    {
      "cell_type": "markdown",
      "metadata": {
        "id": "Le5ogGqJhz2X"
      },
      "source": [
        "RoBert with **XGBoost** with fine-tunning on tweet_high_clean"
      ]
    },
    {
      "cell_type": "code",
      "execution_count": null,
      "metadata": {
        "id": "uRovls_ToB4C"
      },
      "outputs": [],
      "source": [
        "parameters = {'learning_rate':[0.1,0.2,0.3,0.4,0.5,0.6,0.7,0.8,0.9,1], \n",
        "              'subsample':[0.6, 0.7, 0.8, 0.9, 1], \n",
        "              'min_child_weight' : [0,1,2,3,4,5,6,7,8,9,10]}\n",
        "xgboost_model = XGBClassifier()\n",
        "\n",
        "cv = BayesSearchCV(xgboost_model, parameters)\n",
        "cv.fit(X_train, y_train)\n",
        "best_params = cv.best_params_\n",
        "best_params"
      ]
    },
    {
      "cell_type": "code",
      "execution_count": null,
      "metadata": {
        "id": "bO4490xsoB4C"
      },
      "outputs": [],
      "source": [
        "xgboost= XGBClassifier(**best_params, class_weight='balanced', random_state = 42, \n",
        "                              max_iter=10000)\n",
        "\n",
        "xgboost.fit(X_train, y_train)\n",
        "predictions = xgboost.predict(X_test)"
      ]
    },
    {
      "cell_type": "code",
      "execution_count": null,
      "metadata": {
        "id": "cam7Qs2IoB4C"
      },
      "outputs": [],
      "source": [
        "print(confusion_matrix(y_test,predictions))  \n",
        "print(classification_report(y_test,predictions))  \n",
        "print(\"Model evaluation\")\n",
        "print(\"Accuracy:\", accuracy_score(y_test, predictions))"
      ]
    },
    {
      "cell_type": "markdown",
      "metadata": {
        "id": "l79Gt9YDhz2Y"
      },
      "source": [
        "RoBert with **Naïve Bayes** with fine-tunning"
      ]
    },
    {
      "cell_type": "code",
      "execution_count": null,
      "metadata": {
        "id": "0waxfkoroB4D"
      },
      "outputs": [],
      "source": [
        "parameters = {'var_smoothing': np.logspace(0,-9, num=100)}\n",
        "text_classifier = GaussianNB()\n",
        "\n",
        "cv = BayesSearchCV(text_classifier, parameters)\n",
        "cv.fit(X_train, y_train)\n",
        "best_params = cv.best_params_\n",
        "best_params"
      ]
    },
    {
      "cell_type": "code",
      "execution_count": null,
      "metadata": {
        "id": "zoKT5JxboB4D"
      },
      "outputs": [],
      "source": [
        "text_classifier = GaussianNB(**best_params)\n",
        "\n",
        "text_classifier.fit(X_train, y_train)\n",
        "predictions = text_classifier.predict(X_test)"
      ]
    },
    {
      "cell_type": "code",
      "execution_count": null,
      "metadata": {
        "id": "HxQOj_FCoB4D"
      },
      "outputs": [],
      "source": [
        "print(confusion_matrix(y_test,predictions))  \n",
        "print(classification_report(y_test,predictions))  \n",
        "print(\"Model evaluation\")\n",
        "print(\"Accuracy:\", accuracy_score(y_test, predictions))"
      ]
    },
    {
      "cell_type": "markdown",
      "metadata": {
        "id": "Y-GCFHlrnTo3"
      },
      "source": [
        "\n",
        "\n",
        "---\n",
        "\n"
      ]
    },
    {
      "cell_type": "markdown",
      "metadata": {
        "id": "4KxVCWOTnTo4"
      },
      "source": [
        "**ALBERT**"
      ]
    },
    {
      "cell_type": "code",
      "execution_count": null,
      "metadata": {
        "id": "Jq_nzBByoK-3"
      },
      "outputs": [],
      "source": [
        "from transformers import AlbertTokenizer, AlbertModel\n",
        "tokenizer = AlbertTokenizer.from_pretrained('albert-base-v1')\n",
        "model = AlbertModel.from_pretrained(\"albert-base-v1\")"
      ]
    },
    {
      "cell_type": "code",
      "execution_count": null,
      "metadata": {
        "id": "JgE4S7xDoK-3"
      },
      "outputs": [],
      "source": [
        "tokenized = batch_1[\"tweet_high_clean\"].apply((lambda x: tokenizer.encode(x, add_special_tokens=True)))"
      ]
    },
    {
      "cell_type": "code",
      "execution_count": null,
      "metadata": {
        "id": "qW-il5GloK-3"
      },
      "outputs": [],
      "source": [
        "max_len = 0\n",
        "for i in tokenized.values:\n",
        "    if len(i) > max_len:\n",
        "        max_len = len(i)\n",
        "\n",
        "padded = np.array([i + [0]*(max_len-len(i)) for i in tokenized.values])\n"
      ]
    },
    {
      "cell_type": "code",
      "execution_count": null,
      "metadata": {
        "id": "qYP0WyLwoK-4"
      },
      "outputs": [],
      "source": [
        "attention_mask = np.where(padded != 0, 1, 0)\n",
        "attention_mask.shape"
      ]
    },
    {
      "cell_type": "code",
      "execution_count": null,
      "metadata": {
        "id": "5XpAhfYOoK-4"
      },
      "outputs": [],
      "source": [
        "input_ids = torch.tensor(padded)  \n",
        "attention_mask = torch.tensor(attention_mask)\n",
        "\n",
        "with torch.no_grad():\n",
        "    last_hidden_states = model(input_ids, attention_mask=attention_mask)"
      ]
    },
    {
      "cell_type": "code",
      "execution_count": null,
      "metadata": {
        "id": "FYy33ed0oK-4"
      },
      "outputs": [],
      "source": [
        "features = last_hidden_states[0][:,0,:].numpy()"
      ]
    },
    {
      "cell_type": "code",
      "execution_count": null,
      "metadata": {
        "id": "mkgtFYNcoK-5"
      },
      "outputs": [],
      "source": [
        "labels = batch_1['Label']"
      ]
    },
    {
      "cell_type": "code",
      "execution_count": null,
      "metadata": {
        "id": "jC25BfFWoK-5"
      },
      "outputs": [],
      "source": [
        "X_train, X_test, y_train, y_test = train_test_split(features, labels, \n",
        "                                                    test_size=0.2,\n",
        "                                                   random_state=100,\n",
        "                                                    stratify=labels)"
      ]
    },
    {
      "cell_type": "markdown",
      "metadata": {
        "id": "SE8YgY0KnTo4"
      },
      "source": [
        "Albert and **Logistic Regression** with tuning on tweet_high_clean"
      ]
    },
    {
      "cell_type": "code",
      "execution_count": null,
      "metadata": {
        "id": "V19s4pN_oK-6"
      },
      "outputs": [],
      "source": [
        "parameters = {'C':[0.1,0.2,0.3,0.4,0.5,0.6,0.7,0.8,0.9,1]}\n",
        "log_reg_model = LogisticRegression()\n",
        "\n",
        "cv = BayesSearchCV(log_reg_model, parameters)\n",
        "cv.fit(X_train, y_train)\n",
        "best_params = cv.best_params_\n",
        "best_params"
      ]
    },
    {
      "cell_type": "code",
      "execution_count": null,
      "metadata": {
        "id": "AOb3UJSloK-7"
      },
      "outputs": [],
      "source": [
        "logistic = LogisticRegression(**best_params, class_weight='balanced', random_state = 42, \n",
        "                              max_iter=10000)\n",
        "\n",
        "logistic.fit(X_train, y_train)\n",
        "predictions = logistic.predict(X_test)"
      ]
    },
    {
      "cell_type": "code",
      "execution_count": null,
      "metadata": {
        "id": "49IUTXh_oK-7"
      },
      "outputs": [],
      "source": [
        "print(confusion_matrix(y_test,predictions))  \n",
        "print(classification_report(y_test,predictions))  \n",
        "print(\"Model evaluation\")\n",
        "print(\"Accuracy:\", accuracy_score(y_test, predictions))"
      ]
    },
    {
      "cell_type": "markdown",
      "metadata": {
        "id": "u9qcFDmHnTo4"
      },
      "source": [
        "Albert with **XGBoost** with fine-tunning on tweet_high_clean"
      ]
    },
    {
      "cell_type": "code",
      "execution_count": null,
      "metadata": {
        "id": "ZijUAQ7RoK-7"
      },
      "outputs": [],
      "source": [
        "parameters = {'learning_rate':[0.1,0.2,0.3,0.4,0.5,0.6,0.7,0.8,0.9,1], \n",
        "              'subsample':[0.6, 0.7, 0.8, 0.9, 1], \n",
        "              'min_child_weight' : [0,1,2,3,4,5,6,7,8,9,10]}\n",
        "xgboost_model = XGBClassifier()\n",
        "\n",
        "cv = BayesSearchCV(xgboost_model, parameters)\n",
        "cv.fit(X_train, y_train)\n",
        "best_params = cv.best_params_\n",
        "best_params"
      ]
    },
    {
      "cell_type": "code",
      "execution_count": null,
      "metadata": {
        "id": "TypP39IJoK-8"
      },
      "outputs": [],
      "source": [
        "xgboost= XGBClassifier(**best_params, class_weight='balanced', random_state = 42, \n",
        "                              max_iter=10000)\n",
        "\n",
        "xgboost.fit(X_train, y_train)\n",
        "predictions = xgboost.predict(X_test)"
      ]
    },
    {
      "cell_type": "code",
      "execution_count": null,
      "metadata": {
        "id": "lJLgatwEoK-8"
      },
      "outputs": [],
      "source": [
        "print(confusion_matrix(y_test,predictions))  \n",
        "print(classification_report(y_test,predictions))  \n",
        "print(\"Model evaluation\")\n",
        "print(\"Accuracy:\", accuracy_score(y_test, predictions))"
      ]
    },
    {
      "cell_type": "markdown",
      "metadata": {
        "id": "jkPc6pzPnTo5"
      },
      "source": [
        "Albert with **Naïve Bayes** with fine-tunning"
      ]
    },
    {
      "cell_type": "code",
      "execution_count": null,
      "metadata": {
        "id": "4OSTb4nmoK-8"
      },
      "outputs": [],
      "source": [
        "parameters = {'var_smoothing': np.logspace(0,-9, num=100)}\n",
        "text_classifier = GaussianNB()\n",
        "\n",
        "cv = BayesSearchCV(text_classifier, parameters)\n",
        "cv.fit(X_train, y_train)\n",
        "best_params = cv.best_params_\n",
        "best_params"
      ]
    },
    {
      "cell_type": "code",
      "execution_count": null,
      "metadata": {
        "id": "U-mDorLkoK-9"
      },
      "outputs": [],
      "source": [
        "text_classifier = GaussianNB(**best_params)\n",
        "\n",
        "text_classifier.fit(X_train, y_train)\n",
        "predictions = text_classifier.predict(X_test)"
      ]
    },
    {
      "cell_type": "code",
      "execution_count": null,
      "metadata": {
        "id": "v9xDpGNOoK-9"
      },
      "outputs": [],
      "source": [
        "print(confusion_matrix(y_test,predictions))  \n",
        "print(classification_report(y_test,predictions))  \n",
        "print(\"Model evaluation\")\n",
        "print(\"Accuracy:\", accuracy_score(y_test, predictions))"
      ]
    },
    {
      "cell_type": "markdown",
      "metadata": {
        "id": "ZJD-zFvbzcWD"
      },
      "source": [
        "## Feature extraction "
      ]
    },
    {
      "cell_type": "markdown",
      "metadata": {
        "id": "V0X6W_VzzmIx"
      },
      "source": [
        "**TF-IDF**\n",
        "\n",
        "\n",
        "---\n",
        "\n"
      ]
    },
    {
      "cell_type": "code",
      "execution_count": null,
      "metadata": {
        "colab": {
          "base_uri": "https://localhost:8080/",
          "height": 854
        },
        "id": "zYPcGhmF4HXD",
        "outputId": "015f81c7-6ee1-44aa-8c5b-0c6a6c67f35a"
      },
      "outputs": [
        {
          "data": {
            "text/html": [
              "\n",
              "  <div id=\"df-9c132b5a-53a4-47d0-8116-b3cd8ec08d83\">\n",
              "    <div class=\"colab-df-container\">\n",
              "      <div>\n",
              "<style scoped>\n",
              "    .dataframe tbody tr th:only-of-type {\n",
              "        vertical-align: middle;\n",
              "    }\n",
              "\n",
              "    .dataframe tbody tr th {\n",
              "        vertical-align: top;\n",
              "    }\n",
              "\n",
              "    .dataframe thead th {\n",
              "        text-align: right;\n",
              "    }\n",
              "</style>\n",
              "<table border=\"1\" class=\"dataframe\">\n",
              "  <thead>\n",
              "    <tr style=\"text-align: right;\">\n",
              "      <th></th>\n",
              "      <th>username</th>\n",
              "      <th>created_at</th>\n",
              "      <th>tweet</th>\n",
              "      <th>language</th>\n",
              "      <th>tweet_simple_clean</th>\n",
              "      <th>tweet_no_stopwords</th>\n",
              "      <th>tweet_high_clean</th>\n",
              "      <th>Positive</th>\n",
              "      <th>Neutral</th>\n",
              "      <th>Negative</th>\n",
              "      <th>Compound</th>\n",
              "      <th>Sentiment</th>\n",
              "      <th>Label</th>\n",
              "    </tr>\n",
              "    <tr>\n",
              "      <th>id</th>\n",
              "      <th></th>\n",
              "      <th></th>\n",
              "      <th></th>\n",
              "      <th></th>\n",
              "      <th></th>\n",
              "      <th></th>\n",
              "      <th></th>\n",
              "      <th></th>\n",
              "      <th></th>\n",
              "      <th></th>\n",
              "      <th></th>\n",
              "      <th></th>\n",
              "      <th></th>\n",
              "    </tr>\n",
              "  </thead>\n",
              "  <tbody>\n",
              "    <tr>\n",
              "      <th>1591599653354868737</th>\n",
              "      <td>aldieramarket</td>\n",
              "      <td>2022-11-13 01:11:42+00:00</td>\n",
              "      <td>Update from Ukraine - Russia Unveils Its New F...</td>\n",
              "      <td>en</td>\n",
              "      <td>update from ukraine russia unveils its new fig...</td>\n",
              "      <td>update ukraine russia unveils new fighting pla...</td>\n",
              "      <td>update ukraine russia unveils new fighting pla...</td>\n",
              "      <td>0.000</td>\n",
              "      <td>0.641</td>\n",
              "      <td>0.359</td>\n",
              "      <td>-0.6808</td>\n",
              "      <td>Negative</td>\n",
              "      <td>0</td>\n",
              "    </tr>\n",
              "    <tr>\n",
              "      <th>1591599650188185600</th>\n",
              "      <td>yarema9</td>\n",
              "      <td>2022-11-13 01:11:41+00:00</td>\n",
              "      <td>@NorburyKaz It could have been tit  for tat. I...</td>\n",
              "      <td>en</td>\n",
              "      <td>it could have been tit for tat israel has refu...</td>\n",
              "      <td>could tit tat israel refused provide lethal we...</td>\n",
              "      <td>could tit tat israel refuse provide lethal wea...</td>\n",
              "      <td>0.097</td>\n",
              "      <td>0.730</td>\n",
              "      <td>0.172</td>\n",
              "      <td>-0.5736</td>\n",
              "      <td>Negative</td>\n",
              "      <td>0</td>\n",
              "    </tr>\n",
              "    <tr>\n",
              "      <th>1591599647503556609</th>\n",
              "      <td>fito_fernando</td>\n",
              "      <td>2022-11-13 01:11:41+00:00</td>\n",
              "      <td>@Natkor7 Russia should bomb Ukraine ez  https:...</td>\n",
              "      <td>en</td>\n",
              "      <td>russia should bomb ukraine ez</td>\n",
              "      <td>russia bomb ukraine ez</td>\n",
              "      <td>russia bomb ukraine ez</td>\n",
              "      <td>0.287</td>\n",
              "      <td>0.345</td>\n",
              "      <td>0.368</td>\n",
              "      <td>-0.1779</td>\n",
              "      <td>Negative</td>\n",
              "      <td>0</td>\n",
              "    </tr>\n",
              "    <tr>\n",
              "      <th>1591599630701076480</th>\n",
              "      <td>arnogosse</td>\n",
              "      <td>2022-11-13 01:11:37+00:00</td>\n",
              "      <td>On February 24, Russia launched an invasion #å...</td>\n",
              "      <td>en</td>\n",
              "      <td>on february 24 russia launched an invasion</td>\n",
              "      <td>february 24 russia launched invasion</td>\n",
              "      <td>february 24 russia launch invasion</td>\n",
              "      <td>0.200</td>\n",
              "      <td>0.800</td>\n",
              "      <td>0.000</td>\n",
              "      <td>0.1280</td>\n",
              "      <td>Positive</td>\n",
              "      <td>1</td>\n",
              "    </tr>\n",
              "    <tr>\n",
              "      <th>1591599629954875392</th>\n",
              "      <td>crichtonmamie</td>\n",
              "      <td>2022-11-13 01:11:36+00:00</td>\n",
              "      <td>disabilities struggle more to leave Russia   #...</td>\n",
              "      <td>en</td>\n",
              "      <td>disabilities struggle more to leave russia</td>\n",
              "      <td>disabilities struggle leave russia</td>\n",
              "      <td>disability struggle leave russia</td>\n",
              "      <td>0.000</td>\n",
              "      <td>0.514</td>\n",
              "      <td>0.486</td>\n",
              "      <td>-0.4173</td>\n",
              "      <td>Negative</td>\n",
              "      <td>0</td>\n",
              "    </tr>\n",
              "    <tr>\n",
              "      <th>...</th>\n",
              "      <td>...</td>\n",
              "      <td>...</td>\n",
              "      <td>...</td>\n",
              "      <td>...</td>\n",
              "      <td>...</td>\n",
              "      <td>...</td>\n",
              "      <td>...</td>\n",
              "      <td>...</td>\n",
              "      <td>...</td>\n",
              "      <td>...</td>\n",
              "      <td>...</td>\n",
              "      <td>...</td>\n",
              "      <td>...</td>\n",
              "    </tr>\n",
              "    <tr>\n",
              "      <th>1591547887095533570</th>\n",
              "      <td>txrednecker</td>\n",
              "      <td>2022-11-12 21:46:00+00:00</td>\n",
              "      <td>@socialiststeve6 Funny when you look at the so...</td>\n",
              "      <td>en</td>\n",
              "      <td>funny when you look at the socialist countries...</td>\n",
              "      <td>funny look socialist countries world china nor...</td>\n",
              "      <td>funny look socialist country world china north...</td>\n",
              "      <td>0.294</td>\n",
              "      <td>0.706</td>\n",
              "      <td>0.000</td>\n",
              "      <td>0.8750</td>\n",
              "      <td>Positive</td>\n",
              "      <td>1</td>\n",
              "    </tr>\n",
              "    <tr>\n",
              "      <th>1591547869751820288</th>\n",
              "      <td>amerikkkakillz</td>\n",
              "      <td>2022-11-12 21:45:56+00:00</td>\n",
              "      <td>@_rcortney @JohnnySQL8 So is this the work of ...</td>\n",
              "      <td>en</td>\n",
              "      <td>so is this the work of military that commits w...</td>\n",
              "      <td>work military commits war crimes civilians don...</td>\n",
              "      <td>work military commits war crime civilian dont ...</td>\n",
              "      <td>0.033</td>\n",
              "      <td>0.848</td>\n",
              "      <td>0.118</td>\n",
              "      <td>-0.5859</td>\n",
              "      <td>Negative</td>\n",
              "      <td>0</td>\n",
              "    </tr>\n",
              "    <tr>\n",
              "      <th>1591547862571180032</th>\n",
              "      <td>thelighthnes</td>\n",
              "      <td>2022-11-12 21:45:54+00:00</td>\n",
              "      <td>@Gerashchenko_en russians in russia - blame US...</td>\n",
              "      <td>en</td>\n",
              "      <td>russians in russia blame us russians in englan...</td>\n",
              "      <td>russians russia blame us russians england blam...</td>\n",
              "      <td>russian russia blame us russian england blame ...</td>\n",
              "      <td>0.000</td>\n",
              "      <td>0.735</td>\n",
              "      <td>0.265</td>\n",
              "      <td>-0.7351</td>\n",
              "      <td>Negative</td>\n",
              "      <td>0</td>\n",
              "    </tr>\n",
              "    <tr>\n",
              "      <th>1591547862026158080</th>\n",
              "      <td>whtaboutjustice</td>\n",
              "      <td>2022-11-12 21:45:54+00:00</td>\n",
              "      <td>@KyivIndependent Dissolve G20. Dissolve UN. Di...</td>\n",
              "      <td>en</td>\n",
              "      <td>dissolve g20 dissolve un dissolve nato dissolv...</td>\n",
              "      <td>dissolve g20 dissolve un dissolve nato dissolv...</td>\n",
              "      <td>dissolve g20 dissolve un dissolve nato dissolv...</td>\n",
              "      <td>0.000</td>\n",
              "      <td>0.957</td>\n",
              "      <td>0.043</td>\n",
              "      <td>-0.2044</td>\n",
              "      <td>Negative</td>\n",
              "      <td>0</td>\n",
              "    </tr>\n",
              "    <tr>\n",
              "      <th>1591547859178250241</th>\n",
              "      <td>larissawakef</td>\n",
              "      <td>2022-11-12 21:45:53+00:00</td>\n",
              "      <td>@FoxNews Do you mean he is the new âNew Russ...</td>\n",
              "      <td>en</td>\n",
              "      <td>do you mean he is the new new russia party leader</td>\n",
              "      <td>mean new new russia party leader</td>\n",
              "      <td>mean new new russia party leader</td>\n",
              "      <td>0.213</td>\n",
              "      <td>0.787</td>\n",
              "      <td>0.000</td>\n",
              "      <td>0.4019</td>\n",
              "      <td>Positive</td>\n",
              "      <td>1</td>\n",
              "    </tr>\n",
              "  </tbody>\n",
              "</table>\n",
              "<p>8832 rows × 13 columns</p>\n",
              "</div>\n",
              "      <button class=\"colab-df-convert\" onclick=\"convertToInteractive('df-9c132b5a-53a4-47d0-8116-b3cd8ec08d83')\"\n",
              "              title=\"Convert this dataframe to an interactive table.\"\n",
              "              style=\"display:none;\">\n",
              "        \n",
              "  <svg xmlns=\"http://www.w3.org/2000/svg\" height=\"24px\"viewBox=\"0 0 24 24\"\n",
              "       width=\"24px\">\n",
              "    <path d=\"M0 0h24v24H0V0z\" fill=\"none\"/>\n",
              "    <path d=\"M18.56 5.44l.94 2.06.94-2.06 2.06-.94-2.06-.94-.94-2.06-.94 2.06-2.06.94zm-11 1L8.5 8.5l.94-2.06 2.06-.94-2.06-.94L8.5 2.5l-.94 2.06-2.06.94zm10 10l.94 2.06.94-2.06 2.06-.94-2.06-.94-.94-2.06-.94 2.06-2.06.94z\"/><path d=\"M17.41 7.96l-1.37-1.37c-.4-.4-.92-.59-1.43-.59-.52 0-1.04.2-1.43.59L10.3 9.45l-7.72 7.72c-.78.78-.78 2.05 0 2.83L4 21.41c.39.39.9.59 1.41.59.51 0 1.02-.2 1.41-.59l7.78-7.78 2.81-2.81c.8-.78.8-2.07 0-2.86zM5.41 20L4 18.59l7.72-7.72 1.47 1.35L5.41 20z\"/>\n",
              "  </svg>\n",
              "      </button>\n",
              "      \n",
              "  <style>\n",
              "    .colab-df-container {\n",
              "      display:flex;\n",
              "      flex-wrap:wrap;\n",
              "      gap: 12px;\n",
              "    }\n",
              "\n",
              "    .colab-df-convert {\n",
              "      background-color: #E8F0FE;\n",
              "      border: none;\n",
              "      border-radius: 50%;\n",
              "      cursor: pointer;\n",
              "      display: none;\n",
              "      fill: #1967D2;\n",
              "      height: 32px;\n",
              "      padding: 0 0 0 0;\n",
              "      width: 32px;\n",
              "    }\n",
              "\n",
              "    .colab-df-convert:hover {\n",
              "      background-color: #E2EBFA;\n",
              "      box-shadow: 0px 1px 2px rgba(60, 64, 67, 0.3), 0px 1px 3px 1px rgba(60, 64, 67, 0.15);\n",
              "      fill: #174EA6;\n",
              "    }\n",
              "\n",
              "    [theme=dark] .colab-df-convert {\n",
              "      background-color: #3B4455;\n",
              "      fill: #D2E3FC;\n",
              "    }\n",
              "\n",
              "    [theme=dark] .colab-df-convert:hover {\n",
              "      background-color: #434B5C;\n",
              "      box-shadow: 0px 1px 3px 1px rgba(0, 0, 0, 0.15);\n",
              "      filter: drop-shadow(0px 1px 2px rgba(0, 0, 0, 0.3));\n",
              "      fill: #FFFFFF;\n",
              "    }\n",
              "  </style>\n",
              "\n",
              "      <script>\n",
              "        const buttonEl =\n",
              "          document.querySelector('#df-9c132b5a-53a4-47d0-8116-b3cd8ec08d83 button.colab-df-convert');\n",
              "        buttonEl.style.display =\n",
              "          google.colab.kernel.accessAllowed ? 'block' : 'none';\n",
              "\n",
              "        async function convertToInteractive(key) {\n",
              "          const element = document.querySelector('#df-9c132b5a-53a4-47d0-8116-b3cd8ec08d83');\n",
              "          const dataTable =\n",
              "            await google.colab.kernel.invokeFunction('convertToInteractive',\n",
              "                                                     [key], {});\n",
              "          if (!dataTable) return;\n",
              "\n",
              "          const docLinkHtml = 'Like what you see? Visit the ' +\n",
              "            '<a target=\"_blank\" href=https://colab.research.google.com/notebooks/data_table.ipynb>data table notebook</a>'\n",
              "            + ' to learn more about interactive tables.';\n",
              "          element.innerHTML = '';\n",
              "          dataTable['output_type'] = 'display_data';\n",
              "          await google.colab.output.renderOutput(dataTable, element);\n",
              "          const docLink = document.createElement('div');\n",
              "          docLink.innerHTML = docLinkHtml;\n",
              "          element.appendChild(docLink);\n",
              "        }\n",
              "      </script>\n",
              "    </div>\n",
              "  </div>\n",
              "  "
            ],
            "text/plain": [
              "                            username                created_at  \\\n",
              "id                                                               \n",
              "1591599653354868737    aldieramarket 2022-11-13 01:11:42+00:00   \n",
              "1591599650188185600          yarema9 2022-11-13 01:11:41+00:00   \n",
              "1591599647503556609    fito_fernando 2022-11-13 01:11:41+00:00   \n",
              "1591599630701076480        arnogosse 2022-11-13 01:11:37+00:00   \n",
              "1591599629954875392    crichtonmamie 2022-11-13 01:11:36+00:00   \n",
              "...                              ...                       ...   \n",
              "1591547887095533570      txrednecker 2022-11-12 21:46:00+00:00   \n",
              "1591547869751820288   amerikkkakillz 2022-11-12 21:45:56+00:00   \n",
              "1591547862571180032     thelighthnes 2022-11-12 21:45:54+00:00   \n",
              "1591547862026158080  whtaboutjustice 2022-11-12 21:45:54+00:00   \n",
              "1591547859178250241     larissawakef 2022-11-12 21:45:53+00:00   \n",
              "\n",
              "                                                                 tweet  \\\n",
              "id                                                                       \n",
              "1591599653354868737  Update from Ukraine - Russia Unveils Its New F...   \n",
              "1591599650188185600  @NorburyKaz It could have been tit  for tat. I...   \n",
              "1591599647503556609  @Natkor7 Russia should bomb Ukraine ez  https:...   \n",
              "1591599630701076480  On February 24, Russia launched an invasion #å...   \n",
              "1591599629954875392  disabilities struggle more to leave Russia   #...   \n",
              "...                                                                ...   \n",
              "1591547887095533570  @socialiststeve6 Funny when you look at the so...   \n",
              "1591547869751820288  @_rcortney @JohnnySQL8 So is this the work of ...   \n",
              "1591547862571180032  @Gerashchenko_en russians in russia - blame US...   \n",
              "1591547862026158080  @KyivIndependent Dissolve G20. Dissolve UN. Di...   \n",
              "1591547859178250241  @FoxNews Do you mean he is the new âNew Russ...   \n",
              "\n",
              "                    language  \\\n",
              "id                             \n",
              "1591599653354868737       en   \n",
              "1591599650188185600       en   \n",
              "1591599647503556609       en   \n",
              "1591599630701076480       en   \n",
              "1591599629954875392       en   \n",
              "...                      ...   \n",
              "1591547887095533570       en   \n",
              "1591547869751820288       en   \n",
              "1591547862571180032       en   \n",
              "1591547862026158080       en   \n",
              "1591547859178250241       en   \n",
              "\n",
              "                                                    tweet_simple_clean  \\\n",
              "id                                                                       \n",
              "1591599653354868737  update from ukraine russia unveils its new fig...   \n",
              "1591599650188185600  it could have been tit for tat israel has refu...   \n",
              "1591599647503556609                      russia should bomb ukraine ez   \n",
              "1591599630701076480         on february 24 russia launched an invasion   \n",
              "1591599629954875392         disabilities struggle more to leave russia   \n",
              "...                                                                ...   \n",
              "1591547887095533570  funny when you look at the socialist countries...   \n",
              "1591547869751820288  so is this the work of military that commits w...   \n",
              "1591547862571180032  russians in russia blame us russians in englan...   \n",
              "1591547862026158080  dissolve g20 dissolve un dissolve nato dissolv...   \n",
              "1591547859178250241  do you mean he is the new new russia party leader   \n",
              "\n",
              "                                                    tweet_no_stopwords  \\\n",
              "id                                                                       \n",
              "1591599653354868737  update ukraine russia unveils new fighting pla...   \n",
              "1591599650188185600  could tit tat israel refused provide lethal we...   \n",
              "1591599647503556609                             russia bomb ukraine ez   \n",
              "1591599630701076480               february 24 russia launched invasion   \n",
              "1591599629954875392                 disabilities struggle leave russia   \n",
              "...                                                                ...   \n",
              "1591547887095533570  funny look socialist countries world china nor...   \n",
              "1591547869751820288  work military commits war crimes civilians don...   \n",
              "1591547862571180032  russians russia blame us russians england blam...   \n",
              "1591547862026158080  dissolve g20 dissolve un dissolve nato dissolv...   \n",
              "1591547859178250241                   mean new new russia party leader   \n",
              "\n",
              "                                                      tweet_high_clean  \\\n",
              "id                                                                       \n",
              "1591599653354868737  update ukraine russia unveils new fighting pla...   \n",
              "1591599650188185600  could tit tat israel refuse provide lethal wea...   \n",
              "1591599647503556609                             russia bomb ukraine ez   \n",
              "1591599630701076480                 february 24 russia launch invasion   \n",
              "1591599629954875392                   disability struggle leave russia   \n",
              "...                                                                ...   \n",
              "1591547887095533570  funny look socialist country world china north...   \n",
              "1591547869751820288  work military commits war crime civilian dont ...   \n",
              "1591547862571180032  russian russia blame us russian england blame ...   \n",
              "1591547862026158080  dissolve g20 dissolve un dissolve nato dissolv...   \n",
              "1591547859178250241                   mean new new russia party leader   \n",
              "\n",
              "                     Positive  Neutral  Negative  Compound Sentiment  Label  \n",
              "id                                                                           \n",
              "1591599653354868737     0.000    0.641     0.359   -0.6808  Negative      0  \n",
              "1591599650188185600     0.097    0.730     0.172   -0.5736  Negative      0  \n",
              "1591599647503556609     0.287    0.345     0.368   -0.1779  Negative      0  \n",
              "1591599630701076480     0.200    0.800     0.000    0.1280  Positive      1  \n",
              "1591599629954875392     0.000    0.514     0.486   -0.4173  Negative      0  \n",
              "...                       ...      ...       ...       ...       ...    ...  \n",
              "1591547887095533570     0.294    0.706     0.000    0.8750  Positive      1  \n",
              "1591547869751820288     0.033    0.848     0.118   -0.5859  Negative      0  \n",
              "1591547862571180032     0.000    0.735     0.265   -0.7351  Negative      0  \n",
              "1591547862026158080     0.000    0.957     0.043   -0.2044  Negative      0  \n",
              "1591547859178250241     0.213    0.787     0.000    0.4019  Positive      1  \n",
              "\n",
              "[8832 rows x 13 columns]"
            ]
          },
          "execution_count": 57,
          "metadata": {},
          "output_type": "execute_result"
        }
      ],
      "source": [
        "df"
      ]
    },
    {
      "cell_type": "code",
      "execution_count": null,
      "metadata": {
        "colab": {
          "base_uri": "https://localhost:8080/"
        },
        "id": "cfAc2Vc13-pT",
        "outputId": "83791612-24cf-4816-ca76-635b7a577132"
      },
      "outputs": [
        {
          "name": "stdout",
          "output_type": "stream",
          "text": [
            "id\n",
            "1591599653354868737    update from ukraine russia unveils its new fig...\n",
            "1591599650188185600    it could have been tit for tat israel has refu...\n",
            "1591599647503556609                        russia should bomb ukraine ez\n",
            "1591599630701076480           on february 24 russia launched an invasion\n",
            "1591599629954875392           disabilities struggle more to leave russia\n",
            "                                             ...                        \n",
            "1591547887095533570    funny when you look at the socialist countries...\n",
            "1591547869751820288    so is this the work of military that commits w...\n",
            "1591547862571180032    russians in russia blame us russians in englan...\n",
            "1591547862026158080    dissolve g20 dissolve un dissolve nato dissolv...\n",
            "1591547859178250241    do you mean he is the new new russia party leader\n",
            "Name: tweet_simple_clean, Length: 8832, dtype: object\n"
          ]
        }
      ],
      "source": [
        "tweets = df['tweet_simple_clean']\n",
        "y = df['Sentiment']\n",
        "print(tweets)"
      ]
    },
    {
      "cell_type": "markdown",
      "metadata": {
        "id": "GpGyg1A8-W27"
      },
      "source": [
        "**Data Preprocessing**\n",
        "\n",
        "\n",
        "---\n",
        "\n"
      ]
    },
    {
      "cell_type": "markdown",
      "metadata": {
        "id": "pL2jfIAjlCok"
      },
      "source": [
        "**TF**  = (Frequency of a word in the document)/(Total words in the document)\n",
        "\n",
        "\n",
        "---\n",
        "\n",
        "\n",
        "**IDF** = Log((Total number of docs)/(Number of docs containing the word))"
      ]
    },
    {
      "cell_type": "code",
      "execution_count": null,
      "metadata": {
        "id": "_lMOJ4Ih3a89"
      },
      "outputs": [],
      "source": [
        "from sklearn.feature_extraction.text import TfidfVectorizer\n",
        "\n",
        "# import Naïve Bayes \n",
        "from sklearn.naive_bayes import GaussianNB\n",
        "\n",
        "# import Logistic Regression\n",
        "from sklearn.linear_model import LogisticRegression\n",
        "\n",
        "# import XGBoost\n",
        "from xgboost import XGBClassifier\n",
        "import xgboost as xgb"
      ]
    },
    {
      "cell_type": "code",
      "execution_count": null,
      "metadata": {
        "id": "m9Ul1S3qk7sC"
      },
      "outputs": [],
      "source": [
        "tfidf = TfidfVectorizer()"
      ]
    },
    {
      "cell_type": "markdown",
      "metadata": {
        "id": "aXiLJRghZvI2"
      },
      "source": [
        "Classification models on **tweet_simple_clean**"
      ]
    },
    {
      "cell_type": "code",
      "execution_count": null,
      "metadata": {
        "colab": {
          "base_uri": "https://localhost:8080/"
        },
        "id": "McPn9R58rS7F",
        "outputId": "96fe0833-76a5-4c5d-ff32-0d84765feee7"
      },
      "outputs": [
        {
          "data": {
            "text/plain": [
              "array(['00', '000', '00003', ..., 'ï¼', 'ï½', 'ø³ø'], dtype=object)"
            ]
          },
          "execution_count": 61,
          "metadata": {},
          "output_type": "execute_result"
        }
      ],
      "source": [
        "#Convert your dataset into corresponding TF-IDF feature vectors\n",
        "X = tfidf.fit_transform( df['tweet_simple_clean']).toarray()\n",
        "tfidf.get_feature_names_out()"
      ]
    },
    {
      "cell_type": "code",
      "execution_count": null,
      "metadata": {
        "id": "Fgw6mm0Tr3uj"
      },
      "outputs": [],
      "source": [
        "from sklearn.model_selection import train_test_split  \n",
        "X_train, X_test, y_train, y_test = train_test_split(X, y, test_size=0.2, random_state=0)"
      ]
    },
    {
      "cell_type": "markdown",
      "metadata": {
        "id": "JnHlDDicV96k"
      },
      "source": [
        "TF-IDF and Naïve Bayes without fine-tuning on tweet_simple_clean\n",
        "\n"
      ]
    },
    {
      "cell_type": "code",
      "execution_count": null,
      "metadata": {
        "colab": {
          "base_uri": "https://localhost:8080/"
        },
        "id": "znPZX7NUvN3f",
        "outputId": "38b48d95-3ce2-4d5a-fe75-b556ebc6663f"
      },
      "outputs": [
        {
          "data": {
            "text/plain": [
              "GaussianNB()"
            ]
          },
          "execution_count": 63,
          "metadata": {},
          "output_type": "execute_result"
        }
      ],
      "source": [
        "text_classifier = GaussianNB()\n",
        "text_classifier.fit(X_train, y_train)"
      ]
    },
    {
      "cell_type": "code",
      "execution_count": null,
      "metadata": {
        "id": "49ucZgHWwQ_P"
      },
      "outputs": [],
      "source": [
        "predictions = text_classifier.predict(X_test)"
      ]
    },
    {
      "cell_type": "code",
      "execution_count": null,
      "metadata": {
        "colab": {
          "base_uri": "https://localhost:8080/"
        },
        "id": "o_Q87ifmwU5h",
        "outputId": "5ccea678-71f2-496b-95a8-68b41f2649da"
      },
      "outputs": [
        {
          "name": "stdout",
          "output_type": "stream",
          "text": [
            "[[451  71 304]\n",
            " [ 62 199  99]\n",
            " [191  83 307]]\n",
            "              precision    recall  f1-score   support\n",
            "\n",
            "    Negative       0.64      0.55      0.59       826\n",
            "     Neutral       0.56      0.55      0.56       360\n",
            "    Positive       0.43      0.53      0.48       581\n",
            "\n",
            "    accuracy                           0.54      1767\n",
            "   macro avg       0.55      0.54      0.54      1767\n",
            "weighted avg       0.56      0.54      0.55      1767\n",
            "\n",
            "Model evaluation\n",
            "Accuracy: 0.5415959252971138\n"
          ]
        }
      ],
      "source": [
        "from sklearn.metrics import classification_report, confusion_matrix, accuracy_score,precision_score, recall_score, f1_score\n",
        " \n",
        "print(confusion_matrix(y_test,predictions))  \n",
        "print(classification_report(y_test,predictions))  \n",
        "print(\"Model evaluation\")\n",
        "print(\"Accuracy:\", accuracy_score(y_test, predictions))"
      ]
    },
    {
      "cell_type": "markdown",
      "metadata": {
        "id": "mOzvbWnzaaTK"
      },
      "source": [
        "TF-IDF and Naïve Bayes with fine-tuning on tweet_simple_clean"
      ]
    },
    {
      "cell_type": "code",
      "execution_count": null,
      "metadata": {
        "id": "5rh5dZGkaWy9"
      },
      "outputs": [],
      "source": [
        "parameters = {'var_smoothing': np.logspace(0,-9, num=100)}\n",
        "text_classifier = GaussianNB()\n",
        "\n",
        "cv = BayesSearchCV(text_classifier, parameters)TF-IDF and Naïve Bayes without fine-tuning on tweet_simple_clean\n",
        "cv.fit(X_train, y_train)\n",
        "best_params = cv.best_params_\n",
        "best_params"
      ]
    },
    {
      "cell_type": "code",
      "execution_count": null,
      "metadata": {
        "id": "Wf0PVJhuaWzA"
      },
      "outputs": [],
      "source": [
        "text_classifier = GaussianNB(**best_params)\n",
        "\n",
        "text_classifier.fit(X_train, y_train)\n",
        "predictions = text_classifier.predict(X_test)"
      ]
    },
    {
      "cell_type": "code",
      "execution_count": null,
      "metadata": {
        "id": "JyvYNKd0aWzC"
      },
      "outputs": [],
      "source": [
        "print(confusion_matrix(y_test,predictions))  \n",
        "print(classification_report(y_test,predictions))  \n",
        "print(\"Model evaluation\")\n",
        "print(\"Accuracy:\", accuracy_score(y_test, predictions))"
      ]
    },
    {
      "cell_type": "markdown",
      "metadata": {
        "id": "O-eDORF4XRw2"
      },
      "source": [
        "TF-IDF and Logistic Regression withuot fine-tuning on tweet_simple_clean\n"
      ]
    },
    {
      "cell_type": "code",
      "execution_count": null,
      "metadata": {
        "id": "Y4YZ2lpFW42y"
      },
      "outputs": [],
      "source": [
        "lg = LogisticRegression()\n",
        "lg.fit(X_train, y_train)"
      ]
    },
    {
      "cell_type": "code",
      "execution_count": null,
      "metadata": {
        "id": "ieNiogR3clF8"
      },
      "outputs": [],
      "source": [
        "predictions = lg.predict(X_test)"
      ]
    },
    {
      "cell_type": "code",
      "execution_count": null,
      "metadata": {
        "colab": {
          "base_uri": "https://localhost:8080/"
        },
        "id": "N37B7pChceJw",
        "outputId": "820d77ee-ab22-4f74-c440-4c47d55d8023"
      },
      "outputs": [
        {
          "name": "stdout",
          "output_type": "stream",
          "text": [
            "[[731  22  73]\n",
            " [118 195  47]\n",
            " [216  27 338]]\n",
            "              precision    recall  f1-score   support\n",
            "\n",
            "    Negative       0.69      0.88      0.77       826\n",
            "     Neutral       0.80      0.54      0.65       360\n",
            "    Positive       0.74      0.58      0.65       581\n",
            "\n",
            "    accuracy                           0.72      1767\n",
            "   macro avg       0.74      0.67      0.69      1767\n",
            "weighted avg       0.73      0.72      0.71      1767\n",
            "\n",
            "Model evaluation\n",
            "Accuracy: 0.7153367289190719\n"
          ]
        }
      ],
      "source": [
        "print(confusion_matrix(y_test,predictions))  \n",
        "print(classification_report(y_test,predictions))  \n",
        "print(\"Model evaluation\")\n",
        "print(\"Accuracy:\", accuracy_score(y_test, predictions))"
      ]
    },
    {
      "cell_type": "markdown",
      "metadata": {
        "id": "sXuL40ZjY-pP"
      },
      "source": [
        "TF- IDF and Logistic Regression and fine-tuning on tweet_simple_clean\n"
      ]
    },
    {
      "cell_type": "code",
      "execution_count": null,
      "metadata": {
        "colab": {
          "base_uri": "https://localhost:8080/"
        },
        "id": "qpjijj-Kv4wM",
        "outputId": "2dfe2a37-dbdf-4b35-ee2c-22567d34d04a"
      },
      "outputs": [
        {
          "data": {
            "text/plain": [
              "{'C': 1.0,\n",
              " 'class_weight': None,\n",
              " 'dual': False,\n",
              " 'fit_intercept': True,\n",
              " 'intercept_scaling': 1,\n",
              " 'l1_ratio': None,\n",
              " 'max_iter': 100,\n",
              " 'multi_class': 'auto',\n",
              " 'n_jobs': None,\n",
              " 'penalty': 'l2',\n",
              " 'random_state': None,\n",
              " 'solver': 'lbfgs',\n",
              " 'tol': 0.0001,\n",
              " 'verbose': 0,\n",
              " 'warm_start': False}"
            ]
          },
          "execution_count": 71,
          "metadata": {},
          "output_type": "execute_result"
        }
      ],
      "source": [
        "lg.get_params()"
      ]
    },
    {
      "cell_type": "code",
      "execution_count": null,
      "metadata": {
        "colab": {
          "background_save": true
        },
        "id": "INwXfJK7Zh9M",
        "outputId": "9bf1b9e7-e1b6-429d-9bd2-f53ed0e59588"
      },
      "outputs": [
        {
          "data": {
            "text/plain": [
              "OrderedDict([('C', 1.0)])"
            ]
          },
          "execution_count": 75,
          "metadata": {},
          "output_type": "execute_result"
        }
      ],
      "source": [
        "from skopt import BayesSearchCV\n",
        "parameters = {'C':[0.1,0.2,0.3,0.4,0.5,0.6,0.7,0.8,0.9,1]}\n",
        "log_reg_model = LogisticRegression()\n",
        "\n",
        "cv = BayesSearchCV(log_reg_model, parameters)\n",
        "cv.fit(X_train, y_train)\n",
        "best_params = cv.best_params_\n",
        "best_params\n"
      ]
    },
    {
      "cell_type": "code",
      "execution_count": null,
      "metadata": {
        "id": "ArYjlrMkZiEL"
      },
      "outputs": [],
      "source": [
        "logistic = LogisticRegression(**best_params, class_weight='balanced', random_state = 42, \n",
        "                              max_iter=10000)\n",
        "\n",
        "logistic.fit(X_train, y_train)\n",
        "predictions = logistic.predict(X_test)"
      ]
    },
    {
      "cell_type": "code",
      "execution_count": null,
      "metadata": {
        "colab": {
          "background_save": true
        },
        "id": "akp4qklEctBo",
        "outputId": "9d576063-a02e-445a-c1d6-d048e55abb68"
      },
      "outputs": [
        {
          "name": "stdout",
          "output_type": "stream",
          "text": [
            "[[731  22  73]\n",
            " [118 195  47]\n",
            " [216  27 338]]\n",
            "              precision    recall  f1-score   support\n",
            "\n",
            "    Negative       0.69      0.88      0.77       826\n",
            "     Neutral       0.80      0.54      0.65       360\n",
            "    Positive       0.74      0.58      0.65       581\n",
            "\n",
            "    accuracy                           0.72      1767\n",
            "   macro avg       0.74      0.67      0.69      1767\n",
            "weighted avg       0.73      0.72      0.71      1767\n",
            "\n",
            "Model evaluation\n",
            "Accuracy: 0.7153367289190719\n"
          ]
        }
      ],
      "source": [
        "print(confusion_matrix(y_test,predictions))  \n",
        "print(classification_report(y_test,predictions))  \n",
        "print(\"Model evaluation\")\n",
        "print(\"Accuracy:\", accuracy_score(y_test, predictions))"
      ]
    },
    {
      "cell_type": "markdown",
      "metadata": {
        "id": "uwGUqR2DZGS_"
      },
      "source": [
        "XGBoost without fine-tuning on tweet_simple_clean"
      ]
    },
    {
      "cell_type": "code",
      "execution_count": null,
      "metadata": {
        "colab": {
          "base_uri": "https://localhost:8080/",
          "height": 341
        },
        "id": "Kj6ovRuAcp6U",
        "outputId": "9339d5d5-5e23-4eb9-f5de-3c1e05b92ce5"
      },
      "outputs": [
        {
          "ename": "KeyboardInterrupt",
          "evalue": "ignored",
          "output_type": "error",
          "traceback": [
            "\u001b[0;31m---------------------------------------------------------------------------\u001b[0m",
            "\u001b[0;31mKeyboardInterrupt\u001b[0m                         Traceback (most recent call last)",
            "\u001b[0;32m<ipython-input-69-28b2a1fb9e32>\u001b[0m in \u001b[0;36m<module>\u001b[0;34m\u001b[0m\n\u001b[1;32m      1\u001b[0m \u001b[0;31m# XGBoost without fine-tuning\u001b[0m\u001b[0;34m\u001b[0m\u001b[0;34m\u001b[0m\u001b[0;34m\u001b[0m\u001b[0m\n\u001b[1;32m      2\u001b[0m \u001b[0mxgboost\u001b[0m \u001b[0;34m=\u001b[0m \u001b[0mXGBClassifier\u001b[0m\u001b[0;34m(\u001b[0m\u001b[0;34m)\u001b[0m\u001b[0;34m\u001b[0m\u001b[0;34m\u001b[0m\u001b[0m\n\u001b[0;32m----> 3\u001b[0;31m \u001b[0mxgboost\u001b[0m\u001b[0;34m.\u001b[0m\u001b[0mfit\u001b[0m\u001b[0;34m(\u001b[0m\u001b[0mX_train\u001b[0m\u001b[0;34m,\u001b[0m \u001b[0my_train\u001b[0m\u001b[0;34m)\u001b[0m\u001b[0;34m\u001b[0m\u001b[0;34m\u001b[0m\u001b[0m\n\u001b[0m",
            "\u001b[0;32m/usr/local/lib/python3.8/dist-packages/xgboost/sklearn.py\u001b[0m in \u001b[0;36mfit\u001b[0;34m(self, X, y, sample_weight, eval_set, eval_metric, early_stopping_rounds, verbose, xgb_model, sample_weight_eval_set, callbacks)\u001b[0m\n\u001b[1;32m    726\u001b[0m                                     missing=self.missing, nthread=self.n_jobs)\n\u001b[1;32m    727\u001b[0m \u001b[0;34m\u001b[0m\u001b[0m\n\u001b[0;32m--> 728\u001b[0;31m         self._Booster = train(xgb_options, train_dmatrix, self.get_num_boosting_rounds(),\n\u001b[0m\u001b[1;32m    729\u001b[0m                               \u001b[0mevals\u001b[0m\u001b[0;34m=\u001b[0m\u001b[0mevals\u001b[0m\u001b[0;34m,\u001b[0m \u001b[0mearly_stopping_rounds\u001b[0m\u001b[0;34m=\u001b[0m\u001b[0mearly_stopping_rounds\u001b[0m\u001b[0;34m,\u001b[0m\u001b[0;34m\u001b[0m\u001b[0;34m\u001b[0m\u001b[0m\n\u001b[1;32m    730\u001b[0m                               \u001b[0mevals_result\u001b[0m\u001b[0;34m=\u001b[0m\u001b[0mevals_result\u001b[0m\u001b[0;34m,\u001b[0m \u001b[0mobj\u001b[0m\u001b[0;34m=\u001b[0m\u001b[0mobj\u001b[0m\u001b[0;34m,\u001b[0m \u001b[0mfeval\u001b[0m\u001b[0;34m=\u001b[0m\u001b[0mfeval\u001b[0m\u001b[0;34m,\u001b[0m\u001b[0;34m\u001b[0m\u001b[0;34m\u001b[0m\u001b[0m\n",
            "\u001b[0;32m/usr/local/lib/python3.8/dist-packages/xgboost/training.py\u001b[0m in \u001b[0;36mtrain\u001b[0;34m(params, dtrain, num_boost_round, evals, obj, feval, maximize, early_stopping_rounds, evals_result, verbose_eval, xgb_model, callbacks, learning_rates)\u001b[0m\n\u001b[1;32m    210\u001b[0m         \u001b[0mcallbacks\u001b[0m\u001b[0;34m.\u001b[0m\u001b[0mappend\u001b[0m\u001b[0;34m(\u001b[0m\u001b[0mcallback\u001b[0m\u001b[0;34m.\u001b[0m\u001b[0mreset_learning_rate\u001b[0m\u001b[0;34m(\u001b[0m\u001b[0mlearning_rates\u001b[0m\u001b[0;34m)\u001b[0m\u001b[0;34m)\u001b[0m\u001b[0;34m\u001b[0m\u001b[0;34m\u001b[0m\u001b[0m\n\u001b[1;32m    211\u001b[0m \u001b[0;34m\u001b[0m\u001b[0m\n\u001b[0;32m--> 212\u001b[0;31m     return _train_internal(params, dtrain,\n\u001b[0m\u001b[1;32m    213\u001b[0m                            \u001b[0mnum_boost_round\u001b[0m\u001b[0;34m=\u001b[0m\u001b[0mnum_boost_round\u001b[0m\u001b[0;34m,\u001b[0m\u001b[0;34m\u001b[0m\u001b[0;34m\u001b[0m\u001b[0m\n\u001b[1;32m    214\u001b[0m                            \u001b[0mevals\u001b[0m\u001b[0;34m=\u001b[0m\u001b[0mevals\u001b[0m\u001b[0;34m,\u001b[0m\u001b[0;34m\u001b[0m\u001b[0;34m\u001b[0m\u001b[0m\n",
            "\u001b[0;32m/usr/local/lib/python3.8/dist-packages/xgboost/training.py\u001b[0m in \u001b[0;36m_train_internal\u001b[0;34m(params, dtrain, num_boost_round, evals, obj, feval, xgb_model, callbacks)\u001b[0m\n\u001b[1;32m     72\u001b[0m         \u001b[0;31m# Skip the first update if it is a recovery step.\u001b[0m\u001b[0;34m\u001b[0m\u001b[0;34m\u001b[0m\u001b[0;34m\u001b[0m\u001b[0m\n\u001b[1;32m     73\u001b[0m         \u001b[0;32mif\u001b[0m \u001b[0mversion\u001b[0m \u001b[0;34m%\u001b[0m \u001b[0;36m2\u001b[0m \u001b[0;34m==\u001b[0m \u001b[0;36m0\u001b[0m\u001b[0;34m:\u001b[0m\u001b[0;34m\u001b[0m\u001b[0;34m\u001b[0m\u001b[0m\n\u001b[0;32m---> 74\u001b[0;31m             \u001b[0mbst\u001b[0m\u001b[0;34m.\u001b[0m\u001b[0mupdate\u001b[0m\u001b[0;34m(\u001b[0m\u001b[0mdtrain\u001b[0m\u001b[0;34m,\u001b[0m \u001b[0mi\u001b[0m\u001b[0;34m,\u001b[0m \u001b[0mobj\u001b[0m\u001b[0;34m)\u001b[0m\u001b[0;34m\u001b[0m\u001b[0;34m\u001b[0m\u001b[0m\n\u001b[0m\u001b[1;32m     75\u001b[0m             \u001b[0mbst\u001b[0m\u001b[0;34m.\u001b[0m\u001b[0msave_rabit_checkpoint\u001b[0m\u001b[0;34m(\u001b[0m\u001b[0;34m)\u001b[0m\u001b[0;34m\u001b[0m\u001b[0;34m\u001b[0m\u001b[0m\n\u001b[1;32m     76\u001b[0m             \u001b[0mversion\u001b[0m \u001b[0;34m+=\u001b[0m \u001b[0;36m1\u001b[0m\u001b[0;34m\u001b[0m\u001b[0;34m\u001b[0m\u001b[0m\n",
            "\u001b[0;32m/usr/local/lib/python3.8/dist-packages/xgboost/core.py\u001b[0m in \u001b[0;36mupdate\u001b[0;34m(self, dtrain, iteration, fobj)\u001b[0m\n\u001b[1;32m   1106\u001b[0m \u001b[0;34m\u001b[0m\u001b[0m\n\u001b[1;32m   1107\u001b[0m         \u001b[0;32mif\u001b[0m \u001b[0mfobj\u001b[0m \u001b[0;32mis\u001b[0m \u001b[0;32mNone\u001b[0m\u001b[0;34m:\u001b[0m\u001b[0;34m\u001b[0m\u001b[0;34m\u001b[0m\u001b[0m\n\u001b[0;32m-> 1108\u001b[0;31m             _check_call(_LIB.XGBoosterUpdateOneIter(self.handle, ctypes.c_int(iteration),\n\u001b[0m\u001b[1;32m   1109\u001b[0m                                                     dtrain.handle))\n\u001b[1;32m   1110\u001b[0m         \u001b[0;32melse\u001b[0m\u001b[0;34m:\u001b[0m\u001b[0;34m\u001b[0m\u001b[0;34m\u001b[0m\u001b[0m\n",
            "\u001b[0;31mKeyboardInterrupt\u001b[0m: "
          ]
        }
      ],
      "source": [
        "xgboost = XGBClassifier()\n",
        "xgboost.fit(X_train, y_train)"
      ]
    },
    {
      "cell_type": "code",
      "execution_count": null,
      "metadata": {
        "id": "FFUyyc4Ucr2x"
      },
      "outputs": [],
      "source": [
        "predictions = xgboost.predict(X_test)"
      ]
    },
    {
      "cell_type": "code",
      "execution_count": null,
      "metadata": {
        "id": "27qcvMJEcss5"
      },
      "outputs": [],
      "source": [
        "print(confusion_matrix(y_test,predictions))  \n",
        "print(classification_report(y_test,predictions))  \n",
        "print(\"Model evaluation\")\n",
        "print(\"Accuracy:\", accuracy_score(y_test, predictions))"
      ]
    },
    {
      "cell_type": "markdown",
      "metadata": {
        "id": "7BsSzog_cU7c"
      },
      "source": [
        "XGboost with fine-tuning on tweet_simple_clean"
      ]
    },
    {
      "cell_type": "code",
      "execution_count": null,
      "metadata": {
        "id": "V0wDv3fwcUj7"
      },
      "outputs": [],
      "source": [
        "xgboost.get_params()"
      ]
    },
    {
      "cell_type": "code",
      "execution_count": null,
      "metadata": {
        "id": "fhJ_UXVNcgPq"
      },
      "outputs": [],
      "source": [
        "parameters = {'learning_rate':[0.1,0.2,0.3,0.4,0.5,0.6,0.7,0.8,0.9,1], \n",
        "              'subsample':[0.6, 0.7, 0.8, 0.9, 1], \n",
        "              'min_child_weight' : [0,1,2,3,4,5,6,7,8,9,10]}\n",
        "xgboost_model = XGBClassifier()\n",
        "\n",
        "cv = BayesSearchCV(xgboost_model, parameters)\n",
        "cv.fit(X_train, y_train)\n",
        "best_params = cv.best_params_\n",
        "best_params\n"
      ]
    },
    {
      "cell_type": "code",
      "execution_count": null,
      "metadata": {
        "id": "qMAlO2abcgSQ"
      },
      "outputs": [],
      "source": [
        "xgboost= XGBClassifier(**best_params, class_weight='balanced', random_state = 42, \n",
        "                              max_iter=10000)\n",
        "\n",
        "xgboost.fit(X_train, y_train)\n",
        "predictions = xgboost.predict(X_test)"
      ]
    },
    {
      "cell_type": "code",
      "execution_count": null,
      "metadata": {
        "id": "7ZVlxE3lcxup"
      },
      "outputs": [],
      "source": [
        "print(confusion_matrix(y_test,predictions))  \n",
        "print(classification_report(y_test,predictions))  \n",
        "print(\"Model evaluation\")\n",
        "print(\"Accuracy:\", accuracy_score(y_test, predictions))"
      ]
    },
    {
      "cell_type": "markdown",
      "metadata": {
        "id": "kfJeAQuZfmua"
      },
      "source": [
        "\n",
        "\n",
        "---\n",
        "\n"
      ]
    },
    {
      "cell_type": "markdown",
      "metadata": {
        "id": "OmbkCYcaZmC4"
      },
      "source": [
        "Classification models on **tweet_high_clean**"
      ]
    },
    {
      "cell_type": "code",
      "execution_count": null,
      "metadata": {
        "id": "ILjCuO8sYSKi"
      },
      "outputs": [],
      "source": [
        "tweets2 = df['tweet_high_clean']\n",
        "print(tweets2)"
      ]
    },
    {
      "cell_type": "code",
      "execution_count": null,
      "metadata": {
        "id": "jkBDVUa4XpQ4"
      },
      "outputs": [],
      "source": [
        "X = tfidf.fit_transform( df['tweet_high_clean']).toarray()\n",
        "tfidf.get_feature_names_out()"
      ]
    },
    {
      "cell_type": "code",
      "execution_count": null,
      "metadata": {
        "id": "ImKW2lHpX4pa"
      },
      "outputs": [],
      "source": [
        "X_train, X_test, y_train, y_test = train_test_split(X, y, test_size=0.2, random_state=0)"
      ]
    },
    {
      "cell_type": "markdown",
      "metadata": {
        "id": "JWkALTKMYe79"
      },
      "source": [
        "TF-IDF and Naïve Bayes with fine-tuning on tweet_high_clean"
      ]
    },
    {
      "cell_type": "code",
      "execution_count": null,
      "metadata": {
        "id": "ZZ89kCe9bBFl"
      },
      "outputs": [],
      "source": [
        "parameters = {'var_smoothing': np.logspace(0,-9, num=100)}\n",
        "text_classifier = GaussianNB()\n",
        "\n",
        "cv = BayesSearchCV(text_classifier, parameters)TF-IDF and Naïve Bayes without fine-tuning on tweet_simple_clean\n",
        "cv.fit(X_train, y_train)\n",
        "best_params = cv.best_params_\n",
        "best_params"
      ]
    },
    {
      "cell_type": "code",
      "execution_count": null,
      "metadata": {
        "id": "voWriqJNbBFn"
      },
      "outputs": [],
      "source": [
        "text_classifier = GaussianNB(**best_params)\n",
        "\n",
        "text_classifier.fit(X_train, y_train)\n",
        "predictions = text_classifier.predict(X_test)"
      ]
    },
    {
      "cell_type": "code",
      "execution_count": null,
      "metadata": {
        "id": "itu6EW45bBFn"
      },
      "outputs": [],
      "source": [
        "print(confusion_matrix(y_test,predictions))  \n",
        "print(classification_report(y_test,predictions))  \n",
        "print(\"Model evaluation\")\n",
        "print(\"Accuracy:\", accuracy_score(y_test, predictions))"
      ]
    },
    {
      "cell_type": "markdown",
      "metadata": {
        "id": "8xz8SzarX0FR"
      },
      "source": [
        "TF-IDF: Logistic Regression with fine-tuning on tweet_high_clean"
      ]
    },
    {
      "cell_type": "code",
      "execution_count": null,
      "metadata": {
        "colab": {
          "background_save": true
        },
        "id": "N2z4sPV9YzuW",
        "outputId": "9bf1b9e7-e1b6-429d-9bd2-f53ed0e59588"
      },
      "outputs": [
        {
          "data": {
            "text/plain": [
              "OrderedDict([('C', 1.0)])"
            ]
          },
          "execution_count": 75,
          "metadata": {},
          "output_type": "execute_result"
        }
      ],
      "source": [
        "from skopt import BayesSearchCV\n",
        "parameters = {'C':[0.1,0.2,0.3,0.4,0.5,0.6,0.7,0.8,0.9,1]}\n",
        "log_reg_model = LogisticRegression()\n",
        "\n",
        "cv = BayesSearchCV(log_reg_model, parameters)\n",
        "cv.fit(X_train, y_train)\n",
        "best_params = cv.best_params_\n",
        "best_params\n"
      ]
    },
    {
      "cell_type": "code",
      "execution_count": null,
      "metadata": {
        "id": "6y0AET-lYzuY"
      },
      "outputs": [],
      "source": [
        "logistic = LogisticRegression(**best_params, class_weight='balanced', random_state = 42, \n",
        "                              max_iter=10000)\n",
        "\n",
        "logistic.fit(X_train, y_train)\n",
        "predictions = logistic.predict(X_test)"
      ]
    },
    {
      "cell_type": "code",
      "execution_count": null,
      "metadata": {
        "colab": {
          "background_save": true
        },
        "id": "FyIS_JNZYzuZ",
        "outputId": "9d576063-a02e-445a-c1d6-d048e55abb68"
      },
      "outputs": [
        {
          "name": "stdout",
          "output_type": "stream",
          "text": [
            "[[731  22  73]\n",
            " [118 195  47]\n",
            " [216  27 338]]\n",
            "              precision    recall  f1-score   support\n",
            "\n",
            "    Negative       0.69      0.88      0.77       826\n",
            "     Neutral       0.80      0.54      0.65       360\n",
            "    Positive       0.74      0.58      0.65       581\n",
            "\n",
            "    accuracy                           0.72      1767\n",
            "   macro avg       0.74      0.67      0.69      1767\n",
            "weighted avg       0.73      0.72      0.71      1767\n",
            "\n",
            "Model evaluation\n",
            "Accuracy: 0.7153367289190719\n"
          ]
        }
      ],
      "source": [
        "print(confusion_matrix(y_test,predictions))  \n",
        "print(classification_report(y_test,predictions))  \n",
        "print(\"Model evaluation\")\n",
        "print(\"Accuracy:\", accuracy_score(y_test, predictions))"
      ]
    },
    {
      "cell_type": "markdown",
      "metadata": {
        "id": "4GVDOHO-ZS-3"
      },
      "source": [
        "TF-IDF: XGboost with fine-tuning on tweet_high_clean"
      ]
    },
    {
      "cell_type": "code",
      "execution_count": null,
      "metadata": {
        "id": "t2SoY7xQZRk8"
      },
      "outputs": [],
      "source": [
        "parameters = {'learning_rate':[0.1,0.2,0.3,0.4,0.5,0.6,0.7,0.8,0.9,1], \n",
        "              'subsample':[0.6, 0.7, 0.8, 0.9, 1], \n",
        "              'min_child_weight' : [0,1,2,3,4,5,6,7,8,9,10]}\n",
        "xgboost_model = XGBClassifier()\n",
        "\n",
        "cv = BayesSearchCV(xgboost_model, parameters)\n",
        "cv.fit(X_train, y_train)\n",
        "best_params = cv.best_params_\n",
        "best_params\n"
      ]
    },
    {
      "cell_type": "code",
      "execution_count": null,
      "metadata": {
        "id": "BiQA7fTqZRk_"
      },
      "outputs": [],
      "source": [
        "xgboost= XGBClassifier(**best_params, class_weight='balanced', random_state = 42, \n",
        "                              max_iter=10000)\n",
        "\n",
        "xgboost.fit(X_train, y_train)\n",
        "predictions = xgboost.predict(X_test)"
      ]
    },
    {
      "cell_type": "code",
      "execution_count": null,
      "metadata": {
        "id": "Y5nLvu42ZRk_"
      },
      "outputs": [],
      "source": [
        "print(confusion_matrix(y_test,predictions))  \n",
        "print(classification_report(y_test,predictions))  \n",
        "print(\"Model evaluation\")\n",
        "print(\"Accuracy:\", accuracy_score(y_test, predictions))"
      ]
    }
  ],
  "metadata": {
    "colab": {
      "collapsed_sections": [
        "GqTGlWM00GMU"
      ],
      "provenance": []
    },
    "gpuClass": "standard",
    "kernelspec": {
      "display_name": "Python 3.9.15 ('tensorflow_m1')",
      "language": "python",
      "name": "python3"
    },
    "language_info": {
      "codemirror_mode": {
        "name": "ipython",
        "version": 3
      },
      "file_extension": ".py",
      "mimetype": "text/x-python",
      "name": "python",
      "nbconvert_exporter": "python",
      "pygments_lexer": "ipython3",
      "version": "3.9.15"
    },
    "vscode": {
      "interpreter": {
        "hash": "45f0cb3979fa5b4f029cb5c5d8317d6d20d323396df1800a580744977c7d2001"
      }
    },
    "widgets": {
      "application/vnd.jupyter.widget-state+json": {
        "0119201e683b45c38461ba470a0efb2e": {
          "model_module": "@jupyter-widgets/base",
          "model_module_version": "1.2.0",
          "model_name": "LayoutModel",
          "state": {
            "_model_module": "@jupyter-widgets/base",
            "_model_module_version": "1.2.0",
            "_model_name": "LayoutModel",
            "_view_count": null,
            "_view_module": "@jupyter-widgets/base",
            "_view_module_version": "1.2.0",
            "_view_name": "LayoutView",
            "align_content": null,
            "align_items": null,
            "align_self": null,
            "border": null,
            "bottom": null,
            "display": null,
            "flex": null,
            "flex_flow": null,
            "grid_area": null,
            "grid_auto_columns": null,
            "grid_auto_flow": null,
            "grid_auto_rows": null,
            "grid_column": null,
            "grid_gap": null,
            "grid_row": null,
            "grid_template_areas": null,
            "grid_template_columns": null,
            "grid_template_rows": null,
            "height": null,
            "justify_content": null,
            "justify_items": null,
            "left": null,
            "margin": null,
            "max_height": null,
            "max_width": null,
            "min_height": null,
            "min_width": null,
            "object_fit": null,
            "object_position": null,
            "order": null,
            "overflow": null,
            "overflow_x": null,
            "overflow_y": null,
            "padding": null,
            "right": null,
            "top": null,
            "visibility": null,
            "width": null
          }
        },
        "073fff0ce2984d21bc2f1e015ea28ddf": {
          "model_module": "@jupyter-widgets/controls",
          "model_module_version": "1.5.0",
          "model_name": "HTMLModel",
          "state": {
            "_dom_classes": [],
            "_model_module": "@jupyter-widgets/controls",
            "_model_module_version": "1.5.0",
            "_model_name": "HTMLModel",
            "_view_count": null,
            "_view_module": "@jupyter-widgets/controls",
            "_view_module_version": "1.5.0",
            "_view_name": "HTMLView",
            "description": "",
            "description_tooltip": null,
            "layout": "IPY_MODEL_2d35a7a56d244f43bac6aa42bb5b14aa",
            "placeholder": "​",
            "style": "IPY_MODEL_6111b660d90140428f9c5ba84330f141",
            "value": " 28.0/28.0 [00:00&lt;00:00, 231B/s]"
          }
        },
        "0c74023e58684316966e79106957a6cc": {
          "model_module": "@jupyter-widgets/controls",
          "model_module_version": "1.5.0",
          "model_name": "HBoxModel",
          "state": {
            "_dom_classes": [],
            "_model_module": "@jupyter-widgets/controls",
            "_model_module_version": "1.5.0",
            "_model_name": "HBoxModel",
            "_view_count": null,
            "_view_module": "@jupyter-widgets/controls",
            "_view_module_version": "1.5.0",
            "_view_name": "HBoxView",
            "box_style": "",
            "children": [
              "IPY_MODEL_59cd3195bc6d4e4e97a044f56782671a",
              "IPY_MODEL_1a9c4dc8316943fd8b7d67eaccde1a38",
              "IPY_MODEL_dbd4253989b74fb6aca6d298dad423eb"
            ],
            "layout": "IPY_MODEL_5041f00fe50647658223bce9bcdc6d13"
          }
        },
        "16e40e6d26774e34944625c9e384042d": {
          "model_module": "@jupyter-widgets/base",
          "model_module_version": "1.2.0",
          "model_name": "LayoutModel",
          "state": {
            "_model_module": "@jupyter-widgets/base",
            "_model_module_version": "1.2.0",
            "_model_name": "LayoutModel",
            "_view_count": null,
            "_view_module": "@jupyter-widgets/base",
            "_view_module_version": "1.2.0",
            "_view_name": "LayoutView",
            "align_content": null,
            "align_items": null,
            "align_self": null,
            "border": null,
            "bottom": null,
            "display": null,
            "flex": null,
            "flex_flow": null,
            "grid_area": null,
            "grid_auto_columns": null,
            "grid_auto_flow": null,
            "grid_auto_rows": null,
            "grid_column": null,
            "grid_gap": null,
            "grid_row": null,
            "grid_template_areas": null,
            "grid_template_columns": null,
            "grid_template_rows": null,
            "height": null,
            "justify_content": null,
            "justify_items": null,
            "left": null,
            "margin": null,
            "max_height": null,
            "max_width": null,
            "min_height": null,
            "min_width": null,
            "object_fit": null,
            "object_position": null,
            "order": null,
            "overflow": null,
            "overflow_x": null,
            "overflow_y": null,
            "padding": null,
            "right": null,
            "top": null,
            "visibility": null,
            "width": null
          }
        },
        "1a9c4dc8316943fd8b7d67eaccde1a38": {
          "model_module": "@jupyter-widgets/controls",
          "model_module_version": "1.5.0",
          "model_name": "FloatProgressModel",
          "state": {
            "_dom_classes": [],
            "_model_module": "@jupyter-widgets/controls",
            "_model_module_version": "1.5.0",
            "_model_name": "FloatProgressModel",
            "_view_count": null,
            "_view_module": "@jupyter-widgets/controls",
            "_view_module_version": "1.5.0",
            "_view_name": "ProgressView",
            "bar_style": "success",
            "description": "",
            "description_tooltip": null,
            "layout": "IPY_MODEL_6ff7e590320c4a57a6e7d26a703b6db3",
            "max": 231508,
            "min": 0,
            "orientation": "horizontal",
            "style": "IPY_MODEL_de6a2f2a84884f3c8ca1062a5a3a05ed",
            "value": 231508
          }
        },
        "23a70d45efe74b81b46b4ddffb6c46d8": {
          "model_module": "@jupyter-widgets/controls",
          "model_module_version": "1.5.0",
          "model_name": "ProgressStyleModel",
          "state": {
            "_model_module": "@jupyter-widgets/controls",
            "_model_module_version": "1.5.0",
            "_model_name": "ProgressStyleModel",
            "_view_count": null,
            "_view_module": "@jupyter-widgets/base",
            "_view_module_version": "1.2.0",
            "_view_name": "StyleView",
            "bar_color": null,
            "description_width": ""
          }
        },
        "24ae536c11dd4f878eeb4247135e72fd": {
          "model_module": "@jupyter-widgets/controls",
          "model_module_version": "1.5.0",
          "model_name": "FloatProgressModel",
          "state": {
            "_dom_classes": [],
            "_model_module": "@jupyter-widgets/controls",
            "_model_module_version": "1.5.0",
            "_model_name": "FloatProgressModel",
            "_view_count": null,
            "_view_module": "@jupyter-widgets/controls",
            "_view_module_version": "1.5.0",
            "_view_name": "ProgressView",
            "bar_style": "success",
            "description": "",
            "description_tooltip": null,
            "layout": "IPY_MODEL_a417166db07945c5a289da7d50c50082",
            "max": 28,
            "min": 0,
            "orientation": "horizontal",
            "style": "IPY_MODEL_23a70d45efe74b81b46b4ddffb6c46d8",
            "value": 28
          }
        },
        "25b59143deba447f8a4a30d1964259f4": {
          "model_module": "@jupyter-widgets/base",
          "model_module_version": "1.2.0",
          "model_name": "LayoutModel",
          "state": {
            "_model_module": "@jupyter-widgets/base",
            "_model_module_version": "1.2.0",
            "_model_name": "LayoutModel",
            "_view_count": null,
            "_view_module": "@jupyter-widgets/base",
            "_view_module_version": "1.2.0",
            "_view_name": "LayoutView",
            "align_content": null,
            "align_items": null,
            "align_self": null,
            "border": null,
            "bottom": null,
            "display": null,
            "flex": null,
            "flex_flow": null,
            "grid_area": null,
            "grid_auto_columns": null,
            "grid_auto_flow": null,
            "grid_auto_rows": null,
            "grid_column": null,
            "grid_gap": null,
            "grid_row": null,
            "grid_template_areas": null,
            "grid_template_columns": null,
            "grid_template_rows": null,
            "height": null,
            "justify_content": null,
            "justify_items": null,
            "left": null,
            "margin": null,
            "max_height": null,
            "max_width": null,
            "min_height": null,
            "min_width": null,
            "object_fit": null,
            "object_position": null,
            "order": null,
            "overflow": null,
            "overflow_x": null,
            "overflow_y": null,
            "padding": null,
            "right": null,
            "top": null,
            "visibility": null,
            "width": null
          }
        },
        "2ba39bd7b11e49dcab14417c398ab9f2": {
          "model_module": "@jupyter-widgets/controls",
          "model_module_version": "1.5.0",
          "model_name": "DescriptionStyleModel",
          "state": {
            "_model_module": "@jupyter-widgets/controls",
            "_model_module_version": "1.5.0",
            "_model_name": "DescriptionStyleModel",
            "_view_count": null,
            "_view_module": "@jupyter-widgets/base",
            "_view_module_version": "1.2.0",
            "_view_name": "StyleView",
            "description_width": ""
          }
        },
        "2d31dff25e54458e980bf6ad8009dfb2": {
          "model_module": "@jupyter-widgets/base",
          "model_module_version": "1.2.0",
          "model_name": "LayoutModel",
          "state": {
            "_model_module": "@jupyter-widgets/base",
            "_model_module_version": "1.2.0",
            "_model_name": "LayoutModel",
            "_view_count": null,
            "_view_module": "@jupyter-widgets/base",
            "_view_module_version": "1.2.0",
            "_view_name": "LayoutView",
            "align_content": null,
            "align_items": null,
            "align_self": null,
            "border": null,
            "bottom": null,
            "display": null,
            "flex": null,
            "flex_flow": null,
            "grid_area": null,
            "grid_auto_columns": null,
            "grid_auto_flow": null,
            "grid_auto_rows": null,
            "grid_column": null,
            "grid_gap": null,
            "grid_row": null,
            "grid_template_areas": null,
            "grid_template_columns": null,
            "grid_template_rows": null,
            "height": null,
            "justify_content": null,
            "justify_items": null,
            "left": null,
            "margin": null,
            "max_height": null,
            "max_width": null,
            "min_height": null,
            "min_width": null,
            "object_fit": null,
            "object_position": null,
            "order": null,
            "overflow": null,
            "overflow_x": null,
            "overflow_y": null,
            "padding": null,
            "right": null,
            "top": null,
            "visibility": null,
            "width": null
          }
        },
        "2d35a7a56d244f43bac6aa42bb5b14aa": {
          "model_module": "@jupyter-widgets/base",
          "model_module_version": "1.2.0",
          "model_name": "LayoutModel",
          "state": {
            "_model_module": "@jupyter-widgets/base",
            "_model_module_version": "1.2.0",
            "_model_name": "LayoutModel",
            "_view_count": null,
            "_view_module": "@jupyter-widgets/base",
            "_view_module_version": "1.2.0",
            "_view_name": "LayoutView",
            "align_content": null,
            "align_items": null,
            "align_self": null,
            "border": null,
            "bottom": null,
            "display": null,
            "flex": null,
            "flex_flow": null,
            "grid_area": null,
            "grid_auto_columns": null,
            "grid_auto_flow": null,
            "grid_auto_rows": null,
            "grid_column": null,
            "grid_gap": null,
            "grid_row": null,
            "grid_template_areas": null,
            "grid_template_columns": null,
            "grid_template_rows": null,
            "height": null,
            "justify_content": null,
            "justify_items": null,
            "left": null,
            "margin": null,
            "max_height": null,
            "max_width": null,
            "min_height": null,
            "min_width": null,
            "object_fit": null,
            "object_position": null,
            "order": null,
            "overflow": null,
            "overflow_x": null,
            "overflow_y": null,
            "padding": null,
            "right": null,
            "top": null,
            "visibility": null,
            "width": null
          }
        },
        "2dd4733356ad4479adf8f6d2df756b27": {
          "model_module": "@jupyter-widgets/controls",
          "model_module_version": "1.5.0",
          "model_name": "DescriptionStyleModel",
          "state": {
            "_model_module": "@jupyter-widgets/controls",
            "_model_module_version": "1.5.0",
            "_model_name": "DescriptionStyleModel",
            "_view_count": null,
            "_view_module": "@jupyter-widgets/base",
            "_view_module_version": "1.2.0",
            "_view_name": "StyleView",
            "description_width": ""
          }
        },
        "38f950ea39a3469ab673cd3f5b7a155d": {
          "model_module": "@jupyter-widgets/controls",
          "model_module_version": "1.5.0",
          "model_name": "HBoxModel",
          "state": {
            "_dom_classes": [],
            "_model_module": "@jupyter-widgets/controls",
            "_model_module_version": "1.5.0",
            "_model_name": "HBoxModel",
            "_view_count": null,
            "_view_module": "@jupyter-widgets/controls",
            "_view_module_version": "1.5.0",
            "_view_name": "HBoxView",
            "box_style": "",
            "children": [
              "IPY_MODEL_fee9eda945564c01af0d71befa76eac6",
              "IPY_MODEL_24ae536c11dd4f878eeb4247135e72fd",
              "IPY_MODEL_073fff0ce2984d21bc2f1e015ea28ddf"
            ],
            "layout": "IPY_MODEL_52c7f8dcf6ab4c179178ce2bc4773387"
          }
        },
        "3b6cb7ae6a8e4d39827e6dee89d4a317": {
          "model_module": "@jupyter-widgets/base",
          "model_module_version": "1.2.0",
          "model_name": "LayoutModel",
          "state": {
            "_model_module": "@jupyter-widgets/base",
            "_model_module_version": "1.2.0",
            "_model_name": "LayoutModel",
            "_view_count": null,
            "_view_module": "@jupyter-widgets/base",
            "_view_module_version": "1.2.0",
            "_view_name": "LayoutView",
            "align_content": null,
            "align_items": null,
            "align_self": null,
            "border": null,
            "bottom": null,
            "display": null,
            "flex": null,
            "flex_flow": null,
            "grid_area": null,
            "grid_auto_columns": null,
            "grid_auto_flow": null,
            "grid_auto_rows": null,
            "grid_column": null,
            "grid_gap": null,
            "grid_row": null,
            "grid_template_areas": null,
            "grid_template_columns": null,
            "grid_template_rows": null,
            "height": null,
            "justify_content": null,
            "justify_items": null,
            "left": null,
            "margin": null,
            "max_height": null,
            "max_width": null,
            "min_height": null,
            "min_width": null,
            "object_fit": null,
            "object_position": null,
            "order": null,
            "overflow": null,
            "overflow_x": null,
            "overflow_y": null,
            "padding": null,
            "right": null,
            "top": null,
            "visibility": null,
            "width": null
          }
        },
        "5041f00fe50647658223bce9bcdc6d13": {
          "model_module": "@jupyter-widgets/base",
          "model_module_version": "1.2.0",
          "model_name": "LayoutModel",
          "state": {
            "_model_module": "@jupyter-widgets/base",
            "_model_module_version": "1.2.0",
            "_model_name": "LayoutModel",
            "_view_count": null,
            "_view_module": "@jupyter-widgets/base",
            "_view_module_version": "1.2.0",
            "_view_name": "LayoutView",
            "align_content": null,
            "align_items": null,
            "align_self": null,
            "border": null,
            "bottom": null,
            "display": null,
            "flex": null,
            "flex_flow": null,
            "grid_area": null,
            "grid_auto_columns": null,
            "grid_auto_flow": null,
            "grid_auto_rows": null,
            "grid_column": null,
            "grid_gap": null,
            "grid_row": null,
            "grid_template_areas": null,
            "grid_template_columns": null,
            "grid_template_rows": null,
            "height": null,
            "justify_content": null,
            "justify_items": null,
            "left": null,
            "margin": null,
            "max_height": null,
            "max_width": null,
            "min_height": null,
            "min_width": null,
            "object_fit": null,
            "object_position": null,
            "order": null,
            "overflow": null,
            "overflow_x": null,
            "overflow_y": null,
            "padding": null,
            "right": null,
            "top": null,
            "visibility": null,
            "width": null
          }
        },
        "52c7f8dcf6ab4c179178ce2bc4773387": {
          "model_module": "@jupyter-widgets/base",
          "model_module_version": "1.2.0",
          "model_name": "LayoutModel",
          "state": {
            "_model_module": "@jupyter-widgets/base",
            "_model_module_version": "1.2.0",
            "_model_name": "LayoutModel",
            "_view_count": null,
            "_view_module": "@jupyter-widgets/base",
            "_view_module_version": "1.2.0",
            "_view_name": "LayoutView",
            "align_content": null,
            "align_items": null,
            "align_self": null,
            "border": null,
            "bottom": null,
            "display": null,
            "flex": null,
            "flex_flow": null,
            "grid_area": null,
            "grid_auto_columns": null,
            "grid_auto_flow": null,
            "grid_auto_rows": null,
            "grid_column": null,
            "grid_gap": null,
            "grid_row": null,
            "grid_template_areas": null,
            "grid_template_columns": null,
            "grid_template_rows": null,
            "height": null,
            "justify_content": null,
            "justify_items": null,
            "left": null,
            "margin": null,
            "max_height": null,
            "max_width": null,
            "min_height": null,
            "min_width": null,
            "object_fit": null,
            "object_position": null,
            "order": null,
            "overflow": null,
            "overflow_x": null,
            "overflow_y": null,
            "padding": null,
            "right": null,
            "top": null,
            "visibility": null,
            "width": null
          }
        },
        "59cd3195bc6d4e4e97a044f56782671a": {
          "model_module": "@jupyter-widgets/controls",
          "model_module_version": "1.5.0",
          "model_name": "HTMLModel",
          "state": {
            "_dom_classes": [],
            "_model_module": "@jupyter-widgets/controls",
            "_model_module_version": "1.5.0",
            "_model_name": "HTMLModel",
            "_view_count": null,
            "_view_module": "@jupyter-widgets/controls",
            "_view_module_version": "1.5.0",
            "_view_name": "HTMLView",
            "description": "",
            "description_tooltip": null,
            "layout": "IPY_MODEL_83d233d928734193a85163fe22b63928",
            "placeholder": "​",
            "style": "IPY_MODEL_2ba39bd7b11e49dcab14417c398ab9f2",
            "value": "Downloading: 100%"
          }
        },
        "5f8161ab03274d0da0380ca50156a0fd": {
          "model_module": "@jupyter-widgets/controls",
          "model_module_version": "1.5.0",
          "model_name": "DescriptionStyleModel",
          "state": {
            "_model_module": "@jupyter-widgets/controls",
            "_model_module_version": "1.5.0",
            "_model_name": "DescriptionStyleModel",
            "_view_count": null,
            "_view_module": "@jupyter-widgets/base",
            "_view_module_version": "1.2.0",
            "_view_name": "StyleView",
            "description_width": ""
          }
        },
        "6111b660d90140428f9c5ba84330f141": {
          "model_module": "@jupyter-widgets/controls",
          "model_module_version": "1.5.0",
          "model_name": "DescriptionStyleModel",
          "state": {
            "_model_module": "@jupyter-widgets/controls",
            "_model_module_version": "1.5.0",
            "_model_name": "DescriptionStyleModel",
            "_view_count": null,
            "_view_module": "@jupyter-widgets/base",
            "_view_module_version": "1.2.0",
            "_view_name": "StyleView",
            "description_width": ""
          }
        },
        "678a66d074164f71b7de83bbec7a2d6a": {
          "model_module": "@jupyter-widgets/controls",
          "model_module_version": "1.5.0",
          "model_name": "ProgressStyleModel",
          "state": {
            "_model_module": "@jupyter-widgets/controls",
            "_model_module_version": "1.5.0",
            "_model_name": "ProgressStyleModel",
            "_view_count": null,
            "_view_module": "@jupyter-widgets/base",
            "_view_module_version": "1.2.0",
            "_view_name": "StyleView",
            "bar_color": null,
            "description_width": ""
          }
        },
        "6ff7e590320c4a57a6e7d26a703b6db3": {
          "model_module": "@jupyter-widgets/base",
          "model_module_version": "1.2.0",
          "model_name": "LayoutModel",
          "state": {
            "_model_module": "@jupyter-widgets/base",
            "_model_module_version": "1.2.0",
            "_model_name": "LayoutModel",
            "_view_count": null,
            "_view_module": "@jupyter-widgets/base",
            "_view_module_version": "1.2.0",
            "_view_name": "LayoutView",
            "align_content": null,
            "align_items": null,
            "align_self": null,
            "border": null,
            "bottom": null,
            "display": null,
            "flex": null,
            "flex_flow": null,
            "grid_area": null,
            "grid_auto_columns": null,
            "grid_auto_flow": null,
            "grid_auto_rows": null,
            "grid_column": null,
            "grid_gap": null,
            "grid_row": null,
            "grid_template_areas": null,
            "grid_template_columns": null,
            "grid_template_rows": null,
            "height": null,
            "justify_content": null,
            "justify_items": null,
            "left": null,
            "margin": null,
            "max_height": null,
            "max_width": null,
            "min_height": null,
            "min_width": null,
            "object_fit": null,
            "object_position": null,
            "order": null,
            "overflow": null,
            "overflow_x": null,
            "overflow_y": null,
            "padding": null,
            "right": null,
            "top": null,
            "visibility": null,
            "width": null
          }
        },
        "77167bf4a54c43e08b8c2fc6a4c635e6": {
          "model_module": "@jupyter-widgets/controls",
          "model_module_version": "1.5.0",
          "model_name": "FloatProgressModel",
          "state": {
            "_dom_classes": [],
            "_model_module": "@jupyter-widgets/controls",
            "_model_module_version": "1.5.0",
            "_model_name": "FloatProgressModel",
            "_view_count": null,
            "_view_module": "@jupyter-widgets/controls",
            "_view_module_version": "1.5.0",
            "_view_name": "ProgressView",
            "bar_style": "success",
            "description": "",
            "description_tooltip": null,
            "layout": "IPY_MODEL_3b6cb7ae6a8e4d39827e6dee89d4a317",
            "max": 267967963,
            "min": 0,
            "orientation": "horizontal",
            "style": "IPY_MODEL_678a66d074164f71b7de83bbec7a2d6a",
            "value": 267967963
          }
        },
        "77b71cb65ec0466283f7b3cb4e52a013": {
          "model_module": "@jupyter-widgets/controls",
          "model_module_version": "1.5.0",
          "model_name": "HTMLModel",
          "state": {
            "_dom_classes": [],
            "_model_module": "@jupyter-widgets/controls",
            "_model_module_version": "1.5.0",
            "_model_name": "HTMLModel",
            "_view_count": null,
            "_view_module": "@jupyter-widgets/controls",
            "_view_module_version": "1.5.0",
            "_view_name": "HTMLView",
            "description": "",
            "description_tooltip": null,
            "layout": "IPY_MODEL_c0a152dce20b4cd5993e280d4b3da76a",
            "placeholder": "​",
            "style": "IPY_MODEL_5f8161ab03274d0da0380ca50156a0fd",
            "value": " 268M/268M [00:04&lt;00:00, 58.8MB/s]"
          }
        },
        "78afadaac144432c88ab2bcc15396da0": {
          "model_module": "@jupyter-widgets/base",
          "model_module_version": "1.2.0",
          "model_name": "LayoutModel",
          "state": {
            "_model_module": "@jupyter-widgets/base",
            "_model_module_version": "1.2.0",
            "_model_name": "LayoutModel",
            "_view_count": null,
            "_view_module": "@jupyter-widgets/base",
            "_view_module_version": "1.2.0",
            "_view_name": "LayoutView",
            "align_content": null,
            "align_items": null,
            "align_self": null,
            "border": null,
            "bottom": null,
            "display": null,
            "flex": null,
            "flex_flow": null,
            "grid_area": null,
            "grid_auto_columns": null,
            "grid_auto_flow": null,
            "grid_auto_rows": null,
            "grid_column": null,
            "grid_gap": null,
            "grid_row": null,
            "grid_template_areas": null,
            "grid_template_columns": null,
            "grid_template_rows": null,
            "height": null,
            "justify_content": null,
            "justify_items": null,
            "left": null,
            "margin": null,
            "max_height": null,
            "max_width": null,
            "min_height": null,
            "min_width": null,
            "object_fit": null,
            "object_position": null,
            "order": null,
            "overflow": null,
            "overflow_x": null,
            "overflow_y": null,
            "padding": null,
            "right": null,
            "top": null,
            "visibility": null,
            "width": null
          }
        },
        "7b104038c99643dab45255e034c8896e": {
          "model_module": "@jupyter-widgets/controls",
          "model_module_version": "1.5.0",
          "model_name": "HBoxModel",
          "state": {
            "_dom_classes": [],
            "_model_module": "@jupyter-widgets/controls",
            "_model_module_version": "1.5.0",
            "_model_name": "HBoxModel",
            "_view_count": null,
            "_view_module": "@jupyter-widgets/controls",
            "_view_module_version": "1.5.0",
            "_view_name": "HBoxView",
            "box_style": "",
            "children": [
              "IPY_MODEL_86d315fddf514fe5b300a401f1ec233b",
              "IPY_MODEL_77167bf4a54c43e08b8c2fc6a4c635e6",
              "IPY_MODEL_77b71cb65ec0466283f7b3cb4e52a013"
            ],
            "layout": "IPY_MODEL_9222786570d74e23ae5fc17ae881292d"
          }
        },
        "83d233d928734193a85163fe22b63928": {
          "model_module": "@jupyter-widgets/base",
          "model_module_version": "1.2.0",
          "model_name": "LayoutModel",
          "state": {
            "_model_module": "@jupyter-widgets/base",
            "_model_module_version": "1.2.0",
            "_model_name": "LayoutModel",
            "_view_count": null,
            "_view_module": "@jupyter-widgets/base",
            "_view_module_version": "1.2.0",
            "_view_name": "LayoutView",
            "align_content": null,
            "align_items": null,
            "align_self": null,
            "border": null,
            "bottom": null,
            "display": null,
            "flex": null,
            "flex_flow": null,
            "grid_area": null,
            "grid_auto_columns": null,
            "grid_auto_flow": null,
            "grid_auto_rows": null,
            "grid_column": null,
            "grid_gap": null,
            "grid_row": null,
            "grid_template_areas": null,
            "grid_template_columns": null,
            "grid_template_rows": null,
            "height": null,
            "justify_content": null,
            "justify_items": null,
            "left": null,
            "margin": null,
            "max_height": null,
            "max_width": null,
            "min_height": null,
            "min_width": null,
            "object_fit": null,
            "object_position": null,
            "order": null,
            "overflow": null,
            "overflow_x": null,
            "overflow_y": null,
            "padding": null,
            "right": null,
            "top": null,
            "visibility": null,
            "width": null
          }
        },
        "85bf49233d23462187ada8214cd98d01": {
          "model_module": "@jupyter-widgets/controls",
          "model_module_version": "1.5.0",
          "model_name": "DescriptionStyleModel",
          "state": {
            "_model_module": "@jupyter-widgets/controls",
            "_model_module_version": "1.5.0",
            "_model_name": "DescriptionStyleModel",
            "_view_count": null,
            "_view_module": "@jupyter-widgets/base",
            "_view_module_version": "1.2.0",
            "_view_name": "StyleView",
            "description_width": ""
          }
        },
        "86d315fddf514fe5b300a401f1ec233b": {
          "model_module": "@jupyter-widgets/controls",
          "model_module_version": "1.5.0",
          "model_name": "HTMLModel",
          "state": {
            "_dom_classes": [],
            "_model_module": "@jupyter-widgets/controls",
            "_model_module_version": "1.5.0",
            "_model_name": "HTMLModel",
            "_view_count": null,
            "_view_module": "@jupyter-widgets/controls",
            "_view_module_version": "1.5.0",
            "_view_name": "HTMLView",
            "description": "",
            "description_tooltip": null,
            "layout": "IPY_MODEL_9749950c504340cc8bd63ab9eb7f70b7",
            "placeholder": "​",
            "style": "IPY_MODEL_c7af63ae5ba348c9888b6b33f8b02a2e",
            "value": "Downloading: 100%"
          }
        },
        "9222786570d74e23ae5fc17ae881292d": {
          "model_module": "@jupyter-widgets/base",
          "model_module_version": "1.2.0",
          "model_name": "LayoutModel",
          "state": {
            "_model_module": "@jupyter-widgets/base",
            "_model_module_version": "1.2.0",
            "_model_name": "LayoutModel",
            "_view_count": null,
            "_view_module": "@jupyter-widgets/base",
            "_view_module_version": "1.2.0",
            "_view_name": "LayoutView",
            "align_content": null,
            "align_items": null,
            "align_self": null,
            "border": null,
            "bottom": null,
            "display": null,
            "flex": null,
            "flex_flow": null,
            "grid_area": null,
            "grid_auto_columns": null,
            "grid_auto_flow": null,
            "grid_auto_rows": null,
            "grid_column": null,
            "grid_gap": null,
            "grid_row": null,
            "grid_template_areas": null,
            "grid_template_columns": null,
            "grid_template_rows": null,
            "height": null,
            "justify_content": null,
            "justify_items": null,
            "left": null,
            "margin": null,
            "max_height": null,
            "max_width": null,
            "min_height": null,
            "min_width": null,
            "object_fit": null,
            "object_position": null,
            "order": null,
            "overflow": null,
            "overflow_x": null,
            "overflow_y": null,
            "padding": null,
            "right": null,
            "top": null,
            "visibility": null,
            "width": null
          }
        },
        "9749950c504340cc8bd63ab9eb7f70b7": {
          "model_module": "@jupyter-widgets/base",
          "model_module_version": "1.2.0",
          "model_name": "LayoutModel",
          "state": {
            "_model_module": "@jupyter-widgets/base",
            "_model_module_version": "1.2.0",
            "_model_name": "LayoutModel",
            "_view_count": null,
            "_view_module": "@jupyter-widgets/base",
            "_view_module_version": "1.2.0",
            "_view_name": "LayoutView",
            "align_content": null,
            "align_items": null,
            "align_self": null,
            "border": null,
            "bottom": null,
            "display": null,
            "flex": null,
            "flex_flow": null,
            "grid_area": null,
            "grid_auto_columns": null,
            "grid_auto_flow": null,
            "grid_auto_rows": null,
            "grid_column": null,
            "grid_gap": null,
            "grid_row": null,
            "grid_template_areas": null,
            "grid_template_columns": null,
            "grid_template_rows": null,
            "height": null,
            "justify_content": null,
            "justify_items": null,
            "left": null,
            "margin": null,
            "max_height": null,
            "max_width": null,
            "min_height": null,
            "min_width": null,
            "object_fit": null,
            "object_position": null,
            "order": null,
            "overflow": null,
            "overflow_x": null,
            "overflow_y": null,
            "padding": null,
            "right": null,
            "top": null,
            "visibility": null,
            "width": null
          }
        },
        "9bb144d8e5f941ad8de699fe8a95919b": {
          "model_module": "@jupyter-widgets/controls",
          "model_module_version": "1.5.0",
          "model_name": "HBoxModel",
          "state": {
            "_dom_classes": [],
            "_model_module": "@jupyter-widgets/controls",
            "_model_module_version": "1.5.0",
            "_model_name": "HBoxModel",
            "_view_count": null,
            "_view_module": "@jupyter-widgets/controls",
            "_view_module_version": "1.5.0",
            "_view_name": "HBoxView",
            "box_style": "",
            "children": [
              "IPY_MODEL_a7000e9d629b445a8bcd2c3e549f94f3",
              "IPY_MODEL_a6cba5c16431437a9b55570598deb40e",
              "IPY_MODEL_cc43f434613e40ed8e1edb2cc6d68595"
            ],
            "layout": "IPY_MODEL_0119201e683b45c38461ba470a0efb2e"
          }
        },
        "a417166db07945c5a289da7d50c50082": {
          "model_module": "@jupyter-widgets/base",
          "model_module_version": "1.2.0",
          "model_name": "LayoutModel",
          "state": {
            "_model_module": "@jupyter-widgets/base",
            "_model_module_version": "1.2.0",
            "_model_name": "LayoutModel",
            "_view_count": null,
            "_view_module": "@jupyter-widgets/base",
            "_view_module_version": "1.2.0",
            "_view_name": "LayoutView",
            "align_content": null,
            "align_items": null,
            "align_self": null,
            "border": null,
            "bottom": null,
            "display": null,
            "flex": null,
            "flex_flow": null,
            "grid_area": null,
            "grid_auto_columns": null,
            "grid_auto_flow": null,
            "grid_auto_rows": null,
            "grid_column": null,
            "grid_gap": null,
            "grid_row": null,
            "grid_template_areas": null,
            "grid_template_columns": null,
            "grid_template_rows": null,
            "height": null,
            "justify_content": null,
            "justify_items": null,
            "left": null,
            "margin": null,
            "max_height": null,
            "max_width": null,
            "min_height": null,
            "min_width": null,
            "object_fit": null,
            "object_position": null,
            "order": null,
            "overflow": null,
            "overflow_x": null,
            "overflow_y": null,
            "padding": null,
            "right": null,
            "top": null,
            "visibility": null,
            "width": null
          }
        },
        "a6cba5c16431437a9b55570598deb40e": {
          "model_module": "@jupyter-widgets/controls",
          "model_module_version": "1.5.0",
          "model_name": "FloatProgressModel",
          "state": {
            "_dom_classes": [],
            "_model_module": "@jupyter-widgets/controls",
            "_model_module_version": "1.5.0",
            "_model_name": "FloatProgressModel",
            "_view_count": null,
            "_view_module": "@jupyter-widgets/controls",
            "_view_module_version": "1.5.0",
            "_view_name": "ProgressView",
            "bar_style": "success",
            "description": "",
            "description_tooltip": null,
            "layout": "IPY_MODEL_16e40e6d26774e34944625c9e384042d",
            "max": 483,
            "min": 0,
            "orientation": "horizontal",
            "style": "IPY_MODEL_f31e957db32447058d3660988fda20f4",
            "value": 483
          }
        },
        "a7000e9d629b445a8bcd2c3e549f94f3": {
          "model_module": "@jupyter-widgets/controls",
          "model_module_version": "1.5.0",
          "model_name": "HTMLModel",
          "state": {
            "_dom_classes": [],
            "_model_module": "@jupyter-widgets/controls",
            "_model_module_version": "1.5.0",
            "_model_name": "HTMLModel",
            "_view_count": null,
            "_view_module": "@jupyter-widgets/controls",
            "_view_module_version": "1.5.0",
            "_view_name": "HTMLView",
            "description": "",
            "description_tooltip": null,
            "layout": "IPY_MODEL_78afadaac144432c88ab2bcc15396da0",
            "placeholder": "​",
            "style": "IPY_MODEL_2dd4733356ad4479adf8f6d2df756b27",
            "value": "Downloading: 100%"
          }
        },
        "b7dd6f7890a340acbb6c980c90cadbab": {
          "model_module": "@jupyter-widgets/controls",
          "model_module_version": "1.5.0",
          "model_name": "DescriptionStyleModel",
          "state": {
            "_model_module": "@jupyter-widgets/controls",
            "_model_module_version": "1.5.0",
            "_model_name": "DescriptionStyleModel",
            "_view_count": null,
            "_view_module": "@jupyter-widgets/base",
            "_view_module_version": "1.2.0",
            "_view_name": "StyleView",
            "description_width": ""
          }
        },
        "c0a152dce20b4cd5993e280d4b3da76a": {
          "model_module": "@jupyter-widgets/base",
          "model_module_version": "1.2.0",
          "model_name": "LayoutModel",
          "state": {
            "_model_module": "@jupyter-widgets/base",
            "_model_module_version": "1.2.0",
            "_model_name": "LayoutModel",
            "_view_count": null,
            "_view_module": "@jupyter-widgets/base",
            "_view_module_version": "1.2.0",
            "_view_name": "LayoutView",
            "align_content": null,
            "align_items": null,
            "align_self": null,
            "border": null,
            "bottom": null,
            "display": null,
            "flex": null,
            "flex_flow": null,
            "grid_area": null,
            "grid_auto_columns": null,
            "grid_auto_flow": null,
            "grid_auto_rows": null,
            "grid_column": null,
            "grid_gap": null,
            "grid_row": null,
            "grid_template_areas": null,
            "grid_template_columns": null,
            "grid_template_rows": null,
            "height": null,
            "justify_content": null,
            "justify_items": null,
            "left": null,
            "margin": null,
            "max_height": null,
            "max_width": null,
            "min_height": null,
            "min_width": null,
            "object_fit": null,
            "object_position": null,
            "order": null,
            "overflow": null,
            "overflow_x": null,
            "overflow_y": null,
            "padding": null,
            "right": null,
            "top": null,
            "visibility": null,
            "width": null
          }
        },
        "c7af63ae5ba348c9888b6b33f8b02a2e": {
          "model_module": "@jupyter-widgets/controls",
          "model_module_version": "1.5.0",
          "model_name": "DescriptionStyleModel",
          "state": {
            "_model_module": "@jupyter-widgets/controls",
            "_model_module_version": "1.5.0",
            "_model_name": "DescriptionStyleModel",
            "_view_count": null,
            "_view_module": "@jupyter-widgets/base",
            "_view_module_version": "1.2.0",
            "_view_name": "StyleView",
            "description_width": ""
          }
        },
        "cc43f434613e40ed8e1edb2cc6d68595": {
          "model_module": "@jupyter-widgets/controls",
          "model_module_version": "1.5.0",
          "model_name": "HTMLModel",
          "state": {
            "_dom_classes": [],
            "_model_module": "@jupyter-widgets/controls",
            "_model_module_version": "1.5.0",
            "_model_name": "HTMLModel",
            "_view_count": null,
            "_view_module": "@jupyter-widgets/controls",
            "_view_module_version": "1.5.0",
            "_view_name": "HTMLView",
            "description": "",
            "description_tooltip": null,
            "layout": "IPY_MODEL_25b59143deba447f8a4a30d1964259f4",
            "placeholder": "​",
            "style": "IPY_MODEL_b7dd6f7890a340acbb6c980c90cadbab",
            "value": " 483/483 [00:00&lt;00:00, 9.91kB/s]"
          }
        },
        "dbd4253989b74fb6aca6d298dad423eb": {
          "model_module": "@jupyter-widgets/controls",
          "model_module_version": "1.5.0",
          "model_name": "HTMLModel",
          "state": {
            "_dom_classes": [],
            "_model_module": "@jupyter-widgets/controls",
            "_model_module_version": "1.5.0",
            "_model_name": "HTMLModel",
            "_view_count": null,
            "_view_module": "@jupyter-widgets/controls",
            "_view_module_version": "1.5.0",
            "_view_name": "HTMLView",
            "description": "",
            "description_tooltip": null,
            "layout": "IPY_MODEL_2d31dff25e54458e980bf6ad8009dfb2",
            "placeholder": "​",
            "style": "IPY_MODEL_85bf49233d23462187ada8214cd98d01",
            "value": " 232k/232k [00:00&lt;00:00, 7.61kB/s]"
          }
        },
        "de6a2f2a84884f3c8ca1062a5a3a05ed": {
          "model_module": "@jupyter-widgets/controls",
          "model_module_version": "1.5.0",
          "model_name": "ProgressStyleModel",
          "state": {
            "_model_module": "@jupyter-widgets/controls",
            "_model_module_version": "1.5.0",
            "_model_name": "ProgressStyleModel",
            "_view_count": null,
            "_view_module": "@jupyter-widgets/base",
            "_view_module_version": "1.2.0",
            "_view_name": "StyleView",
            "bar_color": null,
            "description_width": ""
          }
        },
        "de700be5f02140b4aca7e91846f94fd6": {
          "model_module": "@jupyter-widgets/controls",
          "model_module_version": "1.5.0",
          "model_name": "DescriptionStyleModel",
          "state": {
            "_model_module": "@jupyter-widgets/controls",
            "_model_module_version": "1.5.0",
            "_model_name": "DescriptionStyleModel",
            "_view_count": null,
            "_view_module": "@jupyter-widgets/base",
            "_view_module_version": "1.2.0",
            "_view_name": "StyleView",
            "description_width": ""
          }
        },
        "f31e957db32447058d3660988fda20f4": {
          "model_module": "@jupyter-widgets/controls",
          "model_module_version": "1.5.0",
          "model_name": "ProgressStyleModel",
          "state": {
            "_model_module": "@jupyter-widgets/controls",
            "_model_module_version": "1.5.0",
            "_model_name": "ProgressStyleModel",
            "_view_count": null,
            "_view_module": "@jupyter-widgets/base",
            "_view_module_version": "1.2.0",
            "_view_name": "StyleView",
            "bar_color": null,
            "description_width": ""
          }
        },
        "f9d353f4c20743e19d3dab37dc2e13bd": {
          "model_module": "@jupyter-widgets/base",
          "model_module_version": "1.2.0",
          "model_name": "LayoutModel",
          "state": {
            "_model_module": "@jupyter-widgets/base",
            "_model_module_version": "1.2.0",
            "_model_name": "LayoutModel",
            "_view_count": null,
            "_view_module": "@jupyter-widgets/base",
            "_view_module_version": "1.2.0",
            "_view_name": "LayoutView",
            "align_content": null,
            "align_items": null,
            "align_self": null,
            "border": null,
            "bottom": null,
            "display": null,
            "flex": null,
            "flex_flow": null,
            "grid_area": null,
            "grid_auto_columns": null,
            "grid_auto_flow": null,
            "grid_auto_rows": null,
            "grid_column": null,
            "grid_gap": null,
            "grid_row": null,
            "grid_template_areas": null,
            "grid_template_columns": null,
            "grid_template_rows": null,
            "height": null,
            "justify_content": null,
            "justify_items": null,
            "left": null,
            "margin": null,
            "max_height": null,
            "max_width": null,
            "min_height": null,
            "min_width": null,
            "object_fit": null,
            "object_position": null,
            "order": null,
            "overflow": null,
            "overflow_x": null,
            "overflow_y": null,
            "padding": null,
            "right": null,
            "top": null,
            "visibility": null,
            "width": null
          }
        },
        "fee9eda945564c01af0d71befa76eac6": {
          "model_module": "@jupyter-widgets/controls",
          "model_module_version": "1.5.0",
          "model_name": "HTMLModel",
          "state": {
            "_dom_classes": [],
            "_model_module": "@jupyter-widgets/controls",
            "_model_module_version": "1.5.0",
            "_model_name": "HTMLModel",
            "_view_count": null,
            "_view_module": "@jupyter-widgets/controls",
            "_view_module_version": "1.5.0",
            "_view_name": "HTMLView",
            "description": "",
            "description_tooltip": null,
            "layout": "IPY_MODEL_f9d353f4c20743e19d3dab37dc2e13bd",
            "placeholder": "​",
            "style": "IPY_MODEL_de700be5f02140b4aca7e91846f94fd6",
            "value": "Downloading: 100%"
          }
        }
      }
    }
  },
  "nbformat": 4,
  "nbformat_minor": 0
}
