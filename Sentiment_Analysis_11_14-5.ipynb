{
  "cells": [
    {
      "cell_type": "code",
      "execution_count": 1,
      "metadata": {
        "colab": {
          "base_uri": "https://localhost:8080/"
        },
        "id": "wG17-xn0VAx3",
        "outputId": "6f52e535-5071-4151-80c0-3ecdb465ea2f"
      },
      "outputs": [
        {
          "name": "stdout",
          "output_type": "stream",
          "text": [
            "Requirement already satisfied: Sentencepiece in /Users/gretasimeliunaite/miniforge3/envs/tensorflow_m1/lib/python3.9/site-packages (0.1.97)\n",
            "Requirement already satisfied: transformers in /Users/gretasimeliunaite/miniforge3/envs/tensorflow_m1/lib/python3.9/site-packages (4.25.1)\n",
            "Requirement already satisfied: huggingface-hub<1.0,>=0.10.0 in /Users/gretasimeliunaite/miniforge3/envs/tensorflow_m1/lib/python3.9/site-packages (from transformers) (0.11.1)\n",
            "Requirement already satisfied: filelock in /Users/gretasimeliunaite/miniforge3/envs/tensorflow_m1/lib/python3.9/site-packages (from transformers) (3.8.2)\n",
            "Requirement already satisfied: tokenizers!=0.11.3,<0.14,>=0.11.1 in /Users/gretasimeliunaite/miniforge3/envs/tensorflow_m1/lib/python3.9/site-packages (from transformers) (0.13.2)\n",
            "Requirement already satisfied: regex!=2019.12.17 in /Users/gretasimeliunaite/miniforge3/envs/tensorflow_m1/lib/python3.9/site-packages (from transformers) (2022.10.31)\n",
            "Requirement already satisfied: packaging>=20.0 in /Users/gretasimeliunaite/miniforge3/envs/tensorflow_m1/lib/python3.9/site-packages (from transformers) (22.0)\n",
            "Requirement already satisfied: pyyaml>=5.1 in /Users/gretasimeliunaite/miniforge3/envs/tensorflow_m1/lib/python3.9/site-packages (from transformers) (6.0)\n",
            "Requirement already satisfied: numpy>=1.17 in /Users/gretasimeliunaite/miniforge3/envs/tensorflow_m1/lib/python3.9/site-packages (from transformers) (1.23.2)\n",
            "Requirement already satisfied: requests in /Users/gretasimeliunaite/miniforge3/envs/tensorflow_m1/lib/python3.9/site-packages (from transformers) (2.28.1)\n",
            "Requirement already satisfied: tqdm>=4.27 in /Users/gretasimeliunaite/miniforge3/envs/tensorflow_m1/lib/python3.9/site-packages (from transformers) (4.64.1)\n",
            "Requirement already satisfied: typing-extensions>=3.7.4.3 in /Users/gretasimeliunaite/miniforge3/envs/tensorflow_m1/lib/python3.9/site-packages (from huggingface-hub<1.0,>=0.10.0->transformers) (4.4.0)\n",
            "Requirement already satisfied: idna<4,>=2.5 in /Users/gretasimeliunaite/miniforge3/envs/tensorflow_m1/lib/python3.9/site-packages (from requests->transformers) (3.4)\n",
            "Requirement already satisfied: charset-normalizer<3,>=2 in /Users/gretasimeliunaite/miniforge3/envs/tensorflow_m1/lib/python3.9/site-packages (from requests->transformers) (2.1.1)\n",
            "Requirement already satisfied: certifi>=2017.4.17 in /Users/gretasimeliunaite/miniforge3/envs/tensorflow_m1/lib/python3.9/site-packages (from requests->transformers) (2022.12.7)\n",
            "Requirement already satisfied: urllib3<1.27,>=1.21.1 in /Users/gretasimeliunaite/miniforge3/envs/tensorflow_m1/lib/python3.9/site-packages (from requests->transformers) (1.26.13)\n"
          ]
        }
      ],
      "source": [
        "!pip install Sentencepiece\n",
        "!pip install transformers"
      ]
    },
    {
      "cell_type": "code",
      "execution_count": 2,
      "metadata": {
        "colab": {
          "base_uri": "https://localhost:8080/"
        },
        "id": "5W-K0sLg0GLi",
        "outputId": "c9676ea6-ce28-4e44-9737-1fc18b209310"
      },
      "outputs": [
        {
          "name": "stdout",
          "output_type": "stream",
          "text": [
            "Requirement already satisfied: wordcloud in /Users/gretasimeliunaite/miniforge3/envs/tensorflow_m1/lib/python3.9/site-packages (1.8.2.2)\n",
            "Requirement already satisfied: pillow in /Users/gretasimeliunaite/miniforge3/envs/tensorflow_m1/lib/python3.9/site-packages (from wordcloud) (9.3.0)\n",
            "Requirement already satisfied: numpy>=1.6.1 in /Users/gretasimeliunaite/miniforge3/envs/tensorflow_m1/lib/python3.9/site-packages (from wordcloud) (1.23.2)\n",
            "Requirement already satisfied: matplotlib in /Users/gretasimeliunaite/miniforge3/envs/tensorflow_m1/lib/python3.9/site-packages (from wordcloud) (3.6.2)\n",
            "Requirement already satisfied: python-dateutil>=2.7 in /Users/gretasimeliunaite/miniforge3/envs/tensorflow_m1/lib/python3.9/site-packages (from matplotlib->wordcloud) (2.8.2)\n",
            "Requirement already satisfied: kiwisolver>=1.0.1 in /Users/gretasimeliunaite/miniforge3/envs/tensorflow_m1/lib/python3.9/site-packages (from matplotlib->wordcloud) (1.4.4)\n",
            "Requirement already satisfied: packaging>=20.0 in /Users/gretasimeliunaite/miniforge3/envs/tensorflow_m1/lib/python3.9/site-packages (from matplotlib->wordcloud) (22.0)\n",
            "Requirement already satisfied: pyparsing>=2.2.1 in /Users/gretasimeliunaite/miniforge3/envs/tensorflow_m1/lib/python3.9/site-packages (from matplotlib->wordcloud) (3.0.9)\n",
            "Requirement already satisfied: fonttools>=4.22.0 in /Users/gretasimeliunaite/miniforge3/envs/tensorflow_m1/lib/python3.9/site-packages (from matplotlib->wordcloud) (4.38.0)\n",
            "Requirement already satisfied: contourpy>=1.0.1 in /Users/gretasimeliunaite/miniforge3/envs/tensorflow_m1/lib/python3.9/site-packages (from matplotlib->wordcloud) (1.0.6)\n",
            "Requirement already satisfied: cycler>=0.10 in /Users/gretasimeliunaite/miniforge3/envs/tensorflow_m1/lib/python3.9/site-packages (from matplotlib->wordcloud) (0.11.0)\n",
            "Requirement already satisfied: six>=1.5 in /Users/gretasimeliunaite/miniforge3/envs/tensorflow_m1/lib/python3.9/site-packages (from python-dateutil>=2.7->matplotlib->wordcloud) (1.16.0)\n"
          ]
        }
      ],
      "source": [
        "!pip install wordcloud"
      ]
    },
    {
      "cell_type": "code",
      "execution_count": 3,
      "metadata": {
        "colab": {
          "base_uri": "https://localhost:8080/"
        },
        "id": "HUu74iEBpR12",
        "outputId": "33ba3331-4360-409b-b016-f19cae90293b"
      },
      "outputs": [
        {
          "name": "stdout",
          "output_type": "stream",
          "text": [
            "Requirement already satisfied: tensorflow_hub in /Users/gretasimeliunaite/miniforge3/envs/tensorflow_m1/lib/python3.9/site-packages (0.12.0)\n",
            "Requirement already satisfied: numpy>=1.12.0 in /Users/gretasimeliunaite/miniforge3/envs/tensorflow_m1/lib/python3.9/site-packages (from tensorflow_hub) (1.23.2)\n",
            "Requirement already satisfied: protobuf>=3.8.0 in /Users/gretasimeliunaite/miniforge3/envs/tensorflow_m1/lib/python3.9/site-packages (from tensorflow_hub) (3.19.4)\n"
          ]
        }
      ],
      "source": [
        "!pip install --upgrade tensorflow_hub"
      ]
    },
    {
      "cell_type": "code",
      "execution_count": 4,
      "metadata": {
        "colab": {
          "base_uri": "https://localhost:8080/"
        },
        "id": "9Y_4uX7_0GLk",
        "outputId": "a070c912-9b6d-4222-c84d-a83d86f626d3"
      },
      "outputs": [
        {
          "name": "stderr",
          "output_type": "stream",
          "text": [
            "[nltk_data] Downloading package stopwords to\n",
            "[nltk_data]     /Users/gretasimeliunaite/nltk_data...\n",
            "[nltk_data]   Package stopwords is already up-to-date!\n"
          ]
        },
        {
          "data": {
            "text/plain": [
              "True"
            ]
          },
          "execution_count": 4,
          "metadata": {},
          "output_type": "execute_result"
        }
      ],
      "source": [
        "import nltk\n",
        "nltk.download('stopwords')"
      ]
    },
    {
      "cell_type": "code",
      "execution_count": 5,
      "metadata": {
        "colab": {
          "base_uri": "https://localhost:8080/"
        },
        "id": "JYoFfY0i0GLm",
        "outputId": "f05a6933-30f9-41c4-f945-d4551b9846b7"
      },
      "outputs": [
        {
          "name": "stderr",
          "output_type": "stream",
          "text": [
            "[nltk_data] Downloading package vader_lexicon to\n",
            "[nltk_data]     /Users/gretasimeliunaite/nltk_data...\n",
            "[nltk_data]   Package vader_lexicon is already up-to-date!\n"
          ]
        },
        {
          "data": {
            "text/plain": [
              "True"
            ]
          },
          "execution_count": 5,
          "metadata": {},
          "output_type": "execute_result"
        }
      ],
      "source": [
        "import nltk\n",
        "nltk.download('vader_lexicon')"
      ]
    },
    {
      "cell_type": "code",
      "execution_count": 6,
      "metadata": {
        "colab": {
          "base_uri": "https://localhost:8080/"
        },
        "id": "ezRRygkwxpwX",
        "outputId": "e75d9122-7af7-42c2-a006-ad64e3375674"
      },
      "outputs": [
        {
          "name": "stderr",
          "output_type": "stream",
          "text": [
            "[nltk_data] Downloading package punkt to\n",
            "[nltk_data]     /Users/gretasimeliunaite/nltk_data...\n",
            "[nltk_data]   Package punkt is already up-to-date!\n"
          ]
        },
        {
          "data": {
            "text/plain": [
              "True"
            ]
          },
          "execution_count": 6,
          "metadata": {},
          "output_type": "execute_result"
        }
      ],
      "source": [
        "import nltk\n",
        "nltk.download('punkt')"
      ]
    },
    {
      "cell_type": "code",
      "execution_count": 7,
      "metadata": {
        "colab": {
          "base_uri": "https://localhost:8080/"
        },
        "id": "-qznGHhVyOzz",
        "outputId": "dd9333bf-d1f8-4c1c-f118-921eeded7091"
      },
      "outputs": [
        {
          "name": "stderr",
          "output_type": "stream",
          "text": [
            "[nltk_data] Downloading package omw-1.4 to\n",
            "[nltk_data]     /Users/gretasimeliunaite/nltk_data...\n",
            "[nltk_data]   Package omw-1.4 is already up-to-date!\n"
          ]
        },
        {
          "data": {
            "text/plain": [
              "True"
            ]
          },
          "execution_count": 7,
          "metadata": {},
          "output_type": "execute_result"
        }
      ],
      "source": [
        "import nltk\n",
        "nltk.download('omw-1.4')"
      ]
    },
    {
      "cell_type": "code",
      "execution_count": 8,
      "metadata": {
        "colab": {
          "base_uri": "https://localhost:8080/"
        },
        "id": "VpdaArRLx9BC",
        "outputId": "8fe53a21-c696-48dc-8773-6ac232431797"
      },
      "outputs": [
        {
          "name": "stderr",
          "output_type": "stream",
          "text": [
            "[nltk_data] Downloading package wordnet to\n",
            "[nltk_data]     /Users/gretasimeliunaite/nltk_data...\n",
            "[nltk_data]   Package wordnet is already up-to-date!\n"
          ]
        },
        {
          "data": {
            "text/plain": [
              "True"
            ]
          },
          "execution_count": 8,
          "metadata": {},
          "output_type": "execute_result"
        }
      ],
      "source": [
        "import nltk\n",
        "nltk.download('wordnet')"
      ]
    },
    {
      "cell_type": "code",
      "execution_count": 9,
      "metadata": {
        "colab": {
          "base_uri": "https://localhost:8080/",
          "height": 17
        },
        "id": "-iPsIavx0GLn",
        "outputId": "0d004bd2-3494-4984-ef85-28341219313a"
      },
      "outputs": [],
      "source": [
        "import pandas as pd\n",
        "import tensorflow_hub as hub\n",
        "import seaborn as sns\n",
        "import matplotlib.pyplot as plt\n",
        "from nltk.sentiment.vader import SentimentIntensityAnalyzer\n",
        "import nltk\n",
        "import re\n",
        "import unicodedata\n",
        "from nltk.corpus import stopwords\n",
        "from bs4 import BeautifulSoup\n",
        "import string\n",
        "# ignoring all the warnings\n",
        "import warnings\n",
        "warnings.filterwarnings(\"ignore\")"
      ]
    },
    {
      "cell_type": "code",
      "execution_count": 10,
      "metadata": {
        "id": "zfukAOofCIaA"
      },
      "outputs": [],
      "source": [
        "url = 'https://raw.githubusercontent.com/Greta12321/Sentiment_analysis_2022_12/main/russia_war_data_sample-2.csv'\n",
        "data = pd.read_csv(url, lineterminator='\\n')"
      ]
    },
    {
      "cell_type": "markdown",
      "metadata": {
        "id": "egSxOn0A0GLr"
      },
      "source": [
        "## Defined functions"
      ]
    },
    {
      "cell_type": "markdown",
      "metadata": {
        "id": "6xx7RIuo0GL2"
      },
      "source": [
        "- strip emoji"
      ]
    },
    {
      "cell_type": "code",
      "execution_count": 11,
      "metadata": {
        "id": "Z8ObFERb0GL3"
      },
      "outputs": [],
      "source": [
        "def remove_emojis(data):\n",
        "    emoj = re.compile(\"[\"\n",
        "        u\"\\U0001F600-\\U0001F64F\"  # emoticons\n",
        "        u\"\\U0001F300-\\U0001F5FF\"  # symbols & pictographs\n",
        "        u\"\\U0001F680-\\U0001F6FF\"  # transport & map symbols\n",
        "        u\"\\U0001F1E0-\\U0001F1FF\"  # flags (iOS)\n",
        "        u\"\\U00002500-\\U00002BEF\"  # chinese char\n",
        "        u\"\\U00002702-\\U000027B0\"\n",
        "        u\"\\U00002702-\\U000027B0\"\n",
        "        u\"\\U000024C2-\\U0001F251\"\n",
        "        u\"\\U0001f926-\\U0001f937\"\n",
        "        u\"\\U00010000-\\U0010ffff\"\n",
        "        u\"\\u2640-\\u2642\" \n",
        "        u\"\\u2600-\\u2B55\"\n",
        "        u\"\\u200d\"\n",
        "        u\"\\u23cf\"\n",
        "        u\"\\u23e9\"\n",
        "        u\"\\u231a\"\n",
        "        u\"\\ufe0f\"  # dingbats\n",
        "        u\"\\u3030\"\n",
        "                      \"]+\", re.UNICODE)\n",
        "    return re.sub(emoj, '', data)"
      ]
    },
    {
      "cell_type": "markdown",
      "metadata": {
        "id": "96v9PzNb0GL_"
      },
      "source": [
        "## Start Exploring DataSet"
      ]
    },
    {
      "cell_type": "code",
      "execution_count": 12,
      "metadata": {
        "id": "YFJnkADp0GMB"
      },
      "outputs": [],
      "source": [
        "data['created_at'] = pd.to_datetime(data['created_at'])"
      ]
    },
    {
      "cell_type": "code",
      "execution_count": 13,
      "metadata": {
        "id": "LkHmeIzT0GMC"
      },
      "outputs": [],
      "source": [
        "df = data[[ 'username', 'created_at','tweet','language']]"
      ]
    },
    {
      "cell_type": "code",
      "execution_count": 14,
      "metadata": {
        "colab": {
          "base_uri": "https://localhost:8080/"
        },
        "id": "RgKW9vQb0GMC",
        "outputId": "62158ae5-b0ec-4f13-e483-e83fae642bb4"
      },
      "outputs": [
        {
          "data": {
            "text/plain": [
              "en    52353\n",
              "Name: language, dtype: int64"
            ]
          },
          "execution_count": 14,
          "metadata": {},
          "output_type": "execute_result"
        }
      ],
      "source": [
        "df[\"language\"].value_counts()"
      ]
    },
    {
      "cell_type": "code",
      "execution_count": 15,
      "metadata": {
        "colab": {
          "base_uri": "https://localhost:8080/"
        },
        "id": "tf1eC4_N0GMF",
        "outputId": "fdfdc899-0690-43cf-c844-35cc46f0d3b5"
      },
      "outputs": [
        {
          "data": {
            "text/plain": [
              "username      0\n",
              "created_at    0\n",
              "tweet         0\n",
              "language      0\n",
              "dtype: int64"
            ]
          },
          "execution_count": 15,
          "metadata": {},
          "output_type": "execute_result"
        }
      ],
      "source": [
        "df.isnull().sum()"
      ]
    },
    {
      "cell_type": "code",
      "execution_count": 16,
      "metadata": {
        "id": "UA3u0DLP0GMH"
      },
      "outputs": [],
      "source": [
        "df.dropna(inplace=True)"
      ]
    },
    {
      "cell_type": "code",
      "execution_count": 17,
      "metadata": {
        "colab": {
          "base_uri": "https://localhost:8080/",
          "height": 588
        },
        "id": "wfwyiJAP0GMI",
        "outputId": "9dbd5ca7-6015-46cb-cccd-a98221652fb9"
      },
      "outputs": [
        {
          "data": {
            "text/html": [
              "<div>\n",
              "<style scoped>\n",
              "    .dataframe tbody tr th:only-of-type {\n",
              "        vertical-align: middle;\n",
              "    }\n",
              "\n",
              "    .dataframe tbody tr th {\n",
              "        vertical-align: top;\n",
              "    }\n",
              "\n",
              "    .dataframe thead th {\n",
              "        text-align: right;\n",
              "    }\n",
              "</style>\n",
              "<table border=\"1\" class=\"dataframe\">\n",
              "  <thead>\n",
              "    <tr style=\"text-align: right;\">\n",
              "      <th></th>\n",
              "      <th>username</th>\n",
              "      <th>created_at</th>\n",
              "      <th>tweet</th>\n",
              "      <th>language</th>\n",
              "    </tr>\n",
              "  </thead>\n",
              "  <tbody>\n",
              "    <tr>\n",
              "      <th>0</th>\n",
              "      <td>xXOxygeNXx49</td>\n",
              "      <td>2022-09-05</td>\n",
              "      <td>@SupaIsaiah016 Yummy</td>\n",
              "      <td>en</td>\n",
              "    </tr>\n",
              "    <tr>\n",
              "      <th>1</th>\n",
              "      <td>Abraxas444</td>\n",
              "      <td>2022-09-06</td>\n",
              "      <td>Peace is offensive concept for some of #Ukrain...</td>\n",
              "      <td>en</td>\n",
              "    </tr>\n",
              "    <tr>\n",
              "      <th>2</th>\n",
              "      <td>iwdu_global</td>\n",
              "      <td>2022-09-05</td>\n",
              "      <td>Thanks to the @iwdu_global for another fruitfu...</td>\n",
              "      <td>en</td>\n",
              "    </tr>\n",
              "    <tr>\n",
              "      <th>3</th>\n",
              "      <td>VoteEarly2</td>\n",
              "      <td>2022-09-06</td>\n",
              "      <td>@RepLeeZeldin Trump sabotaging democracy &amp;amp;...</td>\n",
              "      <td>en</td>\n",
              "    </tr>\n",
              "    <tr>\n",
              "      <th>4</th>\n",
              "      <td>UKikaski</td>\n",
              "      <td>2022-09-05</td>\n",
              "      <td>#APU Bayraktar TB-2's destroy two RUS Tor-M1 S...</td>\n",
              "      <td>en</td>\n",
              "    </tr>\n",
              "  </tbody>\n",
              "</table>\n",
              "</div>"
            ],
            "text/plain": [
              "       username created_at                                              tweet  \\\n",
              "0  xXOxygeNXx49 2022-09-05                               @SupaIsaiah016 Yummy   \n",
              "1    Abraxas444 2022-09-06  Peace is offensive concept for some of #Ukrain...   \n",
              "2   iwdu_global 2022-09-05  Thanks to the @iwdu_global for another fruitfu...   \n",
              "3    VoteEarly2 2022-09-06  @RepLeeZeldin Trump sabotaging democracy &amp;...   \n",
              "4      UKikaski 2022-09-05  #APU Bayraktar TB-2's destroy two RUS Tor-M1 S...   \n",
              "\n",
              "  language  \n",
              "0       en  \n",
              "1       en  \n",
              "2       en  \n",
              "3       en  \n",
              "4       en  "
            ]
          },
          "execution_count": 17,
          "metadata": {},
          "output_type": "execute_result"
        }
      ],
      "source": [
        "df.head()"
      ]
    },
    {
      "cell_type": "markdown",
      "metadata": {
        "id": "GqTGlWM00GMU"
      },
      "source": [
        "## Clean & Stem The Tweets"
      ]
    },
    {
      "cell_type": "markdown",
      "metadata": {
        "id": "524YZ2T-h_Pc"
      },
      "source": [
        "## 1. Low Cleaning df['tweet_simple_clean']"
      ]
    },
    {
      "cell_type": "code",
      "execution_count": 18,
      "metadata": {
        "id": "a-UbHrGefokK"
      },
      "outputs": [],
      "source": [
        "def clean_tweet(text):\n",
        "    text = str(text).lower() # lowercase the text\n",
        "    text = ' '.join([word for word in text.split() if not word.startswith('@')]) # get rid of usernames\n",
        "    text = ' '.join([word for word in text.split() if not word.startswith('#')]) # get rid of hashtags\n",
        "    text = re.sub('https?://\\S+|www\\.\\S+', '', text) # remove urls\n",
        "    text = BeautifulSoup(text, 'html.parser').string # parse any html and return it as a string\n",
        "    if text is None:\n",
        "        return ''\n",
        "    text = re.sub('\\[.*?\\]', '', text)\n",
        "    text = remove_emojis(text) # get rid of emojis\n",
        "    text = re.sub('\\n', '', text) # drop all line feeds\n",
        "    text = re.sub('[%s]' % re.escape(string.punctuation), '', text) #remove punctuation . , ! ?\n",
        "    # Remove all the special characters\n",
        "    text = re.sub(r'\\W', ' ', str(text))\n",
        " \n",
        "    # remove all single characters\n",
        "    text = re.sub(r'\\s+[a-zA-Z]\\s+', ' ', text)\n",
        " \n",
        "    # Remove single characters from the start\n",
        "    text = re.sub(r'\\^[a-zA-Z]\\s+', ' ', text) \n",
        "    text = re.sub(r'â', ' ', text)\n",
        "    text = re.sub(r'ð', ' ', text)\n",
        "    text = re.sub(r'º', ' ', text)\n",
        " \n",
        "    # Substituting multiple spaces with single space\n",
        "    text= re.sub(r'\\s+', ' ', text, flags=re.I)\n",
        " \n",
        "    # Removing prefixed 'b'\n",
        "    text = re.sub(r'^b\\s+', '', text)\n",
        "    while text.find('  ') != -1:\n",
        "        text = re.sub('\\s\\s', ' ', text) # strip double spaces\n",
        "    return text.strip()"
      ]
    },
    {
      "cell_type": "code",
      "execution_count": 19,
      "metadata": {
        "colab": {
          "base_uri": "https://localhost:8080/",
          "height": 37
        },
        "id": "r3K8RLNB0GMU",
        "outputId": "752c0cbb-78a1-4caa-fd52-e59f3b63b27f"
      },
      "outputs": [
        {
          "data": {
            "text/plain": [
              "'People evacuated to LPR, Russia from Kharkov Region due to shelling by Ukraine — official - #kharkov #ukraine #people #region #russia #moscow #world #kyiv https://t.co/jYojCsWHV4'"
            ]
          },
          "execution_count": 19,
          "metadata": {},
          "output_type": "execute_result"
        }
      ],
      "source": [
        "df['tweet'].iloc[8831] # pre-cleaned tweet"
      ]
    },
    {
      "cell_type": "code",
      "execution_count": 20,
      "metadata": {
        "id": "NSLD8sH80GMU"
      },
      "outputs": [],
      "source": [
        "stopword=set(stopwords.words('english'))"
      ]
    },
    {
      "cell_type": "code",
      "execution_count": 21,
      "metadata": {
        "id": "w2YXbS-M0GMU"
      },
      "outputs": [],
      "source": [
        "df['tweet_simple_clean'] = df['tweet'].apply(clean_tweet)"
      ]
    },
    {
      "cell_type": "code",
      "execution_count": 22,
      "metadata": {
        "colab": {
          "base_uri": "https://localhost:8080/",
          "height": 37
        },
        "id": "0vFbD-cZ0GMU",
        "outputId": "6dde650e-726d-48ec-8433-70ef5cb41c47"
      },
      "outputs": [
        {
          "data": {
            "text/plain": [
              "'people evacuated to lpr russia from kharkov region due to shelling by ukraine official'"
            ]
          },
          "execution_count": 22,
          "metadata": {},
          "output_type": "execute_result"
        }
      ],
      "source": [
        "df['tweet_simple_clean'].iloc[8831] # tweet after cleaning"
      ]
    },
    {
      "cell_type": "code",
      "execution_count": 23,
      "metadata": {
        "colab": {
          "base_uri": "https://localhost:8080/",
          "height": 54
        },
        "id": "87n3v41BVqgV",
        "outputId": "34b72cb0-3132-413f-f140-b4f01b6eb8f4"
      },
      "outputs": [
        {
          "data": {
            "text/plain": [
              "'Armed Forces of Ukraine advance on Kramatorsk front, killing up to 100 occupiers near Kupiansk – General Staff | Ukrainska Pravda https://t.co/BDwlHNZgT5  #Ukraine  #UkraineRussiaWar #UkraineUnderAttack #UkraineWarNews'"
            ]
          },
          "execution_count": 23,
          "metadata": {},
          "output_type": "execute_result"
        }
      ],
      "source": [
        "df['tweet'].iloc[47] # pre-cleaned tweet"
      ]
    },
    {
      "cell_type": "code",
      "execution_count": 24,
      "metadata": {
        "colab": {
          "base_uri": "https://localhost:8080/",
          "height": 37
        },
        "id": "B2jlrOz1VthO",
        "outputId": "ccedf28e-00a7-4695-98ce-3f7c9d89c17e"
      },
      "outputs": [
        {
          "data": {
            "text/plain": [
              "'armed forces of ukraine advance on kramatorsk front killing up to 100 occupiers near kupiansk general staff ukrainska pravda'"
            ]
          },
          "execution_count": 24,
          "metadata": {},
          "output_type": "execute_result"
        }
      ],
      "source": [
        "df['tweet_simple_clean'].iloc[47] # pre-cleaned tweet"
      ]
    },
    {
      "cell_type": "markdown",
      "metadata": {
        "id": "4fi22TAYiCRT"
      },
      "source": [
        "## 2. Medium Cleaning df['tweet_no_stopwords']"
      ]
    },
    {
      "cell_type": "code",
      "execution_count": 25,
      "metadata": {
        "colab": {
          "base_uri": "https://localhost:8080/"
        },
        "id": "5c68Ewtid0LQ",
        "outputId": "230a3a42-04b9-4838-c2bd-47635599cd35"
      },
      "outputs": [
        {
          "data": {
            "text/plain": [
              "0                                                yummy\n",
              "1                    peace offensive concept officials\n",
              "2    thanks another fruitful insightful meeting dis...\n",
              "3    trump sabotaging democracy threatening natl se...\n",
              "4    bayraktar tb2s destroy two rus torm1 sam syste...\n",
              "Name: tweet_no_stopwords, dtype: object"
            ]
          },
          "execution_count": 25,
          "metadata": {},
          "output_type": "execute_result"
        }
      ],
      "source": [
        "stop = stopwords.words('english') #Remove stopwords (and, or...)\n",
        "df['tweet_no_stopwords'] = df['tweet_simple_clean'].apply(lambda x: \" \".join(x for x in x.split() if x not in stop))\n",
        "df['tweet_no_stopwords'].head()\n"
      ]
    },
    {
      "cell_type": "code",
      "execution_count": 26,
      "metadata": {
        "colab": {
          "base_uri": "https://localhost:8080/",
          "height": 1000
        },
        "id": "v21HmFYcV9YF",
        "outputId": "b177ad59-26e8-4821-c4c4-74ebec48c8d2"
      },
      "outputs": [
        {
          "data": {
            "text/plain": [
              "'johnsipher you were saying about honestywhat business do america and the uk have meddling in iran asking for and'"
            ]
          },
          "execution_count": 26,
          "metadata": {},
          "output_type": "execute_result"
        }
      ],
      "source": [
        "df['tweet_simple_clean'].iloc[40]"
      ]
    },
    {
      "cell_type": "code",
      "execution_count": 27,
      "metadata": {
        "colab": {
          "base_uri": "https://localhost:8080/",
          "height": 1000
        },
        "id": "9H-uA6xgif6A",
        "outputId": "7f1c4c46-0ff9-441e-abf2-67e07b2ce70b"
      },
      "outputs": [
        {
          "data": {
            "text/plain": [
              "'johnsipher saying honestywhat business america uk meddling iran asking'"
            ]
          },
          "execution_count": 27,
          "metadata": {},
          "output_type": "execute_result"
        }
      ],
      "source": [
        "df['tweet_no_stopwords'].iloc[40] # tweet after cleaning"
      ]
    },
    {
      "cell_type": "markdown",
      "metadata": {
        "id": "1pT__Yml26cR"
      },
      "source": [
        "## 3. High Cleaning df['tweet_high_clean']"
      ]
    },
    {
      "cell_type": "markdown",
      "metadata": {
        "id": "3QoiCYO__LW1"
      },
      "source": [
        "NLTK Lemmatization is the process of grouping the inflected forms of a word in order to analyze them as a single word in linguistics.Unlike stemming, lemmatization uses the part of speech tags and the meaning of the word in the sentence to see the main context of the document. Thus, NLTK Lemmatization is important for understanding a text and using it for Natural Language Processing, and Natural Language Understanding practices. https://www.holisticseo.digital/python-seo/nltk/lemmatize"
      ]
    },
    {
      "cell_type": "code",
      "execution_count": 28,
      "metadata": {
        "colab": {
          "base_uri": "https://localhost:8080/"
        },
        "id": "1ULnGhXQ9oza",
        "outputId": "5c441adb-a4b9-4f7d-e9af-6f04627e4e2d"
      },
      "outputs": [
        {
          "name": "stderr",
          "output_type": "stream",
          "text": [
            "[nltk_data] Downloading package averaged_perceptron_tagger to\n",
            "[nltk_data]     /Users/gretasimeliunaite/nltk_data...\n",
            "[nltk_data]   Package averaged_perceptron_tagger is already up-to-\n",
            "[nltk_data]       date!\n"
          ]
        }
      ],
      "source": [
        "import nltk\n",
        "from nltk.stem import WordNetLemmatizer\n",
        "from nltk.corpus import wordnet\n",
        "nltk.download('averaged_perceptron_tagger')\n",
        "\n",
        "lemmatizer = WordNetLemmatizer()\n",
        "\n",
        "def nltk_pos_tagger(nltk_tag):\n",
        "    if nltk_tag.startswith('J'):\n",
        "        return wordnet.ADJ\n",
        "    elif nltk_tag.startswith('V'):\n",
        "        return wordnet.VERB\n",
        "    elif nltk_tag.startswith('N'):\n",
        "        return wordnet.NOUN\n",
        "    elif nltk_tag.startswith('R'):\n",
        "        return wordnet.ADV\n",
        "    else:          \n",
        "        return None\n",
        "\n",
        "def lemmatize_sentence(sentence):\n",
        "\n",
        "    nltk_tagged = nltk.pos_tag(nltk.word_tokenize(sentence))  \n",
        "    wordnet_tagged = map(lambda x: (x[0], nltk_pos_tagger(x[1])), nltk_tagged)\n",
        "    lemmatized_sentence = []\n",
        "    \n",
        "    for word, tag in wordnet_tagged:\n",
        "        if tag is None:\n",
        "            lemmatized_sentence.append(word)\n",
        "        else:        \n",
        "            lemmatized_sentence.append(lemmatizer.lemmatize(word, tag))\n",
        "    return \" \".join(lemmatized_sentence)"
      ]
    },
    {
      "cell_type": "code",
      "execution_count": 29,
      "metadata": {
        "id": "pAeXCqW09wwU"
      },
      "outputs": [],
      "source": [
        "df['tweet_high_clean'] = df['tweet_no_stopwords'].apply(lemmatize_sentence)"
      ]
    },
    {
      "cell_type": "code",
      "execution_count": 30,
      "metadata": {
        "colab": {
          "base_uri": "https://localhost:8080/",
          "height": 856
        },
        "id": "A4Nw4jhNWpTh",
        "outputId": "593dc59e-12cb-4757-c0bd-21b5b0f33899"
      },
      "outputs": [
        {
          "data": {
            "text/plain": [
              "'armed forces ukraine advance kramatorsk front killing 100 occupiers near kupiansk general staff ukrainska pravda'"
            ]
          },
          "execution_count": 30,
          "metadata": {},
          "output_type": "execute_result"
        }
      ],
      "source": [
        "df['tweet_no_stopwords'].iloc[47]"
      ]
    },
    {
      "cell_type": "code",
      "execution_count": 31,
      "metadata": {
        "colab": {
          "base_uri": "https://localhost:8080/",
          "height": 822
        },
        "id": "XroSd_BQ-KRg",
        "outputId": "38f60045-cd70-4641-a998-ae8ea00ca317"
      },
      "outputs": [
        {
          "data": {
            "text/plain": [
              "'arm force ukraine advance kramatorsk front kill 100 occupier near kupiansk general staff ukrainska pravda'"
            ]
          },
          "execution_count": 31,
          "metadata": {},
          "output_type": "execute_result"
        }
      ],
      "source": [
        "df['tweet_high_clean'].iloc[47] # tweet after cleaning"
      ]
    },
    {
      "cell_type": "code",
      "execution_count": 32,
      "metadata": {
        "colab": {
          "base_uri": "https://localhost:8080/",
          "height": 1000
        },
        "id": "JvqUuLgZWOC_",
        "outputId": "390a4685-deb6-4986-adf7-b2675c0139b1"
      },
      "outputs": [
        {
          "data": {
            "text/plain": [
              "'johnsipher saying honestywhat business america uk meddling iran asking'"
            ]
          },
          "execution_count": 32,
          "metadata": {},
          "output_type": "execute_result"
        }
      ],
      "source": [
        "df['tweet_no_stopwords'].iloc[40]"
      ]
    },
    {
      "cell_type": "code",
      "execution_count": 33,
      "metadata": {
        "colab": {
          "base_uri": "https://localhost:8080/",
          "height": 1000
        },
        "id": "c3vCw88sWQY-",
        "outputId": "07c53921-a0cd-44b7-9c3e-c839c4a07c5a"
      },
      "outputs": [
        {
          "data": {
            "text/plain": [
              "'johnsipher say honestywhat business america uk meddling iran ask'"
            ]
          },
          "execution_count": 33,
          "metadata": {},
          "output_type": "execute_result"
        }
      ],
      "source": [
        "df['tweet_high_clean'].iloc[40]"
      ]
    },
    {
      "cell_type": "markdown",
      "metadata": {
        "id": "cVub24t0ldE-"
      },
      "source": [
        "## Classify Sentiment"
      ]
    },
    {
      "cell_type": "markdown",
      "metadata": {
        "id": "525yjynzmRP8"
      },
      "source": [
        "### Scoring tweets with simple cleaning"
      ]
    },
    {
      "cell_type": "code",
      "execution_count": 34,
      "metadata": {
        "id": "jYYy7Q2ymNis"
      },
      "outputs": [],
      "source": [
        "sentiments = SentimentIntensityAnalyzer()\n",
        "\n",
        "df['Positive'] = [sentiments.polarity_scores(i)['pos'] for i in df['tweet_simple_clean']]\n",
        "df['Neutral'] = [sentiments.polarity_scores(i)['neu'] for i in df['tweet_simple_clean']]\n",
        "df['Negative'] = [sentiments.polarity_scores(i)['neg'] for i in df['tweet_simple_clean']]\n",
        "df['Compound'] = [sentiments.polarity_scores(i)['compound'] for i in df['tweet_simple_clean']]"
      ]
    },
    {
      "cell_type": "code",
      "execution_count": 35,
      "metadata": {
        "colab": {
          "base_uri": "https://localhost:8080/"
        },
        "id": "BcJGIja7mhL1",
        "outputId": "4461c0e7-467a-4013-edac-b74a8b356d8c"
      },
      "outputs": [
        {
          "name": "stdout",
          "output_type": "stream",
          "text": [
            "armed forces of ukraine advance on kramatorsk front killing up to 100 occupiers near kupiansk general staff ukrainska pravda \n",
            " -0.6597\n"
          ]
        }
      ],
      "source": [
        "print(df['tweet_simple_clean'].iloc[47],'\\n',df['Compound'].iloc[47])"
      ]
    },
    {
      "cell_type": "code",
      "execution_count": 36,
      "metadata": {
        "id": "jcSEijrJlkok"
      },
      "outputs": [],
      "source": [
        "def classify_sentiment(row):\n",
        "    classify = 'Neutral'\n",
        "    if row['Compound'] >= 0.05:\n",
        "        classify = 'Positive'\n",
        "    elif row['Compound'] <= -0.05:\n",
        "        classify = 'Negative'\n",
        "    return classify"
      ]
    },
    {
      "cell_type": "code",
      "execution_count": 37,
      "metadata": {
        "id": "eEAeXFfMle1d"
      },
      "outputs": [],
      "source": [
        "df['Sentiment'] = df.apply(classify_sentiment, axis=1)"
      ]
    },
    {
      "cell_type": "code",
      "execution_count": 38,
      "metadata": {
        "colab": {
          "base_uri": "https://localhost:8080/"
        },
        "id": "ByKlFVfGlxM5",
        "outputId": "bc73e228-62b7-45c6-f1a3-e626a34904d0"
      },
      "outputs": [
        {
          "data": {
            "text/plain": [
              "Negative    20940\n",
              "Positive    17934\n",
              "Neutral     13479\n",
              "Name: Sentiment, dtype: int64"
            ]
          },
          "execution_count": 38,
          "metadata": {},
          "output_type": "execute_result"
        }
      ],
      "source": [
        "pos = df['Sentiment'][df['Sentiment'] == 'Positive'].count()\n",
        "neg = df['Sentiment'][df['Sentiment'] == 'Negative'].count()\n",
        "neu = df['Sentiment'][df['Sentiment'] == 'Neutral'].count()\n",
        "df['Sentiment'].value_counts()"
      ]
    },
    {
      "cell_type": "code",
      "execution_count": 39,
      "metadata": {
        "colab": {
          "base_uri": "https://localhost:8080/"
        },
        "id": "lavtNhE1l2h2",
        "outputId": "7fa15d88-6dca-4300-b1d2-0e5fe1094ff8"
      },
      "outputs": [
        {
          "name": "stdout",
          "output_type": "stream",
          "text": [
            "Ratio of Negative to Positive Tweets by Sentiment Count: 20940:17934 (1.17:1)\n"
          ]
        }
      ],
      "source": [
        "print('Ratio of Negative to Positive Tweets by Sentiment Count: {:.0f}:{:.0f} ({:.2f}:1)'.format(neg, pos, neg / pos))"
      ]
    },
    {
      "cell_type": "code",
      "execution_count": 40,
      "metadata": {
        "colab": {
          "base_uri": "https://localhost:8080/"
        },
        "id": "taVW-cx5l3Hi",
        "outputId": "2d58b4ef-8c17-4ad4-d804-539af228ba42"
      },
      "outputs": [
        {
          "data": {
            "text/plain": [
              "{'Positive': 0, 'Negative': 1, 'Neutral': 2}"
            ]
          },
          "execution_count": 40,
          "metadata": {},
          "output_type": "execute_result"
        }
      ],
      "source": [
        "possible_label = df.Sentiment.unique()\n",
        "dict_label = {}\n",
        "for index,possible_label in enumerate(possible_label):\n",
        "    dict_label[possible_label] = index\n",
        "dict_label"
      ]
    },
    {
      "cell_type": "code",
      "execution_count": 41,
      "metadata": {
        "id": "-o-D3Svcl7Az"
      },
      "outputs": [],
      "source": [
        "df[\"Label\"] = df[\"Sentiment\"].replace(dict_label)"
      ]
    },
    {
      "cell_type": "code",
      "execution_count": 42,
      "metadata": {
        "colab": {
          "base_uri": "https://localhost:8080/",
          "height": 854
        },
        "id": "F_8pqp66lw_m",
        "outputId": "f145a165-25d5-4df2-d131-34571fa2d91d"
      },
      "outputs": [
        {
          "data": {
            "text/html": [
              "<div>\n",
              "<style scoped>\n",
              "    .dataframe tbody tr th:only-of-type {\n",
              "        vertical-align: middle;\n",
              "    }\n",
              "\n",
              "    .dataframe tbody tr th {\n",
              "        vertical-align: top;\n",
              "    }\n",
              "\n",
              "    .dataframe thead th {\n",
              "        text-align: right;\n",
              "    }\n",
              "</style>\n",
              "<table border=\"1\" class=\"dataframe\">\n",
              "  <thead>\n",
              "    <tr style=\"text-align: right;\">\n",
              "      <th></th>\n",
              "      <th>username</th>\n",
              "      <th>created_at</th>\n",
              "      <th>tweet</th>\n",
              "      <th>language</th>\n",
              "      <th>tweet_simple_clean</th>\n",
              "      <th>tweet_no_stopwords</th>\n",
              "      <th>tweet_high_clean</th>\n",
              "      <th>Positive</th>\n",
              "      <th>Neutral</th>\n",
              "      <th>Negative</th>\n",
              "      <th>Compound</th>\n",
              "      <th>Sentiment</th>\n",
              "      <th>Label</th>\n",
              "    </tr>\n",
              "  </thead>\n",
              "  <tbody>\n",
              "    <tr>\n",
              "      <th>0</th>\n",
              "      <td>xXOxygeNXx49</td>\n",
              "      <td>2022-09-05</td>\n",
              "      <td>@SupaIsaiah016 Yummy</td>\n",
              "      <td>en</td>\n",
              "      <td>yummy</td>\n",
              "      <td>yummy</td>\n",
              "      <td>yummy</td>\n",
              "      <td>1.000</td>\n",
              "      <td>0.000</td>\n",
              "      <td>0.000</td>\n",
              "      <td>0.5267</td>\n",
              "      <td>Positive</td>\n",
              "      <td>0</td>\n",
              "    </tr>\n",
              "    <tr>\n",
              "      <th>1</th>\n",
              "      <td>Abraxas444</td>\n",
              "      <td>2022-09-06</td>\n",
              "      <td>Peace is offensive concept for some of #Ukrain...</td>\n",
              "      <td>en</td>\n",
              "      <td>peace is offensive concept for some of officials</td>\n",
              "      <td>peace offensive concept officials</td>\n",
              "      <td>peace offensive concept official</td>\n",
              "      <td>0.280</td>\n",
              "      <td>0.480</td>\n",
              "      <td>0.240</td>\n",
              "      <td>0.1280</td>\n",
              "      <td>Positive</td>\n",
              "      <td>0</td>\n",
              "    </tr>\n",
              "    <tr>\n",
              "      <th>2</th>\n",
              "      <td>iwdu_global</td>\n",
              "      <td>2022-09-05</td>\n",
              "      <td>Thanks to the @iwdu_global for another fruitfu...</td>\n",
              "      <td>en</td>\n",
              "      <td>thanks to the for another fruitful and insight...</td>\n",
              "      <td>thanks another fruitful insightful meeting dis...</td>\n",
              "      <td>thanks another fruitful insightful meeting dis...</td>\n",
              "      <td>0.268</td>\n",
              "      <td>0.732</td>\n",
              "      <td>0.000</td>\n",
              "      <td>0.8316</td>\n",
              "      <td>Positive</td>\n",
              "      <td>0</td>\n",
              "    </tr>\n",
              "    <tr>\n",
              "      <th>3</th>\n",
              "      <td>VoteEarly2</td>\n",
              "      <td>2022-09-06</td>\n",
              "      <td>@RepLeeZeldin Trump sabotaging democracy &amp;amp;...</td>\n",
              "      <td>en</td>\n",
              "      <td>trump sabotaging democracy threatening natl se...</td>\n",
              "      <td>trump sabotaging democracy threatening natl se...</td>\n",
              "      <td>trump sabotage democracy threaten natl securit...</td>\n",
              "      <td>0.122</td>\n",
              "      <td>0.623</td>\n",
              "      <td>0.255</td>\n",
              "      <td>-0.6908</td>\n",
              "      <td>Negative</td>\n",
              "      <td>1</td>\n",
              "    </tr>\n",
              "    <tr>\n",
              "      <th>4</th>\n",
              "      <td>UKikaski</td>\n",
              "      <td>2022-09-05</td>\n",
              "      <td>#APU Bayraktar TB-2's destroy two RUS Tor-M1 S...</td>\n",
              "      <td>en</td>\n",
              "      <td>bayraktar tb2s destroy two rus torm1 sam syste...</td>\n",
              "      <td>bayraktar tb2s destroy two rus torm1 sam syste...</td>\n",
              "      <td>bayraktar tb2s destroy two ru torm1 sam system...</td>\n",
              "      <td>0.045</td>\n",
              "      <td>0.714</td>\n",
              "      <td>0.241</td>\n",
              "      <td>-0.8126</td>\n",
              "      <td>Negative</td>\n",
              "      <td>1</td>\n",
              "    </tr>\n",
              "    <tr>\n",
              "      <th>...</th>\n",
              "      <td>...</td>\n",
              "      <td>...</td>\n",
              "      <td>...</td>\n",
              "      <td>...</td>\n",
              "      <td>...</td>\n",
              "      <td>...</td>\n",
              "      <td>...</td>\n",
              "      <td>...</td>\n",
              "      <td>...</td>\n",
              "      <td>...</td>\n",
              "      <td>...</td>\n",
              "      <td>...</td>\n",
              "      <td>...</td>\n",
              "    </tr>\n",
              "    <tr>\n",
              "      <th>52348</th>\n",
              "      <td>anno1540</td>\n",
              "      <td>2022-11-05</td>\n",
              "      <td>Today, close to 4:00 p.m., two Kalibr missiles...</td>\n",
              "      <td>en</td>\n",
              "      <td>today close to 400 pm two kalibr missiles were...</td>\n",
              "      <td>today close 400 pm two kalibr missiles shot pp...</td>\n",
              "      <td>today close 400 pm two kalibr missile shoot pp...</td>\n",
              "      <td>0.000</td>\n",
              "      <td>1.000</td>\n",
              "      <td>0.000</td>\n",
              "      <td>0.0000</td>\n",
              "      <td>Neutral</td>\n",
              "      <td>2</td>\n",
              "    </tr>\n",
              "    <tr>\n",
              "      <th>52349</th>\n",
              "      <td>TeslaradarB</td>\n",
              "      <td>2022-11-04</td>\n",
              "      <td>Yay! TreePuncher just spotted a 2021 Tesla Mod...</td>\n",
              "      <td>en</td>\n",
              "      <td>yay treepuncher just spotted 2021 tesla model ...</td>\n",
              "      <td>yay treepuncher spotted 2021 tesla model p2 du...</td>\n",
              "      <td>yay treepuncher spot 2021 tesla model p2 dual ...</td>\n",
              "      <td>0.279</td>\n",
              "      <td>0.721</td>\n",
              "      <td>0.000</td>\n",
              "      <td>0.7351</td>\n",
              "      <td>Positive</td>\n",
              "      <td>0</td>\n",
              "    </tr>\n",
              "    <tr>\n",
              "      <th>52350</th>\n",
              "      <td>OneginRaul</td>\n",
              "      <td>2022-11-05</td>\n",
              "      <td>@KimDotcom The only one that can supply cheap ...</td>\n",
              "      <td>en</td>\n",
              "      <td>the only one that can supply cheap energy to i...</td>\n",
              "      <td>one supply cheap energy absolutely nobody offe...</td>\n",
              "      <td>one supply cheap energy absolutely nobody offe...</td>\n",
              "      <td>0.278</td>\n",
              "      <td>0.722</td>\n",
              "      <td>0.000</td>\n",
              "      <td>0.6124</td>\n",
              "      <td>Positive</td>\n",
              "      <td>0</td>\n",
              "    </tr>\n",
              "    <tr>\n",
              "      <th>52351</th>\n",
              "      <td>Trust_In_Noto</td>\n",
              "      <td>2022-11-04</td>\n",
              "      <td>@AOC You know you want to support this. #Biden...</td>\n",
              "      <td>en</td>\n",
              "      <td>you know you want to support this</td>\n",
              "      <td>know want support</td>\n",
              "      <td>know want support</td>\n",
              "      <td>0.444</td>\n",
              "      <td>0.556</td>\n",
              "      <td>0.000</td>\n",
              "      <td>0.4588</td>\n",
              "      <td>Positive</td>\n",
              "      <td>0</td>\n",
              "    </tr>\n",
              "    <tr>\n",
              "      <th>52352</th>\n",
              "      <td>thestranger515</td>\n",
              "      <td>2022-11-04</td>\n",
              "      <td>#Russian commanders in #Kherson are fleeing &amp;a...</td>\n",
              "      <td>en</td>\n",
              "      <td>commanders in are fleeing leaving illequipped ...</td>\n",
              "      <td>commanders fleeing leaving illequipped demoral...</td>\n",
              "      <td>commander flee leave illequipped demoralise tr...</td>\n",
              "      <td>0.030</td>\n",
              "      <td>0.874</td>\n",
              "      <td>0.096</td>\n",
              "      <td>-0.5267</td>\n",
              "      <td>Negative</td>\n",
              "      <td>1</td>\n",
              "    </tr>\n",
              "  </tbody>\n",
              "</table>\n",
              "<p>52353 rows × 13 columns</p>\n",
              "</div>"
            ],
            "text/plain": [
              "             username created_at  \\\n",
              "0        xXOxygeNXx49 2022-09-05   \n",
              "1          Abraxas444 2022-09-06   \n",
              "2         iwdu_global 2022-09-05   \n",
              "3          VoteEarly2 2022-09-06   \n",
              "4            UKikaski 2022-09-05   \n",
              "...               ...        ...   \n",
              "52348        anno1540 2022-11-05   \n",
              "52349     TeslaradarB 2022-11-04   \n",
              "52350      OneginRaul 2022-11-05   \n",
              "52351   Trust_In_Noto 2022-11-04   \n",
              "52352  thestranger515 2022-11-04   \n",
              "\n",
              "                                                   tweet language  \\\n",
              "0                                   @SupaIsaiah016 Yummy       en   \n",
              "1      Peace is offensive concept for some of #Ukrain...       en   \n",
              "2      Thanks to the @iwdu_global for another fruitfu...       en   \n",
              "3      @RepLeeZeldin Trump sabotaging democracy &amp;...       en   \n",
              "4      #APU Bayraktar TB-2's destroy two RUS Tor-M1 S...       en   \n",
              "...                                                  ...      ...   \n",
              "52348  Today, close to 4:00 p.m., two Kalibr missiles...       en   \n",
              "52349  Yay! TreePuncher just spotted a 2021 Tesla Mod...       en   \n",
              "52350  @KimDotcom The only one that can supply cheap ...       en   \n",
              "52351  @AOC You know you want to support this. #Biden...       en   \n",
              "52352  #Russian commanders in #Kherson are fleeing &a...       en   \n",
              "\n",
              "                                      tweet_simple_clean  \\\n",
              "0                                                  yummy   \n",
              "1       peace is offensive concept for some of officials   \n",
              "2      thanks to the for another fruitful and insight...   \n",
              "3      trump sabotaging democracy threatening natl se...   \n",
              "4      bayraktar tb2s destroy two rus torm1 sam syste...   \n",
              "...                                                  ...   \n",
              "52348  today close to 400 pm two kalibr missiles were...   \n",
              "52349  yay treepuncher just spotted 2021 tesla model ...   \n",
              "52350  the only one that can supply cheap energy to i...   \n",
              "52351                  you know you want to support this   \n",
              "52352  commanders in are fleeing leaving illequipped ...   \n",
              "\n",
              "                                      tweet_no_stopwords  \\\n",
              "0                                                  yummy   \n",
              "1                      peace offensive concept officials   \n",
              "2      thanks another fruitful insightful meeting dis...   \n",
              "3      trump sabotaging democracy threatening natl se...   \n",
              "4      bayraktar tb2s destroy two rus torm1 sam syste...   \n",
              "...                                                  ...   \n",
              "52348  today close 400 pm two kalibr missiles shot pp...   \n",
              "52349  yay treepuncher spotted 2021 tesla model p2 du...   \n",
              "52350  one supply cheap energy absolutely nobody offe...   \n",
              "52351                                  know want support   \n",
              "52352  commanders fleeing leaving illequipped demoral...   \n",
              "\n",
              "                                        tweet_high_clean  Positive  Neutral  \\\n",
              "0                                                  yummy     1.000    0.000   \n",
              "1                       peace offensive concept official     0.280    0.480   \n",
              "2      thanks another fruitful insightful meeting dis...     0.268    0.732   \n",
              "3      trump sabotage democracy threaten natl securit...     0.122    0.623   \n",
              "4      bayraktar tb2s destroy two ru torm1 sam system...     0.045    0.714   \n",
              "...                                                  ...       ...      ...   \n",
              "52348  today close 400 pm two kalibr missile shoot pp...     0.000    1.000   \n",
              "52349  yay treepuncher spot 2021 tesla model p2 dual ...     0.279    0.721   \n",
              "52350  one supply cheap energy absolutely nobody offe...     0.278    0.722   \n",
              "52351                                  know want support     0.444    0.556   \n",
              "52352  commander flee leave illequipped demoralise tr...     0.030    0.874   \n",
              "\n",
              "       Negative  Compound Sentiment  Label  \n",
              "0         0.000    0.5267  Positive      0  \n",
              "1         0.240    0.1280  Positive      0  \n",
              "2         0.000    0.8316  Positive      0  \n",
              "3         0.255   -0.6908  Negative      1  \n",
              "4         0.241   -0.8126  Negative      1  \n",
              "...         ...       ...       ...    ...  \n",
              "52348     0.000    0.0000   Neutral      2  \n",
              "52349     0.000    0.7351  Positive      0  \n",
              "52350     0.000    0.6124  Positive      0  \n",
              "52351     0.000    0.4588  Positive      0  \n",
              "52352     0.096   -0.5267  Negative      1  \n",
              "\n",
              "[52353 rows x 13 columns]"
            ]
          },
          "execution_count": 42,
          "metadata": {},
          "output_type": "execute_result"
        }
      ],
      "source": [
        "df"
      ]
    },
    {
      "cell_type": "code",
      "execution_count": 43,
      "metadata": {
        "colab": {
          "base_uri": "https://localhost:8080/",
          "height": 237
        },
        "id": "aFZ5jepcl7_O",
        "outputId": "7f1e58ff-7776-48ce-b5a4-3290f5027285"
      },
      "outputs": [
        {
          "data": {
            "text/html": [
              "<div>\n",
              "<style scoped>\n",
              "    .dataframe tbody tr th:only-of-type {\n",
              "        vertical-align: middle;\n",
              "    }\n",
              "\n",
              "    .dataframe tbody tr th {\n",
              "        vertical-align: top;\n",
              "    }\n",
              "\n",
              "    .dataframe thead th {\n",
              "        text-align: right;\n",
              "    }\n",
              "</style>\n",
              "<table border=\"1\" class=\"dataframe\">\n",
              "  <thead>\n",
              "    <tr style=\"text-align: right;\">\n",
              "      <th></th>\n",
              "      <th>Counts</th>\n",
              "      <th>Percentage</th>\n",
              "    </tr>\n",
              "    <tr>\n",
              "      <th>Sentiment</th>\n",
              "      <th></th>\n",
              "      <th></th>\n",
              "    </tr>\n",
              "  </thead>\n",
              "  <tbody>\n",
              "    <tr>\n",
              "      <th>Negative</th>\n",
              "      <td>20940</td>\n",
              "      <td>39.997708</td>\n",
              "    </tr>\n",
              "    <tr>\n",
              "      <th>Neutral</th>\n",
              "      <td>13479</td>\n",
              "      <td>25.746376</td>\n",
              "    </tr>\n",
              "    <tr>\n",
              "      <th>Positive</th>\n",
              "      <td>17934</td>\n",
              "      <td>34.255917</td>\n",
              "    </tr>\n",
              "  </tbody>\n",
              "</table>\n",
              "</div>"
            ],
            "text/plain": [
              "           Counts  Percentage\n",
              "Sentiment                    \n",
              "Negative    20940   39.997708\n",
              "Neutral     13479   25.746376\n",
              "Positive    17934   34.255917"
            ]
          },
          "execution_count": 43,
          "metadata": {},
          "output_type": "execute_result"
        }
      ],
      "source": [
        "pd.DataFrame(df.groupby(['Sentiment'])['Sentiment'].count()).rename(columns={\"Sentiment\":\"Counts\"}).assign(\n",
        "    Percentage=lambda x: (x.Counts/ x.Counts.sum())*100)"
      ]
    },
    {
      "cell_type": "code",
      "execution_count": 44,
      "metadata": {
        "colab": {
          "base_uri": "https://localhost:8080/",
          "height": 54
        },
        "id": "JBUXAAMbp5GH",
        "outputId": "f0a5faa9-3e4c-4360-bff9-a75300c6ce77"
      },
      "outputs": [
        {
          "data": {
            "image/png": "[encoded data removed]",
            "text/plain": [
              "<Figure size 600x600 with 1 Axes>"
            ]
          },
          "metadata": {},
          "output_type": "display_data"
        }
      ],
      "source": [
        "x = pd.DataFrame(df.groupby(['Sentiment'])['Sentiment'].count()).rename(columns={\"Sentiment\":\"Counts\"})\n",
        "labels = ['Negative','Neutral','Positive']\n",
        "colors = [\"#FF3C38\",\"#A9E4EF\",\"#81F495\"]\n",
        "fig, ax = plt.subplots(figsize=(6, 6))\n",
        "ax.pie(x[\"Counts\"], labels=labels, autopct='%.1f%%', colors=colors, startangle=90)\n",
        "ax.set_title(\"Percentage of Labeled Tweets\")\n",
        "plt.tight_layout()"
      ]
    },
    {
      "cell_type": "markdown",
      "metadata": {
        "id": "eWQtEQKKcSoN"
      },
      "source": [
        "## Tweet simple clean"
      ]
    },
    {
      "cell_type": "code",
      "execution_count": 46,
      "metadata": {
        "colab": {
          "base_uri": "https://localhost:8080/"
        },
        "id": "CabIm5_54GUX",
        "outputId": "0e119161-6b7f-4eef-a8de-528cddd4798d"
      },
      "outputs": [
        {
          "name": "stdout",
          "output_type": "stream",
          "text": [
            "Requirement already satisfied: transformers in /Users/gretasimeliunaite/miniforge3/envs/tensorflow_m1/lib/python3.9/site-packages (4.25.1)\n",
            "Requirement already satisfied: tokenizers!=0.11.3,<0.14,>=0.11.1 in /Users/gretasimeliunaite/miniforge3/envs/tensorflow_m1/lib/python3.9/site-packages (from transformers) (0.13.2)\n",
            "Requirement already satisfied: requests in /Users/gretasimeliunaite/miniforge3/envs/tensorflow_m1/lib/python3.9/site-packages (from transformers) (2.28.1)\n",
            "Requirement already satisfied: numpy>=1.17 in /Users/gretasimeliunaite/miniforge3/envs/tensorflow_m1/lib/python3.9/site-packages (from transformers) (1.23.2)\n",
            "Requirement already satisfied: filelock in /Users/gretasimeliunaite/miniforge3/envs/tensorflow_m1/lib/python3.9/site-packages (from transformers) (3.8.2)\n",
            "Requirement already satisfied: packaging>=20.0 in /Users/gretasimeliunaite/miniforge3/envs/tensorflow_m1/lib/python3.9/site-packages (from transformers) (22.0)\n",
            "Requirement already satisfied: tqdm>=4.27 in /Users/gretasimeliunaite/miniforge3/envs/tensorflow_m1/lib/python3.9/site-packages (from transformers) (4.64.1)\n",
            "Requirement already satisfied: regex!=2019.12.17 in /Users/gretasimeliunaite/miniforge3/envs/tensorflow_m1/lib/python3.9/site-packages (from transformers) (2022.10.31)\n",
            "Requirement already satisfied: pyyaml>=5.1 in /Users/gretasimeliunaite/miniforge3/envs/tensorflow_m1/lib/python3.9/site-packages (from transformers) (6.0)\n",
            "Requirement already satisfied: huggingface-hub<1.0,>=0.10.0 in /Users/gretasimeliunaite/miniforge3/envs/tensorflow_m1/lib/python3.9/site-packages (from transformers) (0.11.1)\n",
            "Requirement already satisfied: typing-extensions>=3.7.4.3 in /Users/gretasimeliunaite/miniforge3/envs/tensorflow_m1/lib/python3.9/site-packages (from huggingface-hub<1.0,>=0.10.0->transformers) (4.4.0)\n",
            "Requirement already satisfied: idna<4,>=2.5 in /Users/gretasimeliunaite/miniforge3/envs/tensorflow_m1/lib/python3.9/site-packages (from requests->transformers) (3.4)\n",
            "Requirement already satisfied: certifi>=2017.4.17 in /Users/gretasimeliunaite/miniforge3/envs/tensorflow_m1/lib/python3.9/site-packages (from requests->transformers) (2022.12.7)\n",
            "Requirement already satisfied: charset-normalizer<3,>=2 in /Users/gretasimeliunaite/miniforge3/envs/tensorflow_m1/lib/python3.9/site-packages (from requests->transformers) (2.1.1)\n",
            "Requirement already satisfied: urllib3<1.27,>=1.21.1 in /Users/gretasimeliunaite/miniforge3/envs/tensorflow_m1/lib/python3.9/site-packages (from requests->transformers) (1.26.13)\n"
          ]
        }
      ],
      "source": [
        "!pip install transformers\n",
        "from transformers import BertTokenizer\n",
        "from torch.utils.data import TensorDataset"
      ]
    },
    {
      "cell_type": "markdown",
      "metadata": {
        "id": "q5NGobds5k6o"
      },
      "source": [
        "### **Bert**"
      ]
    },
    {
      "cell_type": "code",
      "execution_count": 47,
      "metadata": {
        "id": "H-clcF8L5tWO"
      },
      "outputs": [],
      "source": [
        "import numpy as np\n",
        "import pandas as pd\n",
        "from sklearn.model_selection import train_test_split\n",
        "from sklearn.linear_model import LogisticRegression\n",
        "from sklearn.model_selection import GridSearchCV\n",
        "from sklearn.model_selection import cross_val_score\n",
        "import torch\n",
        "import transformers as ppb\n",
        "import warnings\n",
        "warnings.filterwarnings('ignore')"
      ]
    },
    {
      "cell_type": "code",
      "execution_count": 48,
      "metadata": {
        "id": "xK270MCT6Nth"
      },
      "outputs": [],
      "source": [
        "batch_1 = df[:2000]"
      ]
    },
    {
      "cell_type": "code",
      "execution_count": 49,
      "metadata": {
        "colab": {
          "base_uri": "https://localhost:8080/",
          "height": 854
        },
        "id": "nNCwdzNrye4Q",
        "outputId": "cde52b95-c1c7-421d-cebb-8b086a559062"
      },
      "outputs": [
        {
          "data": {
            "text/html": [
              "<div>\n",
              "<style scoped>\n",
              "    .dataframe tbody tr th:only-of-type {\n",
              "        vertical-align: middle;\n",
              "    }\n",
              "\n",
              "    .dataframe tbody tr th {\n",
              "        vertical-align: top;\n",
              "    }\n",
              "\n",
              "    .dataframe thead th {\n",
              "        text-align: right;\n",
              "    }\n",
              "</style>\n",
              "<table border=\"1\" class=\"dataframe\">\n",
              "  <thead>\n",
              "    <tr style=\"text-align: right;\">\n",
              "      <th></th>\n",
              "      <th>username</th>\n",
              "      <th>created_at</th>\n",
              "      <th>tweet</th>\n",
              "      <th>language</th>\n",
              "      <th>tweet_simple_clean</th>\n",
              "      <th>tweet_no_stopwords</th>\n",
              "      <th>tweet_high_clean</th>\n",
              "      <th>Positive</th>\n",
              "      <th>Neutral</th>\n",
              "      <th>Negative</th>\n",
              "      <th>Compound</th>\n",
              "      <th>Sentiment</th>\n",
              "      <th>Label</th>\n",
              "    </tr>\n",
              "  </thead>\n",
              "  <tbody>\n",
              "    <tr>\n",
              "      <th>0</th>\n",
              "      <td>xXOxygeNXx49</td>\n",
              "      <td>2022-09-05</td>\n",
              "      <td>@SupaIsaiah016 Yummy</td>\n",
              "      <td>en</td>\n",
              "      <td>yummy</td>\n",
              "      <td>yummy</td>\n",
              "      <td>yummy</td>\n",
              "      <td>1.000</td>\n",
              "      <td>0.000</td>\n",
              "      <td>0.000</td>\n",
              "      <td>0.5267</td>\n",
              "      <td>Positive</td>\n",
              "      <td>0</td>\n",
              "    </tr>\n",
              "    <tr>\n",
              "      <th>1</th>\n",
              "      <td>Abraxas444</td>\n",
              "      <td>2022-09-06</td>\n",
              "      <td>Peace is offensive concept for some of #Ukrain...</td>\n",
              "      <td>en</td>\n",
              "      <td>peace is offensive concept for some of officials</td>\n",
              "      <td>peace offensive concept officials</td>\n",
              "      <td>peace offensive concept official</td>\n",
              "      <td>0.280</td>\n",
              "      <td>0.480</td>\n",
              "      <td>0.240</td>\n",
              "      <td>0.1280</td>\n",
              "      <td>Positive</td>\n",
              "      <td>0</td>\n",
              "    </tr>\n",
              "    <tr>\n",
              "      <th>2</th>\n",
              "      <td>iwdu_global</td>\n",
              "      <td>2022-09-05</td>\n",
              "      <td>Thanks to the @iwdu_global for another fruitfu...</td>\n",
              "      <td>en</td>\n",
              "      <td>thanks to the for another fruitful and insight...</td>\n",
              "      <td>thanks another fruitful insightful meeting dis...</td>\n",
              "      <td>thanks another fruitful insightful meeting dis...</td>\n",
              "      <td>0.268</td>\n",
              "      <td>0.732</td>\n",
              "      <td>0.000</td>\n",
              "      <td>0.8316</td>\n",
              "      <td>Positive</td>\n",
              "      <td>0</td>\n",
              "    </tr>\n",
              "    <tr>\n",
              "      <th>3</th>\n",
              "      <td>VoteEarly2</td>\n",
              "      <td>2022-09-06</td>\n",
              "      <td>@RepLeeZeldin Trump sabotaging democracy &amp;amp;...</td>\n",
              "      <td>en</td>\n",
              "      <td>trump sabotaging democracy threatening natl se...</td>\n",
              "      <td>trump sabotaging democracy threatening natl se...</td>\n",
              "      <td>trump sabotage democracy threaten natl securit...</td>\n",
              "      <td>0.122</td>\n",
              "      <td>0.623</td>\n",
              "      <td>0.255</td>\n",
              "      <td>-0.6908</td>\n",
              "      <td>Negative</td>\n",
              "      <td>1</td>\n",
              "    </tr>\n",
              "    <tr>\n",
              "      <th>4</th>\n",
              "      <td>UKikaski</td>\n",
              "      <td>2022-09-05</td>\n",
              "      <td>#APU Bayraktar TB-2's destroy two RUS Tor-M1 S...</td>\n",
              "      <td>en</td>\n",
              "      <td>bayraktar tb2s destroy two rus torm1 sam syste...</td>\n",
              "      <td>bayraktar tb2s destroy two rus torm1 sam syste...</td>\n",
              "      <td>bayraktar tb2s destroy two ru torm1 sam system...</td>\n",
              "      <td>0.045</td>\n",
              "      <td>0.714</td>\n",
              "      <td>0.241</td>\n",
              "      <td>-0.8126</td>\n",
              "      <td>Negative</td>\n",
              "      <td>1</td>\n",
              "    </tr>\n",
              "    <tr>\n",
              "      <th>...</th>\n",
              "      <td>...</td>\n",
              "      <td>...</td>\n",
              "      <td>...</td>\n",
              "      <td>...</td>\n",
              "      <td>...</td>\n",
              "      <td>...</td>\n",
              "      <td>...</td>\n",
              "      <td>...</td>\n",
              "      <td>...</td>\n",
              "      <td>...</td>\n",
              "      <td>...</td>\n",
              "      <td>...</td>\n",
              "      <td>...</td>\n",
              "    </tr>\n",
              "    <tr>\n",
              "      <th>1995</th>\n",
              "      <td>SavchukAlex</td>\n",
              "      <td>2022-11-22</td>\n",
              "      <td>#Ukraine receives modernized high-precision Br...</td>\n",
              "      <td>en</td>\n",
              "      <td>receives modernized highprecision brimstone 2 ...</td>\n",
              "      <td>receives modernized highprecision brimstone 2 ...</td>\n",
              "      <td>receives modernize highprecision brimstone 2 m...</td>\n",
              "      <td>0.292</td>\n",
              "      <td>0.708</td>\n",
              "      <td>0.000</td>\n",
              "      <td>0.7650</td>\n",
              "      <td>Positive</td>\n",
              "      <td>0</td>\n",
              "    </tr>\n",
              "    <tr>\n",
              "      <th>1996</th>\n",
              "      <td>nigethugrug</td>\n",
              "      <td>2022-11-22</td>\n",
              "      <td>Care to comment @awb58 @BenjaminAChilds  ?\\n\\n...</td>\n",
              "      <td>en</td>\n",
              "      <td>care to comment sweetheart energy deals caused...</td>\n",
              "      <td>care comment sweetheart energy deals caused fr...</td>\n",
              "      <td>care comment sweetheart energy deal cause fran...</td>\n",
              "      <td>0.295</td>\n",
              "      <td>0.668</td>\n",
              "      <td>0.037</td>\n",
              "      <td>0.8765</td>\n",
              "      <td>Positive</td>\n",
              "      <td>0</td>\n",
              "    </tr>\n",
              "    <tr>\n",
              "      <th>1997</th>\n",
              "      <td>bloomsbury1918</td>\n",
              "      <td>2022-11-22</td>\n",
              "      <td>European Parliament will deal with a project t...</td>\n",
              "      <td>en</td>\n",
              "      <td>european parliament will deal with project to ...</td>\n",
              "      <td>european parliament deal project declare terro...</td>\n",
              "      <td>european parliament deal project declare terro...</td>\n",
              "      <td>0.111</td>\n",
              "      <td>0.677</td>\n",
              "      <td>0.212</td>\n",
              "      <td>-0.4989</td>\n",
              "      <td>Negative</td>\n",
              "      <td>1</td>\n",
              "    </tr>\n",
              "    <tr>\n",
              "      <th>1998</th>\n",
              "      <td>10WallStreet</td>\n",
              "      <td>2022-11-22</td>\n",
              "      <td>Ultimately #Catholic #NeoNazis Will Destroy Al...</td>\n",
              "      <td>en</td>\n",
              "      <td>ultimately will destroy all holy sites of chur...</td>\n",
              "      <td>ultimately destroy holy sites church</td>\n",
              "      <td>ultimately destroy holy site church</td>\n",
              "      <td>0.000</td>\n",
              "      <td>0.696</td>\n",
              "      <td>0.304</td>\n",
              "      <td>-0.5423</td>\n",
              "      <td>Negative</td>\n",
              "      <td>1</td>\n",
              "    </tr>\n",
              "    <tr>\n",
              "      <th>1999</th>\n",
              "      <td>ChrisWe19956626</td>\n",
              "      <td>2022-11-23</td>\n",
              "      <td>It is because the corrupt among the #Russians ...</td>\n",
              "      <td>en</td>\n",
              "      <td>it is because the corrupt among the also deal ...</td>\n",
              "      <td>corrupt among also deal drugs prostitution man...</td>\n",
              "      <td>corrupt among also deal drug prostitution many...</td>\n",
              "      <td>0.000</td>\n",
              "      <td>0.903</td>\n",
              "      <td>0.097</td>\n",
              "      <td>-0.4215</td>\n",
              "      <td>Negative</td>\n",
              "      <td>1</td>\n",
              "    </tr>\n",
              "  </tbody>\n",
              "</table>\n",
              "<p>2000 rows × 13 columns</p>\n",
              "</div>"
            ],
            "text/plain": [
              "             username created_at  \\\n",
              "0        xXOxygeNXx49 2022-09-05   \n",
              "1          Abraxas444 2022-09-06   \n",
              "2         iwdu_global 2022-09-05   \n",
              "3          VoteEarly2 2022-09-06   \n",
              "4            UKikaski 2022-09-05   \n",
              "...               ...        ...   \n",
              "1995      SavchukAlex 2022-11-22   \n",
              "1996      nigethugrug 2022-11-22   \n",
              "1997   bloomsbury1918 2022-11-22   \n",
              "1998     10WallStreet 2022-11-22   \n",
              "1999  ChrisWe19956626 2022-11-23   \n",
              "\n",
              "                                                  tweet language  \\\n",
              "0                                  @SupaIsaiah016 Yummy       en   \n",
              "1     Peace is offensive concept for some of #Ukrain...       en   \n",
              "2     Thanks to the @iwdu_global for another fruitfu...       en   \n",
              "3     @RepLeeZeldin Trump sabotaging democracy &amp;...       en   \n",
              "4     #APU Bayraktar TB-2's destroy two RUS Tor-M1 S...       en   \n",
              "...                                                 ...      ...   \n",
              "1995  #Ukraine receives modernized high-precision Br...       en   \n",
              "1996  Care to comment @awb58 @BenjaminAChilds  ?\\n\\n...       en   \n",
              "1997  European Parliament will deal with a project t...       en   \n",
              "1998  Ultimately #Catholic #NeoNazis Will Destroy Al...       en   \n",
              "1999  It is because the corrupt among the #Russians ...       en   \n",
              "\n",
              "                                     tweet_simple_clean  \\\n",
              "0                                                 yummy   \n",
              "1      peace is offensive concept for some of officials   \n",
              "2     thanks to the for another fruitful and insight...   \n",
              "3     trump sabotaging democracy threatening natl se...   \n",
              "4     bayraktar tb2s destroy two rus torm1 sam syste...   \n",
              "...                                                 ...   \n",
              "1995  receives modernized highprecision brimstone 2 ...   \n",
              "1996  care to comment sweetheart energy deals caused...   \n",
              "1997  european parliament will deal with project to ...   \n",
              "1998  ultimately will destroy all holy sites of chur...   \n",
              "1999  it is because the corrupt among the also deal ...   \n",
              "\n",
              "                                     tweet_no_stopwords  \\\n",
              "0                                                 yummy   \n",
              "1                     peace offensive concept officials   \n",
              "2     thanks another fruitful insightful meeting dis...   \n",
              "3     trump sabotaging democracy threatening natl se...   \n",
              "4     bayraktar tb2s destroy two rus torm1 sam syste...   \n",
              "...                                                 ...   \n",
              "1995  receives modernized highprecision brimstone 2 ...   \n",
              "1996  care comment sweetheart energy deals caused fr...   \n",
              "1997  european parliament deal project declare terro...   \n",
              "1998               ultimately destroy holy sites church   \n",
              "1999  corrupt among also deal drugs prostitution man...   \n",
              "\n",
              "                                       tweet_high_clean  Positive  Neutral  \\\n",
              "0                                                 yummy     1.000    0.000   \n",
              "1                      peace offensive concept official     0.280    0.480   \n",
              "2     thanks another fruitful insightful meeting dis...     0.268    0.732   \n",
              "3     trump sabotage democracy threaten natl securit...     0.122    0.623   \n",
              "4     bayraktar tb2s destroy two ru torm1 sam system...     0.045    0.714   \n",
              "...                                                 ...       ...      ...   \n",
              "1995  receives modernize highprecision brimstone 2 m...     0.292    0.708   \n",
              "1996  care comment sweetheart energy deal cause fran...     0.295    0.668   \n",
              "1997  european parliament deal project declare terro...     0.111    0.677   \n",
              "1998                ultimately destroy holy site church     0.000    0.696   \n",
              "1999  corrupt among also deal drug prostitution many...     0.000    0.903   \n",
              "\n",
              "      Negative  Compound Sentiment  Label  \n",
              "0        0.000    0.5267  Positive      0  \n",
              "1        0.240    0.1280  Positive      0  \n",
              "2        0.000    0.8316  Positive      0  \n",
              "3        0.255   -0.6908  Negative      1  \n",
              "4        0.241   -0.8126  Negative      1  \n",
              "...        ...       ...       ...    ...  \n",
              "1995     0.000    0.7650  Positive      0  \n",
              "1996     0.037    0.8765  Positive      0  \n",
              "1997     0.212   -0.4989  Negative      1  \n",
              "1998     0.304   -0.5423  Negative      1  \n",
              "1999     0.097   -0.4215  Negative      1  \n",
              "\n",
              "[2000 rows x 13 columns]"
            ]
          },
          "execution_count": 49,
          "metadata": {},
          "output_type": "execute_result"
        }
      ],
      "source": [
        "batch_1"
      ]
    },
    {
      "cell_type": "code",
      "execution_count": 50,
      "metadata": {
        "colab": {
          "base_uri": "https://localhost:8080/",
          "height": 216,
          "referenced_widgets": [
            "0c74023e58684316966e79106957a6cc",
            "59cd3195bc6d4e4e97a044f56782671a",
            "1a9c4dc8316943fd8b7d67eaccde1a38",
            "dbd4253989b74fb6aca6d298dad423eb",
            "5041f00fe50647658223bce9bcdc6d13",
            "83d233d928734193a85163fe22b63928",
            "2ba39bd7b11e49dcab14417c398ab9f2",
            "6ff7e590320c4a57a6e7d26a703b6db3",
            "de6a2f2a84884f3c8ca1062a5a3a05ed",
            "2d31dff25e54458e980bf6ad8009dfb2",
            "85bf49233d23462187ada8214cd98d01",
            "38f950ea39a3469ab673cd3f5b7a155d",
            "fee9eda945564c01af0d71befa76eac6",
            "24ae536c11dd4f878eeb4247135e72fd",
            "073fff0ce2984d21bc2f1e015ea28ddf",
            "52c7f8dcf6ab4c179178ce2bc4773387",
            "f9d353f4c20743e19d3dab37dc2e13bd",
            "de700be5f02140b4aca7e91846f94fd6",
            "a417166db07945c5a289da7d50c50082",
            "23a70d45efe74b81b46b4ddffb6c46d8",
            "2d35a7a56d244f43bac6aa42bb5b14aa",
            "6111b660d90140428f9c5ba84330f141",
            "9bb144d8e5f941ad8de699fe8a95919b",
            "a7000e9d629b445a8bcd2c3e549f94f3",
            "a6cba5c16431437a9b55570598deb40e",
            "cc43f434613e40ed8e1edb2cc6d68595",
            "0119201e683b45c38461ba470a0efb2e",
            "78afadaac144432c88ab2bcc15396da0",
            "2dd4733356ad4479adf8f6d2df756b27",
            "16e40e6d26774e34944625c9e384042d",
            "f31e957db32447058d3660988fda20f4",
            "25b59143deba447f8a4a30d1964259f4",
            "b7dd6f7890a340acbb6c980c90cadbab",
            "7b104038c99643dab45255e034c8896e",
            "86d315fddf514fe5b300a401f1ec233b",
            "77167bf4a54c43e08b8c2fc6a4c635e6",
            "77b71cb65ec0466283f7b3cb4e52a013",
            "9222786570d74e23ae5fc17ae881292d",
            "9749950c504340cc8bd63ab9eb7f70b7",
            "c7af63ae5ba348c9888b6b33f8b02a2e",
            "3b6cb7ae6a8e4d39827e6dee89d4a317",
            "678a66d074164f71b7de83bbec7a2d6a",
            "c0a152dce20b4cd5993e280d4b3da76a",
            "5f8161ab03274d0da0380ca50156a0fd"
          ]
        },
        "id": "YhGXh3EX5tdx",
        "outputId": "15dbbdfd-b33e-4961-a6dc-b1d9bae117bb"
      },
      "outputs": [
        {
          "name": "stderr",
          "output_type": "stream",
          "text": [
            "Some weights of the model checkpoint at distilbert-base-uncased were not used when initializing DistilBertModel: ['vocab_layer_norm.weight', 'vocab_transform.weight', 'vocab_layer_norm.bias', 'vocab_projector.bias', 'vocab_projector.weight', 'vocab_transform.bias']\n",
            "- This IS expected if you are initializing DistilBertModel from the checkpoint of a model trained on another task or with another architecture (e.g. initializing a BertForSequenceClassification model from a BertForPreTraining model).\n",
            "- This IS NOT expected if you are initializing DistilBertModel from the checkpoint of a model that you expect to be exactly identical (initializing a BertForSequenceClassification model from a BertForSequenceClassification model).\n"
          ]
        }
      ],
      "source": [
        "model_class, tokenizer_class, pretrained_weights = (ppb.DistilBertModel, ppb.DistilBertTokenizer, 'distilbert-base-uncased')\n",
        "\n",
        "\n",
        "# Load pretrained model/tokenizer\n",
        "tokenizer = tokenizer_class.from_pretrained(pretrained_weights)\n",
        "model = model_class.from_pretrained(pretrained_weights)"
      ]
    },
    {
      "cell_type": "code",
      "execution_count": 51,
      "metadata": {
        "id": "kE-GP7d_6SFd"
      },
      "outputs": [],
      "source": [
        "tokenized = batch_1[\"tweet_simple_clean\"].apply((lambda x: tokenizer.encode(x, add_special_tokens=True)))"
      ]
    },
    {
      "cell_type": "code",
      "execution_count": 52,
      "metadata": {
        "id": "BR1auWz36SrC"
      },
      "outputs": [],
      "source": [
        "max_len = 0\n",
        "for i in tokenized.values:\n",
        "    if len(i) > max_len:\n",
        "        max_len = len(i)\n",
        "\n",
        "padded = np.array([i + [0]*(max_len-len(i)) for i in tokenized.values])"
      ]
    },
    {
      "cell_type": "code",
      "execution_count": 53,
      "metadata": {
        "colab": {
          "base_uri": "https://localhost:8080/"
        },
        "id": "a1bLWXjx2vd8",
        "outputId": "163f7e19-346e-413b-aa7e-e4cf38cef558"
      },
      "outputs": [
        {
          "data": {
            "text/plain": [
              "array([[  101,  9805, 18879, ...,     0,     0,     0],\n",
              "       [  101,  3521,  2003, ...,     0,     0,     0],\n",
              "       [  101,  4283,  2000, ...,     0,     0,     0],\n",
              "       ...,\n",
              "       [  101,  2647,  3323, ...,     0,     0,     0],\n",
              "       [  101,  4821,  2097, ...,     0,     0,     0],\n",
              "       [  101,  2009,  2003, ...,     0,     0,     0]])"
            ]
          },
          "execution_count": 53,
          "metadata": {},
          "output_type": "execute_result"
        }
      ],
      "source": [
        "padded"
      ]
    },
    {
      "cell_type": "code",
      "execution_count": 54,
      "metadata": {
        "colab": {
          "base_uri": "https://localhost:8080/"
        },
        "id": "NUPcGT3wzKmp",
        "outputId": "cdcac9d5-e766-46eb-f872-4eb56471a44d"
      },
      "outputs": [
        {
          "data": {
            "text/plain": [
              "(2000, 65)"
            ]
          },
          "execution_count": 54,
          "metadata": {},
          "output_type": "execute_result"
        }
      ],
      "source": [
        "attention_mask = np.where(padded != 0, 1, 0)\n",
        "attention_mask.shape"
      ]
    },
    {
      "cell_type": "code",
      "execution_count": 55,
      "metadata": {
        "id": "_uQcYn1z6Stj"
      },
      "outputs": [],
      "source": [
        "input_ids = torch.tensor(padded)  \n",
        "attention_mask = torch.tensor(attention_mask)\n",
        "\n",
        "with torch.no_grad():\n",
        "    last_hidden_states = model(input_ids, attention_mask=attention_mask)"
      ]
    },
    {
      "cell_type": "code",
      "execution_count": 56,
      "metadata": {
        "id": "6sZiooQB6SwO"
      },
      "outputs": [],
      "source": [
        "features = last_hidden_states[0][:,0,:].numpy()"
      ]
    },
    {
      "cell_type": "code",
      "execution_count": 57,
      "metadata": {
        "id": "HozKPstb6Yya"
      },
      "outputs": [],
      "source": [
        "labels = batch_1['Label']"
      ]
    },
    {
      "cell_type": "code",
      "execution_count": 58,
      "metadata": {
        "id": "y5aLP7bbOMnb"
      },
      "outputs": [],
      "source": [
        "X_train, X_test, y_train, y_test = train_test_split(features, labels, \n",
        "                                                    test_size=0.2,\n",
        "                                                   random_state=100,\n",
        "                                                    stratify=labels)"
      ]
    },
    {
      "cell_type": "markdown",
      "metadata": {
        "id": "L9IZmwgzW1t_"
      },
      "source": [
        "Bert with Logistic regression without fine-tunning"
      ]
    },
    {
      "cell_type": "code",
      "execution_count": 59,
      "metadata": {
        "id": "DB3lgC_n6Y_6"
      },
      "outputs": [],
      "source": [
        "lr_clf = LogisticRegression()\n",
        "lr_clf.fit(X_train, y_train)\n",
        "lr_clf.score(X_train, y_train)\n",
        "predictions = lr_clf.predict(X_test)"
      ]
    },
    {
      "cell_type": "code",
      "execution_count": 60,
      "metadata": {
        "colab": {
          "base_uri": "https://localhost:8080/"
        },
        "id": "DMWUzdfbWi5j",
        "outputId": "e94744da-f759-4c95-d64e-c0fa869b3cc0"
      },
      "outputs": [
        {
          "name": "stdout",
          "output_type": "stream",
          "text": [
            "[[104  23  11]\n",
            " [ 31 117  15]\n",
            " [ 20  12  67]]\n",
            "              precision    recall  f1-score   support\n",
            "\n",
            "           0       0.67      0.75      0.71       138\n",
            "           1       0.77      0.72      0.74       163\n",
            "           2       0.72      0.68      0.70        99\n",
            "\n",
            "    accuracy                           0.72       400\n",
            "   macro avg       0.72      0.72      0.72       400\n",
            "weighted avg       0.72      0.72      0.72       400\n",
            "\n",
            "Model evaluation\n",
            "Accuracy: 0.72\n"
          ]
        }
      ],
      "source": [
        "from sklearn.metrics import classification_report, confusion_matrix, accuracy_score,precision_score, recall_score, f1_score\n",
        "\n",
        "print(confusion_matrix(y_test,predictions))  \n",
        "print(classification_report(y_test,predictions))  \n",
        "print(\"Model evaluation\")\n",
        "print(\"Accuracy:\", accuracy_score(y_test, predictions))"
      ]
    },
    {
      "cell_type": "markdown",
      "metadata": {
        "id": "8qhxnQ_CW-6v"
      },
      "source": [
        "Bert with Logistic regression with fine-tunning"
      ]
    },
    {
      "cell_type": "code",
      "execution_count": 61,
      "metadata": {
        "colab": {
          "base_uri": "https://localhost:8080/"
        },
        "id": "sD-CW-74S9Sn",
        "outputId": "f2ca46d2-979c-4892-cc2f-26b7d767b45f"
      },
      "outputs": [
        {
          "data": {
            "text/plain": [
              "{'C': 1.0,\n",
              " 'class_weight': None,\n",
              " 'dual': False,\n",
              " 'fit_intercept': True,\n",
              " 'intercept_scaling': 1,\n",
              " 'l1_ratio': None,\n",
              " 'max_iter': 100,\n",
              " 'multi_class': 'auto',\n",
              " 'n_jobs': None,\n",
              " 'penalty': 'l2',\n",
              " 'random_state': None,\n",
              " 'solver': 'lbfgs',\n",
              " 'tol': 0.0001,\n",
              " 'verbose': 0,\n",
              " 'warm_start': False}"
            ]
          },
          "execution_count": 61,
          "metadata": {},
          "output_type": "execute_result"
        }
      ],
      "source": [
        "lr_clf.get_params()"
      ]
    },
    {
      "cell_type": "code",
      "execution_count": 62,
      "metadata": {
        "colab": {
          "base_uri": "https://localhost:8080/"
        },
        "id": "elUN_M-R-9r1",
        "outputId": "93e33fc5-873e-45c6-9241-a445640ff889"
      },
      "outputs": [
        {
          "name": "stdout",
          "output_type": "stream",
          "text": [
            "Requirement already satisfied: scikit-optimize in /Users/gretasimeliunaite/miniforge3/envs/tensorflow_m1/lib/python3.9/site-packages (0.9.0)\n",
            "Requirement already satisfied: joblib>=0.11 in /Users/gretasimeliunaite/miniforge3/envs/tensorflow_m1/lib/python3.9/site-packages (from scikit-optimize) (1.2.0)\n",
            "Requirement already satisfied: scikit-learn>=0.20.0 in /Users/gretasimeliunaite/miniforge3/envs/tensorflow_m1/lib/python3.9/site-packages (from scikit-optimize) (1.2.0)\n",
            "Requirement already satisfied: pyaml>=16.9 in /Users/gretasimeliunaite/miniforge3/envs/tensorflow_m1/lib/python3.9/site-packages (from scikit-optimize) (21.10.1)\n",
            "Requirement already satisfied: scipy>=0.19.1 in /Users/gretasimeliunaite/miniforge3/envs/tensorflow_m1/lib/python3.9/site-packages (from scikit-optimize) (1.9.3)\n",
            "Requirement already satisfied: numpy>=1.13.3 in /Users/gretasimeliunaite/miniforge3/envs/tensorflow_m1/lib/python3.9/site-packages (from scikit-optimize) (1.23.2)\n",
            "Requirement already satisfied: PyYAML in /Users/gretasimeliunaite/miniforge3/envs/tensorflow_m1/lib/python3.9/site-packages (from pyaml>=16.9->scikit-optimize) (6.0)\n",
            "Requirement already satisfied: threadpoolctl>=2.0.0 in /Users/gretasimeliunaite/miniforge3/envs/tensorflow_m1/lib/python3.9/site-packages (from scikit-learn>=0.20.0->scikit-optimize) (3.1.0)\n"
          ]
        }
      ],
      "source": [
        "!pip install scikit-optimize"
      ]
    },
    {
      "cell_type": "code",
      "execution_count": 63,
      "metadata": {
        "colab": {
          "base_uri": "https://localhost:8080/",
          "height": 375
        },
        "id": "3kLuOkkvT9ga",
        "outputId": "bce8d007-ea1c-45a6-e10b-72f343996a1a"
      },
      "outputs": [
        {
          "data": {
            "text/plain": [
              "OrderedDict([('C', 0.4)])"
            ]
          },
          "execution_count": 63,
          "metadata": {},
          "output_type": "execute_result"
        }
      ],
      "source": [
        "from skopt import BayesSearchCV\n",
        "parameters = {'C':[0.1,0.2,0.3,0.4,0.5,0.6,0.7,0.8,0.9,1]}\n",
        "log_reg_model = LogisticRegression()\n",
        "\n",
        "cv = BayesSearchCV(log_reg_model, parameters)\n",
        "cv.fit(X_train, y_train)\n",
        "best_params = cv.best_params_\n",
        "best_params\n",
        "\n"
      ]
    },
    {
      "cell_type": "code",
      "execution_count": 64,
      "metadata": {
        "id": "M6wEZSMBUR6r"
      },
      "outputs": [],
      "source": [
        "logistic = LogisticRegression(**best_params, class_weight='balanced', random_state = 42, \n",
        "                              max_iter=10000)\n",
        "\n",
        "logistic.fit(X_train, y_train)\n",
        "predictions = logistic.predict(X_test)\n"
      ]
    },
    {
      "cell_type": "code",
      "execution_count": 65,
      "metadata": {
        "id": "pEdkixFFVluu"
      },
      "outputs": [
        {
          "name": "stdout",
          "output_type": "stream",
          "text": [
            "[[103  19  16]\n",
            " [ 33 114  16]\n",
            " [ 16  11  72]]\n",
            "              precision    recall  f1-score   support\n",
            "\n",
            "           0       0.68      0.75      0.71       138\n",
            "           1       0.79      0.70      0.74       163\n",
            "           2       0.69      0.73      0.71        99\n",
            "\n",
            "    accuracy                           0.72       400\n",
            "   macro avg       0.72      0.72      0.72       400\n",
            "weighted avg       0.73      0.72      0.72       400\n",
            "\n",
            "Model evaluation\n",
            "Accuracy: 0.7225\n"
          ]
        }
      ],
      "source": [
        "from sklearn.metrics import classification_report, confusion_matrix, accuracy_score,precision_score, recall_score, f1_score\n",
        " \n",
        "print(confusion_matrix(y_test,predictions))  \n",
        "print(classification_report(y_test,predictions))  \n",
        "print(\"Model evaluation\")\n",
        "print(\"Accuracy:\", accuracy_score(y_test, predictions))"
      ]
    },
    {
      "cell_type": "markdown",
      "metadata": {
        "id": "tZZq_ACVXniQ"
      },
      "source": [
        "Bert with XGBoost without fine-tunning"
      ]
    },
    {
      "cell_type": "code",
      "execution_count": 66,
      "metadata": {
        "id": "CNfBxlYrXmoJ"
      },
      "outputs": [],
      "source": [
        "from xgboost import XGBClassifier\n",
        "import xgboost as xgb\n",
        "\n",
        "\n",
        "xgboost = XGBClassifier()\n",
        "xgboost.fit(X_train, y_train)\n",
        "xgboost.score(X_train, y_train)\n",
        "predictions = xgboost.predict(X_test)"
      ]
    },
    {
      "cell_type": "code",
      "execution_count": 67,
      "metadata": {
        "id": "2jDYsugUXnFG"
      },
      "outputs": [
        {
          "name": "stdout",
          "output_type": "stream",
          "text": [
            "[[101  29   8]\n",
            " [ 32 126   5]\n",
            " [ 26  19  54]]\n",
            "              precision    recall  f1-score   support\n",
            "\n",
            "           0       0.64      0.73      0.68       138\n",
            "           1       0.72      0.77      0.75       163\n",
            "           2       0.81      0.55      0.65        99\n",
            "\n",
            "    accuracy                           0.70       400\n",
            "   macro avg       0.72      0.68      0.69       400\n",
            "weighted avg       0.71      0.70      0.70       400\n",
            "\n",
            "Model evaluation\n",
            "Accuracy: 0.7025\n"
          ]
        }
      ],
      "source": [
        "print(confusion_matrix(y_test,predictions))  \n",
        "print(classification_report(y_test,predictions))  \n",
        "print(\"Model evaluation\")\n",
        "print(\"Accuracy:\", accuracy_score(y_test, predictions))"
      ]
    },
    {
      "cell_type": "markdown",
      "metadata": {
        "id": "CQ4y_douX-Y_"
      },
      "source": [
        "Bert with XGBoost with fine-tunning"
      ]
    },
    {
      "cell_type": "code",
      "execution_count": 68,
      "metadata": {
        "id": "1_WgWdCbYCnU"
      },
      "outputs": [
        {
          "data": {
            "text/plain": [
              "{'objective': 'multi:softprob',\n",
              " 'use_label_encoder': None,\n",
              " 'base_score': 0.5,\n",
              " 'booster': 'gbtree',\n",
              " 'callbacks': None,\n",
              " 'colsample_bylevel': 1,\n",
              " 'colsample_bynode': 1,\n",
              " 'colsample_bytree': 1,\n",
              " 'early_stopping_rounds': None,\n",
              " 'enable_categorical': False,\n",
              " 'eval_metric': None,\n",
              " 'feature_types': None,\n",
              " 'gamma': 0,\n",
              " 'gpu_id': -1,\n",
              " 'grow_policy': 'depthwise',\n",
              " 'importance_type': None,\n",
              " 'interaction_constraints': '',\n",
              " 'learning_rate': 0.300000012,\n",
              " 'max_bin': 256,\n",
              " 'max_cat_threshold': 64,\n",
              " 'max_cat_to_onehot': 4,\n",
              " 'max_delta_step': 0,\n",
              " 'max_depth': 6,\n",
              " 'max_leaves': 0,\n",
              " 'min_child_weight': 1,\n",
              " 'missing': nan,\n",
              " 'monotone_constraints': '()',\n",
              " 'n_estimators': 100,\n",
              " 'n_jobs': 0,\n",
              " 'num_parallel_tree': 1,\n",
              " 'predictor': 'auto',\n",
              " 'random_state': 0,\n",
              " 'reg_alpha': 0,\n",
              " 'reg_lambda': 1,\n",
              " 'sampling_method': 'uniform',\n",
              " 'scale_pos_weight': None,\n",
              " 'subsample': 1,\n",
              " 'tree_method': 'exact',\n",
              " 'validate_parameters': 1,\n",
              " 'verbosity': None}"
            ]
          },
          "execution_count": 68,
          "metadata": {},
          "output_type": "execute_result"
        }
      ],
      "source": [
        "xgboost.get_params()"
      ]
    },
    {
      "cell_type": "code",
      "execution_count": 69,
      "metadata": {
        "id": "gAl1YY8hYCp4"
      },
      "outputs": [
        {
          "data": {
            "text/plain": [
              "OrderedDict([('learning_rate', 0.1),\n",
              "             ('min_child_weight', 6),\n",
              "             ('subsample', 0.9)])"
            ]
          },
          "execution_count": 69,
          "metadata": {},
          "output_type": "execute_result"
        }
      ],
      "source": [
        "parameters = {'learning_rate':[0.1,0.2,0.3,0.4,0.5,0.6,0.7,0.8,0.9,1], \n",
        "              'subsample':[0.6, 0.7, 0.8, 0.9, 1], \n",
        "              'min_child_weight' : [0,1,2,3,4,5,6,7,8,9,10]}\n",
        "xgboost_model = XGBClassifier()\n",
        "\n",
        "cv = BayesSearchCV(xgboost_model, parameters)\n",
        "cv.fit(X_train, y_train)\n",
        "best_params = cv.best_params_\n",
        "best_params\n"
      ]
    },
    {
      "cell_type": "code",
      "execution_count": 70,
      "metadata": {
        "id": "5mgVRWsAYCxc"
      },
      "outputs": [
        {
          "name": "stdout",
          "output_type": "stream",
          "text": [
            "[01:10:00] WARNING: /Users/runner/work/xgboost/xgboost/python-package/build/temp.macosx-11.0-arm64-cpython-38/xgboost/src/learner.cc:767: \n",
            "Parameters: { \"class_weight\", \"max_iter\" } are not used.\n",
            "\n"
          ]
        }
      ],
      "source": [
        "xgboost= XGBClassifier(**best_params, class_weight='balanced', random_state = 42, \n",
        "                              max_iter=10000)\n",
        "\n",
        "xgboost.fit(X_train, y_train)\n",
        "predictions = xgboost.predict(X_test)"
      ]
    },
    {
      "cell_type": "code",
      "execution_count": 71,
      "metadata": {
        "id": "qPSqEYc29DN5"
      },
      "outputs": [
        {
          "name": "stdout",
          "output_type": "stream",
          "text": [
            "[[102  25  11]\n",
            " [ 34 124   5]\n",
            " [ 25  20  54]]\n",
            "              precision    recall  f1-score   support\n",
            "\n",
            "           0       0.63      0.74      0.68       138\n",
            "           1       0.73      0.76      0.75       163\n",
            "           2       0.77      0.55      0.64        99\n",
            "\n",
            "    accuracy                           0.70       400\n",
            "   macro avg       0.71      0.68      0.69       400\n",
            "weighted avg       0.71      0.70      0.70       400\n",
            "\n",
            "Model evaluation\n",
            "Accuracy: 0.7\n"
          ]
        }
      ],
      "source": [
        "from sklearn.metrics import classification_report, confusion_matrix, accuracy_score,precision_score, recall_score, f1_score\n",
        " \n",
        "print(confusion_matrix(y_test,predictions))  \n",
        "print(classification_report(y_test,predictions))  \n",
        "print(\"Model evaluation\")\n",
        "print(\"Accuracy:\", accuracy_score(y_test, predictions))"
      ]
    },
    {
      "cell_type": "markdown",
      "metadata": {
        "id": "cYJ_D-Lk9T0o"
      },
      "source": [
        "Bert with Naïve Bayes without fine-tunning"
      ]
    },
    {
      "cell_type": "code",
      "execution_count": 72,
      "metadata": {
        "id": "g2xfmHrp9DQu"
      },
      "outputs": [],
      "source": [
        "from sklearn.naive_bayes import GaussianNB\n",
        "text_classifier = GaussianNB()\n",
        "text_classifier.fit(X_train, y_train)\n",
        "text_classifier.score(X_train, y_train)\n",
        "predictions = text_classifier.predict(X_test)"
      ]
    },
    {
      "cell_type": "code",
      "execution_count": 73,
      "metadata": {
        "id": "jo1DJFD99DT6"
      },
      "outputs": [
        {
          "name": "stdout",
          "output_type": "stream",
          "text": [
            "[[ 80  25  33]\n",
            " [ 37 104  22]\n",
            " [ 17  21  61]]\n",
            "              precision    recall  f1-score   support\n",
            "\n",
            "           0       0.60      0.58      0.59       138\n",
            "           1       0.69      0.64      0.66       163\n",
            "           2       0.53      0.62      0.57        99\n",
            "\n",
            "    accuracy                           0.61       400\n",
            "   macro avg       0.61      0.61      0.61       400\n",
            "weighted avg       0.62      0.61      0.61       400\n",
            "\n",
            "Model evaluation\n",
            "Accuracy: 0.6125\n"
          ]
        }
      ],
      "source": [
        "print(confusion_matrix(y_test,predictions))  \n",
        "print(classification_report(y_test,predictions))  \n",
        "print(\"Model evaluation\")\n",
        "print(\"Accuracy:\", accuracy_score(y_test, predictions))"
      ]
    },
    {
      "cell_type": "markdown",
      "metadata": {
        "id": "87NHXJZAAJ8B"
      },
      "source": [
        "Bert with Naïve Bayes with fine-tunning"
      ]
    },
    {
      "cell_type": "code",
      "execution_count": 74,
      "metadata": {
        "id": "m3bhpqD19DXR"
      },
      "outputs": [
        {
          "data": {
            "text/plain": [
              "{'priors': None, 'var_smoothing': 1e-09}"
            ]
          },
          "execution_count": 74,
          "metadata": {},
          "output_type": "execute_result"
        }
      ],
      "source": [
        "text_classifier.get_params()"
      ]
    },
    {
      "cell_type": "code",
      "execution_count": 75,
      "metadata": {
        "id": "Xanj-bL1RkU0"
      },
      "outputs": [
        {
          "data": {
            "text/plain": [
              "OrderedDict([('var_smoothing', 0.0004328761281083057)])"
            ]
          },
          "execution_count": 75,
          "metadata": {},
          "output_type": "execute_result"
        }
      ],
      "source": [
        "parameters = {'var_smoothing': np.logspace(0,-9, num=100)}\n",
        "text_classifier = GaussianNB()\n",
        "\n",
        "cv = BayesSearchCV(text_classifier, parameters)\n",
        "cv.fit(X_train, y_train)\n",
        "best_params = cv.best_params_\n",
        "best_params"
      ]
    },
    {
      "cell_type": "code",
      "execution_count": 76,
      "metadata": {
        "id": "3ZGakCeuRkYQ"
      },
      "outputs": [],
      "source": [
        " text_classifier = GaussianNB(**best_params)\n",
        "\n",
        "text_classifier.fit(X_train, y_train)\n",
        "predictions = text_classifier.predict(X_test)"
      ]
    },
    {
      "cell_type": "code",
      "execution_count": 77,
      "metadata": {
        "id": "zrufNlA_RkcR"
      },
      "outputs": [
        {
          "name": "stdout",
          "output_type": "stream",
          "text": [
            "[[ 80  25  33]\n",
            " [ 36 105  22]\n",
            " [ 17  21  61]]\n",
            "              precision    recall  f1-score   support\n",
            "\n",
            "           0       0.60      0.58      0.59       138\n",
            "           1       0.70      0.64      0.67       163\n",
            "           2       0.53      0.62      0.57        99\n",
            "\n",
            "    accuracy                           0.61       400\n",
            "   macro avg       0.61      0.61      0.61       400\n",
            "weighted avg       0.62      0.61      0.62       400\n",
            "\n",
            "Model evaluation\n",
            "Accuracy: 0.615\n"
          ]
        }
      ],
      "source": [
        "print(confusion_matrix(y_test,predictions))  \n",
        "print(classification_report(y_test,predictions))  \n",
        "print(\"Model evaluation\")\n",
        "print(\"Accuracy:\", accuracy_score(y_test, predictions))"
      ]
    },
    {
      "cell_type": "markdown",
      "metadata": {
        "id": "FL3Z0BVCaibY"
      },
      "source": [
        "**RoBerta**"
      ]
    },
    {
      "cell_type": "code",
      "execution_count": 78,
      "metadata": {
        "id": "xQrbHAPD3XpF"
      },
      "outputs": [
        {
          "name": "stderr",
          "output_type": "stream",
          "text": [
            "Some weights of the model checkpoint at roberta-base were not used when initializing RobertaModel: ['lm_head.dense.bias', 'lm_head.decoder.weight', 'lm_head.layer_norm.bias', 'lm_head.layer_norm.weight', 'lm_head.bias', 'lm_head.dense.weight']\n",
            "- This IS expected if you are initializing RobertaModel from the checkpoint of a model trained on another task or with another architecture (e.g. initializing a BertForSequenceClassification model from a BertForPreTraining model).\n",
            "- This IS NOT expected if you are initializing RobertaModel from the checkpoint of a model that you expect to be exactly identical (initializing a BertForSequenceClassification model from a BertForSequenceClassification model).\n"
          ]
        }
      ],
      "source": [
        "from transformers import RobertaTokenizer, RobertaModel\n",
        "tokenizer = RobertaTokenizer.from_pretrained('roberta-base')\n",
        "model = RobertaModel.from_pretrained('roberta-base')"
      ]
    },
    {
      "cell_type": "code",
      "execution_count": 79,
      "metadata": {
        "id": "jwvZ-9Ki3Xro"
      },
      "outputs": [],
      "source": [
        "tokenized = batch_1[\"tweet_simple_clean\"].apply((lambda x: tokenizer.encode(x, add_special_tokens=True)))"
      ]
    },
    {
      "cell_type": "code",
      "execution_count": 80,
      "metadata": {
        "id": "RsoSuJYR3Xul"
      },
      "outputs": [],
      "source": [
        "max_len = 0\n",
        "for i in tokenized.values:\n",
        "    if len(i) > max_len:\n",
        "        max_len = len(i)\n",
        "\n",
        "padded = np.array([i + [0]*(max_len-len(i)) for i in tokenized.values])\n"
      ]
    },
    {
      "cell_type": "code",
      "execution_count": 81,
      "metadata": {
        "id": "Kn4p-a2E3xER"
      },
      "outputs": [
        {
          "data": {
            "text/plain": [
              "(2000, 67)"
            ]
          },
          "execution_count": 81,
          "metadata": {},
          "output_type": "execute_result"
        }
      ],
      "source": [
        "attention_mask = np.where(padded != 0, 1, 0)\n",
        "attention_mask.shape"
      ]
    },
    {
      "cell_type": "code",
      "execution_count": 82,
      "metadata": {
        "id": "IJd-6Co93Xw3"
      },
      "outputs": [],
      "source": [
        "input_ids = torch.tensor(padded)  \n",
        "attention_mask = torch.tensor(attention_mask)\n",
        "\n",
        "with torch.no_grad():\n",
        "    last_hidden_states = model(input_ids, attention_mask=attention_mask)"
      ]
    },
    {
      "cell_type": "code",
      "execution_count": 83,
      "metadata": {
        "id": "5EJ3NQSW3Xzc"
      },
      "outputs": [],
      "source": [
        "features = last_hidden_states[0][:,0,:].numpy()"
      ]
    },
    {
      "cell_type": "code",
      "execution_count": 84,
      "metadata": {
        "id": "UqRYYq5j3X2e"
      },
      "outputs": [],
      "source": [
        "labels = batch_1['Label']"
      ]
    },
    {
      "cell_type": "code",
      "execution_count": 85,
      "metadata": {
        "id": "aTdTXLFY3X5e"
      },
      "outputs": [],
      "source": [
        "X_train, X_test, y_train, y_test = train_test_split(features, labels, \n",
        "                                                    test_size=0.2,\n",
        "                                                   random_state=100,\n",
        "                                                    stratify=labels)"
      ]
    },
    {
      "cell_type": "markdown",
      "metadata": {
        "id": "GrS5d3eJV1D_"
      },
      "source": [
        "Robert with logistic regression without fine-tunning."
      ]
    },
    {
      "cell_type": "code",
      "execution_count": 86,
      "metadata": {
        "id": "0_nsw1X9Szl5"
      },
      "outputs": [],
      "source": [
        "lr_clf = LogisticRegression()\n",
        "lr_clf.fit(X_train, y_train)\n",
        "lr_clf.score(X_train, y_train)\n",
        "predictions = lr_clf.predict(X_test)"
      ]
    },
    {
      "cell_type": "code",
      "execution_count": 87,
      "metadata": {
        "id": "QNsZle4GSzpz"
      },
      "outputs": [
        {
          "name": "stdout",
          "output_type": "stream",
          "text": [
            "[[ 75  48  15]\n",
            " [ 44 110   9]\n",
            " [ 27  30  42]]\n",
            "              precision    recall  f1-score   support\n",
            "\n",
            "           0       0.51      0.54      0.53       138\n",
            "           1       0.59      0.67      0.63       163\n",
            "           2       0.64      0.42      0.51        99\n",
            "\n",
            "    accuracy                           0.57       400\n",
            "   macro avg       0.58      0.55      0.55       400\n",
            "weighted avg       0.57      0.57      0.56       400\n",
            "\n",
            "Model evaluation\n",
            "Accuracy: 0.5675\n"
          ]
        }
      ],
      "source": [
        "print(confusion_matrix(y_test,predictions))  \n",
        "print(classification_report(y_test,predictions))  \n",
        "print(\"Model evaluation\")\n",
        "print(\"Accuracy:\", accuracy_score(y_test, predictions))"
      ]
    },
    {
      "cell_type": "markdown",
      "metadata": {
        "id": "-_J3FmVjV7nf"
      },
      "source": [
        "Robert with logistic regression with fine-tunning."
      ]
    },
    {
      "cell_type": "code",
      "execution_count": 88,
      "metadata": {
        "id": "xcFIWsBJWEIi"
      },
      "outputs": [
        {
          "data": {
            "text/plain": [
              "OrderedDict([('C', 0.9)])"
            ]
          },
          "execution_count": 88,
          "metadata": {},
          "output_type": "execute_result"
        }
      ],
      "source": [
        "parameters = {'C':[0.1,0.2,0.3,0.4,0.5,0.6,0.7,0.8,0.9,1]}\n",
        "log_reg_model = LogisticRegression()\n",
        "\n",
        "cv = BayesSearchCV(log_reg_model, parameters)\n",
        "cv.fit(X_train, y_train)\n",
        "best_params = cv.best_params_\n",
        "best_params"
      ]
    },
    {
      "cell_type": "code",
      "execution_count": 89,
      "metadata": {
        "id": "rJkIAANKWEK4"
      },
      "outputs": [],
      "source": [
        "logistic = LogisticRegression(**best_params, class_weight='balanced', random_state = 42, \n",
        "                              max_iter=10000)\n",
        "\n",
        "logistic.fit(X_train, y_train)\n",
        "predictions = logistic.predict(X_test)"
      ]
    },
    {
      "cell_type": "code",
      "execution_count": 90,
      "metadata": {
        "id": "R1E7tbK_WENw"
      },
      "outputs": [
        {
          "name": "stdout",
          "output_type": "stream",
          "text": [
            "[[72 35 31]\n",
            " [43 97 23]\n",
            " [19 18 62]]\n",
            "              precision    recall  f1-score   support\n",
            "\n",
            "           0       0.54      0.52      0.53       138\n",
            "           1       0.65      0.60      0.62       163\n",
            "           2       0.53      0.63      0.58        99\n",
            "\n",
            "    accuracy                           0.58       400\n",
            "   macro avg       0.57      0.58      0.58       400\n",
            "weighted avg       0.58      0.58      0.58       400\n",
            "\n",
            "Model evaluation\n",
            "Accuracy: 0.5775\n"
          ]
        }
      ],
      "source": [
        "print(confusion_matrix(y_test,predictions))  \n",
        "print(classification_report(y_test,predictions))  \n",
        "print(\"Model evaluation\")\n",
        "print(\"Accuracy:\", accuracy_score(y_test, predictions))"
      ]
    },
    {
      "cell_type": "markdown",
      "metadata": {
        "id": "bG_AEiN-Wo1L"
      },
      "source": [
        "Robert with XGBoost without fine-tuning. "
      ]
    },
    {
      "cell_type": "code",
      "execution_count": 91,
      "metadata": {
        "id": "2jIUkEl1WEQ8"
      },
      "outputs": [],
      "source": [
        "xgboost = XGBClassifier()\n",
        "xgboost.fit(X_train, y_train)\n",
        "xgboost.score(X_train, y_train)\n",
        "predictions = xgboost.predict(X_test)"
      ]
    },
    {
      "cell_type": "code",
      "execution_count": 92,
      "metadata": {
        "id": "fEig1COpWEUB"
      },
      "outputs": [
        {
          "name": "stdout",
          "output_type": "stream",
          "text": [
            "[[ 76  44  18]\n",
            " [ 40 115   8]\n",
            " [ 26  30  43]]\n",
            "              precision    recall  f1-score   support\n",
            "\n",
            "           0       0.54      0.55      0.54       138\n",
            "           1       0.61      0.71      0.65       163\n",
            "           2       0.62      0.43      0.51        99\n",
            "\n",
            "    accuracy                           0.58       400\n",
            "   macro avg       0.59      0.56      0.57       400\n",
            "weighted avg       0.59      0.58      0.58       400\n",
            "\n",
            "Model evaluation\n",
            "Accuracy: 0.585\n"
          ]
        }
      ],
      "source": [
        "print(confusion_matrix(y_test,predictions))  \n",
        "print(classification_report(y_test,predictions))  \n",
        "print(\"Model evaluation\")\n",
        "print(\"Accuracy:\", accuracy_score(y_test, predictions))"
      ]
    },
    {
      "cell_type": "markdown",
      "metadata": {
        "id": "AyVvH1dYXI4M"
      },
      "source": [
        "Robert with XGBoost with fine-tuning."
      ]
    },
    {
      "cell_type": "code",
      "execution_count": 93,
      "metadata": {
        "id": "IK9h1V2UWEZD"
      },
      "outputs": [
        {
          "data": {
            "text/plain": [
              "OrderedDict([('learning_rate', 0.1),\n",
              "             ('min_child_weight', 5),\n",
              "             ('subsample', 0.6)])"
            ]
          },
          "execution_count": 93,
          "metadata": {},
          "output_type": "execute_result"
        }
      ],
      "source": [
        "parameters = {'learning_rate':[0.1,0.2,0.3,0.4,0.5,0.6,0.7,0.8,0.9,1], \n",
        "              'subsample':[0.6, 0.7, 0.8, 0.9, 1], \n",
        "              'min_child_weight' : [0,1,2,3,4,5,6,7,8,9,10]}\n",
        "xgboost_model = XGBClassifier()\n",
        "\n",
        "cv = BayesSearchCV(xgboost_model, parameters)\n",
        "cv.fit(X_train, y_train)\n",
        "best_params = cv.best_params_\n",
        "best_params"
      ]
    },
    {
      "cell_type": "code",
      "execution_count": 94,
      "metadata": {
        "id": "xax1y1nNWEbG"
      },
      "outputs": [
        {
          "name": "stdout",
          "output_type": "stream",
          "text": [
            "[01:35:38] WARNING: /Users/runner/work/xgboost/xgboost/python-package/build/temp.macosx-11.0-arm64-cpython-38/xgboost/src/learner.cc:767: \n",
            "Parameters: { \"class_weight\", \"max_iter\" } are not used.\n",
            "\n"
          ]
        }
      ],
      "source": [
        "xgboost= XGBClassifier(**best_params, class_weight='balanced', random_state = 42, \n",
        "                              max_iter=10000)\n",
        "\n",
        "xgboost.fit(X_train, y_train)\n",
        "predictions = xgboost.predict(X_test)"
      ]
    },
    {
      "cell_type": "code",
      "execution_count": 95,
      "metadata": {
        "id": "TpTWsUBJWEeg"
      },
      "outputs": [
        {
          "name": "stdout",
          "output_type": "stream",
          "text": [
            "[[ 71  49  18]\n",
            " [ 45 106  12]\n",
            " [ 28  30  41]]\n",
            "              precision    recall  f1-score   support\n",
            "\n",
            "           0       0.49      0.51      0.50       138\n",
            "           1       0.57      0.65      0.61       163\n",
            "           2       0.58      0.41      0.48        99\n",
            "\n",
            "    accuracy                           0.55       400\n",
            "   macro avg       0.55      0.53      0.53       400\n",
            "weighted avg       0.55      0.55      0.54       400\n",
            "\n",
            "Model evaluation\n",
            "Accuracy: 0.545\n"
          ]
        }
      ],
      "source": [
        "print(confusion_matrix(y_test,predictions))  \n",
        "print(classification_report(y_test,predictions))  \n",
        "print(\"Model evaluation\")\n",
        "print(\"Accuracy:\", accuracy_score(y_test, predictions))"
      ]
    },
    {
      "cell_type": "markdown",
      "metadata": {
        "id": "5V3tzonwXdvE"
      },
      "source": [
        "Roberta with Naive Bayes without fine-tuning. \n"
      ]
    },
    {
      "cell_type": "code",
      "execution_count": 96,
      "metadata": {
        "id": "1GSuC2fyZImo"
      },
      "outputs": [],
      "source": [
        "text_classifier = GaussianNB()\n",
        "text_classifier.fit(X_train, y_train)\n",
        "text_classifier.score(X_train, y_train)\n",
        "predictions = text_classifier.predict(X_test)"
      ]
    },
    {
      "cell_type": "code",
      "execution_count": 97,
      "metadata": {
        "id": "Y1Jo2l7jZIqA"
      },
      "outputs": [
        {
          "name": "stdout",
          "output_type": "stream",
          "text": [
            "[[  9 117  12]\n",
            " [  7 147   9]\n",
            " [  9  75  15]]\n",
            "              precision    recall  f1-score   support\n",
            "\n",
            "           0       0.36      0.07      0.11       138\n",
            "           1       0.43      0.90      0.59       163\n",
            "           2       0.42      0.15      0.22        99\n",
            "\n",
            "    accuracy                           0.43       400\n",
            "   macro avg       0.40      0.37      0.31       400\n",
            "weighted avg       0.40      0.43      0.33       400\n",
            "\n",
            "Model evaluation\n",
            "Accuracy: 0.4275\n"
          ]
        }
      ],
      "source": [
        "print(confusion_matrix(y_test,predictions))  \n",
        "print(classification_report(y_test,predictions))  \n",
        "print(\"Model evaluation\")\n",
        "print(\"Accuracy:\", accuracy_score(y_test, predictions))"
      ]
    },
    {
      "cell_type": "markdown",
      "metadata": {
        "id": "GHNT07OaZRPg"
      },
      "source": [
        "Roberta with Naive Bayes with fine-tuning."
      ]
    },
    {
      "cell_type": "code",
      "execution_count": 98,
      "metadata": {
        "id": "96DNMCkKZIvP"
      },
      "outputs": [
        {
          "data": {
            "text/plain": [
              "OrderedDict([('var_smoothing', 0.0004328761281083057)])"
            ]
          },
          "execution_count": 98,
          "metadata": {},
          "output_type": "execute_result"
        }
      ],
      "source": [
        "parameters = {'var_smoothing': np.logspace(0,-9, num=100)}\n",
        "text_classifier = GaussianNB()\n",
        "\n",
        "cv = BayesSearchCV(text_classifier, parameters)\n",
        "cv.fit(X_train, y_train)\n",
        "best_params = cv.best_params_\n",
        "best_params"
      ]
    },
    {
      "cell_type": "code",
      "execution_count": 99,
      "metadata": {
        "id": "vCDAAnm8ZIxV"
      },
      "outputs": [],
      "source": [
        "text_classifier = GaussianNB(**best_params)\n",
        "\n",
        "text_classifier.fit(X_train, y_train)\n",
        "predictions = text_classifier.predict(X_test)"
      ]
    },
    {
      "cell_type": "code",
      "execution_count": 100,
      "metadata": {
        "id": "NsxwZYNfZIzs"
      },
      "outputs": [
        {
          "name": "stdout",
          "output_type": "stream",
          "text": [
            "[[  3 125  10]\n",
            " [  4 153   6]\n",
            " [  4  84  11]]\n",
            "              precision    recall  f1-score   support\n",
            "\n",
            "           0       0.27      0.02      0.04       138\n",
            "           1       0.42      0.94      0.58       163\n",
            "           2       0.41      0.11      0.17        99\n",
            "\n",
            "    accuracy                           0.42       400\n",
            "   macro avg       0.37      0.36      0.27       400\n",
            "weighted avg       0.37      0.42      0.29       400\n",
            "\n",
            "Model evaluation\n",
            "Accuracy: 0.4175\n"
          ]
        }
      ],
      "source": [
        "print(confusion_matrix(y_test,predictions))  \n",
        "print(classification_report(y_test,predictions))  \n",
        "print(\"Model evaluation\")\n",
        "print(\"Accuracy:\", accuracy_score(y_test, predictions))"
      ]
    },
    {
      "cell_type": "markdown",
      "metadata": {
        "id": "7yxJMZnRIBKZ"
      },
      "source": [
        "**Alberta**\n"
      ]
    },
    {
      "cell_type": "code",
      "execution_count": 101,
      "metadata": {
        "id": "J_ozzGihIDZI"
      },
      "outputs": [
        {
          "name": "stderr",
          "output_type": "stream",
          "text": [
            "Some weights of the model checkpoint at albert-base-v1 were not used when initializing AlbertModel: ['predictions.bias', 'predictions.dense.weight', 'predictions.LayerNorm.weight', 'predictions.decoder.weight', 'predictions.decoder.bias', 'predictions.dense.bias', 'predictions.LayerNorm.bias']\n",
            "- This IS expected if you are initializing AlbertModel from the checkpoint of a model trained on another task or with another architecture (e.g. initializing a BertForSequenceClassification model from a BertForPreTraining model).\n",
            "- This IS NOT expected if you are initializing AlbertModel from the checkpoint of a model that you expect to be exactly identical (initializing a BertForSequenceClassification model from a BertForSequenceClassification model).\n"
          ]
        }
      ],
      "source": [
        "from transformers import AlbertTokenizer, AlbertModel\n",
        "tokenizer = AlbertTokenizer.from_pretrained('albert-base-v1')\n",
        "model = AlbertModel.from_pretrained(\"albert-base-v1\")"
      ]
    },
    {
      "cell_type": "code",
      "execution_count": 102,
      "metadata": {
        "id": "aieCS2fAIDb9"
      },
      "outputs": [],
      "source": [
        "tokenized = batch_1[\"tweet_simple_clean\"].apply((lambda x: tokenizer.encode(x, add_special_tokens=True)))"
      ]
    },
    {
      "cell_type": "code",
      "execution_count": 103,
      "metadata": {
        "id": "93UXPLiKIDeU"
      },
      "outputs": [],
      "source": [
        "max_len = 0\n",
        "for i in tokenized.values:\n",
        "    if len(i) > max_len:\n",
        "        max_len = len(i)\n",
        "\n",
        "padded = np.array([i + [0]*(max_len-len(i)) for i in tokenized.values])\n"
      ]
    },
    {
      "cell_type": "code",
      "execution_count": 104,
      "metadata": {
        "id": "gwYs8cLFIDhd"
      },
      "outputs": [
        {
          "data": {
            "text/plain": [
              "(2000, 65)"
            ]
          },
          "execution_count": 104,
          "metadata": {},
          "output_type": "execute_result"
        }
      ],
      "source": [
        "attention_mask = np.where(padded != 0, 1, 0)\n",
        "attention_mask.shape"
      ]
    },
    {
      "cell_type": "code",
      "execution_count": 105,
      "metadata": {
        "id": "VHHYLJ2SIDlM"
      },
      "outputs": [],
      "source": [
        "input_ids = torch.tensor(padded)  \n",
        "attention_mask = torch.tensor(attention_mask)\n",
        "\n",
        "with torch.no_grad():\n",
        "    last_hidden_states = model(input_ids, attention_mask=attention_mask)"
      ]
    },
    {
      "cell_type": "code",
      "execution_count": 106,
      "metadata": {
        "id": "5goCCwKTIDo8"
      },
      "outputs": [],
      "source": [
        "features = last_hidden_states[0][:,0,:].numpy()"
      ]
    },
    {
      "cell_type": "code",
      "execution_count": 107,
      "metadata": {
        "id": "AMiIsV2bIDq9"
      },
      "outputs": [],
      "source": [
        "labels = batch_1['Label']"
      ]
    },
    {
      "cell_type": "code",
      "execution_count": 108,
      "metadata": {
        "id": "GYBZvKCyIDtA"
      },
      "outputs": [],
      "source": [
        "X_train, X_test, y_train, y_test = train_test_split(features, labels, \n",
        "                                                    test_size=0.2,\n",
        "                                                   random_state=100,\n",
        "                                                    stratify=labels)"
      ]
    },
    {
      "cell_type": "markdown",
      "metadata": {
        "id": "rqpwoxB9aDbK"
      },
      "source": [
        "Albert with logistic regression without fine-tuning. \n",
        "\n"
      ]
    },
    {
      "cell_type": "code",
      "execution_count": 109,
      "metadata": {
        "id": "mpW11N-TaLAU"
      },
      "outputs": [],
      "source": [
        "lr_clf = LogisticRegression()\n",
        "lr_clf.fit(X_train, y_train)\n",
        "lr_clf.score(X_train, y_train)\n",
        "predictions = lr_clf.predict(X_test)"
      ]
    },
    {
      "cell_type": "code",
      "execution_count": 110,
      "metadata": {
        "id": "Z8Yfa3ydaLEK"
      },
      "outputs": [
        {
          "name": "stdout",
          "output_type": "stream",
          "text": [
            "[[ 88  30  20]\n",
            " [ 28 122  13]\n",
            " [ 25  26  48]]\n",
            "              precision    recall  f1-score   support\n",
            "\n",
            "           0       0.62      0.64      0.63       138\n",
            "           1       0.69      0.75      0.72       163\n",
            "           2       0.59      0.48      0.53        99\n",
            "\n",
            "    accuracy                           0.65       400\n",
            "   macro avg       0.63      0.62      0.63       400\n",
            "weighted avg       0.64      0.65      0.64       400\n",
            "\n",
            "Model evaluation\n",
            "Accuracy: 0.645\n"
          ]
        }
      ],
      "source": [
        "print(confusion_matrix(y_test,predictions))  \n",
        "print(classification_report(y_test,predictions))  \n",
        "print(\"Model evaluation\")\n",
        "print(\"Accuracy:\", accuracy_score(y_test, predictions))"
      ]
    },
    {
      "cell_type": "markdown",
      "metadata": {
        "id": "lZC5NS_aaOlP"
      },
      "source": [
        "Albert with logistic regression with fine-tuning. \n"
      ]
    },
    {
      "cell_type": "code",
      "execution_count": 111,
      "metadata": {
        "id": "Wv2_IVtlaLGH"
      },
      "outputs": [
        {
          "data": {
            "text/plain": [
              "OrderedDict([('C', 0.1)])"
            ]
          },
          "execution_count": 111,
          "metadata": {},
          "output_type": "execute_result"
        }
      ],
      "source": [
        "parameters = {'C':[0.1,0.2,0.3,0.4,0.5,0.6,0.7,0.8,0.9,1]}\n",
        "log_reg_model = LogisticRegression()\n",
        "\n",
        "cv = BayesSearchCV(log_reg_model, parameters)\n",
        "cv.fit(X_train, y_train)\n",
        "best_params = cv.best_params_\n",
        "best_params"
      ]
    },
    {
      "cell_type": "code",
      "execution_count": 112,
      "metadata": {
        "id": "6LhtFY4faLH7"
      },
      "outputs": [],
      "source": [
        "logistic = LogisticRegression(**best_params, class_weight='balanced', random_state = 42, \n",
        "                              max_iter=10000)\n",
        "\n",
        "logistic.fit(X_train, y_train)\n",
        "predictions = logistic.predict(X_test)"
      ]
    },
    {
      "cell_type": "code",
      "execution_count": 113,
      "metadata": {
        "id": "CKWLxalCaLKc"
      },
      "outputs": [
        {
          "name": "stdout",
          "output_type": "stream",
          "text": [
            "[[ 85  30  23]\n",
            " [ 27 122  14]\n",
            " [ 21  19  59]]\n",
            "              precision    recall  f1-score   support\n",
            "\n",
            "           0       0.64      0.62      0.63       138\n",
            "           1       0.71      0.75      0.73       163\n",
            "           2       0.61      0.60      0.61        99\n",
            "\n",
            "    accuracy                           0.67       400\n",
            "   macro avg       0.66      0.65      0.65       400\n",
            "weighted avg       0.66      0.67      0.66       400\n",
            "\n",
            "Model evaluation\n",
            "Accuracy: 0.665\n"
          ]
        }
      ],
      "source": [
        "print(confusion_matrix(y_test,predictions))  \n",
        "print(classification_report(y_test,predictions))  \n",
        "print(\"Model evaluation\")\n",
        "print(\"Accuracy:\", accuracy_score(y_test, predictions))"
      ]
    },
    {
      "cell_type": "markdown",
      "metadata": {
        "id": "NVEo8mJradx3"
      },
      "source": [
        "Albert with XGBoost without fine-tuning."
      ]
    },
    {
      "cell_type": "code",
      "execution_count": 114,
      "metadata": {
        "id": "KG4XB7lWaLM0"
      },
      "outputs": [],
      "source": [
        "xgboost = XGBClassifier()\n",
        "xgboost.fit(X_train, y_train)\n",
        "xgboost.score(X_train, y_train)\n",
        "predictions = xgboost.predict(X_test)"
      ]
    },
    {
      "cell_type": "code",
      "execution_count": 115,
      "metadata": {
        "id": "B-NnylhmaLQk"
      },
      "outputs": [
        {
          "name": "stdout",
          "output_type": "stream",
          "text": [
            "[[ 80  41  17]\n",
            " [ 35 117  11]\n",
            " [ 21  26  52]]\n",
            "              precision    recall  f1-score   support\n",
            "\n",
            "           0       0.59      0.58      0.58       138\n",
            "           1       0.64      0.72      0.67       163\n",
            "           2       0.65      0.53      0.58        99\n",
            "\n",
            "    accuracy                           0.62       400\n",
            "   macro avg       0.62      0.61      0.61       400\n",
            "weighted avg       0.62      0.62      0.62       400\n",
            "\n",
            "Model evaluation\n",
            "Accuracy: 0.6225\n"
          ]
        }
      ],
      "source": [
        "print(confusion_matrix(y_test,predictions))  \n",
        "print(classification_report(y_test,predictions))  \n",
        "print(\"Model evaluation\")\n",
        "print(\"Accuracy:\", accuracy_score(y_test, predictions))"
      ]
    },
    {
      "cell_type": "markdown",
      "metadata": {
        "id": "Ritnd5GaajuC"
      },
      "source": [
        "Albert with XGBoost with fine-tuning."
      ]
    },
    {
      "cell_type": "code",
      "execution_count": 116,
      "metadata": {
        "id": "ZfmEBgB1avgL"
      },
      "outputs": [
        {
          "data": {
            "text/plain": [
              "OrderedDict([('learning_rate', 0.1),\n",
              "             ('min_child_weight', 2),\n",
              "             ('subsample', 0.7)])"
            ]
          },
          "execution_count": 116,
          "metadata": {},
          "output_type": "execute_result"
        }
      ],
      "source": [
        "parameters = {'learning_rate':[0.1,0.2,0.3,0.4,0.5,0.6,0.7,0.8,0.9,1], \n",
        "              'subsample':[0.6, 0.7, 0.8, 0.9, 1], \n",
        "              'min_child_weight' : [0,1,2,3,4,5,6,7,8,9,10]}\n",
        "xgboost_model = XGBClassifier()\n",
        "\n",
        "cv = BayesSearchCV(xgboost_model, parameters)\n",
        "cv.fit(X_train, y_train)\n",
        "best_params = cv.best_params_\n",
        "best_params"
      ]
    },
    {
      "cell_type": "code",
      "execution_count": 117,
      "metadata": {
        "id": "eeSn4ko_ayy2"
      },
      "outputs": [
        {
          "name": "stdout",
          "output_type": "stream",
          "text": [
            "[10:00:30] WARNING: /Users/runner/work/xgboost/xgboost/python-package/build/temp.macosx-11.0-arm64-cpython-38/xgboost/src/learner.cc:767: \n",
            "Parameters: { \"class_weight\", \"max_iter\" } are not used.\n",
            "\n"
          ]
        }
      ],
      "source": [
        "xgboost= XGBClassifier(**best_params, class_weight='balanced', random_state = 42, \n",
        "                              max_iter=10000)\n",
        "\n",
        "xgboost.fit(X_train, y_train)\n",
        "predictions = xgboost.predict(X_test)"
      ]
    },
    {
      "cell_type": "code",
      "execution_count": 118,
      "metadata": {
        "id": "exZmAdz2aqcg"
      },
      "outputs": [
        {
          "name": "stdout",
          "output_type": "stream",
          "text": [
            "[[ 76  47  15]\n",
            " [ 28 128   7]\n",
            " [ 23  26  50]]\n",
            "              precision    recall  f1-score   support\n",
            "\n",
            "           0       0.60      0.55      0.57       138\n",
            "           1       0.64      0.79      0.70       163\n",
            "           2       0.69      0.51      0.58        99\n",
            "\n",
            "    accuracy                           0.64       400\n",
            "   macro avg       0.64      0.61      0.62       400\n",
            "weighted avg       0.64      0.64      0.63       400\n",
            "\n",
            "Model evaluation\n",
            "Accuracy: 0.635\n"
          ]
        }
      ],
      "source": [
        "print(confusion_matrix(y_test,predictions))  \n",
        "print(classification_report(y_test,predictions))  \n",
        "print(\"Model evaluation\")\n",
        "print(\"Accuracy:\", accuracy_score(y_test, predictions))"
      ]
    },
    {
      "cell_type": "markdown",
      "metadata": {
        "id": "ajtWk_BibNen"
      },
      "source": [
        "Albert with Naive Bayes without fine-tuning. "
      ]
    },
    {
      "cell_type": "code",
      "execution_count": 119,
      "metadata": {
        "id": "KVurh1IvbkWY"
      },
      "outputs": [],
      "source": [
        "text_classifier = GaussianNB()\n",
        "text_classifier.fit(X_train, y_train)\n",
        "text_classifier.score(X_train, y_train)\n",
        "predictions = text_classifier.predict(X_test)"
      ]
    },
    {
      "cell_type": "code",
      "execution_count": 120,
      "metadata": {
        "id": "I28c4ooAbmCt"
      },
      "outputs": [
        {
          "name": "stdout",
          "output_type": "stream",
          "text": [
            "[[70 25 43]\n",
            " [46 87 30]\n",
            " [17 18 64]]\n",
            "              precision    recall  f1-score   support\n",
            "\n",
            "           0       0.53      0.51      0.52       138\n",
            "           1       0.67      0.53      0.59       163\n",
            "           2       0.47      0.65      0.54        99\n",
            "\n",
            "    accuracy                           0.55       400\n",
            "   macro avg       0.55      0.56      0.55       400\n",
            "weighted avg       0.57      0.55      0.55       400\n",
            "\n",
            "Model evaluation\n",
            "Accuracy: 0.5525\n"
          ]
        }
      ],
      "source": [
        "print(confusion_matrix(y_test,predictions))  \n",
        "print(classification_report(y_test,predictions))  \n",
        "print(\"Model evaluation\")\n",
        "print(\"Accuracy:\", accuracy_score(y_test, predictions))"
      ]
    },
    {
      "cell_type": "markdown",
      "metadata": {
        "id": "h65yVXfhby2x"
      },
      "source": [
        "Albert with Naive Bayes with fine-tuning. "
      ]
    },
    {
      "cell_type": "code",
      "execution_count": 121,
      "metadata": {
        "id": "BjKYDsDDb6dN"
      },
      "outputs": [
        {
          "data": {
            "text/plain": [
              "OrderedDict([('var_smoothing', 0.001)])"
            ]
          },
          "execution_count": 121,
          "metadata": {},
          "output_type": "execute_result"
        }
      ],
      "source": [
        "parameters = {'var_smoothing': np.logspace(0,-9, num=100)}\n",
        "text_classifier = GaussianNB()\n",
        "\n",
        "cv = BayesSearchCV(text_classifier, parameters)\n",
        "cv.fit(X_train, y_train)\n",
        "best_params = cv.best_params_\n",
        "best_params"
      ]
    },
    {
      "cell_type": "code",
      "execution_count": 122,
      "metadata": {
        "id": "1y_0y3BAcBlB"
      },
      "outputs": [],
      "source": [
        "text_classifier = GaussianNB(**best_params)\n",
        "\n",
        "text_classifier.fit(X_train, y_train)\n",
        "predictions = text_classifier.predict(X_test)"
      ]
    },
    {
      "cell_type": "code",
      "execution_count": 123,
      "metadata": {
        "id": "DXiXn_aqcDBe"
      },
      "outputs": [
        {
          "name": "stdout",
          "output_type": "stream",
          "text": [
            "[[70 25 43]\n",
            " [46 88 29]\n",
            " [17 18 64]]\n",
            "              precision    recall  f1-score   support\n",
            "\n",
            "           0       0.53      0.51      0.52       138\n",
            "           1       0.67      0.54      0.60       163\n",
            "           2       0.47      0.65      0.54        99\n",
            "\n",
            "    accuracy                           0.56       400\n",
            "   macro avg       0.56      0.56      0.55       400\n",
            "weighted avg       0.57      0.56      0.56       400\n",
            "\n",
            "Model evaluation\n",
            "Accuracy: 0.555\n"
          ]
        }
      ],
      "source": [
        "print(confusion_matrix(y_test,predictions))  \n",
        "print(classification_report(y_test,predictions))  \n",
        "print(\"Model evaluation\")\n",
        "print(\"Accuracy:\", accuracy_score(y_test, predictions))"
      ]
    },
    {
      "cell_type": "markdown",
      "metadata": {
        "id": "Npf5tFr8nz5B"
      },
      "source": [
        "\n",
        "\n",
        "---\n",
        "\n"
      ]
    },
    {
      "attachments": {},
      "cell_type": "markdown",
      "metadata": {},
      "source": [
        "## High tweet clean"
      ]
    },
    {
      "cell_type": "markdown",
      "metadata": {
        "id": "icwuo2Ase2uG"
      },
      "source": [
        "**BERT**"
      ]
    },
    {
      "cell_type": "code",
      "execution_count": 124,
      "metadata": {
        "colab": {
          "base_uri": "https://localhost:8080/",
          "height": 216,
          "referenced_widgets": [
            "0c74023e58684316966e79106957a6cc",
            "59cd3195bc6d4e4e97a044f56782671a",
            "1a9c4dc8316943fd8b7d67eaccde1a38",
            "dbd4253989b74fb6aca6d298dad423eb",
            "5041f00fe50647658223bce9bcdc6d13",
            "83d233d928734193a85163fe22b63928",
            "2ba39bd7b11e49dcab14417c398ab9f2",
            "6ff7e590320c4a57a6e7d26a703b6db3",
            "de6a2f2a84884f3c8ca1062a5a3a05ed",
            "2d31dff25e54458e980bf6ad8009dfb2",
            "85bf49233d23462187ada8214cd98d01",
            "38f950ea39a3469ab673cd3f5b7a155d",
            "fee9eda945564c01af0d71befa76eac6",
            "24ae536c11dd4f878eeb4247135e72fd",
            "073fff0ce2984d21bc2f1e015ea28ddf",
            "52c7f8dcf6ab4c179178ce2bc4773387",
            "f9d353f4c20743e19d3dab37dc2e13bd",
            "de700be5f02140b4aca7e91846f94fd6",
            "a417166db07945c5a289da7d50c50082",
            "23a70d45efe74b81b46b4ddffb6c46d8",
            "2d35a7a56d244f43bac6aa42bb5b14aa",
            "6111b660d90140428f9c5ba84330f141",
            "9bb144d8e5f941ad8de699fe8a95919b",
            "a7000e9d629b445a8bcd2c3e549f94f3",
            "a6cba5c16431437a9b55570598deb40e",
            "cc43f434613e40ed8e1edb2cc6d68595",
            "0119201e683b45c38461ba470a0efb2e",
            "78afadaac144432c88ab2bcc15396da0",
            "2dd4733356ad4479adf8f6d2df756b27",
            "16e40e6d26774e34944625c9e384042d",
            "f31e957db32447058d3660988fda20f4",
            "25b59143deba447f8a4a30d1964259f4",
            "b7dd6f7890a340acbb6c980c90cadbab",
            "7b104038c99643dab45255e034c8896e",
            "86d315fddf514fe5b300a401f1ec233b",
            "77167bf4a54c43e08b8c2fc6a4c635e6",
            "77b71cb65ec0466283f7b3cb4e52a013",
            "9222786570d74e23ae5fc17ae881292d",
            "9749950c504340cc8bd63ab9eb7f70b7",
            "c7af63ae5ba348c9888b6b33f8b02a2e",
            "3b6cb7ae6a8e4d39827e6dee89d4a317",
            "678a66d074164f71b7de83bbec7a2d6a",
            "c0a152dce20b4cd5993e280d4b3da76a",
            "5f8161ab03274d0da0380ca50156a0fd"
          ]
        },
        "id": "H8r1JDEbnyIW",
        "outputId": "15dbbdfd-b33e-4961-a6dc-b1d9bae117bb"
      },
      "outputs": [
        {
          "name": "stderr",
          "output_type": "stream",
          "text": [
            "Some weights of the model checkpoint at distilbert-base-uncased were not used when initializing DistilBertModel: ['vocab_layer_norm.weight', 'vocab_transform.weight', 'vocab_layer_norm.bias', 'vocab_projector.bias', 'vocab_projector.weight', 'vocab_transform.bias']\n",
            "- This IS expected if you are initializing DistilBertModel from the checkpoint of a model trained on another task or with another architecture (e.g. initializing a BertForSequenceClassification model from a BertForPreTraining model).\n",
            "- This IS NOT expected if you are initializing DistilBertModel from the checkpoint of a model that you expect to be exactly identical (initializing a BertForSequenceClassification model from a BertForSequenceClassification model).\n"
          ]
        }
      ],
      "source": [
        "model_class, tokenizer_class, pretrained_weights = (ppb.DistilBertModel, ppb.DistilBertTokenizer, 'distilbert-base-uncased')\n",
        "\n",
        "\n",
        "# Load pretrained model/tokenizer\n",
        "tokenizer = tokenizer_class.from_pretrained(pretrained_weights)\n",
        "model = model_class.from_pretrained(pretrained_weights)"
      ]
    },
    {
      "cell_type": "code",
      "execution_count": 125,
      "metadata": {
        "id": "1PS8jQMonyIX"
      },
      "outputs": [],
      "source": [
        "tokenized = batch_1[\"tweet_high_clean\"].apply((lambda x: tokenizer.encode(x, add_special_tokens=True)))"
      ]
    },
    {
      "cell_type": "code",
      "execution_count": 126,
      "metadata": {
        "id": "KttB8uVinyIX"
      },
      "outputs": [],
      "source": [
        "max_len = 0\n",
        "for i in tokenized.values:\n",
        "    if len(i) > max_len:\n",
        "        max_len = len(i)\n",
        "\n",
        "padded = np.array([i + [0]*(max_len-len(i)) for i in tokenized.values])"
      ]
    },
    {
      "cell_type": "code",
      "execution_count": 127,
      "metadata": {
        "colab": {
          "base_uri": "https://localhost:8080/"
        },
        "id": "AcSjMNOwnyIX",
        "outputId": "163f7e19-346e-413b-aa7e-e4cf38cef558"
      },
      "outputs": [
        {
          "data": {
            "text/plain": [
              "array([[  101,  9805, 18879, ...,     0,     0,     0],\n",
              "       [  101,  3521,  5805, ...,     0,     0,     0],\n",
              "       [  101,  4283,  2178, ...,     0,     0,     0],\n",
              "       ...,\n",
              "       [  101,  2647,  3323, ...,     0,     0,     0],\n",
              "       [  101,  4821,  6033, ...,     0,     0,     0],\n",
              "       [  101, 13593,  2426, ...,     0,     0,     0]])"
            ]
          },
          "execution_count": 127,
          "metadata": {},
          "output_type": "execute_result"
        }
      ],
      "source": [
        "padded"
      ]
    },
    {
      "cell_type": "code",
      "execution_count": 128,
      "metadata": {
        "colab": {
          "base_uri": "https://localhost:8080/"
        },
        "id": "ddGaMMNdnyIY",
        "outputId": "cdcac9d5-e766-46eb-f872-4eb56471a44d"
      },
      "outputs": [
        {
          "data": {
            "text/plain": [
              "(2000, 65)"
            ]
          },
          "execution_count": 128,
          "metadata": {},
          "output_type": "execute_result"
        }
      ],
      "source": [
        "attention_mask = np.where(padded != 0, 1, 0)\n",
        "attention_mask.shape"
      ]
    },
    {
      "cell_type": "code",
      "execution_count": 129,
      "metadata": {
        "id": "7SyoMzU2nyIY"
      },
      "outputs": [],
      "source": [
        "input_ids = torch.tensor(padded)  \n",
        "attention_mask = torch.tensor(attention_mask)\n",
        "\n",
        "with torch.no_grad():\n",
        "    last_hidden_states = model(input_ids, attention_mask=attention_mask)"
      ]
    },
    {
      "cell_type": "code",
      "execution_count": 130,
      "metadata": {
        "id": "WVmG9onAnyIY"
      },
      "outputs": [],
      "source": [
        "features = last_hidden_states[0][:,0,:].numpy()"
      ]
    },
    {
      "cell_type": "code",
      "execution_count": 131,
      "metadata": {
        "id": "rNm25lddnyIY"
      },
      "outputs": [],
      "source": [
        "labels = batch_1['Label']"
      ]
    },
    {
      "cell_type": "code",
      "execution_count": 132,
      "metadata": {
        "id": "Ko-_3b5BnyIZ"
      },
      "outputs": [],
      "source": [
        "X_train, X_test, y_train, y_test = train_test_split(features, labels, \n",
        "                                                    test_size=0.2,\n",
        "                                                   random_state=100,\n",
        "                                                    stratify=labels)"
      ]
    },
    {
      "cell_type": "markdown",
      "metadata": {
        "id": "KkJM7g_Ve0VL"
      },
      "source": [
        "Bert and **Logistic Regression** with tuning on tweet_high_clean"
      ]
    },
    {
      "cell_type": "code",
      "execution_count": 133,
      "metadata": {
        "colab": {
          "base_uri": "https://localhost:8080/",
          "height": 375
        },
        "id": "O8OqMlUon5vF",
        "outputId": "bce8d007-ea1c-45a6-e10b-72f343996a1a"
      },
      "outputs": [
        {
          "data": {
            "text/plain": [
              "OrderedDict([('C', 0.4)])"
            ]
          },
          "execution_count": 133,
          "metadata": {},
          "output_type": "execute_result"
        }
      ],
      "source": [
        "from skopt import BayesSearchCV\n",
        "parameters = {'C':[0.1,0.2,0.3,0.4,0.5,0.6,0.7,0.8,0.9,1]}\n",
        "log_reg_model = LogisticRegression()\n",
        "\n",
        "cv = BayesSearchCV(log_reg_model, parameters)\n",
        "cv.fit(X_train, y_train)\n",
        "best_params = cv.best_params_\n",
        "best_params\n",
        "\n"
      ]
    },
    {
      "cell_type": "code",
      "execution_count": 134,
      "metadata": {
        "id": "Cnlfzazun5vH"
      },
      "outputs": [],
      "source": [
        "logistic = LogisticRegression(**best_params, class_weight='balanced', random_state = 42, \n",
        "                              max_iter=10000)\n",
        "\n",
        "logistic.fit(X_train, y_train)\n",
        "predictions = logistic.predict(X_test)\n"
      ]
    },
    {
      "cell_type": "code",
      "execution_count": 135,
      "metadata": {
        "id": "G6IossGyn5vH"
      },
      "outputs": [
        {
          "name": "stdout",
          "output_type": "stream",
          "text": [
            "[[104  18  16]\n",
            " [ 23 118  22]\n",
            " [ 18  11  70]]\n",
            "              precision    recall  f1-score   support\n",
            "\n",
            "           0       0.72      0.75      0.73       138\n",
            "           1       0.80      0.72      0.76       163\n",
            "           2       0.65      0.71      0.68        99\n",
            "\n",
            "    accuracy                           0.73       400\n",
            "   macro avg       0.72      0.73      0.72       400\n",
            "weighted avg       0.73      0.73      0.73       400\n",
            "\n",
            "Model evaluation\n",
            "Accuracy: 0.73\n"
          ]
        }
      ],
      "source": [
        "from sklearn.metrics import classification_report, confusion_matrix, accuracy_score,precision_score, recall_score, f1_score\n",
        " \n",
        "print(confusion_matrix(y_test,predictions))  \n",
        "print(classification_report(y_test,predictions))  \n",
        "print(\"Model evaluation\")\n",
        "print(\"Accuracy:\", accuracy_score(y_test, predictions))"
      ]
    },
    {
      "cell_type": "markdown",
      "metadata": {
        "id": "RRstWxs0fDW7"
      },
      "source": [
        "Bert with **XGBoost** with fine-tunning on tweet_high_clean"
      ]
    },
    {
      "cell_type": "code",
      "execution_count": 136,
      "metadata": {
        "id": "N3dsC2W9n5vI"
      },
      "outputs": [
        {
          "data": {
            "text/plain": [
              "OrderedDict([('learning_rate', 0.2),\n",
              "             ('min_child_weight', 9),\n",
              "             ('subsample', 0.9)])"
            ]
          },
          "execution_count": 136,
          "metadata": {},
          "output_type": "execute_result"
        }
      ],
      "source": [
        "parameters = {'learning_rate':[0.1,0.2,0.3,0.4,0.5,0.6,0.7,0.8,0.9,1], \n",
        "              'subsample':[0.6, 0.7, 0.8, 0.9, 1], \n",
        "              'min_child_weight' : [0,1,2,3,4,5,6,7,8,9,10]}\n",
        "xgboost_model = XGBClassifier()\n",
        "\n",
        "cv = BayesSearchCV(xgboost_model, parameters)\n",
        "cv.fit(X_train, y_train)\n",
        "best_params = cv.best_params_\n",
        "best_params\n"
      ]
    },
    {
      "cell_type": "code",
      "execution_count": 137,
      "metadata": {
        "id": "dTr9PJ5Gn5vI"
      },
      "outputs": [
        {
          "name": "stdout",
          "output_type": "stream",
          "text": [
            "[10:23:38] WARNING: /Users/runner/work/xgboost/xgboost/python-package/build/temp.macosx-11.0-arm64-cpython-38/xgboost/src/learner.cc:767: \n",
            "Parameters: { \"class_weight\", \"max_iter\" } are not used.\n",
            "\n"
          ]
        }
      ],
      "source": [
        "xgboost= XGBClassifier(**best_params, class_weight='balanced', random_state = 42, \n",
        "                              max_iter=10000)\n",
        "\n",
        "xgboost.fit(X_train, y_train)\n",
        "predictions = xgboost.predict(X_test)"
      ]
    },
    {
      "cell_type": "code",
      "execution_count": 138,
      "metadata": {
        "id": "QYR04RnDn5vJ"
      },
      "outputs": [
        {
          "name": "stdout",
          "output_type": "stream",
          "text": [
            "[[ 98  27  13]\n",
            " [ 29 119  15]\n",
            " [ 23  17  59]]\n",
            "              precision    recall  f1-score   support\n",
            "\n",
            "           0       0.65      0.71      0.68       138\n",
            "           1       0.73      0.73      0.73       163\n",
            "           2       0.68      0.60      0.63        99\n",
            "\n",
            "    accuracy                           0.69       400\n",
            "   macro avg       0.69      0.68      0.68       400\n",
            "weighted avg       0.69      0.69      0.69       400\n",
            "\n",
            "Model evaluation\n",
            "Accuracy: 0.69\n"
          ]
        }
      ],
      "source": [
        "from sklearn.metrics import classification_report, confusion_matrix, accuracy_score,precision_score, recall_score, f1_score\n",
        " \n",
        "print(confusion_matrix(y_test,predictions))  \n",
        "print(classification_report(y_test,predictions))  \n",
        "print(\"Model evaluation\")\n",
        "print(\"Accuracy:\", accuracy_score(y_test, predictions))"
      ]
    },
    {
      "cell_type": "markdown",
      "metadata": {
        "id": "KyxvhV17fKMl"
      },
      "source": [
        "Bert with **Naïve Bayes** with fine-tunning"
      ]
    },
    {
      "cell_type": "code",
      "execution_count": 139,
      "metadata": {
        "id": "shHylslTn5vJ"
      },
      "outputs": [
        {
          "data": {
            "text/plain": [
              "OrderedDict([('var_smoothing', 2.848035868435799e-05)])"
            ]
          },
          "execution_count": 139,
          "metadata": {},
          "output_type": "execute_result"
        }
      ],
      "source": [
        "parameters = {'var_smoothing': np.logspace(0,-9, num=100)}\n",
        "text_classifier = GaussianNB()\n",
        "\n",
        "cv = BayesSearchCV(text_classifier, parameters)\n",
        "cv.fit(X_train, y_train)\n",
        "best_params = cv.best_params_\n",
        "best_params"
      ]
    },
    {
      "cell_type": "code",
      "execution_count": 140,
      "metadata": {
        "id": "WTkT2cUyn5vK"
      },
      "outputs": [],
      "source": [
        " text_classifier = GaussianNB(**best_params)\n",
        "\n",
        "text_classifier.fit(X_train, y_train)\n",
        "predictions = text_classifier.predict(X_test)"
      ]
    },
    {
      "cell_type": "code",
      "execution_count": 141,
      "metadata": {
        "id": "y3fSdK8tn5vK"
      },
      "outputs": [
        {
          "name": "stdout",
          "output_type": "stream",
          "text": [
            "[[ 65  27  46]\n",
            " [ 27 104  32]\n",
            " [  7  20  72]]\n",
            "              precision    recall  f1-score   support\n",
            "\n",
            "           0       0.66      0.47      0.55       138\n",
            "           1       0.69      0.64      0.66       163\n",
            "           2       0.48      0.73      0.58        99\n",
            "\n",
            "    accuracy                           0.60       400\n",
            "   macro avg       0.61      0.61      0.60       400\n",
            "weighted avg       0.63      0.60      0.60       400\n",
            "\n",
            "Model evaluation\n",
            "Accuracy: 0.6025\n"
          ]
        }
      ],
      "source": [
        "print(confusion_matrix(y_test,predictions))  \n",
        "print(classification_report(y_test,predictions))  \n",
        "print(\"Model evaluation\")\n",
        "print(\"Accuracy:\", accuracy_score(y_test, predictions))"
      ]
    },
    {
      "cell_type": "markdown",
      "metadata": {
        "id": "p94LcneCfu_Z"
      },
      "source": [
        "\n",
        "\n",
        "---\n",
        "\n"
      ]
    },
    {
      "cell_type": "markdown",
      "metadata": {
        "id": "GuB-mmgWfVhL"
      },
      "source": [
        "**ROBERT**"
      ]
    },
    {
      "cell_type": "code",
      "execution_count": 142,
      "metadata": {
        "id": "3PGHQ_AroB39"
      },
      "outputs": [
        {
          "name": "stderr",
          "output_type": "stream",
          "text": [
            "Some weights of the model checkpoint at roberta-base were not used when initializing RobertaModel: ['lm_head.dense.bias', 'lm_head.decoder.weight', 'lm_head.layer_norm.bias', 'lm_head.layer_norm.weight', 'lm_head.bias', 'lm_head.dense.weight']\n",
            "- This IS expected if you are initializing RobertaModel from the checkpoint of a model trained on another task or with another architecture (e.g. initializing a BertForSequenceClassification model from a BertForPreTraining model).\n",
            "- This IS NOT expected if you are initializing RobertaModel from the checkpoint of a model that you expect to be exactly identical (initializing a BertForSequenceClassification model from a BertForSequenceClassification model).\n"
          ]
        }
      ],
      "source": [
        "from transformers import RobertaTokenizer, RobertaModel\n",
        "tokenizer = RobertaTokenizer.from_pretrained('roberta-base')\n",
        "model = RobertaModel.from_pretrained('roberta-base')"
      ]
    },
    {
      "cell_type": "code",
      "execution_count": 143,
      "metadata": {
        "id": "rmH6-tatoB3-"
      },
      "outputs": [],
      "source": [
        "tokenized = batch_1[\"tweet_high_clean\"].apply((lambda x: tokenizer.encode(x, add_special_tokens=True)))"
      ]
    },
    {
      "cell_type": "code",
      "execution_count": 144,
      "metadata": {
        "id": "HrgZ3dpwoB3-"
      },
      "outputs": [],
      "source": [
        "max_len = 0\n",
        "for i in tokenized.values:\n",
        "    if len(i) > max_len:\n",
        "        max_len = len(i)\n",
        "\n",
        "padded = np.array([i + [0]*(max_len-len(i)) for i in tokenized.values])\n"
      ]
    },
    {
      "cell_type": "code",
      "execution_count": 145,
      "metadata": {
        "id": "aCdQywkmoB3_"
      },
      "outputs": [
        {
          "data": {
            "text/plain": [
              "(2000, 64)"
            ]
          },
          "execution_count": 145,
          "metadata": {},
          "output_type": "execute_result"
        }
      ],
      "source": [
        "attention_mask = np.where(padded != 0, 1, 0)\n",
        "attention_mask.shape"
      ]
    },
    {
      "cell_type": "code",
      "execution_count": 146,
      "metadata": {
        "id": "nb4yp_EeoB3_"
      },
      "outputs": [],
      "source": [
        "input_ids = torch.tensor(padded)  \n",
        "attention_mask = torch.tensor(attention_mask)\n",
        "\n",
        "with torch.no_grad():\n",
        "    last_hidden_states = model(input_ids, attention_mask=attention_mask)"
      ]
    },
    {
      "cell_type": "code",
      "execution_count": 147,
      "metadata": {
        "id": "_YiApxt1oB3_"
      },
      "outputs": [],
      "source": [
        "features = last_hidden_states[0][:,0,:].numpy()"
      ]
    },
    {
      "cell_type": "code",
      "execution_count": 148,
      "metadata": {
        "id": "_56JV9RLoB4A"
      },
      "outputs": [],
      "source": [
        "labels = batch_1['Label']"
      ]
    },
    {
      "cell_type": "code",
      "execution_count": 149,
      "metadata": {
        "id": "Gd5Ydbc6oB4A"
      },
      "outputs": [],
      "source": [
        "X_train, X_test, y_train, y_test = train_test_split(features, labels, \n",
        "                                                    test_size=0.2,\n",
        "                                                   random_state=100,\n",
        "                                                    stratify=labels)"
      ]
    },
    {
      "cell_type": "markdown",
      "metadata": {
        "id": "2HxmgRM1hz2W"
      },
      "source": [
        "RoBert and **Logistic Regression** with tuning on tweet_high_clean"
      ]
    },
    {
      "cell_type": "code",
      "execution_count": 150,
      "metadata": {
        "id": "b5LpYDO9oB4A"
      },
      "outputs": [
        {
          "data": {
            "text/plain": [
              "OrderedDict([('C', 1.0)])"
            ]
          },
          "execution_count": 150,
          "metadata": {},
          "output_type": "execute_result"
        }
      ],
      "source": [
        "parameters = {'C':[0.1,0.2,0.3,0.4,0.5,0.6,0.7,0.8,0.9,1]}\n",
        "log_reg_model = LogisticRegression()\n",
        "\n",
        "cv = BayesSearchCV(log_reg_model, parameters)\n",
        "cv.fit(X_train, y_train)\n",
        "best_params = cv.best_params_\n",
        "best_params"
      ]
    },
    {
      "cell_type": "code",
      "execution_count": 151,
      "metadata": {
        "id": "RelfvtHwoB4A"
      },
      "outputs": [],
      "source": [
        "logistic = LogisticRegression(**best_params, class_weight='balanced', random_state = 42, \n",
        "                              max_iter=10000)\n",
        "\n",
        "logistic.fit(X_train, y_train)\n",
        "predictions = logistic.predict(X_test)"
      ]
    },
    {
      "cell_type": "code",
      "execution_count": 152,
      "metadata": {
        "id": "pQlpyn10oB4B"
      },
      "outputs": [
        {
          "name": "stdout",
          "output_type": "stream",
          "text": [
            "[[ 71  33  34]\n",
            " [ 35 104  24]\n",
            " [ 24  15  60]]\n",
            "              precision    recall  f1-score   support\n",
            "\n",
            "           0       0.55      0.51      0.53       138\n",
            "           1       0.68      0.64      0.66       163\n",
            "           2       0.51      0.61      0.55        99\n",
            "\n",
            "    accuracy                           0.59       400\n",
            "   macro avg       0.58      0.59      0.58       400\n",
            "weighted avg       0.59      0.59      0.59       400\n",
            "\n",
            "Model evaluation\n",
            "Accuracy: 0.5875\n"
          ]
        }
      ],
      "source": [
        "print(confusion_matrix(y_test,predictions))  \n",
        "print(classification_report(y_test,predictions))  \n",
        "print(\"Model evaluation\")\n",
        "print(\"Accuracy:\", accuracy_score(y_test, predictions))"
      ]
    },
    {
      "cell_type": "markdown",
      "metadata": {
        "id": "Le5ogGqJhz2X"
      },
      "source": [
        "RoBert with **XGBoost** with fine-tunning on tweet_high_clean"
      ]
    },
    {
      "cell_type": "code",
      "execution_count": 153,
      "metadata": {
        "id": "uRovls_ToB4C"
      },
      "outputs": [
        {
          "data": {
            "text/plain": [
              "OrderedDict([('learning_rate', 0.1),\n",
              "             ('min_child_weight', 5),\n",
              "             ('subsample', 0.6)])"
            ]
          },
          "execution_count": 153,
          "metadata": {},
          "output_type": "execute_result"
        }
      ],
      "source": [
        "parameters = {'learning_rate':[0.1,0.2,0.3,0.4,0.5,0.6,0.7,0.8,0.9,1], \n",
        "              'subsample':[0.6, 0.7, 0.8, 0.9, 1], \n",
        "              'min_child_weight' : [0,1,2,3,4,5,6,7,8,9,10]}\n",
        "xgboost_model = XGBClassifier()\n",
        "\n",
        "cv = BayesSearchCV(xgboost_model, parameters)\n",
        "cv.fit(X_train, y_train)\n",
        "best_params = cv.best_params_\n",
        "best_params"
      ]
    },
    {
      "cell_type": "code",
      "execution_count": 154,
      "metadata": {
        "id": "bO4490xsoB4C"
      },
      "outputs": [
        {
          "name": "stdout",
          "output_type": "stream",
          "text": [
            "[10:56:43] WARNING: /Users/runner/work/xgboost/xgboost/python-package/build/temp.macosx-11.0-arm64-cpython-38/xgboost/src/learner.cc:767: \n",
            "Parameters: { \"class_weight\", \"max_iter\" } are not used.\n",
            "\n"
          ]
        }
      ],
      "source": [
        "xgboost= XGBClassifier(**best_params, class_weight='balanced', random_state = 42, \n",
        "                              max_iter=10000)\n",
        "\n",
        "xgboost.fit(X_train, y_train)\n",
        "predictions = xgboost.predict(X_test)"
      ]
    },
    {
      "cell_type": "code",
      "execution_count": 155,
      "metadata": {
        "id": "cam7Qs2IoB4C"
      },
      "outputs": [
        {
          "name": "stdout",
          "output_type": "stream",
          "text": [
            "[[ 72  48  18]\n",
            " [ 43 108  12]\n",
            " [ 28  25  46]]\n",
            "              precision    recall  f1-score   support\n",
            "\n",
            "           0       0.50      0.52      0.51       138\n",
            "           1       0.60      0.66      0.63       163\n",
            "           2       0.61      0.46      0.53        99\n",
            "\n",
            "    accuracy                           0.56       400\n",
            "   macro avg       0.57      0.55      0.56       400\n",
            "weighted avg       0.57      0.56      0.56       400\n",
            "\n",
            "Model evaluation\n",
            "Accuracy: 0.565\n"
          ]
        }
      ],
      "source": [
        "print(confusion_matrix(y_test,predictions))  \n",
        "print(classification_report(y_test,predictions))  \n",
        "print(\"Model evaluation\")\n",
        "print(\"Accuracy:\", accuracy_score(y_test, predictions))"
      ]
    },
    {
      "cell_type": "markdown",
      "metadata": {
        "id": "l79Gt9YDhz2Y"
      },
      "source": [
        "RoBert with **Naïve Bayes** with fine-tunning"
      ]
    },
    {
      "cell_type": "code",
      "execution_count": 156,
      "metadata": {
        "id": "0waxfkoroB4D"
      },
      "outputs": [
        {
          "data": {
            "text/plain": [
              "OrderedDict([('var_smoothing', 0.012328467394420659)])"
            ]
          },
          "execution_count": 156,
          "metadata": {},
          "output_type": "execute_result"
        }
      ],
      "source": [
        "parameters = {'var_smoothing': np.logspace(0,-9, num=100)}\n",
        "text_classifier = GaussianNB()\n",
        "\n",
        "cv = BayesSearchCV(text_classifier, parameters)\n",
        "cv.fit(X_train, y_train)\n",
        "best_params = cv.best_params_\n",
        "best_params"
      ]
    },
    {
      "cell_type": "code",
      "execution_count": 157,
      "metadata": {
        "id": "zoKT5JxboB4D"
      },
      "outputs": [],
      "source": [
        "text_classifier = GaussianNB(**best_params)\n",
        "\n",
        "text_classifier.fit(X_train, y_train)\n",
        "predictions = text_classifier.predict(X_test)"
      ]
    },
    {
      "cell_type": "code",
      "execution_count": 158,
      "metadata": {
        "id": "HxQOj_FCoB4D"
      },
      "outputs": [
        {
          "name": "stdout",
          "output_type": "stream",
          "text": [
            "[[  7 130   1]\n",
            " [  2 158   3]\n",
            " [  2  93   4]]\n",
            "              precision    recall  f1-score   support\n",
            "\n",
            "           0       0.64      0.05      0.09       138\n",
            "           1       0.41      0.97      0.58       163\n",
            "           2       0.50      0.04      0.07        99\n",
            "\n",
            "    accuracy                           0.42       400\n",
            "   macro avg       0.52      0.35      0.25       400\n",
            "weighted avg       0.51      0.42      0.29       400\n",
            "\n",
            "Model evaluation\n",
            "Accuracy: 0.4225\n"
          ]
        }
      ],
      "source": [
        "print(confusion_matrix(y_test,predictions))  \n",
        "print(classification_report(y_test,predictions))  \n",
        "print(\"Model evaluation\")\n",
        "print(\"Accuracy:\", accuracy_score(y_test, predictions))"
      ]
    },
    {
      "cell_type": "markdown",
      "metadata": {
        "id": "Y-GCFHlrnTo3"
      },
      "source": [
        "\n",
        "\n",
        "---\n",
        "\n"
      ]
    },
    {
      "cell_type": "markdown",
      "metadata": {
        "id": "4KxVCWOTnTo4"
      },
      "source": [
        "**ALBERT**"
      ]
    },
    {
      "cell_type": "code",
      "execution_count": 159,
      "metadata": {
        "id": "Jq_nzBByoK-3"
      },
      "outputs": [
        {
          "name": "stderr",
          "output_type": "stream",
          "text": [
            "Some weights of the model checkpoint at albert-base-v1 were not used when initializing AlbertModel: ['predictions.bias', 'predictions.dense.weight', 'predictions.LayerNorm.weight', 'predictions.decoder.weight', 'predictions.decoder.bias', 'predictions.dense.bias', 'predictions.LayerNorm.bias']\n",
            "- This IS expected if you are initializing AlbertModel from the checkpoint of a model trained on another task or with another architecture (e.g. initializing a BertForSequenceClassification model from a BertForPreTraining model).\n",
            "- This IS NOT expected if you are initializing AlbertModel from the checkpoint of a model that you expect to be exactly identical (initializing a BertForSequenceClassification model from a BertForSequenceClassification model).\n"
          ]
        }
      ],
      "source": [
        "from transformers import AlbertTokenizer, AlbertModel\n",
        "tokenizer = AlbertTokenizer.from_pretrained('albert-base-v1')\n",
        "model = AlbertModel.from_pretrained(\"albert-base-v1\")"
      ]
    },
    {
      "cell_type": "code",
      "execution_count": 160,
      "metadata": {
        "id": "JgE4S7xDoK-3"
      },
      "outputs": [],
      "source": [
        "tokenized = batch_1[\"tweet_high_clean\"].apply((lambda x: tokenizer.encode(x, add_special_tokens=True)))"
      ]
    },
    {
      "cell_type": "code",
      "execution_count": 161,
      "metadata": {
        "id": "qW-il5GloK-3"
      },
      "outputs": [],
      "source": [
        "max_len = 0\n",
        "for i in tokenized.values:\n",
        "    if len(i) > max_len:\n",
        "        max_len = len(i)\n",
        "\n",
        "padded = np.array([i + [0]*(max_len-len(i)) for i in tokenized.values])\n"
      ]
    },
    {
      "cell_type": "code",
      "execution_count": 162,
      "metadata": {
        "id": "qYP0WyLwoK-4"
      },
      "outputs": [
        {
          "data": {
            "text/plain": [
              "(2000, 65)"
            ]
          },
          "execution_count": 162,
          "metadata": {},
          "output_type": "execute_result"
        }
      ],
      "source": [
        "attention_mask = np.where(padded != 0, 1, 0)\n",
        "attention_mask.shape"
      ]
    },
    {
      "cell_type": "code",
      "execution_count": 163,
      "metadata": {
        "id": "5XpAhfYOoK-4"
      },
      "outputs": [],
      "source": [
        "input_ids = torch.tensor(padded)  \n",
        "attention_mask = torch.tensor(attention_mask)\n",
        "\n",
        "with torch.no_grad():\n",
        "    last_hidden_states = model(input_ids, attention_mask=attention_mask)"
      ]
    },
    {
      "cell_type": "code",
      "execution_count": 164,
      "metadata": {
        "id": "FYy33ed0oK-4"
      },
      "outputs": [],
      "source": [
        "features = last_hidden_states[0][:,0,:].numpy()"
      ]
    },
    {
      "cell_type": "code",
      "execution_count": 165,
      "metadata": {
        "id": "mkgtFYNcoK-5"
      },
      "outputs": [],
      "source": [
        "labels = batch_1['Label']"
      ]
    },
    {
      "cell_type": "code",
      "execution_count": 166,
      "metadata": {
        "id": "jC25BfFWoK-5"
      },
      "outputs": [],
      "source": [
        "X_train, X_test, y_train, y_test = train_test_split(features, labels, \n",
        "                                                    test_size=0.2,\n",
        "                                                   random_state=100,\n",
        "                                                    stratify=labels)"
      ]
    },
    {
      "cell_type": "markdown",
      "metadata": {
        "id": "SE8YgY0KnTo4"
      },
      "source": [
        "Albert and **Logistic Regression** with tuning on tweet_high_clean"
      ]
    },
    {
      "cell_type": "code",
      "execution_count": 167,
      "metadata": {
        "id": "V19s4pN_oK-6"
      },
      "outputs": [
        {
          "data": {
            "text/plain": [
              "OrderedDict([('C', 0.1)])"
            ]
          },
          "execution_count": 167,
          "metadata": {},
          "output_type": "execute_result"
        }
      ],
      "source": [
        "parameters = {'C':[0.1,0.2,0.3,0.4,0.5,0.6,0.7,0.8,0.9,1]}\n",
        "log_reg_model = LogisticRegression()\n",
        "\n",
        "cv = BayesSearchCV(log_reg_model, parameters)\n",
        "cv.fit(X_train, y_train)\n",
        "best_params = cv.best_params_\n",
        "best_params"
      ]
    },
    {
      "cell_type": "code",
      "execution_count": 168,
      "metadata": {
        "id": "AOb3UJSloK-7"
      },
      "outputs": [],
      "source": [
        "logistic = LogisticRegression(**best_params, class_weight='balanced', random_state = 42, \n",
        "                              max_iter=10000)\n",
        "\n",
        "logistic.fit(X_train, y_train)\n",
        "predictions = logistic.predict(X_test)"
      ]
    },
    {
      "cell_type": "code",
      "execution_count": 169,
      "metadata": {
        "id": "49IUTXh_oK-7"
      },
      "outputs": [
        {
          "name": "stdout",
          "output_type": "stream",
          "text": [
            "[[ 89  31  18]\n",
            " [ 21 120  22]\n",
            " [ 14  24  61]]\n",
            "              precision    recall  f1-score   support\n",
            "\n",
            "           0       0.72      0.64      0.68       138\n",
            "           1       0.69      0.74      0.71       163\n",
            "           2       0.60      0.62      0.61        99\n",
            "\n",
            "    accuracy                           0.68       400\n",
            "   macro avg       0.67      0.67      0.67       400\n",
            "weighted avg       0.68      0.68      0.67       400\n",
            "\n",
            "Model evaluation\n",
            "Accuracy: 0.675\n"
          ]
        }
      ],
      "source": [
        "print(confusion_matrix(y_test,predictions))  \n",
        "print(classification_report(y_test,predictions))  \n",
        "print(\"Model evaluation\")\n",
        "print(\"Accuracy:\", accuracy_score(y_test, predictions))"
      ]
    },
    {
      "cell_type": "markdown",
      "metadata": {
        "id": "u9qcFDmHnTo4"
      },
      "source": [
        "Albert with **XGBoost** with fine-tunning on tweet_high_clean"
      ]
    },
    {
      "cell_type": "code",
      "execution_count": 170,
      "metadata": {
        "id": "ZijUAQ7RoK-7"
      },
      "outputs": [
        {
          "data": {
            "text/plain": [
              "OrderedDict([('learning_rate', 0.1),\n",
              "             ('min_child_weight', 8),\n",
              "             ('subsample', 0.6)])"
            ]
          },
          "execution_count": 170,
          "metadata": {},
          "output_type": "execute_result"
        }
      ],
      "source": [
        "parameters = {'learning_rate':[0.1,0.2,0.3,0.4,0.5,0.6,0.7,0.8,0.9,1], \n",
        "              'subsample':[0.6, 0.7, 0.8, 0.9, 1], \n",
        "              'min_child_weight' : [0,1,2,3,4,5,6,7,8,9,10]}\n",
        "xgboost_model = XGBClassifier()\n",
        "\n",
        "cv = BayesSearchCV(xgboost_model, parameters)\n",
        "cv.fit(X_train, y_train)\n",
        "best_params = cv.best_params_\n",
        "best_params"
      ]
    },
    {
      "cell_type": "code",
      "execution_count": 171,
      "metadata": {
        "id": "TypP39IJoK-8"
      },
      "outputs": [
        {
          "name": "stdout",
          "output_type": "stream",
          "text": [
            "[11:30:58] WARNING: /Users/runner/work/xgboost/xgboost/python-package/build/temp.macosx-11.0-arm64-cpython-38/xgboost/src/learner.cc:767: \n",
            "Parameters: { \"class_weight\", \"max_iter\" } are not used.\n",
            "\n"
          ]
        }
      ],
      "source": [
        "xgboost= XGBClassifier(**best_params, class_weight='balanced', random_state = 42, \n",
        "                              max_iter=10000)\n",
        "\n",
        "xgboost.fit(X_train, y_train)\n",
        "predictions = xgboost.predict(X_test)"
      ]
    },
    {
      "cell_type": "code",
      "execution_count": 172,
      "metadata": {
        "id": "lJLgatwEoK-8"
      },
      "outputs": [
        {
          "name": "stdout",
          "output_type": "stream",
          "text": [
            "[[ 80  38  20]\n",
            " [ 27 122  14]\n",
            " [ 17  29  53]]\n",
            "              precision    recall  f1-score   support\n",
            "\n",
            "           0       0.65      0.58      0.61       138\n",
            "           1       0.65      0.75      0.69       163\n",
            "           2       0.61      0.54      0.57        99\n",
            "\n",
            "    accuracy                           0.64       400\n",
            "   macro avg       0.63      0.62      0.62       400\n",
            "weighted avg       0.64      0.64      0.63       400\n",
            "\n",
            "Model evaluation\n",
            "Accuracy: 0.6375\n"
          ]
        }
      ],
      "source": [
        "print(confusion_matrix(y_test,predictions))  \n",
        "print(classification_report(y_test,predictions))  \n",
        "print(\"Model evaluation\")\n",
        "print(\"Accuracy:\", accuracy_score(y_test, predictions))"
      ]
    },
    {
      "cell_type": "markdown",
      "metadata": {
        "id": "jkPc6pzPnTo5"
      },
      "source": [
        "Albert with **Naïve Bayes** with fine-tunning"
      ]
    },
    {
      "cell_type": "code",
      "execution_count": 173,
      "metadata": {
        "id": "4OSTb4nmoK-8"
      },
      "outputs": [
        {
          "data": {
            "text/plain": [
              "OrderedDict([('var_smoothing', 0.01519911082952933)])"
            ]
          },
          "execution_count": 173,
          "metadata": {},
          "output_type": "execute_result"
        }
      ],
      "source": [
        "parameters = {'var_smoothing': np.logspace(0,-9, num=100)}\n",
        "text_classifier = GaussianNB()\n",
        "\n",
        "cv = BayesSearchCV(text_classifier, parameters)\n",
        "cv.fit(X_train, y_train)\n",
        "best_params = cv.best_params_\n",
        "best_params"
      ]
    },
    {
      "cell_type": "code",
      "execution_count": 174,
      "metadata": {
        "id": "U-mDorLkoK-9"
      },
      "outputs": [],
      "source": [
        "text_classifier = GaussianNB(**best_params)\n",
        "\n",
        "text_classifier.fit(X_train, y_train)\n",
        "predictions = text_classifier.predict(X_test)"
      ]
    },
    {
      "cell_type": "code",
      "execution_count": 175,
      "metadata": {
        "id": "v9xDpGNOoK-9"
      },
      "outputs": [
        {
          "name": "stdout",
          "output_type": "stream",
          "text": [
            "[[ 46  48  44]\n",
            " [ 22 119  22]\n",
            " [ 21  27  51]]\n",
            "              precision    recall  f1-score   support\n",
            "\n",
            "           0       0.52      0.33      0.41       138\n",
            "           1       0.61      0.73      0.67       163\n",
            "           2       0.44      0.52      0.47        99\n",
            "\n",
            "    accuracy                           0.54       400\n",
            "   macro avg       0.52      0.53      0.51       400\n",
            "weighted avg       0.54      0.54      0.53       400\n",
            "\n",
            "Model evaluation\n",
            "Accuracy: 0.54\n"
          ]
        }
      ],
      "source": [
        "print(confusion_matrix(y_test,predictions))  \n",
        "print(classification_report(y_test,predictions))  \n",
        "print(\"Model evaluation\")\n",
        "print(\"Accuracy:\", accuracy_score(y_test, predictions))"
      ]
    },
    {
      "cell_type": "markdown",
      "metadata": {
        "id": "ZJD-zFvbzcWD"
      },
      "source": [
        "## TF-IDF "
      ]
    },
    {
      "cell_type": "markdown",
      "metadata": {
        "id": "pL2jfIAjlCok"
      },
      "source": [
        "**TF**  = (Frequency of a word in the document)/(Total words in the document)\n",
        "\n",
        "\n",
        "---\n",
        "\n",
        "\n",
        "**IDF** = Log((Total number of docs)/(Number of docs containing the word))"
      ]
    },
    {
      "cell_type": "code",
      "execution_count": 177,
      "metadata": {
        "id": "_lMOJ4Ih3a89"
      },
      "outputs": [],
      "source": [
        "from sklearn.feature_extraction.text import TfidfVectorizer\n",
        "\n",
        "# import Naïve Bayes \n",
        "from sklearn.naive_bayes import GaussianNB\n",
        "\n",
        "# import Logistic Regression\n",
        "from sklearn.linear_model import LogisticRegression\n",
        "\n",
        "# import XGBoost\n",
        "from xgboost import XGBClassifier\n",
        "import xgboost as xgb"
      ]
    },
    {
      "cell_type": "code",
      "execution_count": 178,
      "metadata": {
        "id": "m9Ul1S3qk7sC"
      },
      "outputs": [],
      "source": [
        "tfidf = TfidfVectorizer()"
      ]
    },
    {
      "cell_type": "markdown",
      "metadata": {
        "id": "aXiLJRghZvI2"
      },
      "source": [
        "TF-IDF on **tweet_simple_clean**"
      ]
    },
    {
      "cell_type": "code",
      "execution_count": 179,
      "metadata": {
        "colab": {
          "base_uri": "https://localhost:8080/"
        },
        "id": "McPn9R58rS7F",
        "outputId": "96fe0833-76a5-4c5d-ff32-0d84765feee7"
      },
      "outputs": [],
      "source": [
        "#Convert your dataset into corresponding TF-IDF feature vectors\n",
        "X = tfidf.fit_transform(batch_1['tweet_simple_clean']).toarray()\n",
        "tfidf.get_feature_names_out()\n",
        "y = batch_1['Label']"
      ]
    },
    {
      "cell_type": "code",
      "execution_count": 180,
      "metadata": {
        "id": "Fgw6mm0Tr3uj"
      },
      "outputs": [],
      "source": [
        "from sklearn.model_selection import train_test_split  \n",
        "X_train, X_test, y_train, y_test = train_test_split(X, y, test_size=0.2, random_state=100, stratify = y)"
      ]
    },
    {
      "cell_type": "markdown",
      "metadata": {
        "id": "JnHlDDicV96k"
      },
      "source": [
        "TF-IDF and Naïve Bayes without fine-tuning on tweet_simple_clean\n",
        "\n"
      ]
    },
    {
      "cell_type": "code",
      "execution_count": 181,
      "metadata": {
        "colab": {
          "base_uri": "https://localhost:8080/"
        },
        "id": "znPZX7NUvN3f",
        "outputId": "38b48d95-3ce2-4d5a-fe75-b556ebc6663f"
      },
      "outputs": [
        {
          "data": {
            "text/html": [
              "<style>#sk-container-id-1 {color: black;background-color: white;}#sk-container-id-1 pre{padding: 0;}#sk-container-id-1 div.sk-toggleable {background-color: white;}#sk-container-id-1 label.sk-toggleable__label {cursor: pointer;display: block;width: 100%;margin-bottom: 0;padding: 0.3em;box-sizing: border-box;text-align: center;}#sk-container-id-1 label.sk-toggleable__label-arrow:before {content: \"▸\";float: left;margin-right: 0.25em;color: #696969;}#sk-container-id-1 label.sk-toggleable__label-arrow:hover:before {color: black;}#sk-container-id-1 div.sk-estimator:hover label.sk-toggleable__label-arrow:before {color: black;}#sk-container-id-1 div.sk-toggleable__content {max-height: 0;max-width: 0;overflow: hidden;text-align: left;background-color: #f0f8ff;}#sk-container-id-1 div.sk-toggleable__content pre {margin: 0.2em;color: black;border-radius: 0.25em;background-color: #f0f8ff;}#sk-container-id-1 input.sk-toggleable__control:checked~div.sk-toggleable__content {max-height: 200px;max-width: 100%;overflow: auto;}#sk-container-id-1 input.sk-toggleable__control:checked~label.sk-toggleable__label-arrow:before {content: \"▾\";}#sk-container-id-1 div.sk-estimator input.sk-toggleable__control:checked~label.sk-toggleable__label {background-color: #d4ebff;}#sk-container-id-1 div.sk-label input.sk-toggleable__control:checked~label.sk-toggleable__label {background-color: #d4ebff;}#sk-container-id-1 input.sk-hidden--visually {border: 0;clip: rect(1px 1px 1px 1px);clip: rect(1px, 1px, 1px, 1px);height: 1px;margin: -1px;overflow: hidden;padding: 0;position: absolute;width: 1px;}#sk-container-id-1 div.sk-estimator {font-family: monospace;background-color: #f0f8ff;border: 1px dotted black;border-radius: 0.25em;box-sizing: border-box;margin-bottom: 0.5em;}#sk-container-id-1 div.sk-estimator:hover {background-color: #d4ebff;}#sk-container-id-1 div.sk-parallel-item::after {content: \"\";width: 100%;border-bottom: 1px solid gray;flex-grow: 1;}#sk-container-id-1 div.sk-label:hover label.sk-toggleable__label {background-color: #d4ebff;}#sk-container-id-1 div.sk-serial::before {content: \"\";position: absolute;border-left: 1px solid gray;box-sizing: border-box;top: 0;bottom: 0;left: 50%;z-index: 0;}#sk-container-id-1 div.sk-serial {display: flex;flex-direction: column;align-items: center;background-color: white;padding-right: 0.2em;padding-left: 0.2em;position: relative;}#sk-container-id-1 div.sk-item {position: relative;z-index: 1;}#sk-container-id-1 div.sk-parallel {display: flex;align-items: stretch;justify-content: center;background-color: white;position: relative;}#sk-container-id-1 div.sk-item::before, #sk-container-id-1 div.sk-parallel-item::before {content: \"\";position: absolute;border-left: 1px solid gray;box-sizing: border-box;top: 0;bottom: 0;left: 50%;z-index: -1;}#sk-container-id-1 div.sk-parallel-item {display: flex;flex-direction: column;z-index: 1;position: relative;background-color: white;}#sk-container-id-1 div.sk-parallel-item:first-child::after {align-self: flex-end;width: 50%;}#sk-container-id-1 div.sk-parallel-item:last-child::after {align-self: flex-start;width: 50%;}#sk-container-id-1 div.sk-parallel-item:only-child::after {width: 0;}#sk-container-id-1 div.sk-dashed-wrapped {border: 1px dashed gray;margin: 0 0.4em 0.5em 0.4em;box-sizing: border-box;padding-bottom: 0.4em;background-color: white;}#sk-container-id-1 div.sk-label label {font-family: monospace;font-weight: bold;display: inline-block;line-height: 1.2em;}#sk-container-id-1 div.sk-label-container {text-align: center;}#sk-container-id-1 div.sk-container {/* jupyter's `normalize.less` sets `[hidden] { display: none; }` but bootstrap.min.css set `[hidden] { display: none !important; }` so we also need the `!important` here to be able to override the default hidden behavior on the sphinx rendered scikit-learn.org. See: https://github.com/scikit-learn/scikit-learn/issues/21755 */display: inline-block !important;position: relative;}#sk-container-id-1 div.sk-text-repr-fallback {display: none;}</style><div id=\"sk-container-id-1\" class=\"sk-top-container\"><div class=\"sk-text-repr-fallback\"><pre>GaussianNB()</pre><b>In a Jupyter environment, please rerun this cell to show the HTML representation or trust the notebook. <br />On GitHub, the HTML representation is unable to render, please try loading this page with nbviewer.org.</b></div><div class=\"sk-container\" hidden><div class=\"sk-item\"><div class=\"sk-estimator sk-toggleable\"><input class=\"sk-toggleable__control sk-hidden--visually\" id=\"sk-estimator-id-1\" type=\"checkbox\" checked><label for=\"sk-estimator-id-1\" class=\"sk-toggleable__label sk-toggleable__label-arrow\">GaussianNB</label><div class=\"sk-toggleable__content\"><pre>GaussianNB()</pre></div></div></div></div></div>"
            ],
            "text/plain": [
              "GaussianNB()"
            ]
          },
          "execution_count": 181,
          "metadata": {},
          "output_type": "execute_result"
        }
      ],
      "source": [
        "text_classifier = GaussianNB()\n",
        "text_classifier.fit(X_train, y_train)"
      ]
    },
    {
      "cell_type": "code",
      "execution_count": 182,
      "metadata": {
        "id": "49ucZgHWwQ_P"
      },
      "outputs": [],
      "source": [
        "predictions = text_classifier.predict(X_test)"
      ]
    },
    {
      "cell_type": "code",
      "execution_count": 183,
      "metadata": {
        "colab": {
          "base_uri": "https://localhost:8080/"
        },
        "id": "o_Q87ifmwU5h",
        "outputId": "5ccea678-71f2-496b-95a8-68b41f2649da"
      },
      "outputs": [
        {
          "name": "stdout",
          "output_type": "stream",
          "text": [
            "[[ 81  48   9]\n",
            " [ 42 115   6]\n",
            " [ 24  32  43]]\n",
            "              precision    recall  f1-score   support\n",
            "\n",
            "           0       0.55      0.59      0.57       138\n",
            "           1       0.59      0.71      0.64       163\n",
            "           2       0.74      0.43      0.55        99\n",
            "\n",
            "    accuracy                           0.60       400\n",
            "   macro avg       0.63      0.58      0.59       400\n",
            "weighted avg       0.61      0.60      0.59       400\n",
            "\n",
            "Model evaluation\n",
            "Accuracy: 0.5975\n"
          ]
        }
      ],
      "source": [
        "from sklearn.metrics import classification_report, confusion_matrix, accuracy_score,precision_score, recall_score, f1_score\n",
        " \n",
        "print(confusion_matrix(y_test,predictions))  \n",
        "print(classification_report(y_test,predictions))  \n",
        "print(\"Model evaluation\")\n",
        "print(\"Accuracy:\", accuracy_score(y_test, predictions))"
      ]
    },
    {
      "cell_type": "markdown",
      "metadata": {
        "id": "mOzvbWnzaaTK"
      },
      "source": [
        "TF-IDF and Naïve Bayes with fine-tuning on tweet_simple_clean"
      ]
    },
    {
      "cell_type": "code",
      "execution_count": 184,
      "metadata": {
        "id": "5rh5dZGkaWy9"
      },
      "outputs": [
        {
          "data": {
            "text/plain": [
              "OrderedDict([('var_smoothing', 0.002848035868435802)])"
            ]
          },
          "execution_count": 184,
          "metadata": {},
          "output_type": "execute_result"
        }
      ],
      "source": [
        "parameters = {'var_smoothing': np.logspace(0,-9, num=100)}\n",
        "text_classifier = GaussianNB()\n",
        "\n",
        "cv = BayesSearchCV(text_classifier, parameters)\n",
        "cv.fit(X_train, y_train)\n",
        "best_params = cv.best_params_\n",
        "best_params"
      ]
    },
    {
      "cell_type": "code",
      "execution_count": 185,
      "metadata": {
        "id": "Wf0PVJhuaWzA"
      },
      "outputs": [],
      "source": [
        "text_classifier = GaussianNB(**best_params)\n",
        "\n",
        "text_classifier.fit(X_train, y_train)\n",
        "predictions = text_classifier.predict(X_test)"
      ]
    },
    {
      "cell_type": "code",
      "execution_count": 186,
      "metadata": {
        "id": "JyvYNKd0aWzC"
      },
      "outputs": [
        {
          "name": "stdout",
          "output_type": "stream",
          "text": [
            "[[ 87  42   9]\n",
            " [ 32 119  12]\n",
            " [ 19  33  47]]\n",
            "              precision    recall  f1-score   support\n",
            "\n",
            "           0       0.63      0.63      0.63       138\n",
            "           1       0.61      0.73      0.67       163\n",
            "           2       0.69      0.47      0.56        99\n",
            "\n",
            "    accuracy                           0.63       400\n",
            "   macro avg       0.65      0.61      0.62       400\n",
            "weighted avg       0.64      0.63      0.63       400\n",
            "\n",
            "Model evaluation\n",
            "Accuracy: 0.6325\n"
          ]
        }
      ],
      "source": [
        "print(confusion_matrix(y_test,predictions))  \n",
        "print(classification_report(y_test,predictions))  \n",
        "print(\"Model evaluation\")\n",
        "print(\"Accuracy:\", accuracy_score(y_test, predictions))"
      ]
    },
    {
      "cell_type": "markdown",
      "metadata": {
        "id": "O-eDORF4XRw2"
      },
      "source": [
        "TF-IDF and Logistic Regression withuot fine-tuning on tweet_simple_clean\n"
      ]
    },
    {
      "cell_type": "code",
      "execution_count": 187,
      "metadata": {
        "id": "Y4YZ2lpFW42y"
      },
      "outputs": [
        {
          "data": {
            "text/html": [
              "<style>#sk-container-id-2 {color: black;background-color: white;}#sk-container-id-2 pre{padding: 0;}#sk-container-id-2 div.sk-toggleable {background-color: white;}#sk-container-id-2 label.sk-toggleable__label {cursor: pointer;display: block;width: 100%;margin-bottom: 0;padding: 0.3em;box-sizing: border-box;text-align: center;}#sk-container-id-2 label.sk-toggleable__label-arrow:before {content: \"▸\";float: left;margin-right: 0.25em;color: #696969;}#sk-container-id-2 label.sk-toggleable__label-arrow:hover:before {color: black;}#sk-container-id-2 div.sk-estimator:hover label.sk-toggleable__label-arrow:before {color: black;}#sk-container-id-2 div.sk-toggleable__content {max-height: 0;max-width: 0;overflow: hidden;text-align: left;background-color: #f0f8ff;}#sk-container-id-2 div.sk-toggleable__content pre {margin: 0.2em;color: black;border-radius: 0.25em;background-color: #f0f8ff;}#sk-container-id-2 input.sk-toggleable__control:checked~div.sk-toggleable__content {max-height: 200px;max-width: 100%;overflow: auto;}#sk-container-id-2 input.sk-toggleable__control:checked~label.sk-toggleable__label-arrow:before {content: \"▾\";}#sk-container-id-2 div.sk-estimator input.sk-toggleable__control:checked~label.sk-toggleable__label {background-color: #d4ebff;}#sk-container-id-2 div.sk-label input.sk-toggleable__control:checked~label.sk-toggleable__label {background-color: #d4ebff;}#sk-container-id-2 input.sk-hidden--visually {border: 0;clip: rect(1px 1px 1px 1px);clip: rect(1px, 1px, 1px, 1px);height: 1px;margin: -1px;overflow: hidden;padding: 0;position: absolute;width: 1px;}#sk-container-id-2 div.sk-estimator {font-family: monospace;background-color: #f0f8ff;border: 1px dotted black;border-radius: 0.25em;box-sizing: border-box;margin-bottom: 0.5em;}#sk-container-id-2 div.sk-estimator:hover {background-color: #d4ebff;}#sk-container-id-2 div.sk-parallel-item::after {content: \"\";width: 100%;border-bottom: 1px solid gray;flex-grow: 1;}#sk-container-id-2 div.sk-label:hover label.sk-toggleable__label {background-color: #d4ebff;}#sk-container-id-2 div.sk-serial::before {content: \"\";position: absolute;border-left: 1px solid gray;box-sizing: border-box;top: 0;bottom: 0;left: 50%;z-index: 0;}#sk-container-id-2 div.sk-serial {display: flex;flex-direction: column;align-items: center;background-color: white;padding-right: 0.2em;padding-left: 0.2em;position: relative;}#sk-container-id-2 div.sk-item {position: relative;z-index: 1;}#sk-container-id-2 div.sk-parallel {display: flex;align-items: stretch;justify-content: center;background-color: white;position: relative;}#sk-container-id-2 div.sk-item::before, #sk-container-id-2 div.sk-parallel-item::before {content: \"\";position: absolute;border-left: 1px solid gray;box-sizing: border-box;top: 0;bottom: 0;left: 50%;z-index: -1;}#sk-container-id-2 div.sk-parallel-item {display: flex;flex-direction: column;z-index: 1;position: relative;background-color: white;}#sk-container-id-2 div.sk-parallel-item:first-child::after {align-self: flex-end;width: 50%;}#sk-container-id-2 div.sk-parallel-item:last-child::after {align-self: flex-start;width: 50%;}#sk-container-id-2 div.sk-parallel-item:only-child::after {width: 0;}#sk-container-id-2 div.sk-dashed-wrapped {border: 1px dashed gray;margin: 0 0.4em 0.5em 0.4em;box-sizing: border-box;padding-bottom: 0.4em;background-color: white;}#sk-container-id-2 div.sk-label label {font-family: monospace;font-weight: bold;display: inline-block;line-height: 1.2em;}#sk-container-id-2 div.sk-label-container {text-align: center;}#sk-container-id-2 div.sk-container {/* jupyter's `normalize.less` sets `[hidden] { display: none; }` but bootstrap.min.css set `[hidden] { display: none !important; }` so we also need the `!important` here to be able to override the default hidden behavior on the sphinx rendered scikit-learn.org. See: https://github.com/scikit-learn/scikit-learn/issues/21755 */display: inline-block !important;position: relative;}#sk-container-id-2 div.sk-text-repr-fallback {display: none;}</style><div id=\"sk-container-id-2\" class=\"sk-top-container\"><div class=\"sk-text-repr-fallback\"><pre>LogisticRegression()</pre><b>In a Jupyter environment, please rerun this cell to show the HTML representation or trust the notebook. <br />On GitHub, the HTML representation is unable to render, please try loading this page with nbviewer.org.</b></div><div class=\"sk-container\" hidden><div class=\"sk-item\"><div class=\"sk-estimator sk-toggleable\"><input class=\"sk-toggleable__control sk-hidden--visually\" id=\"sk-estimator-id-2\" type=\"checkbox\" checked><label for=\"sk-estimator-id-2\" class=\"sk-toggleable__label sk-toggleable__label-arrow\">LogisticRegression</label><div class=\"sk-toggleable__content\"><pre>LogisticRegression()</pre></div></div></div></div></div>"
            ],
            "text/plain": [
              "LogisticRegression()"
            ]
          },
          "execution_count": 187,
          "metadata": {},
          "output_type": "execute_result"
        }
      ],
      "source": [
        "lg = LogisticRegression()\n",
        "lg.fit(X_train, y_train)"
      ]
    },
    {
      "cell_type": "code",
      "execution_count": 188,
      "metadata": {
        "id": "ieNiogR3clF8"
      },
      "outputs": [],
      "source": [
        "predictions = lg.predict(X_test)"
      ]
    },
    {
      "cell_type": "code",
      "execution_count": 189,
      "metadata": {
        "colab": {
          "base_uri": "https://localhost:8080/"
        },
        "id": "N37B7pChceJw",
        "outputId": "820d77ee-ab22-4f74-c440-4c47d55d8023"
      },
      "outputs": [
        {
          "name": "stdout",
          "output_type": "stream",
          "text": [
            "[[ 91  41   6]\n",
            " [ 26 133   4]\n",
            " [ 30  34  35]]\n",
            "              precision    recall  f1-score   support\n",
            "\n",
            "           0       0.62      0.66      0.64       138\n",
            "           1       0.64      0.82      0.72       163\n",
            "           2       0.78      0.35      0.49        99\n",
            "\n",
            "    accuracy                           0.65       400\n",
            "   macro avg       0.68      0.61      0.61       400\n",
            "weighted avg       0.67      0.65      0.63       400\n",
            "\n",
            "Model evaluation\n",
            "Accuracy: 0.6475\n"
          ]
        }
      ],
      "source": [
        "print(confusion_matrix(y_test,predictions))  \n",
        "print(classification_report(y_test,predictions))  \n",
        "print(\"Model evaluation\")\n",
        "print(\"Accuracy:\", accuracy_score(y_test, predictions))"
      ]
    },
    {
      "cell_type": "markdown",
      "metadata": {
        "id": "sXuL40ZjY-pP"
      },
      "source": [
        "TF- IDF and Logistic Regression and fine-tuning on tweet_simple_clean\n"
      ]
    },
    {
      "cell_type": "code",
      "execution_count": 190,
      "metadata": {
        "colab": {
          "base_uri": "https://localhost:8080/"
        },
        "id": "qpjijj-Kv4wM",
        "outputId": "2dfe2a37-dbdf-4b35-ee2c-22567d34d04a"
      },
      "outputs": [
        {
          "data": {
            "text/plain": [
              "{'C': 1.0,\n",
              " 'class_weight': None,\n",
              " 'dual': False,\n",
              " 'fit_intercept': True,\n",
              " 'intercept_scaling': 1,\n",
              " 'l1_ratio': None,\n",
              " 'max_iter': 100,\n",
              " 'multi_class': 'auto',\n",
              " 'n_jobs': None,\n",
              " 'penalty': 'l2',\n",
              " 'random_state': None,\n",
              " 'solver': 'lbfgs',\n",
              " 'tol': 0.0001,\n",
              " 'verbose': 0,\n",
              " 'warm_start': False}"
            ]
          },
          "execution_count": 190,
          "metadata": {},
          "output_type": "execute_result"
        }
      ],
      "source": [
        "lg.get_params()"
      ]
    },
    {
      "cell_type": "code",
      "execution_count": 191,
      "metadata": {
        "colab": {
          "background_save": true
        },
        "id": "INwXfJK7Zh9M",
        "outputId": "9bf1b9e7-e1b6-429d-9bd2-f53ed0e59588"
      },
      "outputs": [
        {
          "data": {
            "text/plain": [
              "OrderedDict([('C', 1.0)])"
            ]
          },
          "execution_count": 191,
          "metadata": {},
          "output_type": "execute_result"
        }
      ],
      "source": [
        "from skopt import BayesSearchCV\n",
        "parameters = {'C':[0.1,0.2,0.3,0.4,0.5,0.6,0.7,0.8,0.9,1]}\n",
        "log_reg_model = LogisticRegression()\n",
        "\n",
        "cv = BayesSearchCV(log_reg_model, parameters)\n",
        "cv.fit(X_train, y_train)\n",
        "best_params = cv.best_params_\n",
        "best_params\n"
      ]
    },
    {
      "cell_type": "code",
      "execution_count": 192,
      "metadata": {
        "id": "ArYjlrMkZiEL"
      },
      "outputs": [],
      "source": [
        "logistic = LogisticRegression(**best_params, class_weight='balanced', random_state = 42, \n",
        "                              max_iter=10000)\n",
        "\n",
        "logistic.fit(X_train, y_train)\n",
        "predictions = logistic.predict(X_test)"
      ]
    },
    {
      "cell_type": "code",
      "execution_count": 193,
      "metadata": {
        "colab": {
          "background_save": true
        },
        "id": "akp4qklEctBo",
        "outputId": "9d576063-a02e-445a-c1d6-d048e55abb68"
      },
      "outputs": [
        {
          "name": "stdout",
          "output_type": "stream",
          "text": [
            "[[ 98  28  12]\n",
            " [ 26 117  20]\n",
            " [ 25  20  54]]\n",
            "              precision    recall  f1-score   support\n",
            "\n",
            "           0       0.66      0.71      0.68       138\n",
            "           1       0.71      0.72      0.71       163\n",
            "           2       0.63      0.55      0.58        99\n",
            "\n",
            "    accuracy                           0.67       400\n",
            "   macro avg       0.66      0.66      0.66       400\n",
            "weighted avg       0.67      0.67      0.67       400\n",
            "\n",
            "Model evaluation\n",
            "Accuracy: 0.6725\n"
          ]
        }
      ],
      "source": [
        "print(confusion_matrix(y_test,predictions))  \n",
        "print(classification_report(y_test,predictions))  \n",
        "print(\"Model evaluation\")\n",
        "print(\"Accuracy:\", accuracy_score(y_test, predictions))"
      ]
    },
    {
      "cell_type": "markdown",
      "metadata": {
        "id": "uwGUqR2DZGS_"
      },
      "source": [
        "XGBoost without fine-tuning on tweet_simple_clean"
      ]
    },
    {
      "cell_type": "code",
      "execution_count": 194,
      "metadata": {
        "colab": {
          "base_uri": "https://localhost:8080/",
          "height": 341
        },
        "id": "Kj6ovRuAcp6U",
        "outputId": "9339d5d5-5e23-4eb9-f5de-3c1e05b92ce5"
      },
      "outputs": [
        {
          "data": {
            "text/html": [
              "<style>#sk-container-id-3 {color: black;background-color: white;}#sk-container-id-3 pre{padding: 0;}#sk-container-id-3 div.sk-toggleable {background-color: white;}#sk-container-id-3 label.sk-toggleable__label {cursor: pointer;display: block;width: 100%;margin-bottom: 0;padding: 0.3em;box-sizing: border-box;text-align: center;}#sk-container-id-3 label.sk-toggleable__label-arrow:before {content: \"▸\";float: left;margin-right: 0.25em;color: #696969;}#sk-container-id-3 label.sk-toggleable__label-arrow:hover:before {color: black;}#sk-container-id-3 div.sk-estimator:hover label.sk-toggleable__label-arrow:before {color: black;}#sk-container-id-3 div.sk-toggleable__content {max-height: 0;max-width: 0;overflow: hidden;text-align: left;background-color: #f0f8ff;}#sk-container-id-3 div.sk-toggleable__content pre {margin: 0.2em;color: black;border-radius: 0.25em;background-color: #f0f8ff;}#sk-container-id-3 input.sk-toggleable__control:checked~div.sk-toggleable__content {max-height: 200px;max-width: 100%;overflow: auto;}#sk-container-id-3 input.sk-toggleable__control:checked~label.sk-toggleable__label-arrow:before {content: \"▾\";}#sk-container-id-3 div.sk-estimator input.sk-toggleable__control:checked~label.sk-toggleable__label {background-color: #d4ebff;}#sk-container-id-3 div.sk-label input.sk-toggleable__control:checked~label.sk-toggleable__label {background-color: #d4ebff;}#sk-container-id-3 input.sk-hidden--visually {border: 0;clip: rect(1px 1px 1px 1px);clip: rect(1px, 1px, 1px, 1px);height: 1px;margin: -1px;overflow: hidden;padding: 0;position: absolute;width: 1px;}#sk-container-id-3 div.sk-estimator {font-family: monospace;background-color: #f0f8ff;border: 1px dotted black;border-radius: 0.25em;box-sizing: border-box;margin-bottom: 0.5em;}#sk-container-id-3 div.sk-estimator:hover {background-color: #d4ebff;}#sk-container-id-3 div.sk-parallel-item::after {content: \"\";width: 100%;border-bottom: 1px solid gray;flex-grow: 1;}#sk-container-id-3 div.sk-label:hover label.sk-toggleable__label {background-color: #d4ebff;}#sk-container-id-3 div.sk-serial::before {content: \"\";position: absolute;border-left: 1px solid gray;box-sizing: border-box;top: 0;bottom: 0;left: 50%;z-index: 0;}#sk-container-id-3 div.sk-serial {display: flex;flex-direction: column;align-items: center;background-color: white;padding-right: 0.2em;padding-left: 0.2em;position: relative;}#sk-container-id-3 div.sk-item {position: relative;z-index: 1;}#sk-container-id-3 div.sk-parallel {display: flex;align-items: stretch;justify-content: center;background-color: white;position: relative;}#sk-container-id-3 div.sk-item::before, #sk-container-id-3 div.sk-parallel-item::before {content: \"\";position: absolute;border-left: 1px solid gray;box-sizing: border-box;top: 0;bottom: 0;left: 50%;z-index: -1;}#sk-container-id-3 div.sk-parallel-item {display: flex;flex-direction: column;z-index: 1;position: relative;background-color: white;}#sk-container-id-3 div.sk-parallel-item:first-child::after {align-self: flex-end;width: 50%;}#sk-container-id-3 div.sk-parallel-item:last-child::after {align-self: flex-start;width: 50%;}#sk-container-id-3 div.sk-parallel-item:only-child::after {width: 0;}#sk-container-id-3 div.sk-dashed-wrapped {border: 1px dashed gray;margin: 0 0.4em 0.5em 0.4em;box-sizing: border-box;padding-bottom: 0.4em;background-color: white;}#sk-container-id-3 div.sk-label label {font-family: monospace;font-weight: bold;display: inline-block;line-height: 1.2em;}#sk-container-id-3 div.sk-label-container {text-align: center;}#sk-container-id-3 div.sk-container {/* jupyter's `normalize.less` sets `[hidden] { display: none; }` but bootstrap.min.css set `[hidden] { display: none !important; }` so we also need the `!important` here to be able to override the default hidden behavior on the sphinx rendered scikit-learn.org. See: https://github.com/scikit-learn/scikit-learn/issues/21755 */display: inline-block !important;position: relative;}#sk-container-id-3 div.sk-text-repr-fallback {display: none;}</style><div id=\"sk-container-id-3\" class=\"sk-top-container\"><div class=\"sk-text-repr-fallback\"><pre>XGBClassifier(base_score=0.5, booster=&#x27;gbtree&#x27;, callbacks=None,\n",
              "              colsample_bylevel=1, colsample_bynode=1, colsample_bytree=1,\n",
              "              early_stopping_rounds=None, enable_categorical=False,\n",
              "              eval_metric=None, feature_types=None, gamma=0, gpu_id=-1,\n",
              "              grow_policy=&#x27;depthwise&#x27;, importance_type=None,\n",
              "              interaction_constraints=&#x27;&#x27;, learning_rate=0.300000012,\n",
              "              max_bin=256, max_cat_threshold=64, max_cat_to_onehot=4,\n",
              "              max_delta_step=0, max_depth=6, max_leaves=0, min_child_weight=1,\n",
              "              missing=nan, monotone_constraints=&#x27;()&#x27;, n_estimators=100,\n",
              "              n_jobs=0, num_parallel_tree=1, objective=&#x27;multi:softprob&#x27;,\n",
              "              predictor=&#x27;auto&#x27;, ...)</pre><b>In a Jupyter environment, please rerun this cell to show the HTML representation or trust the notebook. <br />On GitHub, the HTML representation is unable to render, please try loading this page with nbviewer.org.</b></div><div class=\"sk-container\" hidden><div class=\"sk-item\"><div class=\"sk-estimator sk-toggleable\"><input class=\"sk-toggleable__control sk-hidden--visually\" id=\"sk-estimator-id-3\" type=\"checkbox\" checked><label for=\"sk-estimator-id-3\" class=\"sk-toggleable__label sk-toggleable__label-arrow\">XGBClassifier</label><div class=\"sk-toggleable__content\"><pre>XGBClassifier(base_score=0.5, booster=&#x27;gbtree&#x27;, callbacks=None,\n",
              "              colsample_bylevel=1, colsample_bynode=1, colsample_bytree=1,\n",
              "              early_stopping_rounds=None, enable_categorical=False,\n",
              "              eval_metric=None, feature_types=None, gamma=0, gpu_id=-1,\n",
              "              grow_policy=&#x27;depthwise&#x27;, importance_type=None,\n",
              "              interaction_constraints=&#x27;&#x27;, learning_rate=0.300000012,\n",
              "              max_bin=256, max_cat_threshold=64, max_cat_to_onehot=4,\n",
              "              max_delta_step=0, max_depth=6, max_leaves=0, min_child_weight=1,\n",
              "              missing=nan, monotone_constraints=&#x27;()&#x27;, n_estimators=100,\n",
              "              n_jobs=0, num_parallel_tree=1, objective=&#x27;multi:softprob&#x27;,\n",
              "              predictor=&#x27;auto&#x27;, ...)</pre></div></div></div></div></div>"
            ],
            "text/plain": [
              "XGBClassifier(base_score=0.5, booster='gbtree', callbacks=None,\n",
              "              colsample_bylevel=1, colsample_bynode=1, colsample_bytree=1,\n",
              "              early_stopping_rounds=None, enable_categorical=False,\n",
              "              eval_metric=None, feature_types=None, gamma=0, gpu_id=-1,\n",
              "              grow_policy='depthwise', importance_type=None,\n",
              "              interaction_constraints='', learning_rate=0.300000012,\n",
              "              max_bin=256, max_cat_threshold=64, max_cat_to_onehot=4,\n",
              "              max_delta_step=0, max_depth=6, max_leaves=0, min_child_weight=1,\n",
              "              missing=nan, monotone_constraints='()', n_estimators=100,\n",
              "              n_jobs=0, num_parallel_tree=1, objective='multi:softprob',\n",
              "              predictor='auto', ...)"
            ]
          },
          "execution_count": 194,
          "metadata": {},
          "output_type": "execute_result"
        }
      ],
      "source": [
        "xgboost = XGBClassifier()\n",
        "xgboost.fit(X_train, y_train)"
      ]
    },
    {
      "cell_type": "code",
      "execution_count": 195,
      "metadata": {
        "id": "FFUyyc4Ucr2x"
      },
      "outputs": [],
      "source": [
        "predictions = xgboost.predict(X_test)"
      ]
    },
    {
      "cell_type": "code",
      "execution_count": 196,
      "metadata": {
        "id": "27qcvMJEcss5"
      },
      "outputs": [
        {
          "name": "stdout",
          "output_type": "stream",
          "text": [
            "[[ 91  29  18]\n",
            " [ 31 116  16]\n",
            " [ 24  18  57]]\n",
            "              precision    recall  f1-score   support\n",
            "\n",
            "           0       0.62      0.66      0.64       138\n",
            "           1       0.71      0.71      0.71       163\n",
            "           2       0.63      0.58      0.60        99\n",
            "\n",
            "    accuracy                           0.66       400\n",
            "   macro avg       0.65      0.65      0.65       400\n",
            "weighted avg       0.66      0.66      0.66       400\n",
            "\n",
            "Model evaluation\n",
            "Accuracy: 0.66\n"
          ]
        }
      ],
      "source": [
        "print(confusion_matrix(y_test,predictions))  \n",
        "print(classification_report(y_test,predictions))  \n",
        "print(\"Model evaluation\")\n",
        "print(\"Accuracy:\", accuracy_score(y_test, predictions))"
      ]
    },
    {
      "cell_type": "markdown",
      "metadata": {
        "id": "7BsSzog_cU7c"
      },
      "source": [
        "XGboost with fine-tuning on tweet_simple_clean"
      ]
    },
    {
      "cell_type": "code",
      "execution_count": 197,
      "metadata": {
        "id": "V0wDv3fwcUj7"
      },
      "outputs": [
        {
          "data": {
            "text/plain": [
              "{'objective': 'multi:softprob',\n",
              " 'use_label_encoder': None,\n",
              " 'base_score': 0.5,\n",
              " 'booster': 'gbtree',\n",
              " 'callbacks': None,\n",
              " 'colsample_bylevel': 1,\n",
              " 'colsample_bynode': 1,\n",
              " 'colsample_bytree': 1,\n",
              " 'early_stopping_rounds': None,\n",
              " 'enable_categorical': False,\n",
              " 'eval_metric': None,\n",
              " 'feature_types': None,\n",
              " 'gamma': 0,\n",
              " 'gpu_id': -1,\n",
              " 'grow_policy': 'depthwise',\n",
              " 'importance_type': None,\n",
              " 'interaction_constraints': '',\n",
              " 'learning_rate': 0.300000012,\n",
              " 'max_bin': 256,\n",
              " 'max_cat_threshold': 64,\n",
              " 'max_cat_to_onehot': 4,\n",
              " 'max_delta_step': 0,\n",
              " 'max_depth': 6,\n",
              " 'max_leaves': 0,\n",
              " 'min_child_weight': 1,\n",
              " 'missing': nan,\n",
              " 'monotone_constraints': '()',\n",
              " 'n_estimators': 100,\n",
              " 'n_jobs': 0,\n",
              " 'num_parallel_tree': 1,\n",
              " 'predictor': 'auto',\n",
              " 'random_state': 0,\n",
              " 'reg_alpha': 0,\n",
              " 'reg_lambda': 1,\n",
              " 'sampling_method': 'uniform',\n",
              " 'scale_pos_weight': None,\n",
              " 'subsample': 1,\n",
              " 'tree_method': 'exact',\n",
              " 'validate_parameters': 1,\n",
              " 'verbosity': None}"
            ]
          },
          "execution_count": 197,
          "metadata": {},
          "output_type": "execute_result"
        }
      ],
      "source": [
        "xgboost.get_params()"
      ]
    },
    {
      "cell_type": "code",
      "execution_count": 199,
      "metadata": {
        "id": "fhJ_UXVNcgPq"
      },
      "outputs": [
        {
          "data": {
            "text/plain": [
              "OrderedDict([('learning_rate', 0.3),\n",
              "             ('min_child_weight', 0),\n",
              "             ('subsample', 1.0)])"
            ]
          },
          "execution_count": 199,
          "metadata": {},
          "output_type": "execute_result"
        }
      ],
      "source": [
        "parameters = {'learning_rate':[0.1,0.2,0.3,0.4,0.5,0.6,0.7,0.8,0.9,1], \n",
        "              'subsample':[0.6, 0.7, 0.8, 0.9, 1], \n",
        "              'min_child_weight' : [0,1,2,3,4,5,6,7,8,9,10]}\n",
        "xgboost_model = XGBClassifier()\n",
        "\n",
        "cv = BayesSearchCV(xgboost_model, parameters)\n",
        "cv.fit(X_train, y_train)\n",
        "best_params = cv.best_params_\n",
        "best_params\n"
      ]
    },
    {
      "cell_type": "code",
      "execution_count": 200,
      "metadata": {
        "id": "qMAlO2abcgSQ"
      },
      "outputs": [
        {
          "name": "stdout",
          "output_type": "stream",
          "text": [
            "[13:33:12] WARNING: /Users/runner/work/xgboost/xgboost/python-package/build/temp.macosx-11.0-arm64-cpython-38/xgboost/src/learner.cc:767: \n",
            "Parameters: { \"class_weight\", \"max_iter\" } are not used.\n",
            "\n"
          ]
        }
      ],
      "source": [
        "xgboost= XGBClassifier(**best_params, class_weight='balanced', random_state = 42, \n",
        "                              max_iter=10000)\n",
        "\n",
        "xgboost.fit(X_train, y_train)\n",
        "predictions = xgboost.predict(X_test)"
      ]
    },
    {
      "cell_type": "code",
      "execution_count": 201,
      "metadata": {
        "id": "7ZVlxE3lcxup"
      },
      "outputs": [
        {
          "name": "stdout",
          "output_type": "stream",
          "text": [
            "[[ 93  26  19]\n",
            " [ 33 117  13]\n",
            " [ 27  14  58]]\n",
            "              precision    recall  f1-score   support\n",
            "\n",
            "           0       0.61      0.67      0.64       138\n",
            "           1       0.75      0.72      0.73       163\n",
            "           2       0.64      0.59      0.61        99\n",
            "\n",
            "    accuracy                           0.67       400\n",
            "   macro avg       0.67      0.66      0.66       400\n",
            "weighted avg       0.67      0.67      0.67       400\n",
            "\n",
            "Model evaluation\n",
            "Accuracy: 0.67\n"
          ]
        }
      ],
      "source": [
        "print(confusion_matrix(y_test,predictions))  \n",
        "print(classification_report(y_test,predictions))  \n",
        "print(\"Model evaluation\")\n",
        "print(\"Accuracy:\", accuracy_score(y_test, predictions))"
      ]
    },
    {
      "cell_type": "markdown",
      "metadata": {
        "id": "kfJeAQuZfmua"
      },
      "source": [
        "\n",
        "\n",
        "---\n",
        "\n"
      ]
    },
    {
      "cell_type": "markdown",
      "metadata": {
        "id": "OmbkCYcaZmC4"
      },
      "source": [
        "TF-IDF on **tweet_high_clean**"
      ]
    },
    {
      "cell_type": "code",
      "execution_count": 202,
      "metadata": {
        "id": "ILjCuO8sYSKi"
      },
      "outputs": [
        {
          "name": "stdout",
          "output_type": "stream",
          "text": [
            "0                                                   yummy\n",
            "1                        peace offensive concept official\n",
            "2       thanks another fruitful insightful meeting dis...\n",
            "3       trump sabotage democracy threaten natl securit...\n",
            "4       bayraktar tb2s destroy two ru torm1 sam system...\n",
            "                              ...                        \n",
            "1995    receives modernize highprecision brimstone 2 m...\n",
            "1996    care comment sweetheart energy deal cause fran...\n",
            "1997    european parliament deal project declare terro...\n",
            "1998                  ultimately destroy holy site church\n",
            "1999    corrupt among also deal drug prostitution many...\n",
            "Name: tweet_high_clean, Length: 2000, dtype: object\n"
          ]
        }
      ],
      "source": [
        "tweets2 = batch_1['tweet_high_clean']\n",
        "print(tweets2)"
      ]
    },
    {
      "cell_type": "code",
      "execution_count": 203,
      "metadata": {
        "id": "jkBDVUa4XpQ4"
      },
      "outputs": [
        {
          "data": {
            "text/plain": [
              "array(['000', '000000', '0009', ..., 'zyada', 'zz', 'край'], dtype=object)"
            ]
          },
          "execution_count": 203,
          "metadata": {},
          "output_type": "execute_result"
        }
      ],
      "source": [
        "X = tfidf.fit_transform(batch_1['tweet_high_clean']).toarray()\n",
        "tfidf.get_feature_names_out()"
      ]
    },
    {
      "cell_type": "code",
      "execution_count": 204,
      "metadata": {
        "id": "ImKW2lHpX4pa"
      },
      "outputs": [],
      "source": [
        "X_train, X_test, y_train, y_test = train_test_split(X, y, test_size=0.2, random_state=0)"
      ]
    },
    {
      "cell_type": "markdown",
      "metadata": {
        "id": "JWkALTKMYe79"
      },
      "source": [
        "TF-IDF and Naïve Bayes with fine-tuning on tweet_high_clean"
      ]
    },
    {
      "cell_type": "code",
      "execution_count": 206,
      "metadata": {
        "id": "ZZ89kCe9bBFl"
      },
      "outputs": [
        {
          "data": {
            "text/plain": [
              "OrderedDict([('var_smoothing', 0.003511191734215131)])"
            ]
          },
          "execution_count": 206,
          "metadata": {},
          "output_type": "execute_result"
        }
      ],
      "source": [
        "parameters = {'var_smoothing': np.logspace(0,-9, num=100)}\n",
        "text_classifier = GaussianNB()\n",
        "\n",
        "cv = BayesSearchCV(text_classifier, parameters)\n",
        "\n",
        "cv.fit(X_train, y_train)\n",
        "best_params = cv.best_params_\n",
        "best_params"
      ]
    },
    {
      "cell_type": "code",
      "execution_count": 207,
      "metadata": {
        "id": "voWriqJNbBFn"
      },
      "outputs": [],
      "source": [
        "text_classifier = GaussianNB(**best_params)\n",
        "\n",
        "text_classifier.fit(X_train, y_train)\n",
        "predictions = text_classifier.predict(X_test)"
      ]
    },
    {
      "cell_type": "code",
      "execution_count": 208,
      "metadata": {
        "id": "itu6EW45bBFn"
      },
      "outputs": [
        {
          "name": "stdout",
          "output_type": "stream",
          "text": [
            "[[106  29  14]\n",
            " [ 42  98  14]\n",
            " [ 27  29  41]]\n",
            "              precision    recall  f1-score   support\n",
            "\n",
            "           0       0.61      0.71      0.65       149\n",
            "           1       0.63      0.64      0.63       154\n",
            "           2       0.59      0.42      0.49        97\n",
            "\n",
            "    accuracy                           0.61       400\n",
            "   macro avg       0.61      0.59      0.59       400\n",
            "weighted avg       0.61      0.61      0.61       400\n",
            "\n",
            "Model evaluation\n",
            "Accuracy: 0.6125\n"
          ]
        }
      ],
      "source": [
        "print(confusion_matrix(y_test,predictions))  \n",
        "print(classification_report(y_test,predictions))  \n",
        "print(\"Model evaluation\")\n",
        "print(\"Accuracy:\", accuracy_score(y_test, predictions))"
      ]
    },
    {
      "cell_type": "markdown",
      "metadata": {
        "id": "8xz8SzarX0FR"
      },
      "source": [
        "TF-IDF: Logistic Regression with fine-tuning on tweet_high_clean"
      ]
    },
    {
      "cell_type": "code",
      "execution_count": 209,
      "metadata": {
        "colab": {
          "background_save": true
        },
        "id": "N2z4sPV9YzuW",
        "outputId": "9bf1b9e7-e1b6-429d-9bd2-f53ed0e59588"
      },
      "outputs": [
        {
          "data": {
            "text/plain": [
              "OrderedDict([('C', 1.0)])"
            ]
          },
          "execution_count": 209,
          "metadata": {},
          "output_type": "execute_result"
        }
      ],
      "source": [
        "from skopt import BayesSearchCV\n",
        "parameters = {'C':[0.1,0.2,0.3,0.4,0.5,0.6,0.7,0.8,0.9,1]}\n",
        "log_reg_model = LogisticRegression()\n",
        "\n",
        "cv = BayesSearchCV(log_reg_model, parameters)\n",
        "cv.fit(X_train, y_train)\n",
        "best_params = cv.best_params_\n",
        "best_params\n"
      ]
    },
    {
      "cell_type": "code",
      "execution_count": 210,
      "metadata": {
        "id": "6y0AET-lYzuY"
      },
      "outputs": [],
      "source": [
        "logistic = LogisticRegression(**best_params, class_weight='balanced', random_state = 42, \n",
        "                              max_iter=10000)\n",
        "\n",
        "logistic.fit(X_train, y_train)\n",
        "predictions = logistic.predict(X_test)"
      ]
    },
    {
      "cell_type": "code",
      "execution_count": 211,
      "metadata": {
        "colab": {
          "background_save": true
        },
        "id": "FyIS_JNZYzuZ",
        "outputId": "9d576063-a02e-445a-c1d6-d048e55abb68"
      },
      "outputs": [
        {
          "name": "stdout",
          "output_type": "stream",
          "text": [
            "[[110  16  23]\n",
            " [ 24 103  27]\n",
            " [ 29  18  50]]\n",
            "              precision    recall  f1-score   support\n",
            "\n",
            "           0       0.67      0.74      0.71       149\n",
            "           1       0.75      0.67      0.71       154\n",
            "           2       0.50      0.52      0.51        97\n",
            "\n",
            "    accuracy                           0.66       400\n",
            "   macro avg       0.64      0.64      0.64       400\n",
            "weighted avg       0.66      0.66      0.66       400\n",
            "\n",
            "Model evaluation\n",
            "Accuracy: 0.6575\n"
          ]
        }
      ],
      "source": [
        "print(confusion_matrix(y_test,predictions))  \n",
        "print(classification_report(y_test,predictions))  \n",
        "print(\"Model evaluation\")\n",
        "print(\"Accuracy:\", accuracy_score(y_test, predictions))"
      ]
    },
    {
      "cell_type": "markdown",
      "metadata": {
        "id": "4GVDOHO-ZS-3"
      },
      "source": [
        "TF-IDF: XGboost with fine-tuning on tweet_high_clean"
      ]
    },
    {
      "cell_type": "code",
      "execution_count": 212,
      "metadata": {
        "id": "t2SoY7xQZRk8"
      },
      "outputs": [
        {
          "data": {
            "text/plain": [
              "OrderedDict([('learning_rate', 0.7),\n",
              "             ('min_child_weight', 0),\n",
              "             ('subsample', 1.0)])"
            ]
          },
          "execution_count": 212,
          "metadata": {},
          "output_type": "execute_result"
        }
      ],
      "source": [
        "parameters = {'learning_rate':[0.1,0.2,0.3,0.4,0.5,0.6,0.7,0.8,0.9,1], \n",
        "              'subsample':[0.6, 0.7, 0.8, 0.9, 1], \n",
        "              'min_child_weight' : [0,1,2,3,4,5,6,7,8,9,10]}\n",
        "xgboost_model = XGBClassifier()\n",
        "\n",
        "cv = BayesSearchCV(xgboost_model, parameters)\n",
        "cv.fit(X_train, y_train)\n",
        "best_params = cv.best_params_\n",
        "best_params\n"
      ]
    },
    {
      "cell_type": "code",
      "execution_count": 213,
      "metadata": {
        "id": "BiQA7fTqZRk_"
      },
      "outputs": [
        {
          "name": "stdout",
          "output_type": "stream",
          "text": [
            "[14:58:34] WARNING: /Users/runner/work/xgboost/xgboost/python-package/build/temp.macosx-11.0-arm64-cpython-38/xgboost/src/learner.cc:767: \n",
            "Parameters: { \"class_weight\", \"max_iter\" } are not used.\n",
            "\n"
          ]
        }
      ],
      "source": [
        "xgboost= XGBClassifier(**best_params, class_weight='balanced', random_state = 42, \n",
        "                              max_iter=10000)\n",
        "\n",
        "xgboost.fit(X_train, y_train)\n",
        "predictions = xgboost.predict(X_test)"
      ]
    },
    {
      "cell_type": "code",
      "execution_count": 214,
      "metadata": {
        "id": "Y5nLvu42ZRk_"
      },
      "outputs": [
        {
          "name": "stdout",
          "output_type": "stream",
          "text": [
            "[[ 95  23  31]\n",
            " [ 23 104  27]\n",
            " [ 13  16  68]]\n",
            "              precision    recall  f1-score   support\n",
            "\n",
            "           0       0.73      0.64      0.68       149\n",
            "           1       0.73      0.68      0.70       154\n",
            "           2       0.54      0.70      0.61        97\n",
            "\n",
            "    accuracy                           0.67       400\n",
            "   macro avg       0.66      0.67      0.66       400\n",
            "weighted avg       0.68      0.67      0.67       400\n",
            "\n",
            "Model evaluation\n",
            "Accuracy: 0.6675\n"
          ]
        }
      ],
      "source": [
        "print(confusion_matrix(y_test,predictions))  \n",
        "print(classification_report(y_test,predictions))  \n",
        "print(\"Model evaluation\")\n",
        "print(\"Accuracy:\", accuracy_score(y_test, predictions))"
      ]
    }
  ],
  "metadata": {
    "colab": {
      "collapsed_sections": [
        "GqTGlWM00GMU"
      ],
      "provenance": []
    },
    "gpuClass": "standard",
    "kernelspec": {
      "display_name": "Python 3.9.15 ('tensorflow_m1')",
      "language": "python",
      "name": "python3"
    },
    "language_info": {
      "codemirror_mode": {
        "name": "ipython",
        "version": 3
      },
      "file_extension": ".py",
      "mimetype": "text/x-python",
      "name": "python",
      "nbconvert_exporter": "python",
      "pygments_lexer": "ipython3",
      "version": "3.9.15"
    },
    "vscode": {
      "interpreter": {
        "hash": "45f0cb3979fa5b4f029cb5c5d8317d6d20d323396df1800a580744977c7d2001"
      }
    },
    "widgets": {
      "application/vnd.jupyter.widget-state+json": {
        "0119201e683b45c38461ba470a0efb2e": {
          "model_module": "@jupyter-widgets/base",
          "model_module_version": "1.2.0",
          "model_name": "LayoutModel",
          "state": {
            "_model_module": "@jupyter-widgets/base",
            "_model_module_version": "1.2.0",
            "_model_name": "LayoutModel",
            "_view_count": null,
            "_view_module": "@jupyter-widgets/base",
            "_view_module_version": "1.2.0",
            "_view_name": "LayoutView",
            "align_content": null,
            "align_items": null,
            "align_self": null,
            "border": null,
            "bottom": null,
            "display": null,
            "flex": null,
            "flex_flow": null,
            "grid_area": null,
            "grid_auto_columns": null,
            "grid_auto_flow": null,
            "grid_auto_rows": null,
            "grid_column": null,
            "grid_gap": null,
            "grid_row": null,
            "grid_template_areas": null,
            "grid_template_columns": null,
            "grid_template_rows": null,
            "height": null,
            "justify_content": null,
            "justify_items": null,
            "left": null,
            "margin": null,
            "max_height": null,
            "max_width": null,
            "min_height": null,
            "min_width": null,
            "object_fit": null,
            "object_position": null,
            "order": null,
            "overflow": null,
            "overflow_x": null,
            "overflow_y": null,
            "padding": null,
            "right": null,
            "top": null,
            "visibility": null,
            "width": null
          }
        },
        "073fff0ce2984d21bc2f1e015ea28ddf": {
          "model_module": "@jupyter-widgets/controls",
          "model_module_version": "1.5.0",
          "model_name": "HTMLModel",
          "state": {
            "_dom_classes": [],
            "_model_module": "@jupyter-widgets/controls",
            "_model_module_version": "1.5.0",
            "_model_name": "HTMLModel",
            "_view_count": null,
            "_view_module": "@jupyter-widgets/controls",
            "_view_module_version": "1.5.0",
            "_view_name": "HTMLView",
            "description": "",
            "description_tooltip": null,
            "layout": "IPY_MODEL_2d35a7a56d244f43bac6aa42bb5b14aa",
            "placeholder": "​",
            "style": "IPY_MODEL_6111b660d90140428f9c5ba84330f141",
            "value": " 28.0/28.0 [00:00&lt;00:00, 231B/s]"
          }
        },
        "0c74023e58684316966e79106957a6cc": {
          "model_module": "@jupyter-widgets/controls",
          "model_module_version": "1.5.0",
          "model_name": "HBoxModel",
          "state": {
            "_dom_classes": [],
            "_model_module": "@jupyter-widgets/controls",
            "_model_module_version": "1.5.0",
            "_model_name": "HBoxModel",
            "_view_count": null,
            "_view_module": "@jupyter-widgets/controls",
            "_view_module_version": "1.5.0",
            "_view_name": "HBoxView",
            "box_style": "",
            "children": [
              "IPY_MODEL_59cd3195bc6d4e4e97a044f56782671a",
              "IPY_MODEL_1a9c4dc8316943fd8b7d67eaccde1a38",
              "IPY_MODEL_dbd4253989b74fb6aca6d298dad423eb"
            ],
            "layout": "IPY_MODEL_5041f00fe50647658223bce9bcdc6d13"
          }
        },
        "16e40e6d26774e34944625c9e384042d": {
          "model_module": "@jupyter-widgets/base",
          "model_module_version": "1.2.0",
          "model_name": "LayoutModel",
          "state": {
            "_model_module": "@jupyter-widgets/base",
            "_model_module_version": "1.2.0",
            "_model_name": "LayoutModel",
            "_view_count": null,
            "_view_module": "@jupyter-widgets/base",
            "_view_module_version": "1.2.0",
            "_view_name": "LayoutView",
            "align_content": null,
            "align_items": null,
            "align_self": null,
            "border": null,
            "bottom": null,
            "display": null,
            "flex": null,
            "flex_flow": null,
            "grid_area": null,
            "grid_auto_columns": null,
            "grid_auto_flow": null,
            "grid_auto_rows": null,
            "grid_column": null,
            "grid_gap": null,
            "grid_row": null,
            "grid_template_areas": null,
            "grid_template_columns": null,
            "grid_template_rows": null,
            "height": null,
            "justify_content": null,
            "justify_items": null,
            "left": null,
            "margin": null,
            "max_height": null,
            "max_width": null,
            "min_height": null,
            "min_width": null,
            "object_fit": null,
            "object_position": null,
            "order": null,
            "overflow": null,
            "overflow_x": null,
            "overflow_y": null,
            "padding": null,
            "right": null,
            "top": null,
            "visibility": null,
            "width": null
          }
        },
        "1a9c4dc8316943fd8b7d67eaccde1a38": {
          "model_module": "@jupyter-widgets/controls",
          "model_module_version": "1.5.0",
          "model_name": "FloatProgressModel",
          "state": {
            "_dom_classes": [],
            "_model_module": "@jupyter-widgets/controls",
            "_model_module_version": "1.5.0",
            "_model_name": "FloatProgressModel",
            "_view_count": null,
            "_view_module": "@jupyter-widgets/controls",
            "_view_module_version": "1.5.0",
            "_view_name": "ProgressView",
            "bar_style": "success",
            "description": "",
            "description_tooltip": null,
            "layout": "IPY_MODEL_6ff7e590320c4a57a6e7d26a703b6db3",
            "max": 231508,
            "min": 0,
            "orientation": "horizontal",
            "style": "IPY_MODEL_de6a2f2a84884f3c8ca1062a5a3a05ed",
            "value": 231508
          }
        },
        "23a70d45efe74b81b46b4ddffb6c46d8": {
          "model_module": "@jupyter-widgets/controls",
          "model_module_version": "1.5.0",
          "model_name": "ProgressStyleModel",
          "state": {
            "_model_module": "@jupyter-widgets/controls",
            "_model_module_version": "1.5.0",
            "_model_name": "ProgressStyleModel",
            "_view_count": null,
            "_view_module": "@jupyter-widgets/base",
            "_view_module_version": "1.2.0",
            "_view_name": "StyleView",
            "bar_color": null,
            "description_width": ""
          }
        },
        "24ae536c11dd4f878eeb4247135e72fd": {
          "model_module": "@jupyter-widgets/controls",
          "model_module_version": "1.5.0",
          "model_name": "FloatProgressModel",
          "state": {
            "_dom_classes": [],
            "_model_module": "@jupyter-widgets/controls",
            "_model_module_version": "1.5.0",
            "_model_name": "FloatProgressModel",
            "_view_count": null,
            "_view_module": "@jupyter-widgets/controls",
            "_view_module_version": "1.5.0",
            "_view_name": "ProgressView",
            "bar_style": "success",
            "description": "",
            "description_tooltip": null,
            "layout": "IPY_MODEL_a417166db07945c5a289da7d50c50082",
            "max": 28,
            "min": 0,
            "orientation": "horizontal",
            "style": "IPY_MODEL_23a70d45efe74b81b46b4ddffb6c46d8",
            "value": 28
          }
        },
        "25b59143deba447f8a4a30d1964259f4": {
          "model_module": "@jupyter-widgets/base",
          "model_module_version": "1.2.0",
          "model_name": "LayoutModel",
          "state": {
            "_model_module": "@jupyter-widgets/base",
            "_model_module_version": "1.2.0",
            "_model_name": "LayoutModel",
            "_view_count": null,
            "_view_module": "@jupyter-widgets/base",
            "_view_module_version": "1.2.0",
            "_view_name": "LayoutView",
            "align_content": null,
            "align_items": null,
            "align_self": null,
            "border": null,
            "bottom": null,
            "display": null,
            "flex": null,
            "flex_flow": null,
            "grid_area": null,
            "grid_auto_columns": null,
            "grid_auto_flow": null,
            "grid_auto_rows": null,
            "grid_column": null,
            "grid_gap": null,
            "grid_row": null,
            "grid_template_areas": null,
            "grid_template_columns": null,
            "grid_template_rows": null,
            "height": null,
            "justify_content": null,
            "justify_items": null,
            "left": null,
            "margin": null,
            "max_height": null,
            "max_width": null,
            "min_height": null,
            "min_width": null,
            "object_fit": null,
            "object_position": null,
            "order": null,
            "overflow": null,
            "overflow_x": null,
            "overflow_y": null,
            "padding": null,
            "right": null,
            "top": null,
            "visibility": null,
            "width": null
          }
        },
        "2ba39bd7b11e49dcab14417c398ab9f2": {
          "model_module": "@jupyter-widgets/controls",
          "model_module_version": "1.5.0",
          "model_name": "DescriptionStyleModel",
          "state": {
            "_model_module": "@jupyter-widgets/controls",
            "_model_module_version": "1.5.0",
            "_model_name": "DescriptionStyleModel",
            "_view_count": null,
            "_view_module": "@jupyter-widgets/base",
            "_view_module_version": "1.2.0",
            "_view_name": "StyleView",
            "description_width": ""
          }
        },
        "2d31dff25e54458e980bf6ad8009dfb2": {
          "model_module": "@jupyter-widgets/base",
          "model_module_version": "1.2.0",
          "model_name": "LayoutModel",
          "state": {
            "_model_module": "@jupyter-widgets/base",
            "_model_module_version": "1.2.0",
            "_model_name": "LayoutModel",
            "_view_count": null,
            "_view_module": "@jupyter-widgets/base",
            "_view_module_version": "1.2.0",
            "_view_name": "LayoutView",
            "align_content": null,
            "align_items": null,
            "align_self": null,
            "border": null,
            "bottom": null,
            "display": null,
            "flex": null,
            "flex_flow": null,
            "grid_area": null,
            "grid_auto_columns": null,
            "grid_auto_flow": null,
            "grid_auto_rows": null,
            "grid_column": null,
            "grid_gap": null,
            "grid_row": null,
            "grid_template_areas": null,
            "grid_template_columns": null,
            "grid_template_rows": null,
            "height": null,
            "justify_content": null,
            "justify_items": null,
            "left": null,
            "margin": null,
            "max_height": null,
            "max_width": null,
            "min_height": null,
            "min_width": null,
            "object_fit": null,
            "object_position": null,
            "order": null,
            "overflow": null,
            "overflow_x": null,
            "overflow_y": null,
            "padding": null,
            "right": null,
            "top": null,
            "visibility": null,
            "width": null
          }
        },
        "2d35a7a56d244f43bac6aa42bb5b14aa": {
          "model_module": "@jupyter-widgets/base",
          "model_module_version": "1.2.0",
          "model_name": "LayoutModel",
          "state": {
            "_model_module": "@jupyter-widgets/base",
            "_model_module_version": "1.2.0",
            "_model_name": "LayoutModel",
            "_view_count": null,
            "_view_module": "@jupyter-widgets/base",
            "_view_module_version": "1.2.0",
            "_view_name": "LayoutView",
            "align_content": null,
            "align_items": null,
            "align_self": null,
            "border": null,
            "bottom": null,
            "display": null,
            "flex": null,
            "flex_flow": null,
            "grid_area": null,
            "grid_auto_columns": null,
            "grid_auto_flow": null,
            "grid_auto_rows": null,
            "grid_column": null,
            "grid_gap": null,
            "grid_row": null,
            "grid_template_areas": null,
            "grid_template_columns": null,
            "grid_template_rows": null,
            "height": null,
            "justify_content": null,
            "justify_items": null,
            "left": null,
            "margin": null,
            "max_height": null,
            "max_width": null,
            "min_height": null,
            "min_width": null,
            "object_fit": null,
            "object_position": null,
            "order": null,
            "overflow": null,
            "overflow_x": null,
            "overflow_y": null,
            "padding": null,
            "right": null,
            "top": null,
            "visibility": null,
            "width": null
          }
        },
        "2dd4733356ad4479adf8f6d2df756b27": {
          "model_module": "@jupyter-widgets/controls",
          "model_module_version": "1.5.0",
          "model_name": "DescriptionStyleModel",
          "state": {
            "_model_module": "@jupyter-widgets/controls",
            "_model_module_version": "1.5.0",
            "_model_name": "DescriptionStyleModel",
            "_view_count": null,
            "_view_module": "@jupyter-widgets/base",
            "_view_module_version": "1.2.0",
            "_view_name": "StyleView",
            "description_width": ""
          }
        },
        "38f950ea39a3469ab673cd3f5b7a155d": {
          "model_module": "@jupyter-widgets/controls",
          "model_module_version": "1.5.0",
          "model_name": "HBoxModel",
          "state": {
            "_dom_classes": [],
            "_model_module": "@jupyter-widgets/controls",
            "_model_module_version": "1.5.0",
            "_model_name": "HBoxModel",
            "_view_count": null,
            "_view_module": "@jupyter-widgets/controls",
            "_view_module_version": "1.5.0",
            "_view_name": "HBoxView",
            "box_style": "",
            "children": [
              "IPY_MODEL_fee9eda945564c01af0d71befa76eac6",
              "IPY_MODEL_24ae536c11dd4f878eeb4247135e72fd",
              "IPY_MODEL_073fff0ce2984d21bc2f1e015ea28ddf"
            ],
            "layout": "IPY_MODEL_52c7f8dcf6ab4c179178ce2bc4773387"
          }
        },
        "3b6cb7ae6a8e4d39827e6dee89d4a317": {
          "model_module": "@jupyter-widgets/base",
          "model_module_version": "1.2.0",
          "model_name": "LayoutModel",
          "state": {
            "_model_module": "@jupyter-widgets/base",
            "_model_module_version": "1.2.0",
            "_model_name": "LayoutModel",
            "_view_count": null,
            "_view_module": "@jupyter-widgets/base",
            "_view_module_version": "1.2.0",
            "_view_name": "LayoutView",
            "align_content": null,
            "align_items": null,
            "align_self": null,
            "border": null,
            "bottom": null,
            "display": null,
            "flex": null,
            "flex_flow": null,
            "grid_area": null,
            "grid_auto_columns": null,
            "grid_auto_flow": null,
            "grid_auto_rows": null,
            "grid_column": null,
            "grid_gap": null,
            "grid_row": null,
            "grid_template_areas": null,
            "grid_template_columns": null,
            "grid_template_rows": null,
            "height": null,
            "justify_content": null,
            "justify_items": null,
            "left": null,
            "margin": null,
            "max_height": null,
            "max_width": null,
            "min_height": null,
            "min_width": null,
            "object_fit": null,
            "object_position": null,
            "order": null,
            "overflow": null,
            "overflow_x": null,
            "overflow_y": null,
            "padding": null,
            "right": null,
            "top": null,
            "visibility": null,
            "width": null
          }
        },
        "5041f00fe50647658223bce9bcdc6d13": {
          "model_module": "@jupyter-widgets/base",
          "model_module_version": "1.2.0",
          "model_name": "LayoutModel",
          "state": {
            "_model_module": "@jupyter-widgets/base",
            "_model_module_version": "1.2.0",
            "_model_name": "LayoutModel",
            "_view_count": null,
            "_view_module": "@jupyter-widgets/base",
            "_view_module_version": "1.2.0",
            "_view_name": "LayoutView",
            "align_content": null,
            "align_items": null,
            "align_self": null,
            "border": null,
            "bottom": null,
            "display": null,
            "flex": null,
            "flex_flow": null,
            "grid_area": null,
            "grid_auto_columns": null,
            "grid_auto_flow": null,
            "grid_auto_rows": null,
            "grid_column": null,
            "grid_gap": null,
            "grid_row": null,
            "grid_template_areas": null,
            "grid_template_columns": null,
            "grid_template_rows": null,
            "height": null,
            "justify_content": null,
            "justify_items": null,
            "left": null,
            "margin": null,
            "max_height": null,
            "max_width": null,
            "min_height": null,
            "min_width": null,
            "object_fit": null,
            "object_position": null,
            "order": null,
            "overflow": null,
            "overflow_x": null,
            "overflow_y": null,
            "padding": null,
            "right": null,
            "top": null,
            "visibility": null,
            "width": null
          }
        },
        "52c7f8dcf6ab4c179178ce2bc4773387": {
          "model_module": "@jupyter-widgets/base",
          "model_module_version": "1.2.0",
          "model_name": "LayoutModel",
          "state": {
            "_model_module": "@jupyter-widgets/base",
            "_model_module_version": "1.2.0",
            "_model_name": "LayoutModel",
            "_view_count": null,
            "_view_module": "@jupyter-widgets/base",
            "_view_module_version": "1.2.0",
            "_view_name": "LayoutView",
            "align_content": null,
            "align_items": null,
            "align_self": null,
            "border": null,
            "bottom": null,
            "display": null,
            "flex": null,
            "flex_flow": null,
            "grid_area": null,
            "grid_auto_columns": null,
            "grid_auto_flow": null,
            "grid_auto_rows": null,
            "grid_column": null,
            "grid_gap": null,
            "grid_row": null,
            "grid_template_areas": null,
            "grid_template_columns": null,
            "grid_template_rows": null,
            "height": null,
            "justify_content": null,
            "justify_items": null,
            "left": null,
            "margin": null,
            "max_height": null,
            "max_width": null,
            "min_height": null,
            "min_width": null,
            "object_fit": null,
            "object_position": null,
            "order": null,
            "overflow": null,
            "overflow_x": null,
            "overflow_y": null,
            "padding": null,
            "right": null,
            "top": null,
            "visibility": null,
            "width": null
          }
        },
        "59cd3195bc6d4e4e97a044f56782671a": {
          "model_module": "@jupyter-widgets/controls",
          "model_module_version": "1.5.0",
          "model_name": "HTMLModel",
          "state": {
            "_dom_classes": [],
            "_model_module": "@jupyter-widgets/controls",
            "_model_module_version": "1.5.0",
            "_model_name": "HTMLModel",
            "_view_count": null,
            "_view_module": "@jupyter-widgets/controls",
            "_view_module_version": "1.5.0",
            "_view_name": "HTMLView",
            "description": "",
            "description_tooltip": null,
            "layout": "IPY_MODEL_83d233d928734193a85163fe22b63928",
            "placeholder": "​",
            "style": "IPY_MODEL_2ba39bd7b11e49dcab14417c398ab9f2",
            "value": "Downloading: 100%"
          }
        },
        "5f8161ab03274d0da0380ca50156a0fd": {
          "model_module": "@jupyter-widgets/controls",
          "model_module_version": "1.5.0",
          "model_name": "DescriptionStyleModel",
          "state": {
            "_model_module": "@jupyter-widgets/controls",
            "_model_module_version": "1.5.0",
            "_model_name": "DescriptionStyleModel",
            "_view_count": null,
            "_view_module": "@jupyter-widgets/base",
            "_view_module_version": "1.2.0",
            "_view_name": "StyleView",
            "description_width": ""
          }
        },
        "6111b660d90140428f9c5ba84330f141": {
          "model_module": "@jupyter-widgets/controls",
          "model_module_version": "1.5.0",
          "model_name": "DescriptionStyleModel",
          "state": {
            "_model_module": "@jupyter-widgets/controls",
            "_model_module_version": "1.5.0",
            "_model_name": "DescriptionStyleModel",
            "_view_count": null,
            "_view_module": "@jupyter-widgets/base",
            "_view_module_version": "1.2.0",
            "_view_name": "StyleView",
            "description_width": ""
          }
        },
        "678a66d074164f71b7de83bbec7a2d6a": {
          "model_module": "@jupyter-widgets/controls",
          "model_module_version": "1.5.0",
          "model_name": "ProgressStyleModel",
          "state": {
            "_model_module": "@jupyter-widgets/controls",
            "_model_module_version": "1.5.0",
            "_model_name": "ProgressStyleModel",
            "_view_count": null,
            "_view_module": "@jupyter-widgets/base",
            "_view_module_version": "1.2.0",
            "_view_name": "StyleView",
            "bar_color": null,
            "description_width": ""
          }
        },
        "6ff7e590320c4a57a6e7d26a703b6db3": {
          "model_module": "@jupyter-widgets/base",
          "model_module_version": "1.2.0",
          "model_name": "LayoutModel",
          "state": {
            "_model_module": "@jupyter-widgets/base",
            "_model_module_version": "1.2.0",
            "_model_name": "LayoutModel",
            "_view_count": null,
            "_view_module": "@jupyter-widgets/base",
            "_view_module_version": "1.2.0",
            "_view_name": "LayoutView",
            "align_content": null,
            "align_items": null,
            "align_self": null,
            "border": null,
            "bottom": null,
            "display": null,
            "flex": null,
            "flex_flow": null,
            "grid_area": null,
            "grid_auto_columns": null,
            "grid_auto_flow": null,
            "grid_auto_rows": null,
            "grid_column": null,
            "grid_gap": null,
            "grid_row": null,
            "grid_template_areas": null,
            "grid_template_columns": null,
            "grid_template_rows": null,
            "height": null,
            "justify_content": null,
            "justify_items": null,
            "left": null,
            "margin": null,
            "max_height": null,
            "max_width": null,
            "min_height": null,
            "min_width": null,
            "object_fit": null,
            "object_position": null,
            "order": null,
            "overflow": null,
            "overflow_x": null,
            "overflow_y": null,
            "padding": null,
            "right": null,
            "top": null,
            "visibility": null,
            "width": null
          }
        },
        "77167bf4a54c43e08b8c2fc6a4c635e6": {
          "model_module": "@jupyter-widgets/controls",
          "model_module_version": "1.5.0",
          "model_name": "FloatProgressModel",
          "state": {
            "_dom_classes": [],
            "_model_module": "@jupyter-widgets/controls",
            "_model_module_version": "1.5.0",
            "_model_name": "FloatProgressModel",
            "_view_count": null,
            "_view_module": "@jupyter-widgets/controls",
            "_view_module_version": "1.5.0",
            "_view_name": "ProgressView",
            "bar_style": "success",
            "description": "",
            "description_tooltip": null,
            "layout": "IPY_MODEL_3b6cb7ae6a8e4d39827e6dee89d4a317",
            "max": 267967963,
            "min": 0,
            "orientation": "horizontal",
            "style": "IPY_MODEL_678a66d074164f71b7de83bbec7a2d6a",
            "value": 267967963
          }
        },
        "77b71cb65ec0466283f7b3cb4e52a013": {
          "model_module": "@jupyter-widgets/controls",
          "model_module_version": "1.5.0",
          "model_name": "HTMLModel",
          "state": {
            "_dom_classes": [],
            "_model_module": "@jupyter-widgets/controls",
            "_model_module_version": "1.5.0",
            "_model_name": "HTMLModel",
            "_view_count": null,
            "_view_module": "@jupyter-widgets/controls",
            "_view_module_version": "1.5.0",
            "_view_name": "HTMLView",
            "description": "",
            "description_tooltip": null,
            "layout": "IPY_MODEL_c0a152dce20b4cd5993e280d4b3da76a",
            "placeholder": "​",
            "style": "IPY_MODEL_5f8161ab03274d0da0380ca50156a0fd",
            "value": " 268M/268M [00:04&lt;00:00, 58.8MB/s]"
          }
        },
        "78afadaac144432c88ab2bcc15396da0": {
          "model_module": "@jupyter-widgets/base",
          "model_module_version": "1.2.0",
          "model_name": "LayoutModel",
          "state": {
            "_model_module": "@jupyter-widgets/base",
            "_model_module_version": "1.2.0",
            "_model_name": "LayoutModel",
            "_view_count": null,
            "_view_module": "@jupyter-widgets/base",
            "_view_module_version": "1.2.0",
            "_view_name": "LayoutView",
            "align_content": null,
            "align_items": null,
            "align_self": null,
            "border": null,
            "bottom": null,
            "display": null,
            "flex": null,
            "flex_flow": null,
            "grid_area": null,
            "grid_auto_columns": null,
            "grid_auto_flow": null,
            "grid_auto_rows": null,
            "grid_column": null,
            "grid_gap": null,
            "grid_row": null,
            "grid_template_areas": null,
            "grid_template_columns": null,
            "grid_template_rows": null,
            "height": null,
            "justify_content": null,
            "justify_items": null,
            "left": null,
            "margin": null,
            "max_height": null,
            "max_width": null,
            "min_height": null,
            "min_width": null,
            "object_fit": null,
            "object_position": null,
            "order": null,
            "overflow": null,
            "overflow_x": null,
            "overflow_y": null,
            "padding": null,
            "right": null,
            "top": null,
            "visibility": null,
            "width": null
          }
        },
        "7b104038c99643dab45255e034c8896e": {
          "model_module": "@jupyter-widgets/controls",
          "model_module_version": "1.5.0",
          "model_name": "HBoxModel",
          "state": {
            "_dom_classes": [],
            "_model_module": "@jupyter-widgets/controls",
            "_model_module_version": "1.5.0",
            "_model_name": "HBoxModel",
            "_view_count": null,
            "_view_module": "@jupyter-widgets/controls",
            "_view_module_version": "1.5.0",
            "_view_name": "HBoxView",
            "box_style": "",
            "children": [
              "IPY_MODEL_86d315fddf514fe5b300a401f1ec233b",
              "IPY_MODEL_77167bf4a54c43e08b8c2fc6a4c635e6",
              "IPY_MODEL_77b71cb65ec0466283f7b3cb4e52a013"
            ],
            "layout": "IPY_MODEL_9222786570d74e23ae5fc17ae881292d"
          }
        },
        "83d233d928734193a85163fe22b63928": {
          "model_module": "@jupyter-widgets/base",
          "model_module_version": "1.2.0",
          "model_name": "LayoutModel",
          "state": {
            "_model_module": "@jupyter-widgets/base",
            "_model_module_version": "1.2.0",
            "_model_name": "LayoutModel",
            "_view_count": null,
            "_view_module": "@jupyter-widgets/base",
            "_view_module_version": "1.2.0",
            "_view_name": "LayoutView",
            "align_content": null,
            "align_items": null,
            "align_self": null,
            "border": null,
            "bottom": null,
            "display": null,
            "flex": null,
            "flex_flow": null,
            "grid_area": null,
            "grid_auto_columns": null,
            "grid_auto_flow": null,
            "grid_auto_rows": null,
            "grid_column": null,
            "grid_gap": null,
            "grid_row": null,
            "grid_template_areas": null,
            "grid_template_columns": null,
            "grid_template_rows": null,
            "height": null,
            "justify_content": null,
            "justify_items": null,
            "left": null,
            "margin": null,
            "max_height": null,
            "max_width": null,
            "min_height": null,
            "min_width": null,
            "object_fit": null,
            "object_position": null,
            "order": null,
            "overflow": null,
            "overflow_x": null,
            "overflow_y": null,
            "padding": null,
            "right": null,
            "top": null,
            "visibility": null,
            "width": null
          }
        },
        "85bf49233d23462187ada8214cd98d01": {
          "model_module": "@jupyter-widgets/controls",
          "model_module_version": "1.5.0",
          "model_name": "DescriptionStyleModel",
          "state": {
            "_model_module": "@jupyter-widgets/controls",
            "_model_module_version": "1.5.0",
            "_model_name": "DescriptionStyleModel",
            "_view_count": null,
            "_view_module": "@jupyter-widgets/base",
            "_view_module_version": "1.2.0",
            "_view_name": "StyleView",
            "description_width": ""
          }
        },
        "86d315fddf514fe5b300a401f1ec233b": {
          "model_module": "@jupyter-widgets/controls",
          "model_module_version": "1.5.0",
          "model_name": "HTMLModel",
          "state": {
            "_dom_classes": [],
            "_model_module": "@jupyter-widgets/controls",
            "_model_module_version": "1.5.0",
            "_model_name": "HTMLModel",
            "_view_count": null,
            "_view_module": "@jupyter-widgets/controls",
            "_view_module_version": "1.5.0",
            "_view_name": "HTMLView",
            "description": "",
            "description_tooltip": null,
            "layout": "IPY_MODEL_9749950c504340cc8bd63ab9eb7f70b7",
            "placeholder": "​",
            "style": "IPY_MODEL_c7af63ae5ba348c9888b6b33f8b02a2e",
            "value": "Downloading: 100%"
          }
        },
        "9222786570d74e23ae5fc17ae881292d": {
          "model_module": "@jupyter-widgets/base",
          "model_module_version": "1.2.0",
          "model_name": "LayoutModel",
          "state": {
            "_model_module": "@jupyter-widgets/base",
            "_model_module_version": "1.2.0",
            "_model_name": "LayoutModel",
            "_view_count": null,
            "_view_module": "@jupyter-widgets/base",
            "_view_module_version": "1.2.0",
            "_view_name": "LayoutView",
            "align_content": null,
            "align_items": null,
            "align_self": null,
            "border": null,
            "bottom": null,
            "display": null,
            "flex": null,
            "flex_flow": null,
            "grid_area": null,
            "grid_auto_columns": null,
            "grid_auto_flow": null,
            "grid_auto_rows": null,
            "grid_column": null,
            "grid_gap": null,
            "grid_row": null,
            "grid_template_areas": null,
            "grid_template_columns": null,
            "grid_template_rows": null,
            "height": null,
            "justify_content": null,
            "justify_items": null,
            "left": null,
            "margin": null,
            "max_height": null,
            "max_width": null,
            "min_height": null,
            "min_width": null,
            "object_fit": null,
            "object_position": null,
            "order": null,
            "overflow": null,
            "overflow_x": null,
            "overflow_y": null,
            "padding": null,
            "right": null,
            "top": null,
            "visibility": null,
            "width": null
          }
        },
        "9749950c504340cc8bd63ab9eb7f70b7": {
          "model_module": "@jupyter-widgets/base",
          "model_module_version": "1.2.0",
          "model_name": "LayoutModel",
          "state": {
            "_model_module": "@jupyter-widgets/base",
            "_model_module_version": "1.2.0",
            "_model_name": "LayoutModel",
            "_view_count": null,
            "_view_module": "@jupyter-widgets/base",
            "_view_module_version": "1.2.0",
            "_view_name": "LayoutView",
            "align_content": null,
            "align_items": null,
            "align_self": null,
            "border": null,
            "bottom": null,
            "display": null,
            "flex": null,
            "flex_flow": null,
            "grid_area": null,
            "grid_auto_columns": null,
            "grid_auto_flow": null,
            "grid_auto_rows": null,
            "grid_column": null,
            "grid_gap": null,
            "grid_row": null,
            "grid_template_areas": null,
            "grid_template_columns": null,
            "grid_template_rows": null,
            "height": null,
            "justify_content": null,
            "justify_items": null,
            "left": null,
            "margin": null,
            "max_height": null,
            "max_width": null,
            "min_height": null,
            "min_width": null,
            "object_fit": null,
            "object_position": null,
            "order": null,
            "overflow": null,
            "overflow_x": null,
            "overflow_y": null,
            "padding": null,
            "right": null,
            "top": null,
            "visibility": null,
            "width": null
          }
        },
        "9bb144d8e5f941ad8de699fe8a95919b": {
          "model_module": "@jupyter-widgets/controls",
          "model_module_version": "1.5.0",
          "model_name": "HBoxModel",
          "state": {
            "_dom_classes": [],
            "_model_module": "@jupyter-widgets/controls",
            "_model_module_version": "1.5.0",
            "_model_name": "HBoxModel",
            "_view_count": null,
            "_view_module": "@jupyter-widgets/controls",
            "_view_module_version": "1.5.0",
            "_view_name": "HBoxView",
            "box_style": "",
            "children": [
              "IPY_MODEL_a7000e9d629b445a8bcd2c3e549f94f3",
              "IPY_MODEL_a6cba5c16431437a9b55570598deb40e",
              "IPY_MODEL_cc43f434613e40ed8e1edb2cc6d68595"
            ],
            "layout": "IPY_MODEL_0119201e683b45c38461ba470a0efb2e"
          }
        },
        "a417166db07945c5a289da7d50c50082": {
          "model_module": "@jupyter-widgets/base",
          "model_module_version": "1.2.0",
          "model_name": "LayoutModel",
          "state": {
            "_model_module": "@jupyter-widgets/base",
            "_model_module_version": "1.2.0",
            "_model_name": "LayoutModel",
            "_view_count": null,
            "_view_module": "@jupyter-widgets/base",
            "_view_module_version": "1.2.0",
            "_view_name": "LayoutView",
            "align_content": null,
            "align_items": null,
            "align_self": null,
            "border": null,
            "bottom": null,
            "display": null,
            "flex": null,
            "flex_flow": null,
            "grid_area": null,
            "grid_auto_columns": null,
            "grid_auto_flow": null,
            "grid_auto_rows": null,
            "grid_column": null,
            "grid_gap": null,
            "grid_row": null,
            "grid_template_areas": null,
            "grid_template_columns": null,
            "grid_template_rows": null,
            "height": null,
            "justify_content": null,
            "justify_items": null,
            "left": null,
            "margin": null,
            "max_height": null,
            "max_width": null,
            "min_height": null,
            "min_width": null,
            "object_fit": null,
            "object_position": null,
            "order": null,
            "overflow": null,
            "overflow_x": null,
            "overflow_y": null,
            "padding": null,
            "right": null,
            "top": null,
            "visibility": null,
            "width": null
          }
        },
        "a6cba5c16431437a9b55570598deb40e": {
          "model_module": "@jupyter-widgets/controls",
          "model_module_version": "1.5.0",
          "model_name": "FloatProgressModel",
          "state": {
            "_dom_classes": [],
            "_model_module": "@jupyter-widgets/controls",
            "_model_module_version": "1.5.0",
            "_model_name": "FloatProgressModel",
            "_view_count": null,
            "_view_module": "@jupyter-widgets/controls",
            "_view_module_version": "1.5.0",
            "_view_name": "ProgressView",
            "bar_style": "success",
            "description": "",
            "description_tooltip": null,
            "layout": "IPY_MODEL_16e40e6d26774e34944625c9e384042d",
            "max": 483,
            "min": 0,
            "orientation": "horizontal",
            "style": "IPY_MODEL_f31e957db32447058d3660988fda20f4",
            "value": 483
          }
        },
        "a7000e9d629b445a8bcd2c3e549f94f3": {
          "model_module": "@jupyter-widgets/controls",
          "model_module_version": "1.5.0",
          "model_name": "HTMLModel",
          "state": {
            "_dom_classes": [],
            "_model_module": "@jupyter-widgets/controls",
            "_model_module_version": "1.5.0",
            "_model_name": "HTMLModel",
            "_view_count": null,
            "_view_module": "@jupyter-widgets/controls",
            "_view_module_version": "1.5.0",
            "_view_name": "HTMLView",
            "description": "",
            "description_tooltip": null,
            "layout": "IPY_MODEL_78afadaac144432c88ab2bcc15396da0",
            "placeholder": "​",
            "style": "IPY_MODEL_2dd4733356ad4479adf8f6d2df756b27",
            "value": "Downloading: 100%"
          }
        },
        "b7dd6f7890a340acbb6c980c90cadbab": {
          "model_module": "@jupyter-widgets/controls",
          "model_module_version": "1.5.0",
          "model_name": "DescriptionStyleModel",
          "state": {
            "_model_module": "@jupyter-widgets/controls",
            "_model_module_version": "1.5.0",
            "_model_name": "DescriptionStyleModel",
            "_view_count": null,
            "_view_module": "@jupyter-widgets/base",
            "_view_module_version": "1.2.0",
            "_view_name": "StyleView",
            "description_width": ""
          }
        },
        "c0a152dce20b4cd5993e280d4b3da76a": {
          "model_module": "@jupyter-widgets/base",
          "model_module_version": "1.2.0",
          "model_name": "LayoutModel",
          "state": {
            "_model_module": "@jupyter-widgets/base",
            "_model_module_version": "1.2.0",
            "_model_name": "LayoutModel",
            "_view_count": null,
            "_view_module": "@jupyter-widgets/base",
            "_view_module_version": "1.2.0",
            "_view_name": "LayoutView",
            "align_content": null,
            "align_items": null,
            "align_self": null,
            "border": null,
            "bottom": null,
            "display": null,
            "flex": null,
            "flex_flow": null,
            "grid_area": null,
            "grid_auto_columns": null,
            "grid_auto_flow": null,
            "grid_auto_rows": null,
            "grid_column": null,
            "grid_gap": null,
            "grid_row": null,
            "grid_template_areas": null,
            "grid_template_columns": null,
            "grid_template_rows": null,
            "height": null,
            "justify_content": null,
            "justify_items": null,
            "left": null,
            "margin": null,
            "max_height": null,
            "max_width": null,
            "min_height": null,
            "min_width": null,
            "object_fit": null,
            "object_position": null,
            "order": null,
            "overflow": null,
            "overflow_x": null,
            "overflow_y": null,
            "padding": null,
            "right": null,
            "top": null,
            "visibility": null,
            "width": null
          }
        },
        "c7af63ae5ba348c9888b6b33f8b02a2e": {
          "model_module": "@jupyter-widgets/controls",
          "model_module_version": "1.5.0",
          "model_name": "DescriptionStyleModel",
          "state": {
            "_model_module": "@jupyter-widgets/controls",
            "_model_module_version": "1.5.0",
            "_model_name": "DescriptionStyleModel",
            "_view_count": null,
            "_view_module": "@jupyter-widgets/base",
            "_view_module_version": "1.2.0",
            "_view_name": "StyleView",
            "description_width": ""
          }
        },
        "cc43f434613e40ed8e1edb2cc6d68595": {
          "model_module": "@jupyter-widgets/controls",
          "model_module_version": "1.5.0",
          "model_name": "HTMLModel",
          "state": {
            "_dom_classes": [],
            "_model_module": "@jupyter-widgets/controls",
            "_model_module_version": "1.5.0",
            "_model_name": "HTMLModel",
            "_view_count": null,
            "_view_module": "@jupyter-widgets/controls",
            "_view_module_version": "1.5.0",
            "_view_name": "HTMLView",
            "description": "",
            "description_tooltip": null,
            "layout": "IPY_MODEL_25b59143deba447f8a4a30d1964259f4",
            "placeholder": "​",
            "style": "IPY_MODEL_b7dd6f7890a340acbb6c980c90cadbab",
            "value": " 483/483 [00:00&lt;00:00, 9.91kB/s]"
          }
        },
        "dbd4253989b74fb6aca6d298dad423eb": {
          "model_module": "@jupyter-widgets/controls",
          "model_module_version": "1.5.0",
          "model_name": "HTMLModel",
          "state": {
            "_dom_classes": [],
            "_model_module": "@jupyter-widgets/controls",
            "_model_module_version": "1.5.0",
            "_model_name": "HTMLModel",
            "_view_count": null,
            "_view_module": "@jupyter-widgets/controls",
            "_view_module_version": "1.5.0",
            "_view_name": "HTMLView",
            "description": "",
            "description_tooltip": null,
            "layout": "IPY_MODEL_2d31dff25e54458e980bf6ad8009dfb2",
            "placeholder": "​",
            "style": "IPY_MODEL_85bf49233d23462187ada8214cd98d01",
            "value": " 232k/232k [00:00&lt;00:00, 7.61kB/s]"
          }
        },
        "de6a2f2a84884f3c8ca1062a5a3a05ed": {
          "model_module": "@jupyter-widgets/controls",
          "model_module_version": "1.5.0",
          "model_name": "ProgressStyleModel",
          "state": {
            "_model_module": "@jupyter-widgets/controls",
            "_model_module_version": "1.5.0",
            "_model_name": "ProgressStyleModel",
            "_view_count": null,
            "_view_module": "@jupyter-widgets/base",
            "_view_module_version": "1.2.0",
            "_view_name": "StyleView",
            "bar_color": null,
            "description_width": ""
          }
        },
        "de700be5f02140b4aca7e91846f94fd6": {
          "model_module": "@jupyter-widgets/controls",
          "model_module_version": "1.5.0",
          "model_name": "DescriptionStyleModel",
          "state": {
            "_model_module": "@jupyter-widgets/controls",
            "_model_module_version": "1.5.0",
            "_model_name": "DescriptionStyleModel",
            "_view_count": null,
            "_view_module": "@jupyter-widgets/base",
            "_view_module_version": "1.2.0",
            "_view_name": "StyleView",
            "description_width": ""
          }
        },
        "f31e957db32447058d3660988fda20f4": {
          "model_module": "@jupyter-widgets/controls",
          "model_module_version": "1.5.0",
          "model_name": "ProgressStyleModel",
          "state": {
            "_model_module": "@jupyter-widgets/controls",
            "_model_module_version": "1.5.0",
            "_model_name": "ProgressStyleModel",
            "_view_count": null,
            "_view_module": "@jupyter-widgets/base",
            "_view_module_version": "1.2.0",
            "_view_name": "StyleView",
            "bar_color": null,
            "description_width": ""
          }
        },
        "f9d353f4c20743e19d3dab37dc2e13bd": {
          "model_module": "@jupyter-widgets/base",
          "model_module_version": "1.2.0",
          "model_name": "LayoutModel",
          "state": {
            "_model_module": "@jupyter-widgets/base",
            "_model_module_version": "1.2.0",
            "_model_name": "LayoutModel",
            "_view_count": null,
            "_view_module": "@jupyter-widgets/base",
            "_view_module_version": "1.2.0",
            "_view_name": "LayoutView",
            "align_content": null,
            "align_items": null,
            "align_self": null,
            "border": null,
            "bottom": null,
            "display": null,
            "flex": null,
            "flex_flow": null,
            "grid_area": null,
            "grid_auto_columns": null,
            "grid_auto_flow": null,
            "grid_auto_rows": null,
            "grid_column": null,
            "grid_gap": null,
            "grid_row": null,
            "grid_template_areas": null,
            "grid_template_columns": null,
            "grid_template_rows": null,
            "height": null,
            "justify_content": null,
            "justify_items": null,
            "left": null,
            "margin": null,
            "max_height": null,
            "max_width": null,
            "min_height": null,
            "min_width": null,
            "object_fit": null,
            "object_position": null,
            "order": null,
            "overflow": null,
            "overflow_x": null,
            "overflow_y": null,
            "padding": null,
            "right": null,
            "top": null,
            "visibility": null,
            "width": null
          }
        },
        "fee9eda945564c01af0d71befa76eac6": {
          "model_module": "@jupyter-widgets/controls",
          "model_module_version": "1.5.0",
          "model_name": "HTMLModel",
          "state": {
            "_dom_classes": [],
            "_model_module": "@jupyter-widgets/controls",
            "_model_module_version": "1.5.0",
            "_model_name": "HTMLModel",
            "_view_count": null,
            "_view_module": "@jupyter-widgets/controls",
            "_view_module_version": "1.5.0",
            "_view_name": "HTMLView",
            "description": "",
            "description_tooltip": null,
            "layout": "IPY_MODEL_f9d353f4c20743e19d3dab37dc2e13bd",
            "placeholder": "​",
            "style": "IPY_MODEL_de700be5f02140b4aca7e91846f94fd6",
            "value": "Downloading: 100%"
          }
        }
      }
    }
  },
  "nbformat": 4,
  "nbformat_minor": 0
}
